{
 "cells": [
  {
   "cell_type": "markdown",
   "id": "ca2906a6-cee3-4a5f-b6d2-850c8b5d2bbf",
   "metadata": {},
   "source": [
    "## Exercise 81: Compute the Hypotenuse\n",
    "\n",
    "Write a function that takes the lengths of the two shorter sides of a right triangle as\r\n",
    "its parameters. Return the hypotenuse of the triangle, computed using Pythagorean\r\n",
    "theorem, as the function’s result. Include a main program that reads the lengths of\r\n",
    "the shorter sides of a right triangle from the user, uses your function to compute the\r\n",
    "length of the hypotenuse, and displays the result."
   ]
  },
  {
   "cell_type": "code",
   "execution_count": 4,
   "id": "d8c02702-da51-47a4-8bf0-85610b534fca",
   "metadata": {},
   "outputs": [],
   "source": [
    "def compute_the_hypotenuse(base_data, height_data):\n",
    "    # c = √(a² + b²)\n",
    "    \n",
    "    hypotenuse = round(math.sqrt(base_data**2 + height_data**2), 2)\n",
    "    \n",
    "    area_value = hypotenuse + base_data + height_data\n",
    "    \n",
    "    print(f\"The area of the right angle trangle is: {area_value} \\n & the hypotenuse is: {hypotenuse} \")"
   ]
  },
  {
   "cell_type": "code",
   "execution_count": 5,
   "id": "8719580e-d56d-4512-8193-191f00cba70b",
   "metadata": {},
   "outputs": [
    {
     "name": "stdin",
     "output_type": "stream",
     "text": [
      "Enter the value for the base of the right angle triangle: 12\n",
      "Enter the value for the height: 12\n"
     ]
    },
    {
     "name": "stdout",
     "output_type": "stream",
     "text": [
      "The area of the right angle trangle is: 40.97 \n",
      " & the hypotenuse is: 16.97 \n"
     ]
    }
   ],
   "source": [
    "base_data = float(input('Enter the value for the base of the right angle triangle:'))\n",
    "height_data = float(input('Enter the value for the height:'))\n",
    "\n",
    "solution = compute_the_hypotenuse(base_data, height_data)\n",
    "\n",
    "solution\n"
   ]
  },
  {
   "cell_type": "markdown",
   "id": "29232844-02fc-4627-ba91-937805c68c53",
   "metadata": {},
   "source": [
    "## Exercise 82: Taxi Fare\n",
    "\n",
    "In a particular jurisdiction, taxi fares consist of a base fare of $4.00, plus $0.25\r\n",
    "for every 140 meters traveled. Write a function that takes the distance traveled (in\r\n",
    "kilometers) as its only parameter and returns the total fare as its only result. Write a\r\n",
    "main program that demonstrates the function."
   ]
  },
  {
   "cell_type": "code",
   "execution_count": 6,
   "id": "6f115cb1-31d1-4afe-af1c-bf09777793bd",
   "metadata": {},
   "outputs": [],
   "source": [
    "# writing it as a function\n",
    "\n",
    "def transportation_data(base_fare, price_for_distance):\n",
    "    \n",
    "    price_for_distance = 0.25 / 140\n",
    "\n",
    "    price_for_distance_in_KM = price_for_distance * 1000\n",
    "\n",
    "    updated_price = round(price_for_distance_in_KM * distance_driven + base_fare, 2)\n",
    "    \n",
    "    print(f\"The total distance was {distance_driven} KM and the total fare is ${updated_price}\")"
   ]
  },
  {
   "cell_type": "code",
   "execution_count": 7,
   "id": "7b1fcc6b-9527-4c87-b14d-61ff9b74467f",
   "metadata": {},
   "outputs": [
    {
     "name": "stdin",
     "output_type": "stream",
     "text": [
      "Enter the total number of distance: 12\n"
     ]
    },
    {
     "name": "stdout",
     "output_type": "stream",
     "text": [
      "The total distance was 12.0 KM and the total fare is $25.43\n"
     ]
    }
   ],
   "source": [
    "distance_driven = float(input('Enter the total number of distance:'))\n",
    "\n",
    "solution = transportation_data(4,  0.25 / 140)\n",
    "\n",
    "solution"
   ]
  },
  {
   "cell_type": "markdown",
   "id": "46fbda3c-f12a-4e4a-88a8-08216be6cf98",
   "metadata": {},
   "source": [
    "## Exercise 83: Shipping Calculator\n",
    "\n",
    "An online retailer provides express shipping for many of its items at a rate of $10.95\r\n",
    "for the first item, and $2.95 for each subsequent item. Write a function that takes the\r\n",
    "number of items in the order as its only parameter. Return the shipping charge for\r\n",
    "the order as the function’s result. Include a main program that reads the number of\r\n",
    "items purchased from the user and displays the shipping charge."
   ]
  },
  {
   "cell_type": "code",
   "execution_count": 7,
   "id": "d800ca05-fdf1-4e14-b30f-55cc3b41caa9",
   "metadata": {},
   "outputs": [
    {
     "name": "stdin",
     "output_type": "stream",
     "text": [
      "Enter the total number of items that you purchased: 12\n"
     ]
    },
    {
     "name": "stdout",
     "output_type": "stream",
     "text": [
      "The total number of items that was purchased is 12 which will cost you $43.4\n"
     ]
    }
   ],
   "source": [
    "def shipping_calculator(number_of_items):\n",
    "    if number_of_items > 1:\n",
    "        value = number_of_items - 1\n",
    "        new_value = 2.95 * value\n",
    "        total = round(new_value + 10.95, 2)\n",
    "    elif number_of_items == 1:\n",
    "        total = 10.95\n",
    "    else:\n",
    "        print(\"Invalid input or data!!\")\n",
    "        total = None  # Set total to None in case of invalid input\n",
    "\n",
    "    return total  # Return the calculated total\n",
    "\n",
    "number_of_items = int(input(\"Enter the total number of items that you purchased:\"))\n",
    "total = shipping_calculator(number_of_items)\n",
    "\n",
    "if total is not None:\n",
    "    print(f\"The total number of items that was purchased is {number_of_items} which will cost you ${total}\")\n"
   ]
  },
  {
   "cell_type": "code",
   "execution_count": 10,
   "id": "dae6a940-dbb7-434a-81ee-ce2bfbb65851",
   "metadata": {},
   "outputs": [],
   "source": [
    "def shipping_cost(number_of_items):\n",
    "  if number_of_items==1:\n",
    "    return 10.95\n",
    "  else:\n",
    "    return round(10.95+(number_of_items-1)*2.95, 2)"
   ]
  },
  {
   "cell_type": "code",
   "execution_count": 11,
   "id": "5bc742de-65e3-4b21-86f2-da3410731269",
   "metadata": {},
   "outputs": [
    {
     "name": "stdin",
     "output_type": "stream",
     "text": [
      "Enter the total number of items that you purchased: 12\n"
     ]
    },
    {
     "data": {
      "text/plain": [
       "43.4"
      ]
     },
     "execution_count": 11,
     "metadata": {},
     "output_type": "execute_result"
    }
   ],
   "source": [
    "number_of_items = int(input(\"Enter the total number of items that you purchased:\"))\n",
    "\n",
    "shipping_cost(number_of_items)"
   ]
  },
  {
   "cell_type": "markdown",
   "id": "4980a4e8-dce2-405e-9ec7-515c3bb5278b",
   "metadata": {},
   "source": [
    "## Exercise 94: Random Password\n",
    "\n",
    "Write a function that generates a random password. The password should have a\r\n",
    "random length of between 7 and 10 characters. Each character should be randomly\r\n",
    "selected from positions 33 to 126 in the ASCII table. Your function will not take\r\n",
    "any parameters. It will return the randomly generated password as its only result.\r\n",
    "Display the randomly generated password in your file’s main program. Your main\r\n",
    "program should only run when your solution has not been imported into another file."
   ]
  },
  {
   "cell_type": "code",
   "execution_count": 12,
   "id": "b50bc696-a7f5-466c-8526-ecc3ffb4b0be",
   "metadata": {},
   "outputs": [
    {
     "name": "stdout",
     "output_type": "stream",
     "text": [
      "The ASCII code for 'A' is 65\n"
     ]
    }
   ],
   "source": [
    "char = 'A'  # Replace 'A' with the character you want to find the ASCII code for\n",
    "ascii_code = ord(char)\n",
    "print(f\"The ASCII code for '{char}' is {ascii_code}\")\n"
   ]
  },
  {
   "cell_type": "code",
   "execution_count": 13,
   "id": "b56df9af-2dd5-4e6c-a8d6-ca226de45fda",
   "metadata": {},
   "outputs": [
    {
     "name": "stdout",
     "output_type": "stream",
     "text": [
      "The ASCII value for the integer 65 is A\n"
     ]
    }
   ],
   "source": [
    "number = 65  # Replace 65 with the integer you want to find the ASCII code for\n",
    "char = chr(number)\n",
    "#ascii_code = ord(char)\n",
    "print(f\"The ASCII value for the integer {number} is {char}\")"
   ]
  },
  {
   "cell_type": "code",
   "execution_count": 14,
   "id": "02b34602-dab8-41b6-9a4e-f1e0bf092383",
   "metadata": {},
   "outputs": [],
   "source": [
    "import random as rd\n",
    "\n",
    "def random_password():\n",
    "    password_generated = \"\"\n",
    "    \n",
    "    num_iterations = rd.randint(7, 10)  # Generate a random number of iterations between 7 and 10\n",
    "    \n",
    "    for _ in range(num_iterations):\n",
    "        number = rd.randint(33, 127)  # Generate a random number between 33 and 127\n",
    "        char = chr(number)\n",
    "        #print(f\"The ASCII value for the integer {number} is {char}\")\n",
    "        password_generated += char\n",
    "    print(f\"Your password is: {password_generated}\")\n"
   ]
  },
  {
   "cell_type": "code",
   "execution_count": 15,
   "id": "6c6d1549-7982-4236-adac-761f2f240fec",
   "metadata": {},
   "outputs": [
    {
     "name": "stdout",
     "output_type": "stream",
     "text": [
      "Your password is: cE&ELGZ\n"
     ]
    }
   ],
   "source": [
    "random_password()"
   ]
  },
  {
   "cell_type": "markdown",
   "id": "b74ffc20-e99f-44ec-90dc-28cabaac2443",
   "metadata": {},
   "source": [
    "## Exercise 95: Random License Plate\n",
    "\n",
    "In a particular jurisdiction, older license plates consist of three letters followed by\r\n",
    "three numbers. When all of the license plates following that pattern had been used,\r\n",
    "the format was changed to four numbers followed by three letters.\r\n",
    "Write a function that generates a random license plate. Your function should have\r\n",
    "approximately equal odds of generating a sequence of characters for an old license\r\n",
    "plate or a new license plate. Write a main program that calls your function and\r\n",
    "displays the randomly generated license plate."
   ]
  },
  {
   "cell_type": "code",
   "execution_count": 16,
   "id": "cf69ca56-7253-4688-8c25-0476489f1126",
   "metadata": {},
   "outputs": [
    {
     "name": "stdout",
     "output_type": "stream",
     "text": [
      "Randomly generated license plate: LCK393\n"
     ]
    }
   ],
   "source": [
    "import random\n",
    "\n",
    "def generate_old_license_plate():\n",
    "    letters = [chr(random.randint(65, 90)) for _ in range(3)]  # Random uppercase letters (A-Z)\n",
    "    numbers = [str(random.randint(0, 9)) for _ in range(3)]  # Random numbers (0-9)\n",
    "    return ''.join(letters) + ''.join(numbers)\n",
    "\n",
    "def generate_new_license_plate():\n",
    "    numbers = [str(random.randint(0, 9)) for _ in range(4)]  # Random numbers (0-9)\n",
    "    letters = [chr(random.randint(65, 90)) for _ in range(3)]  # Random uppercase letters (A-Z)\n",
    "    return ''.join(numbers) + ''.join(letters)\n",
    "\n",
    "def generate_random_license_plate():\n",
    "    if random.random() < 0.5:  # 50% chance of old format\n",
    "        return generate_old_license_plate()\n",
    "    else:\n",
    "        return generate_new_license_plate()\n",
    "\n",
    "if __name__ == \"__main__\":\n",
    "    random_license_plate = generate_random_license_plate()\n",
    "    print(\"Randomly generated license plate:\", random_license_plate)\n"
   ]
  },
  {
   "cell_type": "markdown",
   "id": "2aeb2a75-f149-4674-8367-9c093b46e83d",
   "metadata": {},
   "source": [
    "## Exercise 96: Check a Password\n",
    "\n",
    "In this exercise you will write a function that determines whether or not a password \n",
    "is good. We will define a good password to be a one that is at least 8 character \r\n",
    "long and contains at least one uppercase letter, at least one lowercase letter, and  t\r\n",
    "least one number. Your function sho ld return true if the password passed to it as\r\n",
    "its only parameter is good. Otherwise it should return false. Include a main program\r\n",
    "that reads a password from the user and reports whether or not it is good. E ord 45\r\n",
    "that your main program only runs when your solution has  ot been impor ed into\r\n",
    "another file."
   ]
  },
  {
   "cell_type": "code",
   "execution_count": 4,
   "id": "bec23ca6-34b9-4b7d-bb9a-6f6c6c16f781",
   "metadata": {},
   "outputs": [
    {
     "name": "stdin",
     "output_type": "stream",
     "text": [
      "Enter your password: gdtdufyt7867665ftf\n"
     ]
    },
    {
     "data": {
      "text/plain": [
       "['gdtdufyt7867665ftf']"
      ]
     },
     "execution_count": 4,
     "metadata": {},
     "output_type": "execute_result"
    }
   ],
   "source": [
    "password_data = input('Enter your password:')\n",
    "\n",
    "data_list = password_data.split()\n",
    "\n",
    "\n",
    "        \n"
   ]
  },
  {
   "cell_type": "code",
   "execution_count": 7,
   "id": "d9b7e1d5-47f5-4a0a-ac04-5a25231345ba",
   "metadata": {},
   "outputs": [
    {
     "name": "stdin",
     "output_type": "stream",
     "text": [
      "Enter your password: Qresrtwrqwrq6r623ey23\n"
     ]
    },
    {
     "name": "stdout",
     "output_type": "stream",
     "text": [
      "Q\n",
      "Nice Qresrtwrqwrq6r623ey23\n",
      "Nice Qresrtwrqwrq6r623ey23\n",
      "Okay Qresrtwrqwrq6r623ey23\n",
      "Nice Qresrtwrqwrq6r623ey23\n",
      "Okay Qresrtwrqwrq6r623ey23\n",
      "Nice Qresrtwrqwrq6r623ey23\n",
      "Okay Qresrtwrqwrq6r623ey23\n",
      "Nice Qresrtwrqwrq6r623ey23\n",
      "Okay Qresrtwrqwrq6r623ey23\n",
      "Nice Qresrtwrqwrq6r623ey23\n",
      "Okay Qresrtwrqwrq6r623ey23\n",
      "Nice Qresrtwrqwrq6r623ey23\n",
      "Okay Qresrtwrqwrq6r623ey23\n",
      "Nice Qresrtwrqwrq6r623ey23\n",
      "Okay Qresrtwrqwrq6r623ey23\n",
      "Nice Qresrtwrqwrq6r623ey23\n",
      "Okay Qresrtwrqwrq6r623ey23\n",
      "Nice Qresrtwrqwrq6r623ey23\n",
      "Okay Qresrtwrqwrq6r623ey23\n",
      "Nice Qresrtwrqwrq6r623ey23\n",
      "Okay Qresrtwrqwrq6r623ey23\n",
      "Nice Qresrtwrqwrq6r623ey23\n",
      "Okay Qresrtwrqwrq6r623ey23\n",
      "Nice Qresrtwrqwrq6r623ey23\n",
      "Nice Qresrtwrqwrq6r623ey23\n",
      "Okay Qresrtwrqwrq6r623ey23\n",
      "Nice Qresrtwrqwrq6r623ey23\n",
      "Nice Qresrtwrqwrq6r623ey23\n",
      "Nice Qresrtwrqwrq6r623ey23\n",
      "Nice Qresrtwrqwrq6r623ey23\n",
      "Okay Qresrtwrqwrq6r623ey23\n",
      "Nice Qresrtwrqwrq6r623ey23\n",
      "Okay Qresrtwrqwrq6r623ey23\n",
      "Nice Qresrtwrqwrq6r623ey23\n",
      "Nice Qresrtwrqwrq6r623ey23\n"
     ]
    }
   ],
   "source": [
    "password_data = input('Enter your password:')\n",
    "\n",
    "data_list = list(password_data)  # Convert the input string into a list of characters\n",
    "\n",
    "for data in data_list:\n",
    "    if data.isupper():\n",
    "        print(data)\n",
    "    if len(password_data) > 8:\n",
    "            print(f'Nice {password_data}')\n",
    "    if data.islower():\n",
    "        print(f'Okay {password_data}')\n",
    "    if type(data) == int():\n",
    "        print(\"yee\")\n"
   ]
  },
  {
   "cell_type": "code",
   "execution_count": 23,
   "id": "85836ddc-3cad-42aa-9cbb-57e3e00a871f",
   "metadata": {},
   "outputs": [
    {
     "name": "stdin",
     "output_type": "stream",
     "text": [
      "Enter your password: 232435456\n"
     ]
    },
    {
     "name": "stdout",
     "output_type": "stream",
     "text": [
      "Your password \"232435456\" does not meet the criteria for a strong password.\n",
      "Your password contains at least one digit.\n"
     ]
    }
   ],
   "source": [
    "password_data = input('Enter your password:')\n",
    "\n",
    "has_uppercase = False\n",
    "has_lowercase = False\n",
    "has_digit = False\n",
    "\n",
    "for data in password_data:\n",
    "    if data.isupper():\n",
    "        has_uppercase = True\n",
    "    if data.islower():\n",
    "        has_lowercase = True\n",
    "    if data.isdigit():\n",
    "        has_digit = True\n",
    "\n",
    "if has_uppercase and has_lowercase and has_digit and len(password_data) > 8:\n",
    "    print(f'Your password \"{password_data}\" is strong.')\n",
    "else:\n",
    "    print(f'Your password \"{password_data}\" does not meet the criteria for a strong password.')\n",
    "\n",
    "    if has_uppercase:\n",
    "        print('Your password contains at least one uppercase letter.')\n",
    "    if has_lowercase:\n",
    "        print('Your password contains at least one lowercase letter.')\n",
    "    if has_digit:\n",
    "        print('Your password contains at least one digit.')\n"
   ]
  },
  {
   "cell_type": "code",
   "execution_count": 3,
   "id": "f3b997d1-9811-457c-9170-13ab1a318413",
   "metadata": {},
   "outputs": [
    {
     "name": "stdin",
     "output_type": "stream",
     "text": [
      "Enter your password: rdrett\n"
     ]
    }
   ],
   "source": [
    "# Writing it as a function\n",
    "\n",
    "password_data = input('Enter your password:')\n",
    "\n",
    "def check_a_password(password_data):\n",
    "    \n",
    "    has_uppercase = False\n",
    "    has_lowercase = False\n",
    "    has_digit = False\n",
    "    \n",
    "    for data in password_data:\n",
    "        if data.isupper():\n",
    "            has_uppercase = True\n",
    "        if data.islower():\n",
    "            has_lowercase = True\n",
    "        if data.isdigit():\n",
    "            has_digit = True\n",
    "        \n",
    "    if has_uppercase and has_lowercase and has_digit and len(password_data) > 8:\n",
    "        print(f'Your password \"{password_data}\" is strong.')\n",
    "    else:\n",
    "        print(f'Your password \"{password_data}\" does not meet the criteria for a strong password.')\n",
    "    \n",
    "        if has_uppercase:\n",
    "            print('Your password contains at least one uppercase letter.')\n",
    "        if has_lowercase:\n",
    "            print('Your password contains at least one lowercase letter.')\n",
    "        if has_digit:\n",
    "            print('Your password contains at least one digit.')\n"
   ]
  },
  {
   "cell_type": "code",
   "execution_count": null,
   "id": "5de41a75-7860-40b7-a08e-51bd97b5c472",
   "metadata": {},
   "outputs": [],
   "source": []
  }
 ],
 "metadata": {
  "kernelspec": {
   "display_name": "Python 3 (ipykernel)",
   "language": "python",
   "name": "python3"
  },
  "language_info": {
   "codemirror_mode": {
    "name": "ipython",
    "version": 3
   },
   "file_extension": ".py",
   "mimetype": "text/x-python",
   "name": "python",
   "nbconvert_exporter": "python",
   "pygments_lexer": "ipython3",
   "version": "3.11.4"
  }
 },
 "nbformat": 4,
 "nbformat_minor": 5
}
