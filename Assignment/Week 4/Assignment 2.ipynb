{
 "cells": [
  {
   "cell_type": "markdown",
   "id": "ca2906a6-cee3-4a5f-b6d2-850c8b5d2bbf",
   "metadata": {},
   "source": [
    "## Exercise 81: Compute the Hypotenuse"
   ]
  },
  {
   "cell_type": "code",
   "execution_count": 3,
   "id": "910cdc30-28b3-4156-9a25-4e3143c6ff61",
   "metadata": {},
   "outputs": [
    {
     "name": "stdin",
     "output_type": "stream",
     "text": [
      "Enter the value for the base of the right angle triangle: 12\n",
      "Enter the value for the height: 15\n"
     ]
    },
    {
     "name": "stdout",
     "output_type": "stream",
     "text": [
      "The area of the right angle trangle is: 90.0 \n",
      " & the hypotenuse is: 63.0 \n"
     ]
    }
   ],
   "source": [
    "base_data = float(input('Enter the value for the base of the right angle triangle:'))\n",
    "height_data = float(input('Enter the value for the height:'))\n",
    "\n",
    "# Area = (1/2) * base * height\n",
    "\n",
    "area_value = (0.5 * base_data) * height_data\n",
    "\n",
    "hypotenuse = area_value - (base_data + height_data)\n",
    "\n",
    "print(f\"The area of the right angle trangle is: {area_value} \\n & the hypotenuse is: {hypotenuse} \")"
   ]
  },
  {
   "cell_type": "markdown",
   "id": "29232844-02fc-4627-ba91-937805c68c53",
   "metadata": {},
   "source": [
    "## Exercise 82: Taxi Fare"
   ]
  },
  {
   "cell_type": "code",
   "execution_count": 5,
   "id": "7f14666d-5dd3-4a15-a690-380059bd6adb",
   "metadata": {},
   "outputs": [
    {
     "name": "stdin",
     "output_type": "stream",
     "text": [
      "Enter the total number of distance: 12\n"
     ]
    },
    {
     "name": "stdout",
     "output_type": "stream",
     "text": [
      "The total distance was 12.0 KM and the total fare is $4.02\n"
     ]
    }
   ],
   "source": [
    "base_fare = 4\n",
    "\n",
    "distance_driven = float(input('Enter the total number of distance:'))\n",
    "\n",
    "# $0.25 for every 140 meters traveled.\n",
    "\n",
    "price_for_distance = 0.25 / 140\n",
    "\n",
    "updated_price = round(price_for_distance * distance_driven + base_fare, 2)\n",
    "\n",
    "print(f\"The total distance was {distance_driven} KM and the total fare is ${updated_price}\")"
   ]
  },
  {
   "cell_type": "code",
   "execution_count": 9,
   "id": "6f115cb1-31d1-4afe-af1c-bf09777793bd",
   "metadata": {},
   "outputs": [],
   "source": [
    "# writing it as a function\n",
    "\n",
    "def transportation_data(base_fare, price_for_distance):\n",
    "    \n",
    "    updated_price = round(price_for_distance * distance_driven + base_fare, 2)\n",
    "    \n",
    "    print(f\"The total distance was {distance_driven} KM and the total fare is ${updated_price}\")"
   ]
  },
  {
   "cell_type": "code",
   "execution_count": 12,
   "id": "7b1fcc6b-9527-4c87-b14d-61ff9b74467f",
   "metadata": {},
   "outputs": [
    {
     "name": "stdin",
     "output_type": "stream",
     "text": [
      "Enter the total number of distance: 12\n"
     ]
    },
    {
     "name": "stdout",
     "output_type": "stream",
     "text": [
      "The total distance was 12.0 KM and the total fare is $4.02\n"
     ]
    }
   ],
   "source": [
    "distance_driven = float(input('Enter the total number of distance:'))\n",
    "\n",
    "solution = transportation_data(4,  0.25 / 140)\n",
    "\n",
    "solution"
   ]
  },
  {
   "cell_type": "markdown",
   "id": "46fbda3c-f12a-4e4a-88a8-08216be6cf98",
   "metadata": {},
   "source": [
    "## Exercise 83: Shipping Calculator"
   ]
  },
  {
   "cell_type": "code",
   "execution_count": 16,
   "id": "66a99d88-956e-4b91-a13a-f583cfba349d",
   "metadata": {},
   "outputs": [
    {
     "name": "stdin",
     "output_type": "stream",
     "text": [
      "Enter the total number of item's that you purchased: 3\n"
     ]
    },
    {
     "name": "stdout",
     "output_type": "stream",
     "text": [
      "The total number of items that was purchased is 3 which will cost you $16.85\n"
     ]
    }
   ],
   "source": [
    "number_of_items = int(input(\"Enter the total number of item's that you purchased:\"))\n",
    "\n",
    "# An online retailer provides express shipping for many of its items at a rate of $10.95 for the first item, and $2.95 for each subsequent item.\n",
    "if number_of_items > 1:\n",
    "    value = number_of_items - 1\n",
    "    new_value = 2.95 * value\n",
    "    total_value = new_value + 10.95\n",
    "elif number_of_items == 1:\n",
    "    total_value = 10.95\n",
    "\n",
    "else:\n",
    "    print(\"Invslid input or data!!\")\n",
    "\n",
    "print(f\"The total number of items that was purchased is {number_of_items} which will cost you ${total_value}\")"
   ]
  },
  {
   "cell_type": "markdown",
   "id": "4980a4e8-dce2-405e-9ec7-515c3bb5278b",
   "metadata": {},
   "source": [
    "## Exercise 94: Random Password"
   ]
  },
  {
   "cell_type": "code",
   "execution_count": 19,
   "id": "b50bc696-a7f5-466c-8526-ecc3ffb4b0be",
   "metadata": {},
   "outputs": [
    {
     "name": "stdout",
     "output_type": "stream",
     "text": [
      "The ASCII code for 'A' is 65\n"
     ]
    }
   ],
   "source": [
    "char = 'A'  # Replace 'A' with the character you want to find the ASCII code for\n",
    "ascii_code = ord(char)\n",
    "print(f\"The ASCII code for '{char}' is {ascii_code}\")\n"
   ]
  },
  {
   "cell_type": "code",
   "execution_count": 22,
   "id": "b56df9af-2dd5-4e6c-a8d6-ca226de45fda",
   "metadata": {},
   "outputs": [
    {
     "name": "stdout",
     "output_type": "stream",
     "text": [
      "The ASCII value for the integer 65 is A\n"
     ]
    }
   ],
   "source": [
    "number = 65  # Replace 65 with the integer you want to find the ASCII code for\n",
    "char = chr(number)\n",
    "#ascii_code = ord(char)\n",
    "print(f\"The ASCII value for the integer {number} is {char}\")"
   ]
  },
  {
   "cell_type": "code",
   "execution_count": 60,
   "id": "115e8284-a374-4dd4-b033-421ca14a78b1",
   "metadata": {},
   "outputs": [
    {
     "name": "stdout",
     "output_type": "stream",
     "text": [
      "Your password is: mTSYRN.~P\n"
     ]
    }
   ],
   "source": [
    "# a function that generates a random password.\n",
    "# The password should have a random length of between 7 and 10 characters.\n",
    "# Each character should be randomly selected from positions 33 to 126 in the ASCII table.\n",
    "\n",
    "import random as rd\n",
    "\n",
    "password_generated = \"\"\n",
    "\n",
    "num_iterations = rd.randint(7, 10)  # Generate a random number of iterations between 7 and 10\n",
    "\n",
    "for _ in range(num_iterations):\n",
    "    number = rd.randint(33, 127)  # Generate a random number between 33 and 127\n",
    "    char = chr(number)\n",
    "    #print(f\"The ASCII value for the integer {number} is {char}\")\n",
    "    password_generated += char\n",
    "print(f\"Your password is: {password_generated}\")\n",
    "\n",
    "\n",
    "\n",
    "\n"
   ]
  },
  {
   "cell_type": "markdown",
   "id": "b74ffc20-e99f-44ec-90dc-28cabaac2443",
   "metadata": {},
   "source": [
    "## Exercise 95: Random License Plate"
   ]
  },
  {
   "cell_type": "code",
   "execution_count": null,
   "id": "cf69ca56-7253-4688-8c25-0476489f1126",
   "metadata": {},
   "outputs": [],
   "source": []
  },
  {
   "cell_type": "markdown",
   "id": "2aeb2a75-f149-4674-8367-9c093b46e83d",
   "metadata": {},
   "source": [
    "## Exercise 96: Check a Password"
   ]
  },
  {
   "cell_type": "code",
   "execution_count": 4,
   "id": "bec23ca6-34b9-4b7d-bb9a-6f6c6c16f781",
   "metadata": {},
   "outputs": [
    {
     "name": "stdin",
     "output_type": "stream",
     "text": [
      "Enter your password: gdtdufyt7867665ftf\n"
     ]
    },
    {
     "data": {
      "text/plain": [
       "['gdtdufyt7867665ftf']"
      ]
     },
     "execution_count": 4,
     "metadata": {},
     "output_type": "execute_result"
    }
   ],
   "source": [
    "password_data = input('Enter your password:')\n",
    "\n",
    "data_list = password_data.split()\n",
    "\n",
    "\n",
    "        \n"
   ]
  },
  {
   "cell_type": "code",
   "execution_count": 7,
   "id": "d9b7e1d5-47f5-4a0a-ac04-5a25231345ba",
   "metadata": {},
   "outputs": [
    {
     "name": "stdin",
     "output_type": "stream",
     "text": [
      "Enter your password: Qresrtwrqwrq6r623ey23\n"
     ]
    },
    {
     "name": "stdout",
     "output_type": "stream",
     "text": [
      "Q\n",
      "Nice Qresrtwrqwrq6r623ey23\n",
      "Nice Qresrtwrqwrq6r623ey23\n",
      "Okay Qresrtwrqwrq6r623ey23\n",
      "Nice Qresrtwrqwrq6r623ey23\n",
      "Okay Qresrtwrqwrq6r623ey23\n",
      "Nice Qresrtwrqwrq6r623ey23\n",
      "Okay Qresrtwrqwrq6r623ey23\n",
      "Nice Qresrtwrqwrq6r623ey23\n",
      "Okay Qresrtwrqwrq6r623ey23\n",
      "Nice Qresrtwrqwrq6r623ey23\n",
      "Okay Qresrtwrqwrq6r623ey23\n",
      "Nice Qresrtwrqwrq6r623ey23\n",
      "Okay Qresrtwrqwrq6r623ey23\n",
      "Nice Qresrtwrqwrq6r623ey23\n",
      "Okay Qresrtwrqwrq6r623ey23\n",
      "Nice Qresrtwrqwrq6r623ey23\n",
      "Okay Qresrtwrqwrq6r623ey23\n",
      "Nice Qresrtwrqwrq6r623ey23\n",
      "Okay Qresrtwrqwrq6r623ey23\n",
      "Nice Qresrtwrqwrq6r623ey23\n",
      "Okay Qresrtwrqwrq6r623ey23\n",
      "Nice Qresrtwrqwrq6r623ey23\n",
      "Okay Qresrtwrqwrq6r623ey23\n",
      "Nice Qresrtwrqwrq6r623ey23\n",
      "Nice Qresrtwrqwrq6r623ey23\n",
      "Okay Qresrtwrqwrq6r623ey23\n",
      "Nice Qresrtwrqwrq6r623ey23\n",
      "Nice Qresrtwrqwrq6r623ey23\n",
      "Nice Qresrtwrqwrq6r623ey23\n",
      "Nice Qresrtwrqwrq6r623ey23\n",
      "Okay Qresrtwrqwrq6r623ey23\n",
      "Nice Qresrtwrqwrq6r623ey23\n",
      "Okay Qresrtwrqwrq6r623ey23\n",
      "Nice Qresrtwrqwrq6r623ey23\n",
      "Nice Qresrtwrqwrq6r623ey23\n"
     ]
    }
   ],
   "source": [
    "password_data = input('Enter your password:')\n",
    "\n",
    "data_list = list(password_data)  # Convert the input string into a list of characters\n",
    "\n",
    "for data in data_list:\n",
    "    if data.isupper():\n",
    "        print(data)\n",
    "    if len(password_data) > 8:\n",
    "            print(f'Nice {password_data}')\n",
    "    if data.islower():\n",
    "        print(f'Okay {password_data}')\n",
    "    if type(data) == int():\n",
    "        print(\"yee\")\n"
   ]
  },
  {
   "cell_type": "code",
   "execution_count": 8,
   "id": "85836ddc-3cad-42aa-9cbb-57e3e00a871f",
   "metadata": {},
   "outputs": [
    {
     "name": "stdin",
     "output_type": "stream",
     "text": [
      "Enter your password: Qwerduy656465&\n"
     ]
    },
    {
     "name": "stdout",
     "output_type": "stream",
     "text": [
      "Your password \"Qwerduy656465&\" is strong.\n",
      "Your password contains at least one uppercase letter.\n",
      "Your password contains at least one lowercase letter.\n",
      "Your password contains at least one digit.\n"
     ]
    }
   ],
   "source": [
    "password_data = input('Enter your password:')\n",
    "\n",
    "has_uppercase = False\n",
    "has_lowercase = False\n",
    "has_digit = False\n",
    "\n",
    "for data in password_data:\n",
    "    if data.isupper():\n",
    "        has_uppercase = True\n",
    "    if data.islower():\n",
    "        has_lowercase = True\n",
    "    if data.isdigit():\n",
    "        has_digit = True\n",
    "\n",
    "if has_uppercase and has_lowercase and has_digit and len(password_data) > 8:\n",
    "    print(f'Your password \"{password_data}\" is strong.')\n",
    "else:\n",
    "    print(f'Your password \"{password_data}\" does not meet the criteria for a strong password.')\n",
    "\n",
    "if has_uppercase:\n",
    "    print('Your password contains at least one uppercase letter.')\n",
    "if has_lowercase:\n",
    "    print('Your password contains at least one lowercase letter.')\n",
    "if has_digit:\n",
    "    print('Your password contains at least one digit.')\n"
   ]
  },
  {
   "cell_type": "code",
   "execution_count": null,
   "id": "f3b997d1-9811-457c-9170-13ab1a318413",
   "metadata": {},
   "outputs": [],
   "source": []
  }
 ],
 "metadata": {
  "kernelspec": {
   "display_name": "Python 3 (ipykernel)",
   "language": "python",
   "name": "python3"
  },
  "language_info": {
   "codemirror_mode": {
    "name": "ipython",
    "version": 3
   },
   "file_extension": ".py",
   "mimetype": "text/x-python",
   "name": "python",
   "nbconvert_exporter": "python",
   "pygments_lexer": "ipython3",
   "version": "3.11.4"
  }
 },
 "nbformat": 4,
 "nbformat_minor": 5
}
