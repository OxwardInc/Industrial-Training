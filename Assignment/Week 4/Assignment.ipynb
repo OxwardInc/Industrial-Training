{
 "cells": [
  {
   "cell_type": "markdown",
   "id": "4050c7f9",
   "metadata": {},
   "source": [
    "## Q1"
   ]
  },
  {
   "cell_type": "code",
   "execution_count": 2,
   "id": "92e2f22d",
   "metadata": {},
   "outputs": [
    {
     "name": "stdout",
     "output_type": "stream",
     "text": [
      "[6]\n"
     ]
    },
    {
     "name": "stdin",
     "output_type": "stream",
     "text": [
      "Is this the correct answer: no\n"
     ]
    },
    {
     "name": "stdout",
     "output_type": "stream",
     "text": [
      "Let me try again\n",
      "[99]\n"
     ]
    },
    {
     "name": "stdin",
     "output_type": "stream",
     "text": [
      "Is this the correct answer: no\n"
     ]
    },
    {
     "name": "stdout",
     "output_type": "stream",
     "text": [
      "Let me try again\n",
      "[59]\n"
     ]
    },
    {
     "name": "stdin",
     "output_type": "stream",
     "text": [
      "Is this the correct answer: no\n"
     ]
    },
    {
     "name": "stdout",
     "output_type": "stream",
     "text": [
      "Let me try again\n",
      "[10]\n"
     ]
    },
    {
     "name": "stdin",
     "output_type": "stream",
     "text": [
      "Is this the correct answer: no\n"
     ]
    },
    {
     "name": "stdout",
     "output_type": "stream",
     "text": [
      "Let me try again\n",
      "[73]\n"
     ]
    },
    {
     "name": "stdin",
     "output_type": "stream",
     "text": [
      "Is this the correct answer: no\n"
     ]
    },
    {
     "name": "stdout",
     "output_type": "stream",
     "text": [
      "Let me try again\n",
      "[78]\n"
     ]
    },
    {
     "name": "stdin",
     "output_type": "stream",
     "text": [
      "Is this the correct answer: no\n"
     ]
    },
    {
     "name": "stdout",
     "output_type": "stream",
     "text": [
      "Let me try again\n",
      "[71]\n"
     ]
    },
    {
     "name": "stdin",
     "output_type": "stream",
     "text": [
      "Is this the correct answer: no\n"
     ]
    },
    {
     "name": "stdout",
     "output_type": "stream",
     "text": [
      "Let me try again\n",
      "[9]\n"
     ]
    },
    {
     "name": "stdin",
     "output_type": "stream",
     "text": [
      "Is this the correct answer: no\n"
     ]
    },
    {
     "name": "stdout",
     "output_type": "stream",
     "text": [
      "Let me try again\n",
      "[33]\n"
     ]
    },
    {
     "name": "stdin",
     "output_type": "stream",
     "text": [
      "Is this the correct answer: no\n"
     ]
    },
    {
     "name": "stdout",
     "output_type": "stream",
     "text": [
      "Let me try again\n",
      "[12]\n"
     ]
    },
    {
     "name": "stdin",
     "output_type": "stream",
     "text": [
      "Is this the correct answer: no\n"
     ]
    },
    {
     "name": "stdout",
     "output_type": "stream",
     "text": [
      "Let me try again\n"
     ]
    }
   ],
   "source": [
    "# A program to make the computer make a guess and see if it'll get it right.\n",
    "\n",
    "# we're working on 20\n",
    "\n",
    "import random as rd\n",
    "\n",
    "for i in range(10):\n",
    "    generated_number = [rd.randint(1, 100)]\n",
    "    guess = rd.choices(generated_number, k = 1)\n",
    "    print(guess)\n",
    "    up_date = input(\"Is this the correct answer:\")\n",
    "    up_date.lower()\n",
    "    if up_date == 'yes':\n",
    "        print(\"I got it right\")\n",
    "        break\n",
    "    elif up_date == 'no':\n",
    "        print(\"Let me try again\")"
   ]
  },
  {
   "cell_type": "code",
   "execution_count": 13,
   "id": "31da7ee6",
   "metadata": {},
   "outputs": [
    {
     "name": "stdout",
     "output_type": "stream",
     "text": [
      "[57]\n"
     ]
    },
    {
     "name": "stdin",
     "output_type": "stream",
     "text": [
      "Is this the correct answer: no\n",
      "Can you tell me if the answer is higer or lower: higher\n"
     ]
    },
    {
     "ename": "TypeError",
     "evalue": "unsupported operand type(s) for +: 'int' and 'list'",
     "output_type": "error",
     "traceback": [
      "\u001b[1;31m---------------------------------------------------------------------------\u001b[0m",
      "\u001b[1;31mTypeError\u001b[0m                                 Traceback (most recent call last)",
      "Cell \u001b[1;32mIn[13], line 31\u001b[0m\n\u001b[0;32m     28\u001b[0m \u001b[38;5;28;01melse\u001b[39;00m:\n\u001b[0;32m     29\u001b[0m     \u001b[38;5;28;01mif\u001b[39;00m narrowing \u001b[38;5;241m==\u001b[39m \u001b[38;5;124m'\u001b[39m\u001b[38;5;124mhigher\u001b[39m\u001b[38;5;124m'\u001b[39m:\n\u001b[0;32m     30\u001b[0m         \u001b[38;5;66;03m#guess = int(guess)\u001b[39;00m\n\u001b[1;32m---> 31\u001b[0m         new_guess \u001b[38;5;241m=\u001b[39m (\u001b[38;5;241;43m100\u001b[39;49m\u001b[43m \u001b[49m\u001b[38;5;241;43m+\u001b[39;49m\u001b[43m \u001b[49m\u001b[43mguess\u001b[49m) \u001b[38;5;241m/\u001b[39m \u001b[38;5;241m2\u001b[39m\n\u001b[0;32m     32\u001b[0m         \u001b[38;5;28;01mif\u001b[39;00m new_guess \u001b[38;5;241m==\u001b[39m \u001b[38;5;124m'\u001b[39m\u001b[38;5;124mhigher\u001b[39m\u001b[38;5;124m'\u001b[39m:\n\u001b[0;32m     33\u001b[0m             newer_guess \u001b[38;5;241m=\u001b[39m (new_guess \u001b[38;5;241m+\u001b[39m \u001b[38;5;241m100\u001b[39m) \u001b[38;5;241m/\u001b[39m \u001b[38;5;241m2\u001b[39m\n",
      "\u001b[1;31mTypeError\u001b[0m: unsupported operand type(s) for +: 'int' and 'list'"
     ]
    }
   ],
   "source": [
    "# Making modification's\n",
    "\n",
    "# we're working on 50\n",
    "\n",
    "import random as rd\n",
    "\n",
    "lb, ub = 1, 100\n",
    "\n",
    "for i in range(10):\n",
    "    generated_number = [rd.randint(lb, ub)]\n",
    "    guess = rd.choices(generated_number, k = 1)\n",
    "    print(guess)\n",
    "    up_date = input(\"Is this the correct answer:\")\n",
    "    up_date.lower()\n",
    "    if up_date == 'yes':\n",
    "        print(\"I got it right\")\n",
    "        break\n",
    "    elif up_date == 'no':\n",
    "        # checking the difference between the correct answer and the predicted value\n",
    "        narrowing = input(\"Can you tell me if the answer is higer or lower:\").lower()\n",
    "        if narrowing == 'lower':\n",
    "            #guess = int(guess)\n",
    "            new_guess = (1 + guess) / 2\n",
    "            if new_guess == 'lower':\n",
    "                newer_guess = (1 + new_guess) / 2\n",
    "            elif new_guess == 'higher':\n",
    "                newer_guess = (new_guess + newer_guess) / 2\n",
    "        else:\n",
    "            if narrowing == 'higher':\n",
    "                #guess = int(guess)\n",
    "                new_guess = (100 + guess) / 2\n",
    "                if new_guess == 'higher':\n",
    "                    newer_guess = (new_guess + 100) / 2\n",
    "                elif new_guess == 'lower':\n",
    "                    #guess = int(guess)\n",
    "                    newer_guess = (new_guess + newer_guess) / 2\n",
    "        print(\"Let me try again\")"
   ]
  },
  {
   "cell_type": "code",
   "execution_count": 7,
   "id": "c74eadd1-67e3-48ac-922e-1e84416778a0",
   "metadata": {},
   "outputs": [
    {
     "data": {
      "text/plain": [
       "list"
      ]
     },
     "execution_count": 7,
     "metadata": {},
     "output_type": "execute_result"
    }
   ],
   "source": [
    "type(generated_number)"
   ]
  },
  {
   "cell_type": "code",
   "execution_count": 9,
   "id": "2edec586-dbf7-4b90-8298-b22a86dfb427",
   "metadata": {},
   "outputs": [
    {
     "name": "stdout",
     "output_type": "stream",
     "text": [
      "21\n",
      "57\n",
      "88\n",
      "44\n",
      "73\n",
      "1\n",
      "26\n",
      "60\n",
      "86\n",
      "35\n"
     ]
    }
   ],
   "source": [
    "lb, ub = 1, 100\n",
    "\n",
    "for i in range(10):\n",
    "    generated_number = [rd.randint(lb, ub)]\n",
    "    \n",
    "        print(i)"
   ]
  },
  {
   "cell_type": "code",
   "execution_count": 12,
   "id": "efa0a2a4-7079-4613-a3dd-cfd3a8f54ba1",
   "metadata": {},
   "outputs": [
    {
     "name": "stdout",
     "output_type": "stream",
     "text": [
      "[44]\n",
      "[58]\n",
      "[58]\n",
      "[14]\n",
      "[64]\n",
      "[42]\n",
      "[68]\n",
      "[25]\n",
      "[32]\n",
      "[18]\n"
     ]
    }
   ],
   "source": [
    "lb, ub = 1, 100\n",
    "\n",
    "for i in range(10):\n",
    "    generated_number = [rd.randint(lb, ub)]\n",
    "    for i in generated_number:\n",
    "        guess = rd.choices(generated_number, k = 1)\n",
    "        print(guess)"
   ]
  },
  {
   "cell_type": "markdown",
   "id": "895b9d7e-a2cb-4b0a-a69a-5b14dbd48b60",
   "metadata": {},
   "source": [
    "# Workbook\n",
    "## Q5"
   ]
  },
  {
   "cell_type": "code",
   "execution_count": 1,
   "id": "5a73b88d-b501-4fc9-b208-103e6412109c",
   "metadata": {},
   "outputs": [
    {
     "name": "stdin",
     "output_type": "stream",
     "text": [
      "Enter the number of liter's of container's: 12\n"
     ]
    },
    {
     "name": "stdout",
     "output_type": "stream",
     "text": [
      "You have $0.25 deposit\n"
     ]
    }
   ],
   "source": [
    "inp = float(input(\"Enter the number of liter's of container's:\"))\n",
    "\n",
    "\n",
    "if inp <= 1:\n",
    "    print(\"You have $0.10 deposit\")\n",
    "elif inp > 1:\n",
    "    print(\"You have $0.25 deposit\")\n",
    "else:\n",
    "    print(\"Invalid input\")"
   ]
  },
  {
   "cell_type": "markdown",
   "id": "e39059f4-bf4a-4dc6-88d9-fcf9c8aba714",
   "metadata": {},
   "source": [
    "## Q6"
   ]
  },
  {
   "cell_type": "code",
   "execution_count": 3,
   "id": "5b66e299-3f48-4cf5-a7a9-8a04b5cad6f4",
   "metadata": {},
   "outputs": [
    {
     "name": "stdin",
     "output_type": "stream",
     "text": [
      "Enter the cost of the meal being purchased: 12\n"
     ]
    },
    {
     "name": "stdout",
     "output_type": "stream",
     "text": [
      "Price \t Tax \t Tip \t Total\n",
      "=========================\n",
      "$12.0 \t $1.2 \t $2.16 \t $15.36\n"
     ]
    }
   ],
   "source": [
    "inp = float(input('Enter the cost of the meal being purchased:'))\n",
    "\n",
    "tax = round(0.1 * inp, 2) # 10% for the tax\n",
    "tip = round(0.18 * inp, 2) # 18% for the tip\n",
    "\n",
    "total_cost  = round(inp + tax + tip, 2)\n",
    "\n",
    "print('Price \\t Tax \\t Tip \\t Total')\n",
    "print('=' * 25)\n",
    "\n",
    "print(f'${inp} \\t ${tax} \\t ${tip} \\t ${total_cost}')"
   ]
  },
  {
   "cell_type": "markdown",
   "id": "4392c4a2-05a1-4898-baa3-8031e5c08e86",
   "metadata": {},
   "source": [
    "## Q7"
   ]
  },
  {
   "cell_type": "code",
   "execution_count": 12,
   "id": "b95bb129-ad20-42df-83a3-5ad2fa6ffe3c",
   "metadata": {},
   "outputs": [
    {
     "name": "stdin",
     "output_type": "stream",
     "text": [
      "Enter a number: 3\n"
     ]
    },
    {
     "ename": "TypeError",
     "evalue": "'int' object is not iterable",
     "output_type": "error",
     "traceback": [
      "\u001b[1;31m---------------------------------------------------------------------------\u001b[0m",
      "\u001b[1;31mTypeError\u001b[0m                                 Traceback (most recent call last)",
      "Cell \u001b[1;32mIn[12], line 5\u001b[0m\n\u001b[0;32m      1\u001b[0m n \u001b[38;5;241m=\u001b[39m \u001b[38;5;28mfloat\u001b[39m(\u001b[38;5;28minput\u001b[39m(\u001b[38;5;124m'\u001b[39m\u001b[38;5;124mEnter a number:\u001b[39m\u001b[38;5;124m'\u001b[39m))\n\u001b[0;32m      3\u001b[0m num \u001b[38;5;241m=\u001b[39m \u001b[38;5;241m1\u001b[39m\n\u001b[1;32m----> 5\u001b[0m \u001b[38;5;28;01mfor\u001b[39;00m i \u001b[38;5;129;01min\u001b[39;00m num:\n\u001b[0;32m      6\u001b[0m     \u001b[38;5;28;01mif\u001b[39;00m n \u001b[38;5;241m>\u001b[39m num:\n\u001b[0;32m      7\u001b[0m         \u001b[38;5;28;01mif\u001b[39;00m num \u001b[38;5;241m<\u001b[39m n:\n",
      "\u001b[1;31mTypeError\u001b[0m: 'int' object is not iterable"
     ]
    }
   ],
   "source": [
    "n = float(input('Enter a number:'))\n",
    "\n",
    "num = 1\n",
    "\n",
    "for i in num:\n",
    "    if n > num:\n",
    "        if num < n:\n",
    "            num = num + 1\n",
    "            print(num)"
   ]
  },
  {
   "cell_type": "markdown",
   "id": "13c5a789-4aef-4591-aa10-ddc047d6628b",
   "metadata": {},
   "source": [
    "## Q8"
   ]
  },
  {
   "cell_type": "code",
   "execution_count": 14,
   "id": "ad5fb6c1-cdec-4891-8a73-6dbe4306a880",
   "metadata": {},
   "outputs": [
    {
     "name": "stdin",
     "output_type": "stream",
     "text": [
      "What do you want to buy: widget\n",
      "How many widget do you want to buy: 23\n"
     ]
    },
    {
     "name": "stdout",
     "output_type": "stream",
     "text": [
      "You ordered the total number of 23 widget which will weigh 1725 grams\n"
     ]
    }
   ],
   "source": [
    "inp = input('What do you want to buy:').lower()\n",
    "\n",
    "if inp == 'widget':\n",
    "    new_inp = int(input(\"How many widget do you want to buy:\"))\n",
    "    widget = 75\n",
    "    value_from_input = widget * new_inp\n",
    "    print(f'You ordered the total number of {new_inp} widget which will weigh {value_from_input} grams')\n",
    "\n",
    "elif inp == 'gizmo':\n",
    "    new_inp = int(input(\"How many gizmo do you want to buy:\"))\n",
    "    gizmo = 112\n",
    "    value_from_input = gizmo * new_inp\n",
    "    print(f'You ordered the total number of {new_inp} widget which will weigh {value_from_input} grams')"
   ]
  },
  {
   "cell_type": "markdown",
   "id": "2399238c-8cce-4aaf-988a-1d1b5d82d024",
   "metadata": {},
   "source": [
    "## Q 9"
   ]
  },
  {
   "cell_type": "code",
   "execution_count": 20,
   "id": "f18370bd-5041-4520-87cf-f790d597bf13",
   "metadata": {},
   "outputs": [
    {
     "name": "stdin",
     "output_type": "stream",
     "text": [
      "Enter the amount being deposited for the year: 230\n",
      "Enter the number of year's you want to view the data for: 1\n"
     ]
    },
    {
     "name": "stdout",
     "output_type": "stream",
     "text": [
      "You made a total deposit of $230.0 for each year & the interest for each year is $9.2 \n",
      " While the total value for 1.0 years is $239.2\n"
     ]
    }
   ],
   "source": [
    "inp = float(input(\"Enter the amount being deposited for the year:\"))\n",
    "\n",
    "inp2 = float(input(\"Enter the number of year's you want to view the data for:\"))\n",
    "\n",
    "intrest_on_savings = round(inp * 0.04, 2) # for each year\n",
    "\n",
    "new_value = round(inp + intrest_on_savings, 2)\n",
    "\n",
    "final_value = inp2 * new_value\n",
    "\n",
    "print(f'You made a total deposit of ${inp} for each year & the interest for each year is ${intrest_on_savings} \\n While the total value for {inp2} years is ${final_value}')"
   ]
  },
  {
   "cell_type": "code",
   "execution_count": 21,
   "id": "ffbf930c-0444-409e-952c-8972f35cf133",
   "metadata": {},
   "outputs": [
    {
     "name": "stdin",
     "output_type": "stream",
     "text": [
      "Enter the amount being deposited for the year: 230\n",
      "Enter the number of year's you want to view the data for: 2\n"
     ]
    },
    {
     "name": "stdout",
     "output_type": "stream",
     "text": [
      "You made a total deposit of $230.0 for each year & the interest for each year is $9.2 \n",
      " While the total value for 2.0 years is $478.4\n"
     ]
    }
   ],
   "source": [
    "inp = float(input(\"Enter the amount being deposited for the year:\"))\n",
    "\n",
    "inp2 = float(input(\"Enter the number of year's you want to view the data for:\"))\n",
    "\n",
    "intrest_on_savings = round(inp * 0.04, 2) # for each year\n",
    "\n",
    "new_value = round(inp + intrest_on_savings, 2)\n",
    "\n",
    "final_value = inp2 * new_value\n",
    "\n",
    "print(f'You made a total deposit of ${inp} for each year & the interest for each year is ${intrest_on_savings} \\n While the total value for {inp2} years is ${final_value}')"
   ]
  },
  {
   "cell_type": "markdown",
   "id": "5862d3ae-3c51-4a09-8390-6bc07908bb55",
   "metadata": {},
   "source": [
    "## Q 10"
   ]
  },
  {
   "cell_type": "code",
   "execution_count": 30,
   "id": "9790ed45-ef0e-47dd-a7d8-4305e4316b2b",
   "metadata": {},
   "outputs": [
    {
     "name": "stdin",
     "output_type": "stream",
     "text": [
      "Enter an integer: 1\n",
      "Enter another integer: 2\n"
     ]
    },
    {
     "name": "stdout",
     "output_type": "stream",
     "text": [
      "The sum of a & b is 3\n",
      "The difference of a & b is -1\n",
      "The product of a & b is 2\n",
      "The quotient of a / b is 0.5\n",
      "The remainder of a / b is 1\n",
      "The of log a is 0.0\n",
      "The value a^b  1\n"
     ]
    }
   ],
   "source": [
    "import math\n",
    "from math import *\n",
    "a = int(input('Enter an integer:'))\n",
    "b = int(input('Enter another integer:'))\n",
    "\n",
    "sum_value = a + b\n",
    "print(f'The sum of a & b is {sum_value}')\n",
    "\n",
    "dif_val = a - b\n",
    "print(f'The difference of a & b is {dif_val}')\n",
    "\n",
    "prod_val = a * b\n",
    "print(f'The product of a & b is {prod_val}')\n",
    "\n",
    "qout_val = a / b\n",
    "print(f'The quotient of a / b is {qout_val}')\n",
    "\n",
    "rem_div = a % b\n",
    "print(f'The remainder of a / b is {rem_div}')\n",
    "\n",
    "res_of_log = log10(a)\n",
    "print(f'The of log a is {res_of_log}')\n",
    "\n",
    "a_to_power_of_b = a ** b\n",
    "print(f'The value a^b  {a_to_power_of_b}')"
   ]
  },
  {
   "cell_type": "code",
   "execution_count": 26,
   "id": "e4218dfb-2eb3-41a8-8b39-e9cebde50bd0",
   "metadata": {},
   "outputs": [
    {
     "data": {
      "text/plain": [
       "['__doc__',\n",
       " '__loader__',\n",
       " '__name__',\n",
       " '__package__',\n",
       " '__spec__',\n",
       " 'acos',\n",
       " 'acosh',\n",
       " 'asin',\n",
       " 'asinh',\n",
       " 'atan',\n",
       " 'atan2',\n",
       " 'atanh',\n",
       " 'cbrt',\n",
       " 'ceil',\n",
       " 'comb',\n",
       " 'copysign',\n",
       " 'cos',\n",
       " 'cosh',\n",
       " 'degrees',\n",
       " 'dist',\n",
       " 'e',\n",
       " 'erf',\n",
       " 'erfc',\n",
       " 'exp',\n",
       " 'exp2',\n",
       " 'expm1',\n",
       " 'fabs',\n",
       " 'factorial',\n",
       " 'floor',\n",
       " 'fmod',\n",
       " 'frexp',\n",
       " 'fsum',\n",
       " 'gamma',\n",
       " 'gcd',\n",
       " 'hypot',\n",
       " 'inf',\n",
       " 'isclose',\n",
       " 'isfinite',\n",
       " 'isinf',\n",
       " 'isnan',\n",
       " 'isqrt',\n",
       " 'lcm',\n",
       " 'ldexp',\n",
       " 'lgamma',\n",
       " 'log',\n",
       " 'log10',\n",
       " 'log1p',\n",
       " 'log2',\n",
       " 'modf',\n",
       " 'nan',\n",
       " 'nextafter',\n",
       " 'perm',\n",
       " 'pi',\n",
       " 'pow',\n",
       " 'prod',\n",
       " 'radians',\n",
       " 'remainder',\n",
       " 'sin',\n",
       " 'sinh',\n",
       " 'sqrt',\n",
       " 'tan',\n",
       " 'tanh',\n",
       " 'tau',\n",
       " 'trunc',\n",
       " 'ulp']"
      ]
     },
     "execution_count": 26,
     "metadata": {},
     "output_type": "execute_result"
    }
   ],
   "source": [
    "dir(math)"
   ]
  },
  {
   "cell_type": "markdown",
   "id": "5f5150d0-3229-4e42-8e78-9be632cd02e3",
   "metadata": {},
   "source": [
    "## Q63"
   ]
  },
  {
   "cell_type": "code",
   "execution_count": 41,
   "id": "350ac696-009b-4bbb-a926-443f5b0b1aa0",
   "metadata": {},
   "outputs": [
    {
     "name": "stdout",
     "output_type": "stream",
     "text": [
      "Celsius(°C) \t Fahrenheit(°F)\n",
      "=========================\n",
      "0°C \t \t 32.0°F\n",
      "10°C \t \t 50.0°F\n",
      "20°C \t \t 68.0°F\n",
      "30°C \t \t 86.0°F\n",
      "40°C \t \t 104.0°F\n",
      "50°C \t \t 122.0°F\n",
      "60°C \t \t 140.0°F\n",
      "70°C \t \t 158.0°F\n",
      "80°C \t \t 176.0°F\n",
      "90°C \t \t 194.0°F\n",
      "100°C \t \t 212.0°F\n"
     ]
    }
   ],
   "source": [
    "print('Celsius(°C) \\t Fahrenheit(°F)')\n",
    "print('=' * 25)\n",
    "for number in range(0, 101):\n",
    "    if number % 10 == 0:\n",
    "        celsius = number\n",
    "        \n",
    "        fahrenheit = (celsius * 9/5) + 32\n",
    "        \n",
    "        print(f'{celsius}°C \\t \\t {fahrenheit}°F')"
   ]
  },
  {
   "cell_type": "markdown",
   "id": "736fbdad-bb0a-420b-a3db-93681d37b60f",
   "metadata": {},
   "source": [
    "## Q67"
   ]
  },
  {
   "cell_type": "code",
   "execution_count": 64,
   "id": "e5e14ca2-d25c-49d9-a61a-e73fe135804c",
   "metadata": {},
   "outputs": [
    {
     "name": "stdin",
     "output_type": "stream",
     "text": [
      "Enter the number of guests: 4\n",
      "Enter the age of a guest: 2\n"
     ]
    },
    {
     "name": "stdout",
     "output_type": "stream",
     "text": [
      "[2]\n"
     ]
    },
    {
     "name": "stdin",
     "output_type": "stream",
     "text": [
      "Enter the age of a guest: 6\n"
     ]
    },
    {
     "name": "stdout",
     "output_type": "stream",
     "text": [
      "[2, 6]\n"
     ]
    },
    {
     "name": "stdin",
     "output_type": "stream",
     "text": [
      "Enter the age of a guest: 80\n"
     ]
    },
    {
     "name": "stdout",
     "output_type": "stream",
     "text": [
      "[2, 6, 80]\n"
     ]
    },
    {
     "name": "stdin",
     "output_type": "stream",
     "text": [
      "Enter the age of a guest: 56\n"
     ]
    },
    {
     "name": "stdout",
     "output_type": "stream",
     "text": [
      "[2, 6, 80, 56]\n",
      "everyone in this age can enter for free\n",
      "You're charged $14.00\n",
      "You're charged $18.00\n",
      "You're charged $23.00\n"
     ]
    }
   ],
   "source": [
    "guests = []\n",
    "\n",
    "num_guests = int(input('Enter the number of guests:'))\n",
    "\n",
    "for _ in range(num_guests):\n",
    "    age_declaration = int(input('Enter the age of a guest:'))\n",
    "    guests.append(age_declaration)\n",
    "    print(guests)\n",
    "  \n",
    "    \n",
    "for age in guests:\n",
    "    if age <= 2:\n",
    "        print('everyone in this age can enter for free')\n",
    "    elif 3 <= age <= 12:\n",
    "        print(\"You're charged $14.00\")\n",
    "    elif age >= 65:\n",
    "        print(\"You're charged $18.00\")\n",
    "    else:\n",
    "        print(\"You're charged $23.00\")\n"
   ]
  },
  {
   "cell_type": "code",
   "execution_count": 69,
   "id": "fd872099-32cc-47e0-816f-846c9e42b465",
   "metadata": {},
   "outputs": [
    {
     "ename": "KeyboardInterrupt",
     "evalue": "Interrupted by user",
     "output_type": "error",
     "traceback": [
      "\u001b[1;31m---------------------------------------------------------------------------\u001b[0m",
      "\u001b[1;31mKeyboardInterrupt\u001b[0m                         Traceback (most recent call last)",
      "Cell \u001b[1;32mIn[69], line 3\u001b[0m\n\u001b[0;32m      1\u001b[0m guests \u001b[38;5;241m=\u001b[39m []\n\u001b[1;32m----> 3\u001b[0m num_guests \u001b[38;5;241m=\u001b[39m \u001b[38;5;28mint\u001b[39m(\u001b[38;5;28;43minput\u001b[39;49m\u001b[43m(\u001b[49m\u001b[38;5;124;43m'\u001b[39;49m\u001b[38;5;124;43mEnter the number of guests:\u001b[39;49m\u001b[38;5;124;43m'\u001b[39;49m\u001b[43m)\u001b[49m)\n\u001b[0;32m      5\u001b[0m \u001b[38;5;28;01mfor\u001b[39;00m _ \u001b[38;5;129;01min\u001b[39;00m \u001b[38;5;28mrange\u001b[39m(num_guests):  \u001b[38;5;66;03m# Use \"_\" as a throwaway variable if you don't need it\u001b[39;00m\n\u001b[0;32m      6\u001b[0m     age_declaration \u001b[38;5;241m=\u001b[39m \u001b[38;5;28mint\u001b[39m(\u001b[38;5;28minput\u001b[39m(\u001b[38;5;124m'\u001b[39m\u001b[38;5;124mEnter the age of a guest:\u001b[39m\u001b[38;5;124m'\u001b[39m))\n",
      "File \u001b[1;32m~\\AppData\\Local\\Programs\\Python\\Python311\\Lib\\site-packages\\ipykernel\\kernelbase.py:1202\u001b[0m, in \u001b[0;36mKernel.raw_input\u001b[1;34m(self, prompt)\u001b[0m\n\u001b[0;32m   1200\u001b[0m     msg \u001b[38;5;241m=\u001b[39m \u001b[38;5;124m\"\u001b[39m\u001b[38;5;124mraw_input was called, but this frontend does not support input requests.\u001b[39m\u001b[38;5;124m\"\u001b[39m\n\u001b[0;32m   1201\u001b[0m     \u001b[38;5;28;01mraise\u001b[39;00m StdinNotImplementedError(msg)\n\u001b[1;32m-> 1202\u001b[0m \u001b[38;5;28;01mreturn\u001b[39;00m \u001b[38;5;28;43mself\u001b[39;49m\u001b[38;5;241;43m.\u001b[39;49m\u001b[43m_input_request\u001b[49m\u001b[43m(\u001b[49m\n\u001b[0;32m   1203\u001b[0m \u001b[43m    \u001b[49m\u001b[38;5;28;43mstr\u001b[39;49m\u001b[43m(\u001b[49m\u001b[43mprompt\u001b[49m\u001b[43m)\u001b[49m\u001b[43m,\u001b[49m\n\u001b[0;32m   1204\u001b[0m \u001b[43m    \u001b[49m\u001b[38;5;28;43mself\u001b[39;49m\u001b[38;5;241;43m.\u001b[39;49m\u001b[43m_parent_ident\u001b[49m\u001b[43m[\u001b[49m\u001b[38;5;124;43m\"\u001b[39;49m\u001b[38;5;124;43mshell\u001b[39;49m\u001b[38;5;124;43m\"\u001b[39;49m\u001b[43m]\u001b[49m\u001b[43m,\u001b[49m\n\u001b[0;32m   1205\u001b[0m \u001b[43m    \u001b[49m\u001b[38;5;28;43mself\u001b[39;49m\u001b[38;5;241;43m.\u001b[39;49m\u001b[43mget_parent\u001b[49m\u001b[43m(\u001b[49m\u001b[38;5;124;43m\"\u001b[39;49m\u001b[38;5;124;43mshell\u001b[39;49m\u001b[38;5;124;43m\"\u001b[39;49m\u001b[43m)\u001b[49m\u001b[43m,\u001b[49m\n\u001b[0;32m   1206\u001b[0m \u001b[43m    \u001b[49m\u001b[43mpassword\u001b[49m\u001b[38;5;241;43m=\u001b[39;49m\u001b[38;5;28;43;01mFalse\u001b[39;49;00m\u001b[43m,\u001b[49m\n\u001b[0;32m   1207\u001b[0m \u001b[43m\u001b[49m\u001b[43m)\u001b[49m\n",
      "File \u001b[1;32m~\\AppData\\Local\\Programs\\Python\\Python311\\Lib\\site-packages\\ipykernel\\kernelbase.py:1245\u001b[0m, in \u001b[0;36mKernel._input_request\u001b[1;34m(self, prompt, ident, parent, password)\u001b[0m\n\u001b[0;32m   1242\u001b[0m \u001b[38;5;28;01mexcept\u001b[39;00m \u001b[38;5;167;01mKeyboardInterrupt\u001b[39;00m:\n\u001b[0;32m   1243\u001b[0m     \u001b[38;5;66;03m# re-raise KeyboardInterrupt, to truncate traceback\u001b[39;00m\n\u001b[0;32m   1244\u001b[0m     msg \u001b[38;5;241m=\u001b[39m \u001b[38;5;124m\"\u001b[39m\u001b[38;5;124mInterrupted by user\u001b[39m\u001b[38;5;124m\"\u001b[39m\n\u001b[1;32m-> 1245\u001b[0m     \u001b[38;5;28;01mraise\u001b[39;00m \u001b[38;5;167;01mKeyboardInterrupt\u001b[39;00m(msg) \u001b[38;5;28;01mfrom\u001b[39;00m \u001b[38;5;28;01mNone\u001b[39;00m\n\u001b[0;32m   1246\u001b[0m \u001b[38;5;28;01mexcept\u001b[39;00m \u001b[38;5;167;01mException\u001b[39;00m:\n\u001b[0;32m   1247\u001b[0m     \u001b[38;5;28mself\u001b[39m\u001b[38;5;241m.\u001b[39mlog\u001b[38;5;241m.\u001b[39mwarning(\u001b[38;5;124m\"\u001b[39m\u001b[38;5;124mInvalid Message:\u001b[39m\u001b[38;5;124m\"\u001b[39m, exc_info\u001b[38;5;241m=\u001b[39m\u001b[38;5;28;01mTrue\u001b[39;00m)\n",
      "\u001b[1;31mKeyboardInterrupt\u001b[0m: Interrupted by user"
     ]
    }
   ],
   "source": [
    "guests = []\n",
    "\n",
    "num_guests = int(input('Enter the number of guests:'))\n",
    "\n",
    "for _ in range(num_guests):  # Use \"_\" as a throwaway variable if you don't need it\n",
    "    age_declaration = int(input('Enter the age of a guest:'))\n",
    "    guests.append(age_declaration)\n",
    "\n",
    "for age in guests:\n",
    "    if age <= 2:\n",
    "        print('everyone in this age can enter for free')\n",
    "    elif 3 <= age <= 12:\n",
    "        print(\"You're charged $14.00\")\n",
    "    elif age >= 65:\n",
    "        print(\"You're charged $18.00\")\n",
    "    else:\n",
    "        print(\"You're charged $23.00\")\n"
   ]
  },
  {
   "cell_type": "code",
   "execution_count": 70,
   "id": "00b29103-a682-4c7f-b8f2-9e318993497c",
   "metadata": {},
   "outputs": [
    {
     "ename": "KeyboardInterrupt",
     "evalue": "Interrupted by user",
     "output_type": "error",
     "traceback": [
      "\u001b[1;31m---------------------------------------------------------------------------\u001b[0m",
      "\u001b[1;31mKeyboardInterrupt\u001b[0m                         Traceback (most recent call last)",
      "Cell \u001b[1;32mIn[70], line 3\u001b[0m\n\u001b[0;32m      1\u001b[0m guests \u001b[38;5;241m=\u001b[39m []\n\u001b[1;32m----> 3\u001b[0m num_guests \u001b[38;5;241m=\u001b[39m \u001b[38;5;28mint\u001b[39m(\u001b[38;5;28;43minput\u001b[39;49m\u001b[43m(\u001b[49m\u001b[38;5;124;43m'\u001b[39;49m\u001b[38;5;124;43mEnter the number of guests:\u001b[39;49m\u001b[38;5;124;43m'\u001b[39;49m\u001b[43m)\u001b[49m)\n\u001b[0;32m      5\u001b[0m \u001b[38;5;28;01mfor\u001b[39;00m _ \u001b[38;5;129;01min\u001b[39;00m \u001b[38;5;28mrange\u001b[39m(num_guests):\n\u001b[0;32m      6\u001b[0m     names \u001b[38;5;241m=\u001b[39m \u001b[38;5;28minput\u001b[39m(\u001b[38;5;124m'\u001b[39m\u001b[38;5;124mEnter the name of each guest seperated by spaces:\u001b[39m\u001b[38;5;124m'\u001b[39m)\u001b[38;5;241m.\u001b[39mlower()\n",
      "File \u001b[1;32m~\\AppData\\Local\\Programs\\Python\\Python311\\Lib\\site-packages\\ipykernel\\kernelbase.py:1202\u001b[0m, in \u001b[0;36mKernel.raw_input\u001b[1;34m(self, prompt)\u001b[0m\n\u001b[0;32m   1200\u001b[0m     msg \u001b[38;5;241m=\u001b[39m \u001b[38;5;124m\"\u001b[39m\u001b[38;5;124mraw_input was called, but this frontend does not support input requests.\u001b[39m\u001b[38;5;124m\"\u001b[39m\n\u001b[0;32m   1201\u001b[0m     \u001b[38;5;28;01mraise\u001b[39;00m StdinNotImplementedError(msg)\n\u001b[1;32m-> 1202\u001b[0m \u001b[38;5;28;01mreturn\u001b[39;00m \u001b[38;5;28;43mself\u001b[39;49m\u001b[38;5;241;43m.\u001b[39;49m\u001b[43m_input_request\u001b[49m\u001b[43m(\u001b[49m\n\u001b[0;32m   1203\u001b[0m \u001b[43m    \u001b[49m\u001b[38;5;28;43mstr\u001b[39;49m\u001b[43m(\u001b[49m\u001b[43mprompt\u001b[49m\u001b[43m)\u001b[49m\u001b[43m,\u001b[49m\n\u001b[0;32m   1204\u001b[0m \u001b[43m    \u001b[49m\u001b[38;5;28;43mself\u001b[39;49m\u001b[38;5;241;43m.\u001b[39;49m\u001b[43m_parent_ident\u001b[49m\u001b[43m[\u001b[49m\u001b[38;5;124;43m\"\u001b[39;49m\u001b[38;5;124;43mshell\u001b[39;49m\u001b[38;5;124;43m\"\u001b[39;49m\u001b[43m]\u001b[49m\u001b[43m,\u001b[49m\n\u001b[0;32m   1205\u001b[0m \u001b[43m    \u001b[49m\u001b[38;5;28;43mself\u001b[39;49m\u001b[38;5;241;43m.\u001b[39;49m\u001b[43mget_parent\u001b[49m\u001b[43m(\u001b[49m\u001b[38;5;124;43m\"\u001b[39;49m\u001b[38;5;124;43mshell\u001b[39;49m\u001b[38;5;124;43m\"\u001b[39;49m\u001b[43m)\u001b[49m\u001b[43m,\u001b[49m\n\u001b[0;32m   1206\u001b[0m \u001b[43m    \u001b[49m\u001b[43mpassword\u001b[49m\u001b[38;5;241;43m=\u001b[39;49m\u001b[38;5;28;43;01mFalse\u001b[39;49;00m\u001b[43m,\u001b[49m\n\u001b[0;32m   1207\u001b[0m \u001b[43m\u001b[49m\u001b[43m)\u001b[49m\n",
      "File \u001b[1;32m~\\AppData\\Local\\Programs\\Python\\Python311\\Lib\\site-packages\\ipykernel\\kernelbase.py:1245\u001b[0m, in \u001b[0;36mKernel._input_request\u001b[1;34m(self, prompt, ident, parent, password)\u001b[0m\n\u001b[0;32m   1242\u001b[0m \u001b[38;5;28;01mexcept\u001b[39;00m \u001b[38;5;167;01mKeyboardInterrupt\u001b[39;00m:\n\u001b[0;32m   1243\u001b[0m     \u001b[38;5;66;03m# re-raise KeyboardInterrupt, to truncate traceback\u001b[39;00m\n\u001b[0;32m   1244\u001b[0m     msg \u001b[38;5;241m=\u001b[39m \u001b[38;5;124m\"\u001b[39m\u001b[38;5;124mInterrupted by user\u001b[39m\u001b[38;5;124m\"\u001b[39m\n\u001b[1;32m-> 1245\u001b[0m     \u001b[38;5;28;01mraise\u001b[39;00m \u001b[38;5;167;01mKeyboardInterrupt\u001b[39;00m(msg) \u001b[38;5;28;01mfrom\u001b[39;00m \u001b[38;5;28;01mNone\u001b[39;00m\n\u001b[0;32m   1246\u001b[0m \u001b[38;5;28;01mexcept\u001b[39;00m \u001b[38;5;167;01mException\u001b[39;00m:\n\u001b[0;32m   1247\u001b[0m     \u001b[38;5;28mself\u001b[39m\u001b[38;5;241m.\u001b[39mlog\u001b[38;5;241m.\u001b[39mwarning(\u001b[38;5;124m\"\u001b[39m\u001b[38;5;124mInvalid Message:\u001b[39m\u001b[38;5;124m\"\u001b[39m, exc_info\u001b[38;5;241m=\u001b[39m\u001b[38;5;28;01mTrue\u001b[39;00m)\n",
      "\u001b[1;31mKeyboardInterrupt\u001b[0m: Interrupted by user"
     ]
    }
   ],
   "source": [
    "guests = []\n",
    "\n",
    "num_guests = int(input('Enter the number of guests:'))\n",
    "\n",
    "for _ in range(num_guests):\n",
    "    names = input('Enter the name of each guest seperated by spaces:').lower()\n",
    "    for name in names:\n",
    "        age_declaration = int(input(f'Enter the age of {name}:'))\n",
    "        guests.append(age_declaration)\n",
    "        print(guests)\n",
    "  \n",
    "    \n",
    "for age in guests:\n",
    "    if age <= 2:\n",
    "        print('everyone in this age can enter for free')\n",
    "    elif 3 <= age <= 12:\n",
    "        print(\"You're charged $14.00\")\n",
    "    elif age >= 65:\n",
    "        print(\"You're charged $18.00\")\n",
    "    else:\n",
    "        print(\"You're charged $23.00\")\n"
   ]
  },
  {
   "cell_type": "markdown",
   "id": "0feec9ce-229f-43ae-86e6-8d86e011bb2a",
   "metadata": {},
   "source": [
    "## Q 72"
   ]
  },
  {
   "cell_type": "code",
   "execution_count": 78,
   "id": "6eef2497-c0c7-4c5f-adf6-a6ede50991a0",
   "metadata": {},
   "outputs": [
    {
     "name": "stdin",
     "output_type": "stream",
     "text": [
      "Enter anything: paul\n"
     ]
    },
    {
     "name": "stdout",
     "output_type": "stream",
     "text": [
      "paul is not palindrome\n"
     ]
    }
   ],
   "source": [
    "def is_palindrome(s):\n",
    "    s = s.replace(\" \", \" \").lower()\n",
    "    return s == s[::-1]\n",
    "\n",
    "test_ing = input('Enter anything:').lower()\n",
    "if is_palindrome(test_ing):\n",
    "    print(f'{test_ing} is palindrome')\n",
    "else:\n",
    "    print(f'{test_ing} is not palindrome')\n",
    "\n"
   ]
  },
  {
   "cell_type": "code",
   "execution_count": 94,
   "id": "e42a2d37-4ac7-4ade-9c4b-eeba585a76ae",
   "metadata": {},
   "outputs": [
    {
     "name": "stdin",
     "output_type": "stream",
     "text": [
      "Enter anything: ad sf\n"
     ]
    },
    {
     "name": "stdout",
     "output_type": "stream",
     "text": [
      "ad sf is not a palindrome\n"
     ]
    }
   ],
   "source": [
    "def is_palindrome(s):\n",
    "    return s == s[::-1]\n",
    "\n",
    "original_string = input('Enter anything:').lower()\n",
    "\n",
    "# Remove all spaces\n",
    "string_without_spaces = original_string.replace(\" \", \"\")\n",
    "\n",
    "if is_palindrome(string_without_spaces):\n",
    "    print(f'{original_string} is a palindrome')\n",
    "else:\n",
    "    print(f'{original_string} is not a palindrome')\n"
   ]
  },
  {
   "cell_type": "code",
   "execution_count": null,
   "id": "459787f2-b6ef-415d-baf7-d97773ebd504",
   "metadata": {},
   "outputs": [],
   "source": []
  }
 ],
 "metadata": {
  "kernelspec": {
   "display_name": "Python 3 (ipykernel)",
   "language": "python",
   "name": "python3"
  },
  "language_info": {
   "codemirror_mode": {
    "name": "ipython",
    "version": 3
   },
   "file_extension": ".py",
   "mimetype": "text/x-python",
   "name": "python",
   "nbconvert_exporter": "python",
   "pygments_lexer": "ipython3",
   "version": "3.11.4"
  }
 },
 "nbformat": 4,
 "nbformat_minor": 5
}
