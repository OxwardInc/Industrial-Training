{
 "cells": [
  {
   "cell_type": "markdown",
   "id": "4050c7f9",
   "metadata": {},
   "source": [
    "## Q1"
   ]
  },
  {
   "cell_type": "code",
   "execution_count": 2,
   "id": "92e2f22d",
   "metadata": {},
   "outputs": [
    {
     "name": "stdout",
     "output_type": "stream",
     "text": [
      "[6]\n"
     ]
    },
    {
     "name": "stdin",
     "output_type": "stream",
     "text": [
      "Is this the correct answer: no\n"
     ]
    },
    {
     "name": "stdout",
     "output_type": "stream",
     "text": [
      "Let me try again\n",
      "[99]\n"
     ]
    },
    {
     "name": "stdin",
     "output_type": "stream",
     "text": [
      "Is this the correct answer: no\n"
     ]
    },
    {
     "name": "stdout",
     "output_type": "stream",
     "text": [
      "Let me try again\n",
      "[59]\n"
     ]
    },
    {
     "name": "stdin",
     "output_type": "stream",
     "text": [
      "Is this the correct answer: no\n"
     ]
    },
    {
     "name": "stdout",
     "output_type": "stream",
     "text": [
      "Let me try again\n",
      "[10]\n"
     ]
    },
    {
     "name": "stdin",
     "output_type": "stream",
     "text": [
      "Is this the correct answer: no\n"
     ]
    },
    {
     "name": "stdout",
     "output_type": "stream",
     "text": [
      "Let me try again\n",
      "[73]\n"
     ]
    },
    {
     "name": "stdin",
     "output_type": "stream",
     "text": [
      "Is this the correct answer: no\n"
     ]
    },
    {
     "name": "stdout",
     "output_type": "stream",
     "text": [
      "Let me try again\n",
      "[78]\n"
     ]
    },
    {
     "name": "stdin",
     "output_type": "stream",
     "text": [
      "Is this the correct answer: no\n"
     ]
    },
    {
     "name": "stdout",
     "output_type": "stream",
     "text": [
      "Let me try again\n",
      "[71]\n"
     ]
    },
    {
     "name": "stdin",
     "output_type": "stream",
     "text": [
      "Is this the correct answer: no\n"
     ]
    },
    {
     "name": "stdout",
     "output_type": "stream",
     "text": [
      "Let me try again\n",
      "[9]\n"
     ]
    },
    {
     "name": "stdin",
     "output_type": "stream",
     "text": [
      "Is this the correct answer: no\n"
     ]
    },
    {
     "name": "stdout",
     "output_type": "stream",
     "text": [
      "Let me try again\n",
      "[33]\n"
     ]
    },
    {
     "name": "stdin",
     "output_type": "stream",
     "text": [
      "Is this the correct answer: no\n"
     ]
    },
    {
     "name": "stdout",
     "output_type": "stream",
     "text": [
      "Let me try again\n",
      "[12]\n"
     ]
    },
    {
     "name": "stdin",
     "output_type": "stream",
     "text": [
      "Is this the correct answer: no\n"
     ]
    },
    {
     "name": "stdout",
     "output_type": "stream",
     "text": [
      "Let me try again\n"
     ]
    }
   ],
   "source": [
    "# A program to make the computer make a guess and see if it'll get it right.\n",
    "\n",
    "# we're working on 20\n",
    "\n",
    "import random as rd\n",
    "\n",
    "for i in range(10):\n",
    "    generated_number = [rd.randint(1, 100)]\n",
    "    guess = rd.choices(generated_number, k = 1)\n",
    "    print(guess)\n",
    "    up_date = input(\"Is this the correct answer:\")\n",
    "    up_date.lower()\n",
    "    if up_date == 'yes':\n",
    "        print(\"I got it right\")\n",
    "        break\n",
    "    elif up_date == 'no':\n",
    "        print(\"Let me try again\")"
   ]
  },
  {
   "cell_type": "code",
   "execution_count": 10,
   "id": "31da7ee6",
   "metadata": {},
   "outputs": [
    {
     "name": "stdout",
     "output_type": "stream",
     "text": [
      "[10]\n"
     ]
    },
    {
     "name": "stdin",
     "output_type": "stream",
     "text": [
      "Is this the correct answer: no\n",
      "Can you tell me if the answer is higer or lower: higher\n"
     ]
    },
    {
     "ename": "TypeError",
     "evalue": "unsupported operand type(s) for +: 'int' and 'list'",
     "output_type": "error",
     "traceback": [
      "\u001b[1;31m---------------------------------------------------------------------------\u001b[0m",
      "\u001b[1;31mTypeError\u001b[0m                                 Traceback (most recent call last)",
      "Cell \u001b[1;32mIn[10], line 32\u001b[0m\n\u001b[0;32m     29\u001b[0m \u001b[38;5;28;01melse\u001b[39;00m:\n\u001b[0;32m     30\u001b[0m     \u001b[38;5;28;01mif\u001b[39;00m narrowing \u001b[38;5;241m==\u001b[39m \u001b[38;5;124m'\u001b[39m\u001b[38;5;124mhigher\u001b[39m\u001b[38;5;124m'\u001b[39m:\n\u001b[0;32m     31\u001b[0m         \u001b[38;5;66;03m#guess = int(guess)\u001b[39;00m\n\u001b[1;32m---> 32\u001b[0m         new_guess \u001b[38;5;241m=\u001b[39m (\u001b[38;5;241;43m100\u001b[39;49m\u001b[43m \u001b[49m\u001b[38;5;241;43m+\u001b[39;49m\u001b[43m \u001b[49m\u001b[43mguess\u001b[49m) \u001b[38;5;241m/\u001b[39m \u001b[38;5;241m2\u001b[39m\n\u001b[0;32m     33\u001b[0m         \u001b[38;5;28;01mif\u001b[39;00m new_guess \u001b[38;5;241m==\u001b[39m \u001b[38;5;124m'\u001b[39m\u001b[38;5;124mhigher\u001b[39m\u001b[38;5;124m'\u001b[39m:\n\u001b[0;32m     34\u001b[0m             newer_guess \u001b[38;5;241m=\u001b[39m (new_guess \u001b[38;5;241m+\u001b[39m \u001b[38;5;241m100\u001b[39m) \u001b[38;5;241m/\u001b[39m \u001b[38;5;241m2\u001b[39m\n",
      "\u001b[1;31mTypeError\u001b[0m: unsupported operand type(s) for +: 'int' and 'list'"
     ]
    }
   ],
   "source": [
    "# Making modification's\n",
    "\n",
    "# we're working on 50\n",
    "\n",
    "import random as rd\n",
    "\n",
    "lb, ub = 1, 100\n",
    "\n",
    "for i in range(10):\n",
    "    generated_number = [rd.randint(lb, ub)]\n",
    "    guess = rd.choices(generated_number, k = 1)\n",
    "    print(guess)\n",
    "    up_date = input(\"Is this the correct answer:\")\n",
    "    up_date.lower()\n",
    "    if up_date == 'yes':\n",
    "        print(\"I got it right\")\n",
    "        break\n",
    "    elif up_date == 'no':\n",
    "        # checking the difference between the correct answer and the predicted value\n",
    "        narrowing = input(\"Can you tell me if the answer is higer or lower:\").lower()\n",
    "        if narrowing == 'lower':\n",
    "            #guess = int(guess)\n",
    "            new_guess = (1 + guess) / 2\n",
    "            if new_guess == 'lower':\n",
    "                newer_guess = (1 + new_guess) / 2\n",
    "            elif new_guess == 'higher':\n",
    "                newer_guess = (new_guess + newer_guess) / 2\n",
    "        else:\n",
    "            if narrowing == 'higher':\n",
    "                #guess = int(guess)\n",
    "                new_guess = (100 + guess) / 2\n",
    "                if new_guess == 'higher':\n",
    "                    newer_guess = (new_guess + 100) / 2\n",
    "                elif new_guess == 'lower':\n",
    "                    #guess = int(guess)\n",
    "                    newer_guess = (new_guess + newer_guess) / 2\n",
    "        print(\"Let me try again\")"
   ]
  },
  {
   "cell_type": "code",
   "execution_count": 7,
   "id": "c74eadd1-67e3-48ac-922e-1e84416778a0",
   "metadata": {},
   "outputs": [
    {
     "data": {
      "text/plain": [
       "list"
      ]
     },
     "execution_count": 7,
     "metadata": {},
     "output_type": "execute_result"
    }
   ],
   "source": [
    "type(generated_number)"
   ]
  },
  {
   "cell_type": "code",
   "execution_count": 9,
   "id": "2edec586-dbf7-4b90-8298-b22a86dfb427",
   "metadata": {},
   "outputs": [
    {
     "name": "stdout",
     "output_type": "stream",
     "text": [
      "21\n",
      "57\n",
      "88\n",
      "44\n",
      "73\n",
      "1\n",
      "26\n",
      "60\n",
      "86\n",
      "35\n"
     ]
    }
   ],
   "source": [
    "lb, ub = 1, 100\n",
    "\n",
    "for i in range(10):\n",
    "    generated_number = [rd.randint(lb, ub)]\n",
    "    \n",
    "        print(i)"
   ]
  },
  {
   "cell_type": "code",
   "execution_count": 12,
   "id": "efa0a2a4-7079-4613-a3dd-cfd3a8f54ba1",
   "metadata": {},
   "outputs": [
    {
     "name": "stdout",
     "output_type": "stream",
     "text": [
      "[44]\n",
      "[58]\n",
      "[58]\n",
      "[14]\n",
      "[64]\n",
      "[42]\n",
      "[68]\n",
      "[25]\n",
      "[32]\n",
      "[18]\n"
     ]
    }
   ],
   "source": [
    "lb, ub = 1, 100\n",
    "\n",
    "for i in range(10):\n",
    "    generated_number = [rd.randint(lb, ub)]\n",
    "    for i in generated_number:\n",
    "        guess = rd.choices(generated_number, k = 1)\n",
    "        print(guess)"
   ]
  },
  {
   "cell_type": "code",
   "execution_count": null,
   "id": "305554a2-dc0d-4317-887e-5cd48449c1f7",
   "metadata": {},
   "outputs": [],
   "source": []
  }
 ],
 "metadata": {
  "kernelspec": {
   "display_name": "Python 3 (ipykernel)",
   "language": "python",
   "name": "python3"
  },
  "language_info": {
   "codemirror_mode": {
    "name": "ipython",
    "version": 3
   },
   "file_extension": ".py",
   "mimetype": "text/x-python",
   "name": "python",
   "nbconvert_exporter": "python",
   "pygments_lexer": "ipython3",
   "version": "3.11.4"
  }
 },
 "nbformat": 4,
 "nbformat_minor": 5
}
