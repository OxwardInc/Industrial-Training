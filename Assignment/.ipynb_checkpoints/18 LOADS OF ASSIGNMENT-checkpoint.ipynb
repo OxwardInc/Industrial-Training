{
 "cells": [
  {
   "cell_type": "markdown",
   "id": "a92b9d70",
   "metadata": {},
   "source": [
    "## Exercise 1: Mailing Address\n",
    "\n",
    "Create a program that displays your name and complete mailing address formatted in\n",
    "the manner that you would usually see it on the outside of an envelope. Your program\n",
    "does not need to read any input from the user"
   ]
  },
  {
   "cell_type": "code",
   "execution_count": 4,
   "id": "8e9cb608",
   "metadata": {},
   "outputs": [
    {
     "name": "stdout",
     "output_type": "stream",
     "text": [
      "Mimi Kwari\n",
      " Smarthub @ 23 uniport opposite Uniport mall\n"
     ]
    }
   ],
   "source": [
    "Name = 'Mimi Kwari'\n",
    "mailing_address = 'Smarthub @ 23 uniport opposite Uniport mall'\n",
    "\n",
    "print(f'{Name}\\n {mailing_address}')"
   ]
  },
  {
   "cell_type": "markdown",
   "id": "c83b1497",
   "metadata": {},
   "source": [
    "## Exercise 2: Hello\n",
    "\n",
    "Write a program that asks the user to enter his or her name. The program should\n",
    "respond with a message that says hello to the user, using his or her name."
   ]
  },
  {
   "cell_type": "code",
   "execution_count": 5,
   "id": "70ffd4c9",
   "metadata": {},
   "outputs": [
    {
     "name": "stdout",
     "output_type": "stream",
     "text": [
      "Enter your name:Mimi\n",
      "Hello Mimi\n"
     ]
    }
   ],
   "source": [
    "name=input(\"Enter your name:\")\n",
    "\n",
    "print(f\"Hello {name}\")\n",
    "    "
   ]
  },
  {
   "cell_type": "markdown",
   "id": "e9cddd59",
   "metadata": {},
   "source": [
    "## Exercise 3: Area of a Room\n",
    "\n",
    "Write a program that asks the user to enter the width and length of a room. Once\n",
    "the values have been read, your program should compute and display the area of the\n",
    "room. The length and the width will be entered as floating point numbers. Include\n",
    "units in your prompt and output message; either feet or meters, depending on which\n",
    "unit you are more comfortable working with."
   ]
  },
  {
   "cell_type": "code",
   "execution_count": 9,
   "id": "69b34252",
   "metadata": {},
   "outputs": [
    {
     "name": "stdout",
     "output_type": "stream",
     "text": [
      "enter the width:3\n",
      "enter the length:3\n",
      "The area of the room is 9.0\n"
     ]
    }
   ],
   "source": [
    "width_of_the_room = float(input('enter the width:'))\n",
    "length_of_the_room = float(input('enter the length:'))\n",
    "area = length_of_the_room*width_of_the_room\n",
    "print(f'The area of the room is {area}')"
   ]
  },
  {
   "cell_type": "markdown",
   "id": "7e5cb734",
   "metadata": {},
   "source": [
    "## Exercise 4: Area of a Field\n",
    "\n",
    "Create a program that reads the length and width of a farmer’s field from the user in\n",
    "feet. Display the area of the field in acres.\n",
    "Hint: There are 43,560 square feet in an acre."
   ]
  },
  {
   "cell_type": "code",
   "execution_count": 12,
   "id": "ef1bada9",
   "metadata": {},
   "outputs": [
    {
     "name": "stdout",
     "output_type": "stream",
     "text": [
      "length of the farmer field in acres:2323\n",
      "width of the farmer field in acres:4333\n",
      "The area of the field is 231.07 acres\n"
     ]
    }
   ],
   "source": [
    "length_of_the_farmer_field=float(input('length of the farmer field in acres:'))\n",
    "width_of_the_farmer_field= float(input(\"width of the farmer field in acres:\"))\n",
    "\n",
    "area = length_of_the_farmer_field * width_of_the_farmer_field\n",
    "\n",
    "acres = round(area / 43560, 2)\n",
    "\n",
    "print(f\"The area of the field is {acres} acres\")"
   ]
  },
  {
   "cell_type": "markdown",
   "id": "cc57df44",
   "metadata": {},
   "source": [
    "## Exercise 5: Bottle Deposits\n",
    "\n",
    "In many jurisdictions a small deposit is added to drink containers to encourage people\n",
    "to recycle them. In one particular jurisdiction, drink containers holding one liter or\n",
    "less have a $0.10 deposit, and drink containers holding more than one liter have a\n",
    "$0.25 deposit.\n",
    "Write a program that reads the number of containers of each size from the user.\n",
    "Your program should continue by computing and displaying the refund that will be\n",
    "received for returning those containers. Format the output so that it includes a dollar\n",
    "sign and always displays exactly two decimal places."
   ]
  },
  {
   "cell_type": "code",
   "execution_count": 16,
   "id": "d1c89e6b",
   "metadata": {},
   "outputs": [
    {
     "name": "stdout",
     "output_type": "stream",
     "text": [
      "Enter the number of container's:2\n",
      "Enter the number of liter's for each container:1\n",
      "Enter the number of liter's for each container:3\n",
      "2 3.0 1.5\n"
     ]
    }
   ],
   "source": [
    "bottles = int(input(\"Enter the number of container's:\"))\n",
    "\n",
    "for bottle in range(bottles):\n",
    "    liter = float(input(\"Enter the number of liter's for each container:\"))\n",
    "    \n",
    "    if liter <= 1:\n",
    "        deposit = 0.10\n",
    "    else:\n",
    "        deposit = 0.25\n",
    "        \n",
    "\n",
    "total_refund = (liter * deposit) * bottles\n",
    "\n",
    "    \n",
    "print(bottles, liter, total_refund)"
   ]
  },
  {
   "cell_type": "code",
   "execution_count": null,
   "id": "36eec76d",
   "metadata": {},
   "outputs": [],
   "source": [
    "ainers = int(input('Enter the number of containers: '))\n",
    "size_container = float(input('Enter the size of the containers: '))\n",
    "\n",
    "total_refunds = 0\n",
    "if size_container <= 1:\n",
    "    total_refunds = num_containers*0.10 \n",
    "else:num_cont\n",
    "    total_refunds = num_containers*0.25\n",
    "\n",
    "    \n",
    "print(f'Total refunds for returning {num_containers} {size_container}L container: ${round(total_refunds, 2)}')"
   ]
  }
 ],
 "metadata": {
  "kernelspec": {
   "display_name": "Python 3 (ipykernel)",
   "language": "python",
   "name": "python3"
  },
  "language_info": {
   "codemirror_mode": {
    "name": "ipython",
    "version": 3
   },
   "file_extension": ".py",
   "mimetype": "text/x-python",
   "name": "python",
   "nbconvert_exporter": "python",
   "pygments_lexer": "ipython3",
   "version": "3.10.9"
  }
 },
 "nbformat": 4,
 "nbformat_minor": 5
}
