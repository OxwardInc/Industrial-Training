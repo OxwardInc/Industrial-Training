{
 "cells": [
  {
   "cell_type": "code",
   "execution_count": 1,
   "id": "b474109c-db08-40da-a3dd-98e6bcd0015f",
   "metadata": {},
   "outputs": [
    {
     "name": "stdout",
     "output_type": "stream",
     "text": [
      "103\n"
     ]
    }
   ],
   "source": [
    "#Write a program that'll get the sum of numbers\n",
    "\n",
    "numbers = [4, 5, 3, 45, 34, 12]\n",
    "sum_of_numbers = 0\n",
    "for number in numbers:\n",
    "    sum_of_numbers = sum_of_numbers + number\n",
    "print(sum_of_numbers)"
   ]
  },
  {
   "cell_type": "code",
   "execution_count": 3,
   "id": "0397fdcb-2336-40ca-8c5a-9d12d8ba0100",
   "metadata": {},
   "outputs": [
    {
     "data": {
      "text/plain": [
       "103"
      ]
     },
     "execution_count": 3,
     "metadata": {},
     "output_type": "execute_result"
    }
   ],
   "source": [
    "# Assignment: use the reduce function on this\n",
    "\n",
    "from functools import reduce\n",
    "\n",
    "numbers = [4, 5, 3, 45, 34, 12]\n",
    "\n",
    "product = reduce(lambda x, y: x + y, numbers)\n",
    "\n",
    "product"
   ]
  },
  {
   "cell_type": "markdown",
   "id": "6956f2c2-e20a-4790-aaa1-fb7aca25d317",
   "metadata": {},
   "source": [
    "## Link to the rest\n",
    "\n",
    "/Industrial-Training/Assignment/Week%204/Assignment%202.ipynb#Exercise-96:-Check-a-Password"
   ]
  }
 ],
 "metadata": {
  "kernelspec": {
   "display_name": "Python 3 (ipykernel)",
   "language": "python",
   "name": "python3"
  },
  "language_info": {
   "codemirror_mode": {
    "name": "ipython",
    "version": 3
   },
   "file_extension": ".py",
   "mimetype": "text/x-python",
   "name": "python",
   "nbconvert_exporter": "python",
   "pygments_lexer": "ipython3",
   "version": "3.11.4"
  }
 },
 "nbformat": 4,
 "nbformat_minor": 5
}
