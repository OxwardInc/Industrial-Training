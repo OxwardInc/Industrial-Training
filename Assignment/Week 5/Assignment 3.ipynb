{
 "cells": [
  {
   "cell_type": "markdown",
   "id": "a92b9d70",
   "metadata": {},
   "source": [
    "## Exercise 1: Mailing Address\n",
    "\n",
    "Create a program that displays your name and complete mailing address formatted in\n",
    "the manner that you would usually see it on the outside of an envelope. Your program\n",
    "does not need to read any input from the user"
   ]
  },
  {
   "cell_type": "code",
   "execution_count": 1,
   "id": "8e9cb608",
   "metadata": {},
   "outputs": [
    {
     "name": "stdout",
     "output_type": "stream",
     "text": [
      "Oxward\n",
      " Smarthub @ 23 uniport opposite Uniport mall\n"
     ]
    }
   ],
   "source": [
    "Name = 'Oxward'\n",
    "mailing_address = 'Smarthub @ 23 uniport opposite Uniport mall'\n",
    "\n",
    "print(f'{Name}\\n {mailing_address}')"
   ]
  },
  {
   "cell_type": "markdown",
   "id": "c83b1497",
   "metadata": {},
   "source": [
    "## Exercise 2: Hello\n",
    "\n",
    "Write a program that asks the user to enter his or her name. The program should\n",
    "respond with a message that says hello to the user, using his or her name."
   ]
  },
  {
   "cell_type": "code",
   "execution_count": 3,
   "id": "70ffd4c9",
   "metadata": {},
   "outputs": [
    {
     "name": "stdin",
     "output_type": "stream",
     "text": [
      "Enter your name: Oxward\n"
     ]
    },
    {
     "name": "stdout",
     "output_type": "stream",
     "text": [
      "Hello Oxward\n"
     ]
    }
   ],
   "source": [
    "name=input(\"Enter your name:\")\n",
    "\n",
    "print(f\"Hello {name}\")\n",
    "    "
   ]
  },
  {
   "cell_type": "markdown",
   "id": "e9cddd59",
   "metadata": {},
   "source": [
    "## Exercise 3: Area of a Room\n",
    "\n",
    "Write a program that asks the user to enter the width and length of a room. Once\n",
    "the values have been read, your program should compute and display the area of the\n",
    "room. The length and the width will be entered as floating point numbers. Include\n",
    "units in your prompt and output message; either feet or meters, depending on which\n",
    "unit you are more comfortable working with."
   ]
  },
  {
   "cell_type": "code",
   "execution_count": 5,
   "id": "69b34252",
   "metadata": {},
   "outputs": [
    {
     "name": "stdin",
     "output_type": "stream",
     "text": [
      "enter the width: 23\n",
      "enter the length: 45\n"
     ]
    },
    {
     "name": "stdout",
     "output_type": "stream",
     "text": [
      "The area of the room is 1035.0\n"
     ]
    }
   ],
   "source": [
    "width_of_the_room = float(input('enter the width:'))\n",
    "length_of_the_room = float(input('enter the length:'))\n",
    "area = length_of_the_room*width_of_the_room\n",
    "print(f'The area of the room is {area}')"
   ]
  },
  {
   "cell_type": "markdown",
   "id": "7e5cb734",
   "metadata": {},
   "source": [
    "## Exercise 4: Area of a Field\n",
    "\n",
    "Create a program that reads the length and width of a farmer’s field from the user in\n",
    "feet. Display the area of the field in acres.\n",
    "Hint: There are 43,560 square feet in an acre."
   ]
  },
  {
   "cell_type": "code",
   "execution_count": 6,
   "id": "ef1bada9",
   "metadata": {},
   "outputs": [
    {
     "name": "stdin",
     "output_type": "stream",
     "text": [
      "length of the farmer field in acres: 12000\n",
      "width of the farmer field in acres: 23000\n"
     ]
    },
    {
     "name": "stdout",
     "output_type": "stream",
     "text": [
      "The area of the field is 6336.09 acres\n"
     ]
    }
   ],
   "source": [
    "length_of_the_farmer_field=float(input('length of the farmer field in acres:'))\n",
    "width_of_the_farmer_field= float(input(\"width of the farmer field in acres:\"))\n",
    "\n",
    "area = length_of_the_farmer_field * width_of_the_farmer_field\n",
    "\n",
    "acres = round(area / 43560, 2)\n",
    "\n",
    "print(f\"The area of the field is {acres} acres\")"
   ]
  },
  {
   "cell_type": "markdown",
   "id": "cc57df44",
   "metadata": {},
   "source": [
    "## Exercise 5: Bottle Deposits\n",
    "\n",
    "In many jurisdictions a small deposit is added to drink containers to encourage people\n",
    "to recycle them. In one particular jurisdiction, drink containers holding one liter or\n",
    "less have a $0.10 deposit, and drink containers holding more than one liter have a\n",
    "$0.25 deposit.\n",
    "Write a program that reads the number of containers of each size from the user.\n",
    "Your program should continue by computing and displaying the refund that will be\n",
    "received for returning those containers. Format the output so that it includes a dollar\n",
    "sign and always displays exactly two decimal places."
   ]
  },
  {
   "cell_type": "code",
   "execution_count": 8,
   "id": "d1c89e6b",
   "metadata": {},
   "outputs": [
    {
     "name": "stdin",
     "output_type": "stream",
     "text": [
      "Enter the number of container's: 3\n",
      "Enter the number of liter's for each container: 12\n",
      "Enter the number of liter's for each container: 23\n",
      "Enter the number of liter's for each container: 45\n"
     ]
    },
    {
     "name": "stdout",
     "output_type": "stream",
     "text": [
      "The total number of bottle's are 3, with a total liter of 45.0 and the refund is 33.75\n"
     ]
    }
   ],
   "source": [
    "bottles = int(input(\"Enter the number of container's:\"))\n",
    "\n",
    "for bottle in range(bottles):\n",
    "    liter = float(input(\"Enter the number of liter's for each container:\"))\n",
    "    \n",
    "    if liter <= 1:\n",
    "        deposit = 0.10\n",
    "    else:\n",
    "        deposit = 0.25\n",
    "        \n",
    "\n",
    "total_refund = (liter * deposit) * bottles\n",
    "\n",
    "    \n",
    "print(f\"The total number of bottle's are {bottles}, with a total liter of {liter} and the refund is {total_refund}\")"
   ]
  },
  {
   "cell_type": "markdown",
   "id": "4d157cfd-cf93-4cb6-8048-7279836444b9",
   "metadata": {},
   "source": [
    "## Exercise 6:Tax and Tip\r",
    ")\r\n",
    "The program that you create for this exercise will begin by reading the cost of a meal\r\n",
    "ordered at a restaurant from the user. Then your program will compute the tax and\r\n",
    "tip for the meal. Use your local tax rate when computing the amount of tax owing.\r\n",
    "Compute the tip as 18 percent of the meal amount (without the tax). The output from\r\n",
    "your program should include the tax amount, the tip amount, and the grand total for\r\n",
    "the meal including both the tax and the tip. Format the output so that all of the values\r\n",
    "are displayed using two decimal places."
   ]
  },
  {
   "cell_type": "code",
   "execution_count": 13,
   "id": "d0d6c8d7-e25a-45b9-8ee1-208e12360d92",
   "metadata": {},
   "outputs": [
    {
     "name": "stdin",
     "output_type": "stream",
     "text": [
      "Enter the cost of the meal ordered: 230\n"
     ]
    },
    {
     "name": "stdout",
     "output_type": "stream",
     "text": [
      " You ordered of a meal worth: $230.0 \n",
      " with a tax of: $23.0 \n",
      " and a tip of: $41.4 \n",
      " The total is: $294.4\n"
     ]
    }
   ],
   "source": [
    "cost_of_meal = float(input('Enter the cost of the meal ordered:'))\n",
    "\n",
    "tax = cost_of_meal * 0.10\n",
    "tip = cost_of_meal * 0.18\n",
    "\n",
    "total_bill = cost_of_meal + tax + tip\n",
    "\n",
    "print(f\" You ordered of a meal worth: ${cost_of_meal} \\n with a tax of: ${tax} \\n and a tip of: ${tip} \\n The total is: ${total_bill}\")"
   ]
  },
  {
   "cell_type": "markdown",
   "id": "c41d8518-187e-4d12-b98a-b57c988be518",
   "metadata": {},
   "source": [
    "## Exercise 7:Sum of the First n Positive Integers\n",
    ")\r\n",
    "Write a program that reads a positive integer, n, from the user and then displays the\r\n",
    "sum of all of the integers from 1 to n. The sum of the first n positive integers can be\r\n",
    "computed using the formula:\r\n",
    "sum = (n)(n/2cise 8:"
   ]
  },
  {
   "cell_type": "code",
   "execution_count": 4,
   "id": "708b9721-a94d-4001-8523-78e337faa442",
   "metadata": {},
   "outputs": [
    {
     "name": "stdin",
     "output_type": "stream",
     "text": [
      "Enter a random number: 100\n"
     ]
    },
    {
     "name": "stdout",
     "output_type": "stream",
     "text": [
      "The sum of numbers from 1 to 100 is: 5050\n"
     ]
    }
   ],
   "source": [
    "number_of_choice = int(input('Enter a random number:'))\n",
    "total = 0  # Initialize a variable to store the sum\n",
    "\n",
    "if number_of_choice > 0:  # Make sure the input is positive\n",
    "    for i in range(1, number_of_choice + 1):  # Start from 1 and include the last number\n",
    "        total += i  # Add the current value of i to the total\n",
    "    print(\"The sum of numbers from 1 to\", number_of_choice, \"is:\", total)\n",
    "else:\n",
    "    print(\"Please enter a positive number.\")\n"
   ]
  },
  {
   "cell_type": "markdown",
   "id": "f8c61c45-bcde-44df-a83d-c80880238b38",
   "metadata": {},
   "source": [
    "## Exercise 8:Widgets and Gizmos\r",
    ")\r\n",
    "An online retailer sells two products: widgets and gizmos. Each widget weighs 75\r\n",
    "grams. Each gizmo weighs 112 grams. Write a program that reads the number of\r\n",
    "widgets and the number of gizmos in an order from the user. Then your program\r\n",
    "should compute and display the total weight of the order."
   ]
  },
  {
   "cell_type": "code",
   "execution_count": 9,
   "id": "3021a8b1-ff35-4a39-8125-72279158e647",
   "metadata": {},
   "outputs": [
    {
     "name": "stdin",
     "output_type": "stream",
     "text": [
      "What do you want to buy: both\n",
      "How many widget do you want to buy: 12\n",
      "How many gizmo do you want to buy: 23\n"
     ]
    },
    {
     "name": "stdout",
     "output_type": "stream",
     "text": [
      "You ordered the total number of 12 widget which will weigh 900 grams \n",
      " 23 gizmo which will weigh 1725.\n",
      "The total is 2625 for widget and gizmo\n"
     ]
    }
   ],
   "source": [
    "inp = input('What do you want to buy:').lower()\n",
    "\n",
    "if inp == 'widget':\n",
    "    new_inp = int(input(\"How many widget do you want to buy:\"))\n",
    "    widget = 75\n",
    "    value_from_input = widget * new_inp\n",
    "    print(f'You ordered the total number of {new_inp} widget which will weigh {value_from_input} grams')\n",
    "\n",
    "elif inp == 'gizmo':\n",
    "    new_inp = int(input(\"How many gizmo do you want to buy:\"))\n",
    "    gizmo = 112\n",
    "    value_from_input = gizmo * new_inp\n",
    "    print(f'You ordered the total number of {new_inp} widget which will weigh {value_from_input} grams')\n",
    "\n",
    "elif inp == 'widget and gizmo' or inp == 'both':\n",
    "     new_inp = int(input(\"How many widget do you want to buy:\"))\n",
    "     new_inp2 = int(input(\"How many gizmo do you want to buy:\"))\n",
    "     widget = 75\n",
    "     gizmo = 112\n",
    "     value_from_input_widget = widget * new_inp\n",
    "     value_from_input_gizmo = widget * new_inp2\n",
    "     new_value = value_from_input_gizmo + value_from_input_widget\n",
    "    \n",
    "     print(f'You ordered the total number of {new_inp} widget which will weigh {value_from_input_widget} grams \\n {new_inp2} gizmo which will weigh {value_from_input_gizmo}.\\nThe total is {new_value} for widget and gizmo')"
   ]
  },
  {
   "cell_type": "markdown",
   "id": "3371775e-eb5b-4d15-b495-158fb784fab6",
   "metadata": {},
   "source": [
    "## Exercise 9: Compound Interest\n",
    ")\r\n",
    "Pretend that you have just opened a new savings account that earns 4 percent interest\r\n",
    "per year. The interest that you earn is paid at the end of the year, and is added\r\n",
    "to the balance of the savings account. Write a program that begins by reading the\r\n",
    "amount of money deposited into the account from the user. Then your program should\r\n",
    "compute and display the amount in the savings account after 1, 2, and 3 years. Display\r\n",
    "each amount so that it is rounded to 2 decimal places."
   ]
  },
  {
   "cell_type": "code",
   "execution_count": 12,
   "id": "b5cfd739-937a-44a6-bc03-a020e99341f3",
   "metadata": {},
   "outputs": [
    {
     "name": "stdin",
     "output_type": "stream",
     "text": [
      "Enter Amount 200\n"
     ]
    },
    {
     "name": "stdout",
     "output_type": "stream",
     "text": [
      "1st Year:208.0\n",
      "2nd Year:216.32\n",
      "3rd Year:224.97\n"
     ]
    }
   ],
   "source": [
    "amount=float(input(\"Enter Amount\"))\n",
    "rate=0.04\n",
    "first_year=round((1+rate)*amount,2)\n",
    "second_year=round((1+rate)*first_year,2)\n",
    "third_year=round((1+rate)*second_year,2)\n",
    "print(f\"1st Year:{first_year}\")\n",
    "print(f\"2nd Year:{second_year}\")\n",
    "print(f\"3rd Year:{third_year}\")"
   ]
  },
  {
   "cell_type": "code",
   "execution_count": 11,
   "id": "64e906a5-fb52-427d-ab7d-f19bf70a2e18",
   "metadata": {},
   "outputs": [
    {
     "name": "stdin",
     "output_type": "stream",
     "text": [
      "Enter the amount being deposited for the year: 200\n",
      "Enter the number of year's you want to view the data for: 3\n"
     ]
    },
    {
     "name": "stdout",
     "output_type": "stream",
     "text": [
      "You made a total deposit of $200.0 for each year & the interest for each year is $1312200.0 \n",
      " While the total value for 3 years is $624.0\n",
      "You made a total deposit of $200.0 for each year & the interest for each year is $5.9296826798368884e+26 \n",
      " While the total value for 3 years is $624.0\n",
      "You made a total deposit of $200.0 for each year & the interest for each year is $2.4726110657596372e+109 \n",
      " While the total value for 3 years is $624.0\n"
     ]
    }
   ],
   "source": [
    "\n",
    "\n",
    "inp = float(input(\"Enter the amount being deposited for the year:\"))\n",
    "\n",
    "inp2 = int(input(\"Enter the number of year's you want to view the data for:\"))\n",
    "\n",
    "intrest_on_savings = round(inp * 0.04, 2) # for each year\n",
    "\n",
    "new_value = round(inp + intrest_on_savings, 2)\n",
    "\n",
    "final_value = inp2 * new_value\n",
    "\n",
    "for i in range(inp2):\n",
    "    year = inp2 + 1\n",
    "    intrest_on_savings = round(inp*(1 + intrest_on_savings)**year,2)\n",
    "    print(f'You made a total deposit of ${inp} for each year & the interest for each year is ${intrest_on_savings} \\n While the total value for {inp2} years is ${final_value}')"
   ]
  },
  {
   "cell_type": "markdown",
   "id": "e67c10fa-b3f0-452a-9171-41dc795fcd17",
   "metadata": {},
   "source": [
    "## Exercise 10:Arithmetic\n",
    "\n",
    "Create a program that reads two integers, a and b, from the user.Your program should\n",
    "compute and display:\n",
    "• The sum of a and b\n",
    "• The difference when b is subtracted from a\n",
    "• The product of a and b\n",
    "• The quotient when a is divided by b\n",
    "• The remainder when a is divided by b\n",
    "• The result of log10 a\n",
    "• The result of ab"
   ]
  },
  {
   "cell_type": "code",
   "execution_count": 15,
   "id": "c5ce272b-1021-4069-874e-8c28077b21f6",
   "metadata": {},
   "outputs": [
    {
     "name": "stdin",
     "output_type": "stream",
     "text": [
      "Enter an integer: 12\n",
      "Enter another integer: 24\n"
     ]
    },
    {
     "name": "stdout",
     "output_type": "stream",
     "text": [
      "The sum of a & b is 36\n",
      "The difference of a & b is -12\n",
      "The product of a & b is 288\n",
      "The quotient of a / b is 0.5\n",
      "The remainder of a / b is 12\n",
      "The of log a is 1.0791812460476249\n",
      "The value a^b  79496847203390844133441536\n"
     ]
    }
   ],
   "source": [
    "import math\n",
    "from math import *\n",
    "a = int(input('Enter an integer:'))\n",
    "b = int(input('Enter another integer:'))\n",
    "\n",
    "sum_value = a + b\n",
    "print(f'The sum of a & b is {sum_value}')\n",
    "\n",
    "dif_val = a - b\n",
    "print(f'The difference of a & b is {dif_val}')\n",
    "\n",
    "prod_val = a * b\n",
    "print(f'The product of a & b is {prod_val}')\n",
    "\n",
    "qout_val = round(a / b, 2)\n",
    "print(f'The quotient of a / b is {qout_val}')\n",
    "\n",
    "rem_div = a % b\n",
    "print(f'The remainder of a / b is {rem_div}')\n",
    "\n",
    "res_of_log = log10(a)\n",
    "print(f'The of log a is {res_of_log}')\n",
    "\n",
    "a_to_power_of_b = round(a ** b, 2)\n",
    "print(f'The value a^b  {a_to_power_of_b}')"
   ]
  },
  {
   "cell_type": "markdown",
   "id": "1c76cbf3-1d0e-4694-bf25-6b92a17e3091",
   "metadata": {},
   "source": [
    "## Exercise 11: Fuel Efficiency\n",
    ")\r\n",
    "In the United States, fuel efficiency for vehicles is normally expressed in miles-pergallon\r\n",
    "(MPG). In Canada, fuel efficiency is normally expressed in liters-per-hundred\r\n",
    "kilometers (L/100 km). Use your research skills to determine how to convert from\r\n",
    "MPGto L/100 km. Then create a program that reads a value from the user in American\r\n",
    "units and displays the equivalent fuel efficiency in Canadian units."
   ]
  },
  {
   "cell_type": "code",
   "execution_count": 26,
   "id": "144cf270-5daf-47e5-bb6d-8d9c3e815aa7",
   "metadata": {},
   "outputs": [],
   "source": [
    "MPG = round(235.214 / (1/100), 2)\n",
    "Lkm = round(235.214 / MPG, 2)"
   ]
  },
  {
   "cell_type": "code",
   "execution_count": 28,
   "id": "edbf59b7-4f1e-4392-a55f-a4de7cdde012",
   "metadata": {},
   "outputs": [
    {
     "name": "stdin",
     "output_type": "stream",
     "text": [
      "Enter distance in miles-per-gallon:  23\n",
      "Enter the base location: canada\n"
     ]
    },
    {
     "name": "stdout",
     "output_type": "stream",
     "text": [
      "Fuel Efficiency: 0.1 L/100 km\n"
     ]
    }
   ],
   "source": [
    "fuel = float(input(\"Enter distance in miles-per-gallon: \"))\n",
    "location = input('Enter the base location:').lower()\n",
    "\n",
    "if location == 'canada':\n",
    "    fuel_efficiency = round(fuel / 235.214, 2) # Convert MPG to L/100 km\n",
    "    print(f\"Fuel Efficiency: {fuel_efficiency} L/100 km\")\n",
    "elif location == 'united states' or location == 'usa':\n",
    "    fuel_efficiency = fuel\n",
    "    print(f\"Fuel Efficiency: {fuel_efficiency} MPG\")\n",
    "else:\n",
    "    print('Invalid data')\n"
   ]
  },
  {
   "cell_type": "markdown",
   "id": "118a5a3a-4e20-492a-a1ee-af1c1b124303",
   "metadata": {},
   "source": [
    "## Exercise 12: Distance Between Two Points on Earth\r",
    ")\r\n",
    "The surface of the Earth is curved, and the distance between degrees of longitude\r\n",
    "varies with latitude. As a result, finding the distance between two points on the surface\r\n",
    "of the Earth is more complicated than simply using the Pythagorean theorem.\r\n",
    "Let (t1, g1) and (t2, g2) be the latitude and longitude of two points on the Earth’s\r\n",
    "surface. The distance between these points, following the surface of the Earth, in\r\n",
    "kilometers is:\r\n",
    "distance = 6371.01 × arccos(sin(t1) × sin(t2) + cos(t1) × cos(t2) × cos(g1 − g2))\r\n",
    "The value 6371.01 in the previous equation wasn’t selected at random. It is\r\n",
    "the average radius of the Earth in kilometers.\r\n",
    "Create a program that allows the user to enter the latitude and longitude of two\r\n",
    "points on the Earth in degrees. Your program should display the distance between\r\n",
    "the points, following the surface of the earth, in kilometers."
   ]
  },
  {
   "cell_type": "code",
   "execution_count": 32,
   "id": "e660016c-b09d-46fc-a262-f538383bf35b",
   "metadata": {},
   "outputs": [
    {
     "name": "stdin",
     "output_type": "stream",
     "text": [
      "Enter the value for the latitude: 12000\n",
      "Enter the second value for the latitude: 230000\n",
      "Enter the value for the longitude: 344564765\n",
      "Enter the second value for the longitude: 5435435324324\n"
     ]
    },
    {
     "name": "stdout",
     "output_type": "stream",
     "text": [
      "The distance is 9773.603756911767\n"
     ]
    }
   ],
   "source": [
    "# distance = 6371.01 × arccos(sin(t1) × sin(t2) + cos(t1) × cos(t2) × cos(g1 − g2))\n",
    "\n",
    "import math as mth\n",
    "from math import *\n",
    "\n",
    "latitude_1 = float(input('Enter the value for the latitude:'))\n",
    "latitude_2 = float(input('Enter the second value for the latitude:'))\n",
    "longitude_1 = float(input('Enter the value for the longitude:'))\n",
    "longitude_2 = float(input('Enter the second value for the longitude:'))\n",
    "\n",
    "distance = 6371.01 * mth.acos(mth.sin(latitude_1)*mth.sin(longitude_1)+mth.cos(latitude_1)*mth.cos(longitude_1)*mth.cos(latitude_2 - longitude_2))\n",
    "print(f'The distance is {distance}')"
   ]
  },
  {
   "cell_type": "markdown",
   "id": "a7f24281-f0d5-4ab6-afe5-284ec0854456",
   "metadata": {},
   "source": [
    "## Exercise 13:Making Change\r",
    ")\r\n",
    "Consider the software that runs on a self-checkout machine. One task that it must be\r\n",
    "able to perform is to determine how much change to provide when the shopper pays\r\n",
    "for a purchase with cash.\r\n",
    "Write a program that begins by reading a number of cents from the user as an\r\n",
    "integer. Then your program should compute and display the denominations of the\r\n",
    "coins that should be used to give that amount of change to the shopper. The change\r\n",
    "should be given using as few coins as possible. Assume that the machine i  loadeennies, nickels, dimes, quarters, loonies and toonies.\n",
    "\n",
    "\n",
    "\n",
    "'A one dollar coin was introduced in Canada in 1987. It is referred to as a\r\n",
    "loonie because one side of the coin has a loon (a type of bird) on it. The two\r\n",
    "dollar coin, referred to as a toonie, was introduced 9 years later. It’s name is\r\n",
    "derived from the combination of the number two and the name of the loon'ie. toonies."
   ]
  },
  {
   "cell_type": "code",
   "execution_count": 33,
   "id": "9e05a3c6-00b6-49f5-92b2-dcbc244c8feb",
   "metadata": {},
   "outputs": [
    {
     "data": {
      "text/plain": [
       "'\\n1nickel = 5cent\\n1penny = 1cent\\n1 dime = 10cents\\n1 quarter = 25cents\\n1 loonie = 100cent\\n1 toonie = 200cent \\n'"
      ]
     },
     "execution_count": 33,
     "metadata": {},
     "output_type": "execute_result"
    }
   ],
   "source": [
    "'''\n",
    "1nickel = 5cent\n",
    "1penny = 1cent\n",
    "1 dime = 10cents\n",
    "1 quarter = 25cents\n",
    "1 loonie = 100cent\n",
    "1 toonie = 200cent \n",
    "'''"
   ]
  },
  {
   "cell_type": "code",
   "execution_count": 36,
   "id": "c2d6fbca-f761-46b6-892e-181a453d105c",
   "metadata": {},
   "outputs": [
    {
     "name": "stdin",
     "output_type": "stream",
     "text": [
      "Enter the number of cents: 25\n"
     ]
    }
   ],
   "source": [
    "change = int(input('Enter the number of cents:'))\n",
    "if change // 5 == 0:\n",
    "    change = change * change\n",
    "    print(f\"You'll get a nickle for {change}cent\")\n",
    "elif change  // 1 == 0 and change // 5 != 0:\n",
    "    change = change * change\n",
    "    print(f\"You'll get a penny for {change}cent\")\n",
    "elif change // 10 == 0 and change  // 1 != 0 and change // 5 != 0:\n",
    "    change = change * change\n",
    "    print(f\"You'll get a dime for {change}cent\")\n",
    "elif change // 25 == 0 and change // 10 != 0 and change  // 1 != 0 and change // 5 != 0:\n",
    "    change = change * change\n",
    "    print(f\"You'll get a quater for {change}cent\")\n",
    "elif change // 100 == 0 and change != 25 == 0 and change // 10 != 0 and change  // 1 != 0 and change // 5 != 0:\n",
    "    change = change * change\n",
    "    print(f\"You'll get a loonie for {change}cent\")\n",
    "elif change // 200 == 0 and change // 100 != 0 and change != 25 == 0 and change // 10 != 0 and change  // 1 != 0 and change // 5 != 0:\n",
    "    change = change * change\n",
    "    print(f\"You'll get a tonnie for {change}cent\")"
   ]
  },
  {
   "cell_type": "code",
   "execution_count": 37,
   "id": "e3b055ab-699c-4bbf-a12d-107fbbf505ae",
   "metadata": {},
   "outputs": [
    {
     "name": "stdin",
     "output_type": "stream",
     "text": [
      "Enter the number of cents: 300\n"
     ]
    },
    {
     "name": "stdout",
     "output_type": "stream",
     "text": [
      "You'll get 1 toonie for 100 cents\n",
      "You'll get 1 loonie for 0 cents\n",
      "No change remaining.\n"
     ]
    }
   ],
   "source": [
    "change = int(input('Enter the number of cents:'))\n",
    "\n",
    "if change >= 200:\n",
    "    toonies = change // 200\n",
    "    change %= 200\n",
    "    print(f\"You'll get {toonies} toonie{'s' if toonies > 1 else ''} for {change} cents\")\n",
    "if change >= 100:\n",
    "    loonies = change // 100\n",
    "    change %= 100\n",
    "    print(f\"You'll get {loonies} loonie{'s' if loonies > 1 else ''} for {change} cents\")\n",
    "if change >= 25:\n",
    "    quarters = change // 25\n",
    "    change %= 25\n",
    "    print(f\"You'll get {quarters} quarter{'s' if quarters > 1 else ''} for {change} cents\")\n",
    "if change >= 10:\n",
    "    dimes = change // 10\n",
    "    change %= 10\n",
    "    print(f\"You'll get {dimes} dime{'s' if dimes > 1 else ''} for {change} cents\")\n",
    "if change >= 5:\n",
    "    nickels = change // 5\n",
    "    change %= 5\n",
    "    print(f\"You'll get {nickels} nickel{'s' if nickels > 1 else ''} for {change} cents\")\n",
    "if change >= 1:\n",
    "    pennies = change\n",
    "    print(f\"You'll get {pennies} penny{'s' if pennies > 1 else ''} for {change} cents\")\n",
    "if change == 0:\n",
    "    print(\"No change remaining.\")\n",
    "else:\n",
    "    print(\"Invalid input: Please enter a non-negative integer.\")\n"
   ]
  },
  {
   "cell_type": "markdown",
   "id": "ec3e9d3c-1ef8-4404-a8e0-0e79a1b058c4",
   "metadata": {},
   "source": [
    "## Exercise 14: Height Units\r",
    ")\r\n",
    "Many people think about their height in feet and inches, even in some countries that\r\n",
    "primarily use the metric system. Write a program that reads a number of feet from\r\n",
    "the user, followed by a number of inches. Once these values are read, your program\r\n",
    "should compute and display the equivalent number of centime  \n",
    "\n",
    "### Hint: One foot is 12 inches. One inch is 2.54 centimeters.ters."
   ]
  },
  {
   "cell_type": "code",
   "execution_count": 39,
   "id": "62e4a729-46eb-4f8a-bf93-48532fc3a9d6",
   "metadata": {},
   "outputs": [
    {
     "name": "stdin",
     "output_type": "stream",
     "text": [
      "How tall are you in feet: 4\n",
      "Enter the remainder in inches: 20\n"
     ]
    },
    {
     "name": "stdout",
     "output_type": "stream",
     "text": [
      "Your height is 172.72 CM\n"
     ]
    }
   ],
   "source": [
    "height_in_feet = int(input('How tall are you in feet:'))\n",
    "remainder_in_inches = float(input('Enter the remainder in inches:'))\n",
    "\n",
    "# Centimeters = (Feet × 30.48) + (Inches × 2.54)\n",
    "\n",
    "Centimeters = (height_in_feet * 30.48) + (remainder_in_inches * 2.54)\n",
    "\n",
    "print(f\"Your height is {Centimeters} CM\")"
   ]
  },
  {
   "cell_type": "markdown",
   "id": "b2dfb8c3-1766-4ae6-83fd-73c28cc37635",
   "metadata": {},
   "source": [
    "## Exercise 15: Distance Units\r",
    ")\r\n",
    "In this exercise, you will create a program that begins by reading a measurement\r\n",
    "in feet from the user. Then your program should display the equivalent distance in\r\n",
    "inches, yards and miles. Use the Internet to look up the necessary conversion factors\r\n",
    "if you don’t have them memorized."
   ]
  },
  {
   "cell_type": "code",
   "execution_count": 44,
   "id": "f8864286-9a82-45e1-b1fd-71efeeeda27f",
   "metadata": {},
   "outputs": [
    {
     "name": "stdin",
     "output_type": "stream",
     "text": [
      "Enter the value for conversion: 25\n"
     ]
    },
    {
     "name": "stdout",
     "output_type": "stream",
     "text": [
      "The value entered is: 25.0 FT \n",
      " The value in Inches is: 300.0 IN \n",
      " The value in Yards is 8.33 YD \n",
      " While the value in Miles is 0.0 ML\n"
     ]
    }
   ],
   "source": [
    "# Inches = Feet × 12\n",
    "# Yards = Feet ÷ 3\n",
    "# Miles = Feet ÷ 5,280\n",
    "\n",
    "measurement_in_feet = float(input('Enter the value for conversion:'))\n",
    "\n",
    "Inches = round(measurement_in_feet * 12, 2)\n",
    "\n",
    "Yards = round(measurement_in_feet / 3, 2)\n",
    "\n",
    "Miles = round(measurement_in_feet / 5280, 2)\n",
    "\n",
    "print(f\"The value entered is: {measurement_in_feet} FT \\n The value in Inches is: {Inches} IN \\n The value in Yards is {Yards} YD \\n While the value in Miles is {Miles} ML\")"
   ]
  },
  {
   "cell_type": "markdown",
   "id": "7d9e8fc5-b8a8-4a8b-bffa-cb475b6bad1b",
   "metadata": {},
   "source": [
    "## Exercise 16:Area and Volume\r",
    ")\r\n",
    "Write a program that begins by reading a radius, r , from the user. The program will\r\n",
    "continue by computing and displaying the area of a circle with radius r and the\r\n",
    "volume of a sphere with radius r . Use the pi constant in the math module in your\r\n",
    "calculat\n",
    "\n",
    "\n",
    "#### Hint: The area of a circle is computed using the formula area = πr^2. The \n",
    "volume of a sphere is computed using the formula volume = /\r\n",
    "3πr 3.ions."
   ]
  },
  {
   "cell_type": "code",
   "execution_count": 4,
   "id": "b475ce1b-38d8-44c1-a7e3-631578f1fd8f",
   "metadata": {},
   "outputs": [
    {
     "name": "stdin",
     "output_type": "stream",
     "text": [
      "Enter the value of the radius: 12\n"
     ]
    },
    {
     "name": "stdout",
     "output_type": "stream",
     "text": [
      "The area of the circle with the radius of 12.0 is: 452.39 \n",
      " While the volume of the sphere is: 603.19\n"
     ]
    }
   ],
   "source": [
    "import math as mth\n",
    "from math import *\n",
    "\n",
    "radius_value = float(input(\"Enter the value of the radius:\"))\n",
    "\n",
    "area_of_circle = round(mth.pi * radius_value ** 2, 2)\n",
    "\n",
    "volume_of_sphere = round(4/3 * mth.pi * radius_value **2, 2)\n",
    "\n",
    "print(f\"The area of the circle with the radius of {radius_value} is: {area_of_circle} \\n While the volume of the sphere is: {volume_of_sphere}\")"
   ]
  },
  {
   "cell_type": "markdown",
   "id": "27a04f7f-0c6e-4388-95e6-a75135f3d3ce",
   "metadata": {},
   "source": [
    "## Exercise 17: Heat Capacity\r",
    ")\r\n",
    "The amount of energy required to increase the temperature of one gram of a material\r\n",
    "by one degree Celsius is the material’s specific heat capacity, C. The total amount\r\n",
    "of energy required to raise m grams of a material by ΔT degrees Celsius can be\r\n",
    "computed using the formula:\r\n",
    "q = mCΔT.\r\n",
    "Write a program that reads the mass of some water and the temperature change\r\n",
    "from the user. Your program should display the total amount of energy that must be\r\n",
    "added or removed to achieve the desired temperatur\n",
    "\n",
    " Hint: The specific heat capacity of water is 4.186 J\r",
    " \n",
    "g◦C. Becausewater has a density \r\n",
    "of 1.0 gram per millilitre, you can use grams and millilitres interchangeably\r\n",
    "in this exerci\n",
    "\n",
    "Extend your program so that it also computes the cost of heating the water. Electricity\r\n",
    "is normally billed using units of kilowatt hours rather than Joules. In this\r\n",
    "exercise, you should assume that electricity costs 8.9 cents per kilowatt-hour. Use\r\n",
    "your program to compute the cost of boiling water for a cup of coffee.se.e change."
   ]
  },
  {
   "cell_type": "code",
   "execution_count": null,
   "id": "736aa7b4-dd76-4740-aa15-8e9baac11f14",
   "metadata": {},
   "outputs": [],
   "source": []
  },
  {
   "cell_type": "markdown",
   "id": "623bc8d4-4a49-492b-85f1-8b00740ea70b",
   "metadata": {},
   "source": [
    "## Exercise 18:Volume of a Cylinder\r",
    ")\r\n",
    "The volume of a cylinder can be computed by multiplying the area of its circular\r\n",
    "base by its height. Write a program that reads the radius of the cylinder, along with\r\n",
    "its height, from the user and computes its volume. Display the result rounded to one\r\n",
    "decimal place."
   ]
  },
  {
   "cell_type": "code",
   "execution_count": 5,
   "id": "a85ec886-c2fb-4d9d-9ee7-eb01c04493fa",
   "metadata": {},
   "outputs": [
    {
     "name": "stdin",
     "output_type": "stream",
     "text": [
      "Enter the radius of the cylinder: 12\n",
      "Enter the height: 34\n"
     ]
    },
    {
     "name": "stdout",
     "output_type": "stream",
     "text": [
      "The volume of the cylinder is 816.0\n"
     ]
    }
   ],
   "source": [
    "radius = float(input(\"Enter the radius of the cylinder:\"))\n",
    "height = float(input(\"Enter the height:\"))\n",
    "\n",
    "area = radius * 2\n",
    "\n",
    "volume = area * height\n",
    "\n",
    "print(f\"The volume of the cylinder is {volume}\")"
   ]
  },
  {
   "cell_type": "code",
   "execution_count": null,
   "id": "64af3819-d108-4623-972a-71fbca2eb500",
   "metadata": {},
   "outputs": [],
   "source": []
  }
 ],
 "metadata": {
  "kernelspec": {
   "display_name": "Python 3 (ipykernel)",
   "language": "python",
   "name": "python3"
  },
  "language_info": {
   "codemirror_mode": {
    "name": "ipython",
    "version": 3
   },
   "file_extension": ".py",
   "mimetype": "text/x-python",
   "name": "python",
   "nbconvert_exporter": "python",
   "pygments_lexer": "ipython3",
   "version": "3.11.5"
  }
 },
 "nbformat": 4,
 "nbformat_minor": 5
}
