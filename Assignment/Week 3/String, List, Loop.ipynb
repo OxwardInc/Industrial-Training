{
 "cells": [
  {
   "cell_type": "markdown",
   "id": "70a49e95-c2c6-4998-8111-4a6845bfa2d0",
   "metadata": {},
   "source": [
    "# Exercise 38: Month Name to Number of Days"
   ]
  },
  {
   "cell_type": "code",
   "execution_count": 9,
   "id": "0c5aa221-2656-4b4f-a604-9ba44b789d45",
   "metadata": {},
   "outputs": [
    {
     "name": "stdin",
     "output_type": "stream",
     "text": [
      "Enter the month of the year:  september\n"
     ]
    },
    {
     "name": "stdout",
     "output_type": "stream",
     "text": [
      "The month september has 30 days in it\n"
     ]
    }
   ],
   "source": [
    "inp = input('Enter the month of the year: ').lower()\n",
    "\n",
    "\n",
    "try:\n",
    "    if inp == 'january' or inp == 'march' or inp == 'may' or inp == 'july' or inp == 'august' or inp == 'october' or inp == 'december':\n",
    "        print(f'The month {inp} has 31 days in it')\n",
    "    elif inp == 'april' or inp == 'june' or inp == 'september' or inp == 'november':\n",
    "        print(f'The month {inp} has 30 days in it')\n",
    "    elif inp == 'february':\n",
    "        print(f'The mont {inp} has 28 days & 29 days in leap years')\n",
    "except ValueError:\n",
    "    print(\"You entered an invalid month name!\")"
   ]
  },
  {
   "cell_type": "code",
   "execution_count": 4,
   "id": "7ad99db9-bb74-4b69-95d7-768dc9d4de87",
   "metadata": {},
   "outputs": [
    {
     "name": "stdin",
     "output_type": "stream",
     "text": [
      "Enter the name of the month or the number of days in the month:  March\n"
     ]
    },
    {
     "name": "stdout",
     "output_type": "stream",
     "text": [
      "The month March has 31 days in it\n"
     ]
    }
   ],
   "source": [
    "# Rename the variable to avoid conflict with the input() function\n",
    "inps = input('Enter the name of the month or the number of days in the month: ')\n",
    "\n",
    "inp = inps.lower()\n",
    "input_month = inp.capitalize()\n",
    "\n",
    "\n",
    "\n",
    "try:\n",
    "    user_input_as_int = int(inps)\n",
    "    ex_inps = user_input_as_int - 31\n",
    "    les_inps = 28 - user_input_as_int\n",
    "    if user_input_as_int == 31:\n",
    "        print(f\"January, March, May, July, August, October, and December have {inps} days\")\n",
    "    elif user_input_as_int == 30:\n",
    "        print(f\"April, June, September, and November have {inps} days\")\n",
    "    elif user_input_as_int == 28 or inps == 29:\n",
    "        print(f'The month February has {inps} days')\n",
    "    elif user_input_as_int > 31:\n",
    "        print(f\"Your input is a bit more than the highest number of days a month can have by {ex_inps}\")\n",
    "    elif user_input_as_int < 28:\n",
    "        print(f\"Your input is a bit less than than the lowest number of days a month can have by {les_inps}\")\n",
    "    else:\n",
    "        print(\"We can't process your data\")\n",
    "\n",
    "except ValueError:\n",
    "    if inp == 'january' or inp == 'march' or inp == 'may' or inp == 'july' or inp == 'august' or inp == 'october' or inp == 'december':\n",
    "        print(f'The month {input_month} has 31 days in it')\n",
    "    elif inp == 'april' or inp == 'june' or inp == 'september' or inp == 'november':\n",
    "        print(f'The month {input_month} has 30 days in it')\n",
    "    elif inp == 'february':\n",
    "        print(f'The month {input_month} has 28 days & 29 days in leap years')\n",
    "    else:\n",
    "        print(\"You entered an invalid month name!\")\n"
   ]
  },
  {
   "cell_type": "markdown",
   "id": "d1483848-479d-4deb-a8c4-d3b94021478c",
   "metadata": {},
   "source": [
    "# Exercise 39: Sound Levels\n"
   ]
  },
  {
   "cell_type": "code",
   "execution_count": 6,
   "id": "cd912c9e-686d-4ede-909a-9a99155cf9a9",
   "metadata": {},
   "outputs": [
    {
     "name": "stdin",
     "output_type": "stream",
     "text": [
      "Enter your data to measure the sound level:  60\n"
     ]
    },
    {
     "name": "stdout",
     "output_type": "stream",
     "text": [
      "The object producing the level of the sound level 60 is something between a ALARM CLOCK & QUIET ROOM\n"
     ]
    }
   ],
   "source": [
    "sl = input('Enter your data to measure the sound level: ')\n",
    "\n",
    "dB = int(sl)\n",
    "\n",
    "if dB == 130:\n",
    "    print(f\"The object producing the level of the sound level {dB} is JACKHAMMER\")\n",
    "elif dB < 130 and dB > 106:\n",
    "     print(f\"The object producing the level of the sound level {dB} is something between a JACKHAMMER & GAS LAWNMOWER\")\n",
    "elif dB == 106:\n",
    "     print(f\"The object producing the level of the sound level {dB} is GAS LAWNMOWER\")\n",
    "elif dB < 106 and dB > 70:\n",
    "     print(f\"The object producing the level of the sound level {dB} is something between a GAS LAWNMOWER & ALARM CLOCK\")\n",
    "elif dB == 70:\n",
    "     print(f\"The object producing the level of the sound level {dB} is ALARM CLOCK\")\n",
    "elif dB < 70 and dB > 40:\n",
    "     print(f\"The object producing the level of the sound level {dB} is something between a ALARM CLOCK & QUIET ROOM\")\n",
    "elif dB == 40:\n",
    "     print(f\"The object producing the level of the sound level {dB} is QUIET ROOM\")\n",
    "elif dB > 130:\n",
    "    print(f\"The object producing the level of the sound level {dB} is above JACKHAMMER\")\n",
    "elif dB < 40:\n",
    "    print(f\"The object producing the level of the sound level {dB} is below QUIET ROOM\")\n"
   ]
  },
  {
   "cell_type": "code",
   "execution_count": 7,
   "id": "77224ef0-e9ed-4cfe-bce3-742d48b8c36b",
   "metadata": {},
   "outputs": [
    {
     "name": "stdin",
     "output_type": "stream",
     "text": [
      "Enter your data to measure the sound level:  quiet room\n"
     ]
    },
    {
     "name": "stdout",
     "output_type": "stream",
     "text": [
      "quiet room has a sound level of QUIET ROOM (40 dB)\n"
     ]
    }
   ],
   "source": [
    "# Prompt the user for input\n",
    "sl = input('Enter your data to measure the sound level: ')\n",
    "\n",
    "# Convert the input to lowercase for case-insensitive matching\n",
    "noise_data = sl.lower()\n",
    "\n",
    "try:\n",
    "    # Attempt to convert the input to an integer\n",
    "    dB = int(sl)\n",
    "\n",
    "    if dB == 130:\n",
    "        print(f\"The sound level is JACKHAMMER (130 dB)\")\n",
    "    elif 106 < dB < 130:\n",
    "        print(f\"The sound level is something between JACKHAMMER and GAS LAWNMOWER ({dB} dB)\")\n",
    "    elif dB == 106:\n",
    "        print(f\"The sound level is GAS LAWNMOWER (106 dB)\")\n",
    "    elif 70 < dB < 106:\n",
    "        print(f\"The sound level is something between GAS LAWNMOWER and ALARM CLOCK ({dB} dB)\")\n",
    "    elif dB == 70:\n",
    "        print(f\"The sound level is ALARM CLOCK (70 dB)\")\n",
    "    elif 40 < dB < 70:\n",
    "        print(f\"The sound level is something between ALARM CLOCK and QUIET ROOM ({dB} dB)\")\n",
    "    elif dB == 40:\n",
    "        print(f\"The sound level is QUIET ROOM (40 dB)\")\n",
    "    elif dB > 130:\n",
    "        print(f\"The sound level ({dB} dB) is above JACKHAMMER\")\n",
    "    elif dB < 40:\n",
    "        print(f\"The sound level ({dB} dB) is below QUIET ROOM\")\n",
    "    else:\n",
    "        print('Invalid data!')\n",
    "except ValueError:\n",
    "    # Handle cases where the input couldn't be converted to an integer\n",
    "    if noise_data == 'jackhammer':\n",
    "        print(f\"{sl} has a sound level of JACKHAMMER (130 dB)\")\n",
    "    elif noise_data == 'gas lawnmower':\n",
    "        print(f\"{sl} has a sound level of GAS LAWNMOWER (106 dB)\")\n",
    "    elif noise_data == 'alarm clock':\n",
    "        print(f\"{sl} has a sound level of ALARM CLOCK (70 dB)\")\n",
    "    elif noise_data == 'quiet room':\n",
    "        print(f\"{sl} has a sound level of QUIET ROOM (40 dB)\")\n",
    "    else:\n",
    "        print('Invalid data!')\n"
   ]
  },
  {
   "cell_type": "markdown",
   "id": "22ca8991-5ec2-4360-9266-ff1b5da4f96c",
   "metadata": {},
   "source": [
    "# CONDITIONALS\n"
   ]
  },
  {
   "cell_type": "markdown",
   "id": "611147a6-b8a4-4780-aca9-cf4790f001e2",
   "metadata": {},
   "source": [
    "## 1"
   ]
  },
  {
   "cell_type": "code",
   "execution_count": 11,
   "id": "94ee6617-8ff0-47ae-9fe7-2ebc79883d6b",
   "metadata": {},
   "outputs": [
    {
     "name": "stdin",
     "output_type": "stream",
     "text": [
      "Enter a year:  100\n"
     ]
    },
    {
     "name": "stdout",
     "output_type": "stream",
     "text": [
      "The year 100 is not a leap year\n"
     ]
    }
   ],
   "source": [
    "year = int(input(\"Enter a year: \"))\n",
    "\n",
    "if (year % 4 == 0 and year % 100 != 0) or (year % 400 == 0):\n",
    "    print(f'The year {year} is a leap year')\n",
    "else:\n",
    "    print(f'The year {year} is not a leap year')"
   ]
  },
  {
   "cell_type": "markdown",
   "id": "2771e29f-079d-4188-bd63-ac108d87bf9b",
   "metadata": {},
   "source": [
    "## 2\n"
   ]
  },
  {
   "cell_type": "code",
   "execution_count": 20,
   "id": "caf168da-51f1-48c8-8046-a6e91fdb5b7d",
   "metadata": {},
   "outputs": [
    {
     "name": "stdin",
     "output_type": "stream",
     "text": [
      "Enter a number: 90\n"
     ]
    },
    {
     "name": "stdout",
     "output_type": "stream",
     "text": [
      "The number 90.0 can be divisible by: \n",
      " [1, 2, 3, 5, 6, 9, 10, 15, 18, 30, 45, 90]\n"
     ]
    }
   ],
   "source": [
    "number = float(input('Enter a number:'))\n",
    "\n",
    "divisors = []\n",
    "\n",
    "for x in range(1, 100):\n",
    "    if number % x == 0:\n",
    "        divisors.append(x)\n",
    "\n",
    "if divisors:\n",
    "    print(f'The number {number} can be divisible by: \\n {divisors}')\n",
    "else:\n",
    "    print(f'The number {number} is not divisible by any number in the range 1 to 99.')"
   ]
  },
  {
   "cell_type": "markdown",
   "id": "623eeafb-2442-4fb3-af2f-9d9794ffab0b",
   "metadata": {},
   "source": [
    "## 3"
   ]
  },
  {
   "cell_type": "code",
   "execution_count": 25,
   "id": "1fcbbd7c-a93e-4691-b164-105e13c39a74",
   "metadata": {},
   "outputs": [
    {
     "name": "stdin",
     "output_type": "stream",
     "text": [
      "Enter the number of items that you purchased: 100\n"
     ]
    },
    {
     "name": "stdout",
     "output_type": "stream",
     "text": [
      "You're being charged $7 per item which will cost you $700 for everything\n"
     ]
    }
   ],
   "source": [
    "num_itm = int(input(\"Enter the number of items that you purchased:\"))\n",
    "\n",
    "a = 12 * num_itm\n",
    "b = 10 * num_itm\n",
    "c = 7 * num_itm\n",
    "\n",
    "if num_itm < 10:\n",
    "    print(f\"You're being charged $12 per item which will cost you ${a} for everything\")\n",
    "elif num_itm >= 10 and num_itm <= 99:\n",
    "    print(f\"You're being charged $10 per item which will cost you ${b} for everything\")\n",
    "elif num_itm >= 100:\n",
    "    print(f\"You're being charged $7 per item which will cost you ${c} for everything\")"
   ]
  },
  {
   "cell_type": "markdown",
   "id": "f06b6833-169c-4b1c-a091-29f7f7422e9b",
   "metadata": {},
   "source": [
    "## 4"
   ]
  },
  {
   "cell_type": "code",
   "execution_count": 10,
   "id": "e655c378-c601-4225-9db2-14a5a5604fc0",
   "metadata": {},
   "outputs": [
    {
     "name": "stdin",
     "output_type": "stream",
     "text": [
      "Enter the first number:  21\n",
      "Enter the second number:  34\n"
     ]
    },
    {
     "name": "stdout",
     "output_type": "stream",
     "text": [
      "Not close\n"
     ]
    }
   ],
   "source": [
    "num1 = float(input(\"Enter the first number: \"))\n",
    "num2 = float(input(\"Enter the second number: \"))\n",
    "\n",
    "if abs(num1 - num2) <= 0.001:\n",
    "    print(\"Close\")\n",
    "else:\n",
    "    print(\"Not close\")"
   ]
  },
  {
   "cell_type": "markdown",
   "id": "395a9012-7515-4d59-9491-f2e8cca6bf18",
   "metadata": {},
   "source": [
    "# Loops\n",
    "\n",
    "## 1"
   ]
  },
  {
   "cell_type": "code",
   "execution_count": 29,
   "id": "bcca4488-2ccb-412b-b603-9503ac737e46",
   "metadata": {},
   "outputs": [
    {
     "name": "stdout",
     "output_type": "stream",
     "text": [
      "1452: <class 'int'>\n",
      "11.23: <class 'float'>\n",
      "(1+2j): <class 'complex'>\n",
      "True: <class 'bool'>\n",
      "w3resource: <class 'str'>\n",
      "(0, -1): <class 'tuple'>\n",
      "[5, 12]: <class 'list'>\n",
      "{'class': 'V', 'section': 'A'}: <class 'dict'>\n"
     ]
    }
   ],
   "source": [
    "datalist = [1452, 11.23, 1+2j, True, 'w3resource', (0, -1), [5,\n",
    "12], {\"class\":'V', \"section\":'A'}]\n",
    "\n",
    "for i in datalist:\n",
    "    print(f'{i}:', type(i))"
   ]
  },
  {
   "cell_type": "markdown",
   "id": "b1751024-4b5b-439b-8b05-b0a566679aa2",
   "metadata": {},
   "source": [
    "## 2"
   ]
  },
  {
   "cell_type": "code",
   "execution_count": 34,
   "id": "0cdaa1a9-0ac3-4d6e-8214-348e371f6fb0",
   "metadata": {},
   "outputs": [
    {
     "name": "stdout",
     "output_type": "stream",
     "text": [
      "1\n",
      "2\n",
      "4\n",
      "5\n"
     ]
    }
   ],
   "source": [
    "for i in range(6):\n",
    "    if i % 3 != 0:\n",
    "        print(i)"
   ]
  },
  {
   "cell_type": "markdown",
   "id": "6361c55b-238b-43fa-9c16-d6904e3c0d75",
   "metadata": {},
   "source": [
    "## 3"
   ]
  },
  {
   "cell_type": "code",
   "execution_count": 39,
   "id": "7cbfed93-c3f9-4e6c-ab7c-e4bd38740e16",
   "metadata": {},
   "outputs": [
    {
     "name": "stdout",
     "output_type": "stream",
     "text": [
      "Fizz\n",
      "Buzz\n",
      "Fizz\n",
      "Fizz\n",
      "Buzz\n",
      "Fizz\n",
      "FizzBuzz\n",
      "Fizz\n",
      "Buzz\n",
      "Fizz\n",
      "Fizz\n",
      "Buzz\n",
      "Fizz\n",
      "FizzBuzz\n",
      "Fizz\n",
      "Buzz\n",
      "Fizz\n",
      "Fizz\n",
      "Buzz\n",
      "Fizz\n",
      "FizzBuzz\n",
      "Fizz\n"
     ]
    }
   ],
   "source": [
    "for x in range(1, 50):\n",
    "    if x % 3 == 0 and x % 5 == 0:\n",
    "        print(\"FizzBuzz\")\n",
    "    elif x % 5 == 0:\n",
    "        print(\"Buzz\")\n",
    "    elif x % 3 == 0:\n",
    "        print(\"Fizz\")"
   ]
  },
  {
   "cell_type": "markdown",
   "id": "55e92f0f-088e-4b5b-a104-c3492f53768f",
   "metadata": {},
   "source": [
    "## 4"
   ]
  },
  {
   "cell_type": "code",
   "execution_count": 42,
   "id": "c54934e3-9d85-4b7c-8cee-a77a4a22f208",
   "metadata": {},
   "outputs": [
    {
     "name": "stdout",
     "output_type": "stream",
     "text": [
      "[100, 102, 104, 106, 108, 110, 112, 114, 116, 118, 120, 122, 124, 126, 128, 130, 132, 134, 136, 138, 140, 142, 144, 146, 148, 150, 152, 154, 156, 158, 160, 162, 164, 166, 168, 170, 172, 174, 176, 178, 180, 182, 184, 186, 188, 190, 192, 194, 196, 198, 200, 202, 204, 206, 208, 210, 212, 214, 216, 218, 220, 222, 224, 226, 228, 230, 232, 234, 236, 238, 240, 242, 244, 246, 248, 250, 252, 254, 256, 258, 260, 262, 264, 266, 268, 270, 272, 274, 276, 278, 280, 282, 284, 286, 288, 290, 292, 294, 296, 298, 300, 302, 304, 306, 308, 310, 312, 314, 316, 318, 320, 322, 324, 326, 328, 330, 332, 334, 336, 338, 340, 342, 344, 346, 348, 350, 352, 354, 356, 358, 360, 362, 364, 366, 368, 370, 372, 374, 376, 378, 380, 382, 384, 386, 388, 390, 392, 394, 396, 398, 400]\n"
     ]
    }
   ],
   "source": [
    "sequence = []\n",
    "\n",
    "for i in range(100, 401):\n",
    "    if i % 2 == 0:\n",
    "        sequence.append(i)\n",
    "print(sequence)"
   ]
  },
  {
   "cell_type": "code",
   "execution_count": 43,
   "id": "dc235243-0e68-4983-a108-70117e4cb507",
   "metadata": {},
   "outputs": [
    {
     "name": "stdout",
     "output_type": "stream",
     "text": [
      "100,\n",
      "102,\n",
      "104,\n",
      "106,\n",
      "108,\n",
      "110,\n",
      "112,\n",
      "114,\n",
      "116,\n",
      "118,\n",
      "120,\n",
      "122,\n",
      "124,\n",
      "126,\n",
      "128,\n",
      "130,\n",
      "132,\n",
      "134,\n",
      "136,\n",
      "138,\n",
      "140,\n",
      "142,\n",
      "144,\n",
      "146,\n",
      "148,\n",
      "150,\n",
      "152,\n",
      "154,\n",
      "156,\n",
      "158,\n",
      "160,\n",
      "162,\n",
      "164,\n",
      "166,\n",
      "168,\n",
      "170,\n",
      "172,\n",
      "174,\n",
      "176,\n",
      "178,\n",
      "180,\n",
      "182,\n",
      "184,\n",
      "186,\n",
      "188,\n",
      "190,\n",
      "192,\n",
      "194,\n",
      "196,\n",
      "198,\n",
      "200,\n",
      "202,\n",
      "204,\n",
      "206,\n",
      "208,\n",
      "210,\n",
      "212,\n",
      "214,\n",
      "216,\n",
      "218,\n",
      "220,\n",
      "222,\n",
      "224,\n",
      "226,\n",
      "228,\n",
      "230,\n",
      "232,\n",
      "234,\n",
      "236,\n",
      "238,\n",
      "240,\n",
      "242,\n",
      "244,\n",
      "246,\n",
      "248,\n",
      "250,\n",
      "252,\n",
      "254,\n",
      "256,\n",
      "258,\n",
      "260,\n",
      "262,\n",
      "264,\n",
      "266,\n",
      "268,\n",
      "270,\n",
      "272,\n",
      "274,\n",
      "276,\n",
      "278,\n",
      "280,\n",
      "282,\n",
      "284,\n",
      "286,\n",
      "288,\n",
      "290,\n",
      "292,\n",
      "294,\n",
      "296,\n",
      "298,\n",
      "300,\n",
      "302,\n",
      "304,\n",
      "306,\n",
      "308,\n",
      "310,\n",
      "312,\n",
      "314,\n",
      "316,\n",
      "318,\n",
      "320,\n",
      "322,\n",
      "324,\n",
      "326,\n",
      "328,\n",
      "330,\n",
      "332,\n",
      "334,\n",
      "336,\n",
      "338,\n",
      "340,\n",
      "342,\n",
      "344,\n",
      "346,\n",
      "348,\n",
      "350,\n",
      "352,\n",
      "354,\n",
      "356,\n",
      "358,\n",
      "360,\n",
      "362,\n",
      "364,\n",
      "366,\n",
      "368,\n",
      "370,\n",
      "372,\n",
      "374,\n",
      "376,\n",
      "378,\n",
      "380,\n",
      "382,\n",
      "384,\n",
      "386,\n",
      "388,\n",
      "390,\n",
      "392,\n",
      "394,\n",
      "396,\n",
      "398,\n",
      "400,\n"
     ]
    }
   ],
   "source": [
    "for i in range(100, 401, 2):\n",
    "    print(f'{i},')"
   ]
  },
  {
   "cell_type": "code",
   "execution_count": null,
   "id": "ab52072c-749b-4b9e-920c-62895d38b327",
   "metadata": {},
   "outputs": [],
   "source": []
  }
 ],
 "metadata": {
  "kernelspec": {
   "display_name": "Python 3 (ipykernel)",
   "language": "python",
   "name": "python3"
  },
  "language_info": {
   "codemirror_mode": {
    "name": "ipython",
    "version": 3
   },
   "file_extension": ".py",
   "mimetype": "text/x-python",
   "name": "python",
   "nbconvert_exporter": "python",
   "pygments_lexer": "ipython3",
   "version": "3.11.4"
  }
 },
 "nbformat": 4,
 "nbformat_minor": 5
}
