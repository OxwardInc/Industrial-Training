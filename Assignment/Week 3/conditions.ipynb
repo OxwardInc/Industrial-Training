{
 "cells": [
  {
   "cell_type": "markdown",
   "id": "ee66a32f-9a37-4ebe-94b2-6647be2de537",
   "metadata": {},
   "source": [
    "# Questiion 1\n",
    "## A program to increase one's salary\n",
    "\n",
    "The condition will only happen if the person name starts with any other alphabet exept C or P"
   ]
  },
  {
   "cell_type": "code",
   "execution_count": 6,
   "id": "e89bd099-bc8e-46a2-8250-9ea252da3a69",
   "metadata": {},
   "outputs": [
    {
     "name": "stdin",
     "output_type": "stream",
     "text": [
      "Enter your name: Paul\n",
      "Enter your age: 12\n",
      "Enter the number of years you've worked for us: 23\n",
      "Enter your salary: $ 234\n"
     ]
    },
    {
     "name": "stdout",
     "output_type": "stream",
     "text": [
      "Hi, Paul. \n",
      " There's no bonus for you because of your name\n"
     ]
    }
   ],
   "source": [
    "# If the pweson name starts with C or E, there's no bonus\n",
    "\n",
    "name = input('Enter your name:')\n",
    "age = int(input('Enter your age:'))\n",
    "service = int(input(\"Enter the number of years you've worked for us:\"))\n",
    "salary = float(input('Enter your salary: $'))\n",
    "\n",
    "bonus = 0.1 * salary\n",
    "new_salary = salary + bonus\n",
    "\n",
    "name_data = name.lower()\n",
    "if name_data.startswith('c') or name_data.startswith('p'):\n",
    "    print(f\"Hi, {name}. \\n There's no bonus for you because of your name\")\n",
    "elif service < 10:\n",
    "     print(f\"Hi, {name}. \\n There's no bonus for you because of how long you've worked for us\")\n",
    "else:\n",
    "    print(f\"Hi, {name}. \\n Your basic salary was ${salary}, and your new salary is ${new_salary}\")"
   ]
  },
  {
   "cell_type": "markdown",
   "id": "703cf2cc-2fea-416c-97c2-f07d6f86d42c",
   "metadata": {},
   "source": [
    "# Question 2\n",
    "\n",
    "## Calculating student's grades"
   ]
  },
  {
   "cell_type": "markdown",
   "id": "70349909-0a35-4d9c-855b-2c107f63e330",
   "metadata": {},
   "source": [
    "A prgram to determine the grade of a student based on his or her input\n"
   ]
  },
  {
   "cell_type": "code",
   "execution_count": 2,
   "id": "703d76d2-0057-4801-95ff-a91adad06dcc",
   "metadata": {},
   "outputs": [
    {
     "name": "stdin",
     "output_type": "stream",
     "text": [
      "Whats's your name: Paul\n",
      "Enter your score: 46\n"
     ]
    },
    {
     "name": "stdout",
     "output_type": "stream",
     "text": [
      "Hi Paul, \n",
      "the score you inputed was: 46.0 \n",
      "And your grade is D+\n"
     ]
    }
   ],
   "source": [
    "name = input(\"Whats's your name:\")\n",
    "score = float(input(\"Enter your score:\"))\n",
    "\n",
    "# calculating the grade\n",
    "if 90 <= score and score <= 100:\n",
    "    grade = 'A+'\n",
    "elif 85 <= score and score < 90:\n",
    "    grade = 'A'\n",
    "elif 80 <= score and score < 85:\n",
    "    grade = 'A-'\n",
    "elif 75 <= score and score < 80:\n",
    "    grade = 'B+'\n",
    "elif 70 <= score and score < 75:\n",
    "    grade = 'B'\n",
    "elif 65 <= score and score < 70:\n",
    "    grade = 'B-'\n",
    "elif 60 <= score and score < 65:\n",
    "    grade = 'C+'\n",
    "elif 55 <= score and score < 60:\n",
    "    grade = 'C'\n",
    "elif 50 <= score and score < 55:\n",
    "    grade = 'C-'\n",
    "elif 45 <= score and score < 50:\n",
    "    grade = 'D+'\n",
    "elif 40 <= score and score < 45:\n",
    "    grade = 'D'\n",
    "elif 0 <= score and score < 40:\n",
    "    grade = 'F'\n",
    "else:\n",
    "    print(f\"Invalid data from the {score}\")\n",
    "\n",
    "# print the corresponding grade\n",
    "\n",
    "print(f\"Hi {name}, \\nthe score you inputed was: {score} \\nAnd your grade is {grade}\")"
   ]
  },
  {
   "cell_type": "markdown",
   "id": "af2e0b04-1631-45ea-9a9b-b06c8781b4c6",
   "metadata": {},
   "source": [
    "# Question 3\n",
    "\n",
    "## Check if a number is even or odd"
   ]
  },
  {
   "cell_type": "code",
   "execution_count": 3,
   "id": "78322e68-1058-45e9-8656-fafa95fc4dd7",
   "metadata": {},
   "outputs": [
    {
     "name": "stdin",
     "output_type": "stream",
     "text": [
      "Enter a number: 56\n"
     ]
    },
    {
     "name": "stdout",
     "output_type": "stream",
     "text": [
      "The number 56.0 is a even number\n"
     ]
    }
   ],
   "source": [
    "# A program to determine if a number is even or odd\n",
    "\n",
    "number = float(input('Enter a number:'))\n",
    "\n",
    "if number % 2 == 0:\n",
    "    print(f'The number {number} is a even number')\n",
    "else:\n",
    "    print(f'The number {number} is an odd number')"
   ]
  },
  {
   "cell_type": "markdown",
   "id": "2662b057-dfd5-4bf0-97d9-2f60aa52bafd",
   "metadata": {},
   "source": [
    "# Question 4\n",
    "\n",
    "## Checking if the data provided is = to the number of sides a polygon has"
   ]
  },
  {
   "cell_type": "code",
   "execution_count": 4,
   "id": "02550a3c-934b-4548-b225-84e7d169d057",
   "metadata": {},
   "outputs": [
    {
     "name": "stdin",
     "output_type": "stream",
     "text": [
      "Enter the number of size's you have in mind: \n",
      " 78\n"
     ]
    },
    {
     "name": "stdout",
     "output_type": "stream",
     "text": [
      "invalid input. Please try again.\n"
     ]
    },
    {
     "name": "stdin",
     "output_type": "stream",
     "text": [
      "Enter the number of size's you have in mind: \n",
      " 12\n"
     ]
    },
    {
     "name": "stdout",
     "output_type": "stream",
     "text": [
      "Dodecagon has 12 sides\n"
     ]
    }
   ],
   "source": [
    "# A program to print out the name of a polygon after askin the users to input the number of sides it has\n",
    "\n",
    "while True:\n",
    "    inp = int(input(\"Enter the number of size's you have in mind: \\n\"))\n",
    "    \n",
    "    if inp == 3:\n",
    "        print(f\"Triangle has {inp} sides\")\n",
    "        break\n",
    "    elif inp == 4:\n",
    "        print(f\"Quadrilateral has {inp} sides\")\n",
    "        break\n",
    "    elif inp == 5:\n",
    "        print(f'Pentagon has {inp} sides')\n",
    "        break\n",
    "    elif inp == 6:\n",
    "        print(f'Hexagon has {inp} sides')\n",
    "        break\n",
    "    elif inp == 7:\n",
    "        print(f'Hepatagon or Septagon has {inp} sides')\n",
    "        break\n",
    "    elif inp == 8:\n",
    "        print(f' Octagon has {inp} sides')\n",
    "        break\n",
    "    elif inp == 9:\n",
    "        print(f'Nonagon has {inp} sides')\n",
    "        break\n",
    "    elif inp == 10:\n",
    "        print(f'Decagon has {inp} sides')\n",
    "        break\n",
    "    elif inp == 11:\n",
    "        print(f'Undecagon has {inp} sides')\n",
    "        break\n",
    "    elif inp == 12:\n",
    "        print(f'Dodecagon has {inp} sides')\n",
    "        break\n",
    "    elif inp == 13:\n",
    "        print(f'Tridecagon or Triskaidecagon has {inp} sides')\n",
    "        break\n",
    "    elif inp == 14:\n",
    "        print(f'Tetradecagon has {inp} sides')\n",
    "        break\n",
    "    elif inp == 15:\n",
    "        print(f'Pentadecagon has {inp} sides')\n",
    "        break\n",
    "    elif inp == 16:\n",
    "        print(f'Hexadecagon has {inp} sides')\n",
    "        break\n",
    "    elif inp == 17:\n",
    "        print(f'Heptadecagon has {inp} sides')\n",
    "        break\n",
    "    elif inp == 18:\n",
    "        print(f'Octadecagon has {inp} sides')\n",
    "        break\n",
    "    elif inp == 19:\n",
    "        print(f'Enneadecagon has {inp} sides')\n",
    "        break\n",
    "    elif inp == 20:\n",
    "        print(f'Lcosagon has {inp} sides')\n",
    "        break\n",
    "    else:\n",
    "        print(\"invalid input. Please try again.\")"
   ]
  },
  {
   "cell_type": "code",
   "execution_count": null,
   "id": "a294e6c8-6a9b-4b98-8394-cc48438cfed1",
   "metadata": {},
   "outputs": [],
   "source": []
  }
 ],
 "metadata": {
  "kernelspec": {
   "display_name": "Python 3 (ipykernel)",
   "language": "python",
   "name": "python3"
  },
  "language_info": {
   "codemirror_mode": {
    "name": "ipython",
    "version": 3
   },
   "file_extension": ".py",
   "mimetype": "text/x-python",
   "name": "python",
   "nbconvert_exporter": "python",
   "pygments_lexer": "ipython3",
   "version": "3.11.4"
  }
 },
 "nbformat": 4,
 "nbformat_minor": 5
}
