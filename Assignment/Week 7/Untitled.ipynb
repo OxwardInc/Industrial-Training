{
 "cells": [
  {
   "cell_type": "code",
   "execution_count": 2,
   "id": "c18e1f20-908e-426c-b87a-7565bc1fc032",
   "metadata": {},
   "outputs": [],
   "source": [
    "def add():\n",
    "    print(f\"Entry 1:{Entry1.get()}\")\n",
    "    print(f\"Entry 2:{Entry2.get()}\")\n",
    "    compute=float(Entry1.get()) + float(Entry2.get())\n",
    "    print(f\"Solution: {compute}\")"
   ]
  },
  {
   "cell_type": "code",
   "execution_count": 3,
   "id": "f8a92b84-1eea-4fa8-bae0-e4dd3472ee30",
   "metadata": {},
   "outputs": [],
   "source": [
    "def sub__numbers():\n",
    "    print(f\"Entry 1:{Entry1.get()}\")\n",
    "    print(f\"Entry 2:{Entry2.get()}\")\n",
    "    compute=float(Entry1.get()) - float(Entry2.get())\n",
    "    print(f\"Solution: {compute}\")"
   ]
  },
  {
   "cell_type": "code",
   "execution_count": 4,
   "id": "c6cafb11-212d-43bc-9d8b-2e31928eb2c0",
   "metadata": {},
   "outputs": [],
   "source": [
    "def mul_numbers():\n",
    "    print(f\"Entry 1:{Entry1.get()}\")\n",
    "    print(f\"Entry 2:{Entry2.get()}\")\n",
    "    compute=float(Entry1.get()) + float(Entry2.get())\n",
    "    print(f\"Solution: {compute}\")"
   ]
  },
  {
   "cell_type": "code",
   "execution_count": 5,
   "id": "1013c4e9-a3d0-403b-97c4-725ad8d7a3d7",
   "metadata": {},
   "outputs": [],
   "source": [
    "def div_numbers():\n",
    "    print(f\"Entry 1:{Entry1.get()}\")\n",
    "    print(f\"Entry 2:{Entry2.get()}\")\n",
    "    compute=float(Entry1.get()) + float(Entry2.get())\n",
    "    print(f\"Solution: {compute}\")"
   ]
  },
  {
   "cell_type": "code",
   "execution_count": 9,
   "id": "42559afd-af92-4bae-b5c3-377f286cfd55",
   "metadata": {},
   "outputs": [],
   "source": [
    "from tkinter import*\n",
    "\n",
    "root= Tk()\n",
    "\n",
    "frame1=Frame(root)\n",
    "frame1.pack()\n",
    "\n",
    "frame2 = Frame(root)\n",
    "frame2.pack()\n",
    "\n",
    "Label(frame1, text = \"Number one\").pack(side = 'left')\n",
    "\n",
    "Entry1 = Entry(frame1)\n",
    "Entry1.pack()\n",
    "\n",
    "Label(frame2, text = \"Number two\").pack(side = 'left')\n",
    "\n",
    "Entry2 = Entry(frame2)\n",
    "Entry2.pack()\n",
    "\n",
    "Button(text = 'Add', command = add).pack()\n",
    "\n",
    "root.mainloop()\n"
   ]
  },
  {
   "cell_type": "code",
   "execution_count": null,
   "id": "99e47181-0837-438c-8e41-6e51908abfbd",
   "metadata": {},
   "outputs": [],
   "source": []
  }
 ],
 "metadata": {
  "kernelspec": {
   "display_name": "Python 3 (ipykernel)",
   "language": "python",
   "name": "python3"
  },
  "language_info": {
   "codemirror_mode": {
    "name": "ipython",
    "version": 3
   },
   "file_extension": ".py",
   "mimetype": "text/x-python",
   "name": "python",
   "nbconvert_exporter": "python",
   "pygments_lexer": "ipython3",
   "version": "3.11.5"
  }
 },
 "nbformat": 4,
 "nbformat_minor": 5
}
