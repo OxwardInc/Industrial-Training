{
 "cells": [
  {
   "cell_type": "code",
   "execution_count": 3,
   "id": "4ec83dfb-2f19-49ce-acb0-1d42249ff937",
   "metadata": {},
   "outputs": [],
   "source": [
    "\n",
    "def add_numbers():\n",
    "    print(f\"Entry 1: {Entry1.get()}\")\n",
    "    print(f\"Entry 2: {Entry2.get()}\")\n",
    "    compute = float(Entry1.get()) + float(Entry2.get())\n",
    "    print(f\"Solution: {compute}\")\n",
    "\n",
    "def sub_numbers():\n",
    "    print(f\"Entry 1: {Entry1.get()}\")\n",
    "    print(f\"Entry 2: {Entry2.get()}\")\n",
    "    compute = float(Entry1.get()) - float(Entry2.get())\n",
    "    print(f\"Solution: {compute}\")\n",
    "\n",
    "def mul_numbers():\n",
    "    print(f\"Entry 1: {Entry1.get()}\")\n",
    "    print(f\"Entry 2: {Entry2.get()}\")\n",
    "    compute = float(Entry1.get()) * float(Entry2.get())\n",
    "    print(f\"Solution: {compute}\")\n",
    "\n",
    "def div_numbers():\n",
    "    print(f\"Entry 1: {Entry1.get()}\")\n",
    "    print(f\"Entry 2: {Entry2.get()}\")\n",
    "    compute = float(Entry1.get()) / float(Entry2.get())\n",
    "    print(f\"Solution: {compute}\")"
   ]
  },
  {
   "cell_type": "code",
   "execution_count": 2,
   "id": "ed401f94-70fa-4738-b890-044de2a48c61",
   "metadata": {},
   "outputs": [
    {
     "name": "stdout",
     "output_type": "stream",
     "text": [
      "3.0\n"
     ]
    }
   ],
   "source": [
    "from tkinter import *\n",
    "\n",
    "root = Tk()\n",
    "\n",
    "frame1 = Frame(root)\n",
    "frame1.pack()\n",
    "\n",
    "frame2 = Frame(root)\n",
    "frame2.pack()\n",
    "\n",
    "Label(frame1, text = \"Number one\").pack(side = 'left')\n",
    "\n",
    "Entry1 = Entry(frame1)\n",
    "Entry1.pack()\n",
    "\n",
    "Label(frame2, text = \"Number two\").pack(side = 'left')\n",
    "\n",
    "Entry2 = Entry(frame2)\n",
    "Entry2.pack()\n",
    "\n",
    "Button(text = 'Add', command = add_numbers).pack()\n",
    "\n",
    "root.mainloop()"
   ]
  },
  {
   "cell_type": "code",
   "execution_count": 6,
   "id": "8b23c8d4-602a-4778-8d89-5ee16382cff3",
   "metadata": {},
   "outputs": [
    {
     "name": "stdout",
     "output_type": "stream",
     "text": [
      "Entry 1: 1\n",
      "Entry 2: 2\n",
      "Solution: 3.0\n",
      "Entry 1: 1\n",
      "Entry 2: 2\n",
      "Solution: 2.0\n",
      "Entry 1: 1\n",
      "Entry 2: 2\n",
      "Solution: 0.5\n",
      "Entry 1: 1\n",
      "Entry 2: 2\n",
      "Solution: -1.0\n"
     ]
    }
   ],
   "source": [
    "from tkinter import *\n",
    "\n",
    "root = Tk()\n",
    "\n",
    "frame1 = Frame(root)\n",
    "frame1.pack()\n",
    "\n",
    "frame2 = Frame(root)\n",
    "frame2.pack()\n",
    "\n",
    "Label(frame1, text = \"Number one\").pack(side = 'left')\n",
    "\n",
    "Entry1 = Entry(frame1)\n",
    "Entry1.pack()\n",
    "\n",
    "Label(frame2, text = \"Number two\").pack(side = 'left')\n",
    "\n",
    "Entry2 = Entry(frame2)\n",
    "Entry2.pack()\n",
    "\n",
    "Button(text = 'Add', command = add_numbers).pack(side = 'left')\n",
    "Button(text = 'Sub', command = sub_numbers).pack(side = 'right')\n",
    "Button(text = 'Mul', command = mul_numbers).pack(side = 'left')\n",
    "Button(text = 'Div', command = div_numbers).pack(side = 'right')\n",
    "\n",
    "root.mainloop()"
   ]
  },
  {
   "cell_type": "code",
   "execution_count": null,
   "id": "96f46bed-fcc1-470f-9c15-e98bddeda44c",
   "metadata": {},
   "outputs": [],
   "source": []
  }
 ],
 "metadata": {
  "kernelspec": {
   "display_name": "Python 3 (ipykernel)",
   "language": "python",
   "name": "python3"
  },
  "language_info": {
   "codemirror_mode": {
    "name": "ipython",
    "version": 3
   },
   "file_extension": ".py",
   "mimetype": "text/x-python",
   "name": "python",
   "nbconvert_exporter": "python",
   "pygments_lexer": "ipython3",
   "version": "3.11.5"
  }
 },
 "nbformat": 4,
 "nbformat_minor": 5
}
