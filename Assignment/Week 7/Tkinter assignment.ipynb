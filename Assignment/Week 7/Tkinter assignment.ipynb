{
 "cells": [
  {
   "cell_type": "code",
   "execution_count": 1,
   "id": "4ec83dfb-2f19-49ce-acb0-1d42249ff937",
   "metadata": {},
   "outputs": [],
   "source": [
    "\n",
    "def add_numbers():\n",
    "    print(f\"Entry 1: {Entry1.get()}\")\n",
    "    print(f\"Entry 2: {Entry2.get()}\")\n",
    "    compute = float(Entry1.get()) + float(Entry2.get())\n",
    "    print(f\"Solution: {compute}\")\n",
    "\n",
    "def sub_numbers():\n",
    "    print(f\"Entry 1: {Entry1.get()}\")\n",
    "    print(f\"Entry 2: {Entry2.get()}\")\n",
    "    compute = float(Entry1.get()) - float(Entry2.get())\n",
    "    print(f\"Solution: {compute}\")\n",
    "\n",
    "def mul_numbers():\n",
    "    print(f\"Entry 1: {Entry1.get()}\")\n",
    "    print(f\"Entry 2: {Entry2.get()}\")\n",
    "    compute = float(Entry1.get()) * float(Entry2.get())\n",
    "    print(f\"Solution: {compute}\")\n",
    "\n",
    "def div_numbers():\n",
    "    print(f\"Entry 1: {Entry1.get()}\")\n",
    "    print(f\"Entry 2: {Entry2.get()}\")\n",
    "    compute = float(Entry1.get()) / float(Entry2.get())\n",
    "    print(f\"Solution: {compute}\")"
   ]
  },
  {
   "cell_type": "code",
   "execution_count": 2,
   "id": "ed401f94-70fa-4738-b890-044de2a48c61",
   "metadata": {},
   "outputs": [],
   "source": [
    "from tkinter import *\n",
    "\n",
    "root = Tk()\n",
    "\n",
    "frame1 = Frame(root)\n",
    "frame1.pack()\n",
    "\n",
    "frame2 = Frame(root)\n",
    "frame2.pack()\n",
    "\n",
    "Label(frame1, text = \"Number one\").pack(side = 'left')\n",
    "\n",
    "Entry1 = Entry(frame1)\n",
    "Entry1.pack()\n",
    "\n",
    "Label(frame2, text = \"Number two\").pack(side = 'left')\n",
    "\n",
    "Entry2 = Entry(frame2)\n",
    "Entry2.pack()\n",
    "\n",
    "Button(text = 'Add', command = add_numbers).pack()\n",
    "\n",
    "root.mainloop()"
   ]
  },
  {
   "cell_type": "code",
   "execution_count": 9,
   "id": "8b23c8d4-602a-4778-8d89-5ee16382cff3",
   "metadata": {},
   "outputs": [
    {
     "name": "stdout",
     "output_type": "stream",
     "text": [
      "Entry 1: 12\n",
      "Entry 2: 6\n",
      "Solution: 18.0\n",
      "Entry 1: 12\n",
      "Entry 2: 6\n",
      "Solution: 72.0\n",
      "Entry 1: 12\n",
      "Entry 2: 6\n",
      "Solution: 2.0\n",
      "Entry 1: 12\n",
      "Entry 2: 6\n",
      "Solution: 6.0\n"
     ]
    }
   ],
   "source": [
    "from tkinter import *\n",
    "\n",
    "root = Tk()\n",
    "\n",
    "frame1 = Frame(root)\n",
    "frame1.pack()\n",
    "\n",
    "frame2 = Frame(root)\n",
    "frame2.pack()\n",
    "\n",
    "Label(frame1, text = \"Number one\").pack(side = 'left')\n",
    "\n",
    "Entry1 = Entry(frame1)\n",
    "Entry1.pack()\n",
    "\n",
    "Label(frame2, text = \"Number two\").pack(side = 'left')\n",
    "\n",
    "Entry2 = Entry(frame2)\n",
    "Entry2.pack()\n",
    "\n",
    "Button(text = 'Add', command = add_numbers).pack(side = 'left')\n",
    "Button(text = 'Sub', command = sub_numbers).pack(side = 'right')\n",
    "Button(text = 'Mul', command = mul_numbers).pack(side = 'left')\n",
    "Button(text = 'Div', command = div_numbers).pack(side = 'right')\n",
    "\n",
    "root.mainloop()"
   ]
  },
  {
   "cell_type": "markdown",
   "id": "d79b4641-cf0c-471a-bcb2-611d6964d122",
   "metadata": {
    "jp-MarkdownHeadingCollapsed": true
   },
   "source": [
    "### 1. Encapsulation:\r\n",
    "\r\n",
    "Encapsulation involves bundling data (attributes) and methods (functions) that operate on that data into a single unit called a class. It restricts direct access to an object's internal state, and instead, you interact with the object through well-defined methods."
   ]
  },
  {
   "cell_type": "code",
   "execution_count": 10,
   "id": "ef97eac2-4739-4f2b-b959-df54efb42a17",
   "metadata": {},
   "outputs": [
    {
     "name": "stdout",
     "output_type": "stream",
     "text": [
      "Alice\n",
      "20\n"
     ]
    }
   ],
   "source": [
    "class Student:\n",
    "    def __init__(self, name, age):\n",
    "        self.name = name  # attribute\n",
    "        self.age = age    # attribute\n",
    "\n",
    "    def get_name(self):  # method\n",
    "        return self.name\n",
    "\n",
    "    def get_age(self):   # method\n",
    "        return self.age\n",
    "\n",
    "# Creating an instance of the Student class\n",
    "student1 = Student(\"Alice\", 20)\n",
    "\n",
    "# Accessing attributes through methods\n",
    "print(student1.get_name())  # Output: Alice\n",
    "print(student1.get_age())   # Output: 20\n"
   ]
  },
  {
   "cell_type": "markdown",
   "id": "e0963add-5578-4368-87bd-3cb70166b37d",
   "metadata": {
    "jp-MarkdownHeadingCollapsed": true
   },
   "source": [
    "### 2. Inheritance:\r\n",
    "\r\n",
    "Inheritance allows you to create new classes (subclasses) that inherit attributes and methods from existing classes (superclasses). Subclasses can extend, override, or add new functionality."
   ]
  },
  {
   "cell_type": "code",
   "execution_count": 11,
   "id": "dd957520-41b7-48c7-b0bc-9f28394c503f",
   "metadata": {},
   "outputs": [
    {
     "name": "stdout",
     "output_type": "stream",
     "text": [
      "Woof!\n",
      "Meow!\n"
     ]
    }
   ],
   "source": [
    "class Animal:\n",
    "    def __init__(self, name):\n",
    "        self.name = name\n",
    "\n",
    "    def speak(self):\n",
    "        pass\n",
    "\n",
    "class Dog(Animal):\n",
    "    def speak(self):\n",
    "        return \"Woof!\"\n",
    "\n",
    "class Cat(Animal):\n",
    "    def speak(self):\n",
    "        return \"Meow!\"\n",
    "\n",
    "dog = Dog(\"Buddy\")\n",
    "cat = Cat(\"Whiskers\")\n",
    "\n",
    "print(dog.speak())  # Output: Woof!\n",
    "print(cat.speak())  # Output: Meow!\n"
   ]
  },
  {
   "cell_type": "markdown",
   "id": "60108339-196b-45b7-90ad-a555ee048f58",
   "metadata": {},
   "source": [
    "### 3. Polymorphism:\n",
    "\n",
    "Polymorphism allows objects of different classes to be treated as objects of a common superclass. It simplifies code by allowing you to work with objects based on their shared interface."
   ]
  },
  {
   "cell_type": "code",
   "execution_count": 12,
   "id": "86ba573b-1270-4d4b-9e44-25cb0a18c757",
   "metadata": {},
   "outputs": [
    {
     "name": "stdout",
     "output_type": "stream",
     "text": [
      "Area: 78.5\n",
      "Area: 24\n"
     ]
    }
   ],
   "source": [
    "class Shape:\n",
    "    def calculate_area(self):\n",
    "        pass\n",
    "\n",
    "class Circle(Shape):\n",
    "    def __init__(self, radius):\n",
    "        self.radius = radius\n",
    "\n",
    "    def calculate_area(self):\n",
    "        return 3.14 * self.radius * self.radius\n",
    "\n",
    "class Rectangle(Shape):\n",
    "    def __init__(self, length, width):\n",
    "        self.length = length\n",
    "        self.width = width\n",
    "\n",
    "    def calculate_area(self):\n",
    "        return self.length * self.width\n",
    "\n",
    "shapes = [Circle(5), Rectangle(4, 6)]\n",
    "\n",
    "for shape in shapes:\n",
    "    print(f\"Area: {shape.calculate_area()}\")\n"
   ]
  },
  {
   "cell_type": "markdown",
   "id": "3e4999b7-aefc-455e-80bd-a34796d37df8",
   "metadata": {},
   "source": [
    "### 4. Abstraction:\r\n",
    "\r\n",
    "Abstraction simplifies complex systems by modeling classes based on essential properties and behaviors while hiding unnecessary details."
   ]
  },
  {
   "cell_type": "code",
   "execution_count": 13,
   "id": "603a554d-175a-4a4b-921e-47870173992d",
   "metadata": {},
   "outputs": [
    {
     "name": "stdout",
     "output_type": "stream",
     "text": [
      "Starting the Toyota Camry car.\n",
      "Starting the Honda CBR bike.\n"
     ]
    }
   ],
   "source": [
    "from abc import ABC, abstractmethod\n",
    "\n",
    "class Vehicle(ABC):  # Abstract base class\n",
    "    def __init__(self, make, model):\n",
    "        self.make = make\n",
    "        self.model = model\n",
    "\n",
    "    @abstractmethod\n",
    "    def start(self):\n",
    "        pass\n",
    "\n",
    "class Car(Vehicle):\n",
    "    def start(self):\n",
    "        return f\"Starting the {self.make} {self.model} car.\"\n",
    "\n",
    "class Bike(Vehicle):\n",
    "    def start(self):\n",
    "        return f\"Starting the {self.make} {self.model} bike.\"\n",
    "\n",
    "# Creating instances\n",
    "car = Car(\"Toyota\", \"Camry\")\n",
    "bike = Bike(\"Honda\", \"CBR\")\n",
    "\n",
    "print(car.start())  # Output: Starting the Toyota Camry car.\n",
    "print(bike.start())  # Output: Starting the Honda CBR bike.\n"
   ]
  },
  {
   "cell_type": "code",
   "execution_count": 15,
   "id": "20d56184-51d8-4bb1-ae95-1792392f4f01",
   "metadata": {},
   "outputs": [
    {
     "data": {
      "text/plain": [
       "['__abstractmethods__',\n",
       " '__class__',\n",
       " '__delattr__',\n",
       " '__dir__',\n",
       " '__doc__',\n",
       " '__eq__',\n",
       " '__format__',\n",
       " '__ge__',\n",
       " '__getattribute__',\n",
       " '__getstate__',\n",
       " '__gt__',\n",
       " '__hash__',\n",
       " '__init__',\n",
       " '__init_subclass__',\n",
       " '__le__',\n",
       " '__lt__',\n",
       " '__module__',\n",
       " '__ne__',\n",
       " '__new__',\n",
       " '__reduce__',\n",
       " '__reduce_ex__',\n",
       " '__repr__',\n",
       " '__setattr__',\n",
       " '__sizeof__',\n",
       " '__slots__',\n",
       " '__str__',\n",
       " '__subclasshook__',\n",
       " '_abc_impl']"
      ]
     },
     "execution_count": 15,
     "metadata": {},
     "output_type": "execute_result"
    }
   ],
   "source": [
    "dir(ABC)"
   ]
  },
  {
   "cell_type": "code",
   "execution_count": null,
   "id": "c93e1f7c-6661-48b5-92d8-879a3344896d",
   "metadata": {},
   "outputs": [],
   "source": []
  }
 ],
 "metadata": {
  "kernelspec": {
   "display_name": "Python 3 (ipykernel)",
   "language": "python",
   "name": "python3"
  },
  "language_info": {
   "codemirror_mode": {
    "name": "ipython",
    "version": 3
   },
   "file_extension": ".py",
   "mimetype": "text/x-python",
   "name": "python",
   "nbconvert_exporter": "python",
   "pygments_lexer": "ipython3",
   "version": "3.11.5"
  }
 },
 "nbformat": 4,
 "nbformat_minor": 5
}
