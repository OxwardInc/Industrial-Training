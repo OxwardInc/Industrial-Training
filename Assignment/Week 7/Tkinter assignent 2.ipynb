{
 "cells": [
  {
   "cell_type": "markdown",
   "id": "560cd01d-350d-4e44-91c4-ddc5bec8cb6b",
   "metadata": {},
   "source": [
    "How to include radio button and chechbox widgets"
   ]
  },
  {
   "cell_type": "code",
   "execution_count": 1,
   "id": "b83376d8-4c9a-4073-a2f8-25353a4603dd",
   "metadata": {},
   "outputs": [],
   "source": [
    "import tkinter as tk\n",
    "\n",
    "def show_selection():\n",
    "    selected_options = [option for option, var in zip(['Option 1', 'Option 2', 'Option 3'], checkbox_vars) if var.get() == 1]\n",
    "    selection_label.config(text = \"Selected option: \" + \" \".join(selected_options))\n",
    "\n",
    "root = tk.Tk()\n",
    "checkbox_vars = [tk.BooleanVar() for _ in range(3)]\n",
    "\n",
    "for i, option in enumerate([\"Option 1\", \"Option 2\", \"Option 3\"]):\n",
    "    checkbox = tk.Checkbutton(root, text = option, variable = checkbox_vars[i])\n",
    "    checkbox.pack()\n",
    "\n",
    "show_button = tk.Button(root, text = \"Show Selection\", command = show_selection)\n",
    "selection_label = tk.Label(root, text = '')\n",
    "show_button.pack()\n",
    "selection_label.pack()\n",
    "\n",
    "root.mainloop()"
   ]
  },
  {
   "cell_type": "code",
   "execution_count": 3,
   "id": "bee49419-f382-4e4a-8552-63817ab3f330",
   "metadata": {},
   "outputs": [],
   "source": [
    "import tkinter as tk\n",
    "\n",
    "def radio_button():\n",
    "    selected_options = [option for option, var in zip(['Option 1', 'Option 2', 'Option 3'], radio_button_var) if var.get() == 1]\n",
    "    selection_label.config(text = \"Selected option: \" + \" \".join(selected_options))\n",
    "\n",
    "root = tk.Tk()\n",
    "radio_button_var = [tk.BooleanVar() for _ in range(3)]\n",
    "\n",
    "for i, option in enumerate([\"Option 1\", \"Option 2\", \"Option 3\"]):\n",
    "    radio_button = tk.Radiobutton(root, text = option, variable = radio_button_var[i])\n",
    "    radio_button.pack()\n",
    "\n",
    "show_button = tk.Button(root, text = \"Show Selection\", command = show_selection)\n",
    "selection_label = tk.Label(root, text = '')\n",
    "show_button.pack()\n",
    "selection_label.pack()\n",
    "\n",
    "root.mainloop()"
   ]
  },
  {
   "cell_type": "code",
   "execution_count": 5,
   "id": "519e86d5-31a0-4a50-9dce-27e3645c6fcb",
   "metadata": {},
   "outputs": [
    {
     "name": "stdout",
     "output_type": "stream",
     "text": [
      "red\n"
     ]
    }
   ],
   "source": [
    "\n",
    "import tkinter as TK\n",
    "from tkinter import *\n",
    "\n",
    "def change_color():\n",
    "    color = ent.get()\n",
    "    print(color)\n",
    "    master.config(bg = color)\n",
    "\n",
    "\n",
    "master = Tk(className = 'Color changer')\n",
    "#master.title('Color changer')\n",
    "Label(master, text = \"Color changer\").grid(row = 0, column = 0, columnspan = 2)\n",
    "Label(master, text = 'Color').grid(row = 1, column = 0)\n",
    "\n",
    "ent= Entry(master)\n",
    "ent.grid(row=1, column= 1)\n",
    "  \n",
    "Button(master, text = 'Change', command = change_color).grid(row = 2, column = 0)\n",
    "\n",
    "\n",
    "\n",
    "master.mainloop()"
   ]
  },
  {
   "cell_type": "markdown",
   "id": "388b653b-42d3-4abf-892b-d90e99088aca",
   "metadata": {},
   "source": [
    "Change font style and size "
   ]
  },
  {
   "cell_type": "code",
   "execution_count": 12,
   "id": "cbefbde2-15a1-4c0e-ad4e-7d6740b19a76",
   "metadata": {},
   "outputs": [
    {
     "name": "stdout",
     "output_type": "stream",
     "text": [
      "Font Family: italic\n",
      "Font Size: 15\n",
      "Font Family: bold\n",
      "Font Size: 15\n",
      "Font Family: italic\n",
      "Font Size: 15\n"
     ]
    }
   ],
   "source": [
    "import tkinter as tk\n",
    "import tkinter.font as tkFont\n",
    "\n",
    "def change_font():\n",
    "    font_family = font_family_entry.get()\n",
    "    font_size = int(font_size_entry.get())\n",
    "\n",
    "    # create a font object with specified style and size\n",
    "    updated_font = tkFont.Font(family = font_family, size = font_size)\n",
    "\n",
    "    # Update the label's font\n",
    "    label.config(font = updated_font)\n",
    "\n",
    "    print(\"Font Family:\", font_family)\n",
    "    print(\"Font Size:\", font_size)\n",
    "\n",
    "root = tk.Tk()\n",
    "\n",
    "# Entry for font family\n",
    "font_family_label = tk.Label(root, text = 'Font family:')\n",
    "font_family_label.pack()\n",
    "font_family_entry = tk.Entry(root)\n",
    "font_family_entry.pack()\n",
    "\n",
    "# entry for font size\n",
    "font_size_label = tk.Label(root, text = 'Font size:')\n",
    "font_size_label.pack()\n",
    "font_size_entry = tk.Entry(root)\n",
    "font_size_entry.pack()\n",
    "\n",
    "# Label with initial font settings\n",
    "label = tk.Label(root, text = \"Change me!\", font = (\"TkDefaultFont\", 12))\n",
    "label.pack()\n",
    "\n",
    "# Button to apply changes\n",
    "change_button = tk.Button(root, text = \"Apply Changees\", command = change_font)\n",
    "change_button.pack()\n",
    "\n",
    "root.mainloop()"
   ]
  },
  {
   "cell_type": "code",
   "execution_count": null,
   "id": "8e85e0c3-7077-462e-9523-30fb179991fb",
   "metadata": {},
   "outputs": [],
   "source": []
  }
 ],
 "metadata": {
  "kernelspec": {
   "display_name": "Python 3 (ipykernel)",
   "language": "python",
   "name": "python3"
  },
  "language_info": {
   "codemirror_mode": {
    "name": "ipython",
    "version": 3
   },
   "file_extension": ".py",
   "mimetype": "text/x-python",
   "name": "python",
   "nbconvert_exporter": "python",
   "pygments_lexer": "ipython3",
   "version": "3.11.5"
  }
 },
 "nbformat": 4,
 "nbformat_minor": 5
}
