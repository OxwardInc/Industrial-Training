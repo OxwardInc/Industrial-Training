{
 "cells": [
  {
   "cell_type": "markdown",
   "id": "560cd01d-350d-4e44-91c4-ddc5bec8cb6b",
   "metadata": {},
   "source": [
    "How to include radio button and chechbox widgets"
   ]
  },
  {
   "cell_type": "code",
   "execution_count": 1,
   "id": "b83376d8-4c9a-4073-a2f8-25353a4603dd",
   "metadata": {},
   "outputs": [],
   "source": [
    "import tkinter as tk\n",
    "\n",
    "def show_selection():\n",
    "    selected_options = [option for option, var in zip(['Option 1', 'Option 2', 'Option 3'], checkbox_vars) if var.get() == 1]\n",
    "    selection_label.config(text = \"Selected option: \" + \" \".join(selected_options))\n",
    "\n",
    "root = tk.Tk()\n",
    "checkbox_vars = [tk.BooleanVar() for _ in range(3)]\n",
    "\n",
    "for i, option in enumerate([\"Option 1\", \"Option 2\", \"Option 3\"]):\n",
    "    checkbox = tk.Checkbutton(root, text = option, variable = checkbox_vars[i])\n",
    "    checkbox.pack()\n",
    "\n",
    "show_button = tk.Button(root, text = \"Show Selection\", command = show_selection)\n",
    "selection_label = tk.Label(root, text = '')\n",
    "show_button.pack()\n",
    "selection_label.pack()\n",
    "\n",
    "root.mainloop()"
   ]
  },
  {
   "cell_type": "code",
   "execution_count": 3,
   "id": "bee49419-f382-4e4a-8552-63817ab3f330",
   "metadata": {},
   "outputs": [],
   "source": [
    "import tkinter as tk\n",
    "\n",
    "def radio_button():\n",
    "    selected_options = [option for option, var in zip(['Option 1', 'Option 2', 'Option 3'], radio_button_var) if var.get() == 1]\n",
    "    selection_label.config(text = \"Selected option: \" + \" \".join(selected_options))\n",
    "\n",
    "root = tk.Tk()\n",
    "radio_button_var = [tk.BooleanVar() for _ in range(3)]\n",
    "\n",
    "for i, option in enumerate([\"Option 1\", \"Option 2\", \"Option 3\"]):\n",
    "    radio_button = tk.Radiobutton(root, text = option, variable = radio_button_var[i])\n",
    "    radio_button.pack()\n",
    "\n",
    "show_button = tk.Button(root, text = \"Show Selection\", command = show_selection)\n",
    "selection_label = tk.Label(root, text = '')\n",
    "show_button.pack()\n",
    "selection_label.pack()\n",
    "\n",
    "root.mainloop()"
   ]
  },
  {
   "cell_type": "code",
   "execution_count": 5,
   "id": "519e86d5-31a0-4a50-9dce-27e3645c6fcb",
   "metadata": {},
   "outputs": [
    {
     "name": "stdout",
     "output_type": "stream",
     "text": [
      "red\n"
     ]
    }
   ],
   "source": [
    "\n",
    "import tkinter as TK\n",
    "from tkinter import *\n",
    "\n",
    "def change_color():\n",
    "    color = ent.get()\n",
    "    print(color)\n",
    "    master.config(bg = color)\n",
    "\n",
    "\n",
    "master = Tk(className = 'Color changer')\n",
    "#master.title('Color changer')\n",
    "Label(master, text = \"Color changer\").grid(row = 0, column = 0, columnspan = 2)\n",
    "Label(master, text = 'Color').grid(row = 1, column = 0)\n",
    "\n",
    "ent= Entry(master)\n",
    "ent.grid(row=1, column= 1)\n",
    "  \n",
    "Button(master, text = 'Change', command = change_color).grid(row = 2, column = 0)\n",
    "\n",
    "\n",
    "\n",
    "master.mainloop()"
   ]
  },
  {
   "cell_type": "code",
   "execution_count": 2,
   "id": "cbefbde2-15a1-4c0e-ad4e-7d6740b19a76",
   "metadata": {},
   "outputs": [],
   "source": [
    "import tkinter as tk\n",
    "\n",
    "def change_font_color():\n",
    "    color = color_entry.get()\n",
    "    font_size = int(font_size_entry.get())\n",
    "\n",
    "    # Updating the background color\n",
    "    root.config(bg = color)\n",
    "\n",
    "    # Creating a new font with the specified size\n",
    "    updated_font = (\"TkDefaultFont\", font_size)\n",
    "\n",
    "    # Update the label's font\n",
    "    label.config(font = updated_font)\n",
    "\n",
    "    print('Background color:', color)"
   ]
  }
 ],
 "metadata": {
  "kernelspec": {
   "display_name": "Python 3 (ipykernel)",
   "language": "python",
   "name": "python3"
  },
  "language_info": {
   "codemirror_mode": {
    "name": "ipython",
    "version": 3
   },
   "file_extension": ".py",
   "mimetype": "text/x-python",
   "name": "python",
   "nbconvert_exporter": "python",
   "pygments_lexer": "ipython3",
   "version": "3.11.5"
  }
 },
 "nbformat": 4,
 "nbformat_minor": 5
}
