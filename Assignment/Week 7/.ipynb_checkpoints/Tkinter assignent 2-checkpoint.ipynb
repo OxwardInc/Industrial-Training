{
 "cells": [
  {
   "cell_type": "code",
   "execution_count": 1,
   "id": "cbefbde2-15a1-4c0e-ad4e-7d6740b19a76",
   "metadata": {},
   "outputs": [],
   "source": [
    "from tkinter import *\n",
    "\n",
    "def compute():\n",
    "    add = float(Entry1.get()) + float(Entry2.get())\n",
    "    result.config(text=f\"Result: {add}\")\n",
    "\n",
    "\n",
    "root = Tk()\n",
    "\n",
    "frame1 = Frame(root)\n",
    "frame1.pack()\n",
    "\n",
    "frame2 = Frame(root)\n",
    "frame2.pack()\n",
    "\n",
    "Label(frame1, text = \"Number one\").pack(side = 'left')\n",
    "\n",
    "Entry1 = Entry(frame1)\n",
    "Entry1.pack()\n",
    "\n",
    "Label(frame2, text = \"Number two\").pack(side = 'left')\n",
    "\n",
    "Entry2 = Entry(frame2)\n",
    "Entry2.pack()\n",
    "\n",
    "Button(root, text = 'Add', command = compute).pack()\n",
    "result = Label(root)\n",
    "result.pack()\n",
    "\n",
    "root.mainloop()"
   ]
  },
  {
   "cell_type": "code",
   "execution_count": null,
   "id": "519e86d5-31a0-4a50-9dce-27e3645c6fcb",
   "metadata": {},
   "outputs": [],
   "source": [
    "\n",
    "import tkinter as TK\n",
    "from tkinter import *\n",
    "\n",
    "def change_color():\n",
    "    color = ent.get()\n",
    "    print(color)\n",
    "    master.config(bg = color)\n",
    "\n",
    "def change_font_size():\n",
    "    font_size = ent.get()\n",
    "    print(font)\n",
    "    master.config(s\n",
    "\n",
    "\n",
    "master = Tk(className = 'Color changer')\n",
    "#master.title('Color changer')\n",
    "Label(master, text = \"Color changer\").grid(row = 0, column = 0, columnspan = 2)\n",
    "Label(master, text = 'Color').grid(row = 1, column = 0)\n",
    "\n",
    "ent= Entry(master)\n",
    "ent.grid(row=1, column= 1)\n",
    "  \n",
    "Button(master, text = 'Change', command = change_color).grid(row = 2, column = 0)\n",
    "\n",
    "\n",
    "\n",
    "master.mainloop()"
   ]
  }
 ],
 "metadata": {
  "kernelspec": {
   "display_name": "Python 3 (ipykernel)",
   "language": "python",
   "name": "python3"
  },
  "language_info": {
   "codemirror_mode": {
    "name": "ipython",
    "version": 3
   },
   "file_extension": ".py",
   "mimetype": "text/x-python",
   "name": "python",
   "nbconvert_exporter": "python",
   "pygments_lexer": "ipython3",
   "version": "3.11.5"
  }
 },
 "nbformat": 4,
 "nbformat_minor": 5
}
