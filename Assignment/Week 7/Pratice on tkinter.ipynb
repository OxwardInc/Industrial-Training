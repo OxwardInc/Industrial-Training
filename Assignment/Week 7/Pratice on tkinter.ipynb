{
 "cells": [
  {
   "cell_type": "markdown",
   "id": "b5877eb0-9591-46d5-b014-cf911622c0b0",
   "metadata": {},
   "source": [
    "### Hello World Application"
   ]
  },
  {
   "cell_type": "code",
   "execution_count": 1,
   "id": "56b1e76e-b416-475d-9578-b600a571e3a7",
   "metadata": {},
   "outputs": [],
   "source": [
    "import tkinter as tk\n",
    "\n",
    "root = tk.Tk()\n",
    "label = tk.Label(root, text = 'Hello, Tkinter!')\n",
    "label.pack()\n",
    "\n",
    "root.mainloop()"
   ]
  },
  {
   "cell_type": "markdown",
   "id": "d0f69129-2509-4ec0-83e7-22c8c8107a03",
   "metadata": {},
   "source": [
    "### Button click event"
   ]
  },
  {
   "cell_type": "code",
   "execution_count": 2,
   "id": "181ec792-65c6-4795-8d33-042ee6efd2ea",
   "metadata": {},
   "outputs": [],
   "source": [
    "import tkinter as tk\n",
    "\n",
    "def on_button_click():\n",
    "    label.config(text = \"Button Clickwd!\")\n",
    "\n",
    "root = tk.Tk()\n",
    "button = tk.Button(root, text = \"Clicked Me\", command = on_button_click)\n",
    "label = tk.Label(root, text = '')\n",
    "button.pack()\n",
    "label.pack()\n",
    "\n",
    "root.mainloop()"
   ]
  },
  {
   "cell_type": "markdown",
   "id": "f374b728-0aeb-4422-a50a-ac16b5800009",
   "metadata": {},
   "source": [
    "### Entry Widget"
   ]
  },
  {
   "cell_type": "code",
   "execution_count": 3,
   "id": "314b7da9-2cda-4890-8ef7-a5a2d6627644",
   "metadata": {},
   "outputs": [],
   "source": [
    "import tkinter as tk\n",
    "\n",
    "def on_button_click():\n",
    "    user_input = entry.get()\n",
    "    label.config(text = f\"You entered: {user_input}\")\n",
    "\n",
    "root = tk.Tk()\n",
    "entry = tk.Entry(root)\n",
    "button = tk.Button(root, text = 'Submit', command = on_button_click)\n",
    "label = tk.Label(root, text = '')\n",
    "entry.pack()\n",
    "button.pack()\n",
    "label.pack()\n",
    "\n",
    "root.mainloop()"
   ]
  },
  {
   "cell_type": "markdown",
   "id": "862ae548-6eaf-4b72-a5a5-d82c94ca90e1",
   "metadata": {},
   "source": [
    "### Checkboxs and Radio Buttons"
   ]
  },
  {
   "cell_type": "code",
   "execution_count": 14,
   "id": "83b4f459-7702-4f0f-98e1-b2af316875d4",
   "metadata": {},
   "outputs": [],
   "source": [
    "import tkinter as tk\n",
    "\n",
    "def show_selection():\n",
    "    selection_label.config(text = \"Selected option: \" + \" \".join([var.get() for var in checkbox_vars]))\n",
    "\n",
    "root = tk.Tk()\n",
    "checkbox_vars = [tk.StringVar() for _ in range(3)]\n",
    "\n",
    "for i, option in enumerate([\"Option 1\", \"Option 2\", \"Option 3\"]):\n",
    "    checkbox = tk.Checkbutton(root, text = option, variable = checkbox_vars[i])\n",
    "    checkbox.pack()\n",
    "\n",
    "show_button = tk.Button(root, text = \"Show Selection\", command = show_selection)\n",
    "selection_label = tk.Label(root, text = '')\n",
    "show_button.pack()\n",
    "selection_label.pack()\n",
    "\n",
    "root.mainloop()"
   ]
  },
  {
   "cell_type": "code",
   "execution_count": 16,
   "id": "f896cfcd-d9f0-4354-916d-ce06fe7dea5f",
   "metadata": {},
   "outputs": [],
   "source": [
    "import tkinter as tk\n",
    "\n",
    "def show_selection():\n",
    "    selected_options = [option for option, var in zip(['Option 1', 'Option 2', 'Option 3'], checkbox_vars) if var.get() == 1]\n",
    "    selection_label.config(text = \"Selected option: \" + \" \".join(selected_options))\n",
    "\n",
    "root = tk.Tk()\n",
    "checkbox_vars = [tk.BooleanVar() for _ in range(3)]\n",
    "\n",
    "for i, option in enumerate([\"Option 1\", \"Option 2\", \"Option 3\"]):\n",
    "    checkbox = tk.Checkbutton(root, text = option, variable = checkbox_vars[i])\n",
    "    checkbox.pack()\n",
    "\n",
    "show_button = tk.Button(root, text = \"Show Selection\", command = show_selection)\n",
    "selection_label = tk.Label(root, text = '')\n",
    "show_button.pack()\n",
    "selection_label.pack()\n",
    "\n",
    "root.mainloop()"
   ]
  },
  {
   "cell_type": "markdown",
   "id": "808d01de-6f5a-4f1a-a719-4684bdf24a03",
   "metadata": {},
   "source": [
    "### Menu Bar"
   ]
  },
  {
   "cell_type": "code",
   "execution_count": 17,
   "id": "1283cce6-9c64-47dc-ae9b-5061920e252a",
   "metadata": {},
   "outputs": [],
   "source": [
    "import tkinter as tk\n",
    "\n",
    "def file_new():\n",
    "    # Add your file new logic here\n",
    "    pass\n",
    "\n",
    "def file_open():\n",
    "    # Add your file open logic here\n",
    "    pass\n",
    "\n",
    "root = tk.Tk()\n",
    "menu = tk.Menu(root)\n",
    "root.config(menu = menu)\n",
    "\n",
    "file_menu = tk.Menu(menu)\n",
    "menu.add_cascade(label = 'File', menu = file_menu)\n",
    "file_menu.add_command(label = 'New', command = file_new)\n",
    "file_menu.add_command(label = 'Open', command = file_open)\n",
    "file_menu.add_separator()\n",
    "file_menu.add_command(label = 'Exit', command = root.quit)\n",
    "\n",
    "root.mainloop()"
   ]
  },
  {
   "cell_type": "code",
   "execution_count": null,
   "id": "70e96827-4642-4b3f-8efe-ce75f3f27cd4",
   "metadata": {},
   "outputs": [],
   "source": []
  }
 ],
 "metadata": {
  "kernelspec": {
   "display_name": "Python 3 (ipykernel)",
   "language": "python",
   "name": "python3"
  },
  "language_info": {
   "codemirror_mode": {
    "name": "ipython",
    "version": 3
   },
   "file_extension": ".py",
   "mimetype": "text/x-python",
   "name": "python",
   "nbconvert_exporter": "python",
   "pygments_lexer": "ipython3",
   "version": "3.11.5"
  }
 },
 "nbformat": 4,
 "nbformat_minor": 5
}
