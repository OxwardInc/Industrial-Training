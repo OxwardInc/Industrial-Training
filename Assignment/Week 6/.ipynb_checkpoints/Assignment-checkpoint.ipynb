{
 "cells": [
  {
   "cell_type": "code",
   "execution_count": 7,
   "id": "70e4de4e-5c2e-440b-ae95-6eee7b638f08",
   "metadata": {},
   "outputs": [],
   "source": [
    "class Quadratic:\n",
    "    def __init__(self, a, b, c):\n",
    "        self.a = a\n",
    "        self.b = b\n",
    "        self.c = c\n",
    "\n",
    "    def discriminant(slef):\n",
    "        return self.b**2 - 4*self.a*self.c\n",
    "\n",
    "    def get_roots(self):\n",
    "        d = self.discriminant()\n",
    "        if d < 0:\n",
    "            return \"The roots are imaginary\"\n",
    "        elif d == 0:\n",
    "            x = (self.b + (d) ** 0.5) / (2 * self.a)\n",
    "            x2 = (self.b - (d) ** 0.5) / (2 * self.a)\n",
    "\n",
    "    def __add__(self, other):\n",
    "        return f\"{self.a + other.a}x^2={self.b+other.b}x+{self.c+other.c}\"\n",
    "\n",
    "    def __subtract__(self, other):\n",
    "        return f\"{self.a - other.a}x^2={self.b - other.b}x-{self.c - other.c}\"\n",
    "\n",
    "    def __multiply__(self, other):\n",
    "        return f\"{self.a * other.a}x^2={self.b * other.b}x*{self.c * other.c}\"\n",
    "\n",
    "    def __exponential__(self, other):\n",
    "         return f\"{(self.a+other.a)**2}x^2+{(self.b+other.b)**2}x+{(self.c+other.c)**2}\"\n",
    "\n",
    "    def __repr__(self):\n",
    "        return f\"Quadratic({self.a}, {self.b}, {self.c})\"\n",
    "\n",
    "    def __str__(self):\n",
    "        return f\"{self.a}x^2+{self.b}z+{self.c}\""
   ]
  },
  {
   "cell_type": "code",
   "execution_count": 8,
   "id": "e30c2bac-e8f1-4c76-bd0b-ffca287146a7",
   "metadata": {},
   "outputs": [],
   "source": [
    "q1 = Quadratic(1, 5, 6)\n",
    "q2 = Quadratic(1, -4, 4)"
   ]
  },
  {
   "cell_type": "code",
   "execution_count": 9,
   "id": "ed5db407-6ba0-45dd-9426-29626b21f1f2",
   "metadata": {},
   "outputs": [
    {
     "ename": "TypeError",
     "evalue": "unsupported operand type(s) for *: 'Quadratic' and 'Quadratic'",
     "output_type": "error",
     "traceback": [
      "\u001b[1;31m---------------------------------------------------------------------------\u001b[0m",
      "\u001b[1;31mTypeError\u001b[0m                                 Traceback (most recent call last)",
      "Cell \u001b[1;32mIn[9], line 1\u001b[0m\n\u001b[1;32m----> 1\u001b[0m \u001b[43mq1\u001b[49m\u001b[38;5;241;43m*\u001b[39;49m\u001b[43mq2\u001b[49m\n",
      "\u001b[1;31mTypeError\u001b[0m: unsupported operand type(s) for *: 'Quadratic' and 'Quadratic'"
     ]
    }
   ],
   "source": [
    "q1*q2"
   ]
  },
  {
   "cell_type": "code",
   "execution_count": 11,
   "id": "0a78c0da-294d-47a6-b1b0-3f0ea58856a5",
   "metadata": {},
   "outputs": [
    {
     "ename": "TypeError",
     "evalue": "unsupported operand type(s) for -: 'Quadratic' and 'Quadratic'",
     "output_type": "error",
     "traceback": [
      "\u001b[1;31m---------------------------------------------------------------------------\u001b[0m",
      "\u001b[1;31mTypeError\u001b[0m                                 Traceback (most recent call last)",
      "Cell \u001b[1;32mIn[11], line 1\u001b[0m\n\u001b[1;32m----> 1\u001b[0m \u001b[43mq1\u001b[49m\u001b[38;5;241;43m-\u001b[39;49m\u001b[43mq2\u001b[49m\n",
      "\u001b[1;31mTypeError\u001b[0m: unsupported operand type(s) for -: 'Quadratic' and 'Quadratic'"
     ]
    }
   ],
   "source": [
    "q1-q2"
   ]
  },
  {
   "cell_type": "code",
   "execution_count": 12,
   "id": "34f7209e-0cf1-4ca1-94df-0cab49781652",
   "metadata": {},
   "outputs": [],
   "source": [
    "class Quadratic:\n",
    "    def __init__(self, a, b, c):\n",
    "        self.a = a\n",
    "        self.b = b\n",
    "        self.c = c\n",
    "\n",
    "    def discriminant(self):\n",
    "        return self.b**2 - 4*self.a*self.c\n",
    "\n",
    "    def get_roots(self):\n",
    "        d = self.discriminant()\n",
    "        if d < 0:\n",
    "            return \"The roots are imaginary\"\n",
    "        elif d == 0:\n",
    "            x = -self.b / (2 * self.a)\n",
    "            return x\n",
    "        else:\n",
    "            x1 = (-self.b + d ** 0.5) / (2 * self.a)\n",
    "            x2 = (-self.b - d ** 0.5) / (2 * self.a)\n",
    "            return x1, x2\n",
    "\n",
    "    def __add__(self, other):\n",
    "        return Quadratic(self.a + other.a, self.b + other.b, self.c + other.c)\n",
    "\n",
    "    def __sub__(self, other):\n",
    "        return Quadratic(self.a - other.a, self.b - other.b, self.c - other.c)\n",
    "\n",
    "    def __mul__(self, other):\n",
    "        return Quadratic(self.a * other.a, self.a * other.b + self.b * other.a, self.b * other.c + self.c * other.b + self.c * other.a)\n",
    "\n",
    "    def __pow__(self, power):\n",
    "        return Quadratic(self.a**power, self.b**power, self.c**power)\n",
    "\n",
    "    def __repr__(self):\n",
    "        return f\"Quadratic({self.a}, {self.b}, {self.c})\"\n",
    "\n",
    "    def __str__(self):\n",
    "        return f\"{self.a}x^2 + {self.b}x + {self.c}\"\n",
    "\n"
   ]
  },
  {
   "cell_type": "code",
   "execution_count": 13,
   "id": "00d2f107-9264-467b-9950-a801407b2ce1",
   "metadata": {},
   "outputs": [],
   "source": [
    "q1 = Quadratic(1, 5, 6)\n",
    "q2 = Quadratic(1, -4, 4)"
   ]
  },
  {
   "cell_type": "code",
   "execution_count": 14,
   "id": "5a52ef7b-fb71-4070-8d56-fe2424d06c7c",
   "metadata": {},
   "outputs": [
    {
     "data": {
      "text/plain": [
       "Quadratic(1, 1, 2)"
      ]
     },
     "execution_count": 14,
     "metadata": {},
     "output_type": "execute_result"
    }
   ],
   "source": [
    "q1*q2"
   ]
  },
  {
   "cell_type": "code",
   "execution_count": 15,
   "id": "97e15b44-1515-424a-87d4-02b4847faae8",
   "metadata": {},
   "outputs": [
    {
     "data": {
      "text/plain": [
       "Quadratic(0, 9, 2)"
      ]
     },
     "execution_count": 15,
     "metadata": {},
     "output_type": "execute_result"
    }
   ],
   "source": [
    "q1-q2"
   ]
  },
  {
   "cell_type": "code",
   "execution_count": null,
   "id": "5944e7e7-f4c7-44de-ac52-53740299d49f",
   "metadata": {},
   "outputs": [],
   "source": []
  }
 ],
 "metadata": {
  "kernelspec": {
   "display_name": "Python 3 (ipykernel)",
   "language": "python",
   "name": "python3"
  },
  "language_info": {
   "codemirror_mode": {
    "name": "ipython",
    "version": 3
   },
   "file_extension": ".py",
   "mimetype": "text/x-python",
   "name": "python",
   "nbconvert_exporter": "python",
   "pygments_lexer": "ipython3",
   "version": "3.11.5"
  }
 },
 "nbformat": 4,
 "nbformat_minor": 5
}
