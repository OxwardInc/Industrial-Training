{
 "cells": [
  {
   "cell_type": "markdown",
   "id": "6fd1f06f-4fac-437a-a26a-b9c54d7f3949",
   "metadata": {},
   "source": [
    "## Exercise 19: Free Fall\r\n",
    "Create a program that determines how quickly an object is traveling when it hits the\r\n",
    "ground. The user will enter the height from which the object is dropped in meters (m).\r\n",
    "Because the object is dropped its initial speed is 0m/s. Assume that the acceleration\r\n",
    "due to gravity is 9.8m/s2. You can use the formula vf =\r\n",
    "\u0002\r\n",
    "v2\r\n",
    "i\r\n",
    "+ 2ad to compute the\r\n",
    "final speed, vf , when the initial speed, vi , acceleration, a, and distance, d, are known.("
   ]
  },
  {
   "cell_type": "code",
   "execution_count": null,
   "id": "69ea5ee5-2dc2-455f-8080-9f172d9499ac",
   "metadata": {},
   "outputs": [],
   "source": [
    "import math\n",
    "height_data = float(input('Enter the value for the height:'))\n",
    "\n",
    "# initial speed is 0m/s.\n",
    "# acceleration due to gravity is 9.8m/s2.\n",
    "\n",
    "v = math.sqrt("
   ]
  },
  {
   "cell_type": "markdown",
   "id": "a342ed1f-7e91-41da-8bd4-84717412a1a8",
   "metadata": {},
   "source": [
    "## Exercise 26: Current Time\n",
    "\n",
    "Python includes a library of functions for working with time, including a function\n",
    "called asctime in the time module. It reads the current time from the computer’s\n",
    "internal clock and returns it in a human-readable format. Write a program\n",
    "that displays the current time and date. Your program will not require any input from\n",
    "the user."
   ]
  },
  {
   "cell_type": "code",
   "execution_count": 5,
   "id": "d0773483-c5ff-4a48-b288-c136408531e6",
   "metadata": {},
   "outputs": [
    {
     "data": {
      "text/plain": [
       "'Sun Oct  8 23:20:55 2023'"
      ]
     },
     "execution_count": 5,
     "metadata": {},
     "output_type": "execute_result"
    }
   ],
   "source": [
    "import time\n",
    "from time import asctime\n",
    "\n",
    "current_time = time.localtime()\n",
    "formatted_time = time.asctime(current_time)\n",
    "\n",
    "formatted_time"
   ]
  },
  {
   "cell_type": "markdown",
   "id": "053213e7-e8ff-4253-9de9-3f8613c55028",
   "metadata": {},
   "source": [
    "## Exercise 24: Units of Time \n",
    "\r\n",
    "Create a program that reads a duration from the user as a number of days, hours,\r\n",
    "minutes, and seconds. Compute and display the total number of seconds represented\r\n",
    "by this duration."
   ]
  },
  {
   "cell_type": "code",
   "execution_count": 6,
   "id": "91868ccd-77e0-4055-b322-895cfbab9bb5",
   "metadata": {},
   "outputs": [
    {
     "name": "stdin",
     "output_type": "stream",
     "text": [
      "Enter the number of days: 23\n",
      "Enter the number of hours: 12\n",
      "Enter the value for minutes: 70\n",
      "What about seconds: 45\n"
     ]
    },
    {
     "data": {
      "text/plain": [
       "2034600"
      ]
     },
     "execution_count": 6,
     "metadata": {},
     "output_type": "execute_result"
    }
   ],
   "source": [
    "days = int(input('Enter the number of days:'))\n",
    "hours = int(input('Enter the number of hours:'))\n",
    "minutes = int(input('Enter the value for minutes:'))\n",
    "seconds = int(input('What about seconds:'))\n",
    "\n",
    "duration_data = ((((days * 24) * 60) * 60) + ((hours * 60) * 60) +(minutes * 60))\n",
    "\n",
    "duration_data"
   ]
  },
  {
   "cell_type": "markdown",
   "id": "6804c181-e873-48ae-b831-82a6017ecf6e",
   "metadata": {},
   "source": [
    "## Exercise 25: Units of Time (Again)\r",
    ")\r\n",
    "In this exercise you will reverse the process described in the previous exercise.\r\n",
    "Develop a program that begins by reading a number of seconds from the user.\r\n",
    "Then your program should display the equivalent amount of time in the form\r\n",
    "D:HH:MM:SS, where D, HH, MM, and SS represent days, hours, minutes and seconds\r\n",
    "respectively. The hours, minutes and seconds should all be formatted so that\r\n",
    "they occupy exactly two digits, with a leading 0 displayed if necessary."
   ]
  },
  {
   "cell_type": "code",
   "execution_count": 17,
   "id": "27c8ba1b-260b-4b49-8a26-13ec028fd40b",
   "metadata": {},
   "outputs": [
    {
     "name": "stdin",
     "output_type": "stream",
     "text": [
      "Enter number of seconds: 70\n"
     ]
    },
    {
     "name": "stdout",
     "output_type": "stream",
     "text": [
      "1\n",
      "0\n"
     ]
    }
   ],
   "source": [
    "seconds = int(input('Enter number of seconds:'))\n",
    "\n",
    "duration_data = ((((seconds / 24) / 60) / 60) + ((hours * 60) * 60) +(minutes * 60))"
   ]
  },
  {
   "cell_type": "code",
   "execution_count": 19,
   "id": "99749f07-68af-40f8-8cd6-240613fc9e6c",
   "metadata": {},
   "outputs": [
    {
     "name": "stdin",
     "output_type": "stream",
     "text": [
      "height: 23\n",
      "weight: 56\n"
     ]
    },
    {
     "data": {
      "text/plain": [
       "74.42"
      ]
     },
     "execution_count": 19,
     "metadata": {},
     "output_type": "execute_result"
    }
   ],
   "source": [
    "height = float(input('height:'))\n",
    "weight = float(input('weight:'))\n",
    "\n",
    "BMI = round(weight / (height * height) * 703, 2)\n",
    "\n",
    "BMI"
   ]
  },
  {
   "cell_type": "code",
   "execution_count": 20,
   "id": "2ff2fd54-1995-4668-b4ec-4fabfffcce30",
   "metadata": {},
   "outputs": [
    {
     "name": "stdin",
     "output_type": "stream",
     "text": [
      "Enter any numbers: 123\n"
     ]
    },
    {
     "ename": "TypeError",
     "evalue": "'int' object is not iterable",
     "output_type": "error",
     "traceback": [
      "\u001b[1;31m---------------------------------------------------------------------------\u001b[0m",
      "\u001b[1;31mTypeError\u001b[0m                                 Traceback (most recent call last)",
      "Cell \u001b[1;32mIn[20], line 4\u001b[0m\n\u001b[0;32m      1\u001b[0m digits \u001b[38;5;241m=\u001b[39m \u001b[38;5;28mint\u001b[39m(\u001b[38;5;28minput\u001b[39m(\u001b[38;5;124m'\u001b[39m\u001b[38;5;124mEnter any numbers:\u001b[39m\u001b[38;5;124m'\u001b[39m))\n\u001b[1;32m----> 4\u001b[0m \u001b[38;5;28;43;01mfor\u001b[39;49;00m\u001b[43m \u001b[49m\u001b[43mi\u001b[49m\u001b[43m \u001b[49m\u001b[38;5;129;43;01min\u001b[39;49;00m\u001b[43m \u001b[49m\u001b[43mdigits\u001b[49m\u001b[43m:\u001b[49m\n\u001b[0;32m      5\u001b[0m \u001b[43m    \u001b[49m\u001b[43mi\u001b[49m\u001b[43m \u001b[49m\u001b[38;5;241;43m+\u001b[39;49m\u001b[38;5;241;43m=\u001b[39;49m\u001b[43m \u001b[49m\u001b[43mi\u001b[49m\n\u001b[0;32m      6\u001b[0m \u001b[38;5;28mprint\u001b[39m(i)\n",
      "\u001b[1;31mTypeError\u001b[0m: 'int' object is not iterable"
     ]
    }
   ],
   "source": [
    "digits = int(input('Enter any numbers:'))\n",
    "\n",
    "splited_numbers = []\n",
    "\n",
    "digit = digits.split()\n",
    "for i in digit:\n",
    "    i += 1\n",
    "\n"
   ]
  },
  {
   "cell_type": "code",
   "execution_count": null,
   "id": "f8f0c279-2be1-48ef-ae82-15a7cb150263",
   "metadata": {},
   "outputs": [],
   "source": []
  }
 ],
 "metadata": {
  "kernelspec": {
   "display_name": "Python 3 (ipykernel)",
   "language": "python",
   "name": "python3"
  },
  "language_info": {
   "codemirror_mode": {
    "name": "ipython",
    "version": 3
   },
   "file_extension": ".py",
   "mimetype": "text/x-python",
   "name": "python",
   "nbconvert_exporter": "python",
   "pygments_lexer": "ipython3",
   "version": "3.11.5"
  }
 },
 "nbformat": 4,
 "nbformat_minor": 5
}
