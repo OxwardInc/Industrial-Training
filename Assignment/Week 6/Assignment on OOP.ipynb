{
 "cells": [
  {
   "cell_type": "code",
   "execution_count": 1,
   "id": "2904af20-120f-41f5-bfae-2a5057a3a1e1",
   "metadata": {},
   "outputs": [],
   "source": [
    "from random import randint\n",
    "class Account:\n",
    "    def __init__(self, name, dob, phone, address, email, deposit):\n",
    "        self.name = name\n",
    "        self.data_of_birth = dob\n",
    "        self.phone_number = phone\n",
    "        self.address = address\n",
    "        self.email = email\n",
    "        self.bvn = '23'\n",
    "        for i in range(9):\n",
    "            digit = randint(0, 9)\n",
    "            self.bvn += str(digit)\n",
    "        self.init_deposit = deposit\n",
    "        self.balance = deposit\n",
    "        self.acct_type = 'Savings'\n",
    "        self.acct_number = '05'\n",
    "        for i in range(8):\n",
    "            digit = randint(0, 9)\n",
    "            self.acct_number += str(digit)\n",
    "\n",
    "\n",
    "    def make_withdrawal(self, amount):\n",
    "        self.balance = self.balance - amount\n",
    "        if self.balance < amount:\n",
    "            return \"Insufficient fund!\"\n",
    "        #if self.balance < 2000\n",
    "\n",
    "    def make_deposit(self, amount):\n",
    "        self.balance = self.balance + amount\n",
    "\n",
    "\n",
    "    def change_email(self, email_):\n",
    "        self.email = email_\n",
    "\n",
    "    def upgrade_account_type(slef, type_):\n",
    "        if type_ not in ['Current', 'Credit']:\n",
    "            return 'Upgrade failed!'\n",
    "        self.acct_type = type_"
   ]
  },
  {
   "cell_type": "code",
   "execution_count": 2,
   "id": "fb186c74-1f12-4218-94b9-94a3d1fd1540",
   "metadata": {},
   "outputs": [],
   "source": [
    "Oxward = Account(\"Divine Oxward\",\n",
    "                 \"15/10/1999\", \"07034456927\", \"Airforce\",\n",
    "                 \"divine@oxward.org\", 3E6)\n",
    "\n",
    "\n",
    "charles = Account(\"Investor Charles\", \n",
    "                  \"17/01/2002\", \"0801234567\", \"Choba\",\n",
    "                 \"charles@gmail.com\", 10E6)"
   ]
  },
  {
   "cell_type": "code",
   "execution_count": 3,
   "id": "c0dab42a-dc7d-44e9-a80f-44ace0cd9a38",
   "metadata": {},
   "outputs": [
    {
     "data": {
      "text/plain": [
       "'0574434327'"
      ]
     },
     "execution_count": 3,
     "metadata": {},
     "output_type": "execute_result"
    }
   ],
   "source": [
    "charles.acct_number"
   ]
  },
  {
   "cell_type": "code",
   "execution_count": 4,
   "id": "21369d64-02b2-43d3-8910-d0091a1d8bfe",
   "metadata": {},
   "outputs": [
    {
     "data": {
      "text/plain": [
       "'0523437301'"
      ]
     },
     "execution_count": 4,
     "metadata": {},
     "output_type": "execute_result"
    }
   ],
   "source": [
    "Oxward.acct_number"
   ]
  },
  {
   "cell_type": "code",
   "execution_count": 5,
   "id": "bdf3b406-e8b7-4ab6-a7c7-f22be6073d31",
   "metadata": {},
   "outputs": [
    {
     "data": {
      "text/plain": [
       "'Savings'"
      ]
     },
     "execution_count": 5,
     "metadata": {},
     "output_type": "execute_result"
    }
   ],
   "source": [
    "Oxward.acct_type"
   ]
  },
  {
   "cell_type": "code",
   "execution_count": 6,
   "id": "cdedfdd6-caf2-4b09-9072-99915242cae6",
   "metadata": {},
   "outputs": [
    {
     "ename": "NameError",
     "evalue": "name 'self' is not defined",
     "output_type": "error",
     "traceback": [
      "\u001b[1;31m---------------------------------------------------------------------------\u001b[0m",
      "\u001b[1;31mNameError\u001b[0m                                 Traceback (most recent call last)",
      "Cell \u001b[1;32mIn[6], line 1\u001b[0m\n\u001b[1;32m----> 1\u001b[0m Oxward\u001b[38;5;241m.\u001b[39mupgrade_account_type(\u001b[38;5;28;43mself\u001b[39;49m)\n",
      "\u001b[1;31mNameError\u001b[0m: name 'self' is not defined"
     ]
    }
   ],
   "source": [
    "Oxward.upgrade_account_type(self)"
   ]
  },
  {
   "cell_type": "code",
   "execution_count": 11,
   "id": "17aa65ee-15e9-4f08-ad33-9fd89458ea61",
   "metadata": {},
   "outputs": [],
   "source": [
    "import math as mth\n",
    "\n",
    "class Vector3D:\n",
    "    def __init__(self, x, y, z):\n",
    "        self.x = x\n",
    "        self.y = y\n",
    "        self.z = z\n",
    "\n",
    "    def get_magnitude(self):\n",
    "        return mth.sqrt(self.x**2 + self.y**2 + self.z**2)\n",
    "\n",
    "    def get_dimensions(self):\n",
    "        return (self.x, self.y, self.z)\n",
    "\n",
    "    def modify_vector(self, new_x, new_y, new_z):\n",
    "        self.x = new_x\n",
    "        self.y = new_y\n",
    "        self.z = new_z"
   ]
  },
  {
   "cell_type": "code",
   "execution_count": 12,
   "id": "a30e04e5-c73a-43cc-93e2-6ce3c27bb961",
   "metadata": {},
   "outputs": [
    {
     "name": "stdout",
     "output_type": "stream",
     "text": [
      "Initial vector: (3, 4, 5)\n",
      "Magnitude: 7.0710678118654755\n",
      "Modified vector: (1, 2, 3)\n"
     ]
    }
   ],
   "source": [
    "v = Vector3D(3, 4, 5)\n",
    "print('Initial vector:', v.get_dimensions())\n",
    "print('Magnitude:', v.get_magnitude())\n",
    "\n",
    "v.modify_vector(1, 2, 3)\n",
    "print('Modified vector:', v.get_dimensions())"
   ]
  },
  {
   "cell_type": "code",
   "execution_count": 14,
   "id": "90d77783-eaf9-4537-8e41-0ea5e4cb6c9b",
   "metadata": {},
   "outputs": [
    {
     "data": {
      "text/plain": [
       "1"
      ]
     },
     "execution_count": 14,
     "metadata": {},
     "output_type": "execute_result"
    }
   ],
   "source": [
    "v.x"
   ]
  },
  {
   "cell_type": "code",
   "execution_count": 16,
   "id": "1971673a-307f-4c63-82af-1e8b93c6f09a",
   "metadata": {},
   "outputs": [
    {
     "data": {
      "text/plain": [
       "2"
      ]
     },
     "execution_count": 16,
     "metadata": {},
     "output_type": "execute_result"
    }
   ],
   "source": [
    "v.y"
   ]
  },
  {
   "cell_type": "code",
   "execution_count": 17,
   "id": "da1f2228-b720-4e5c-9243-a8ba3d629a2c",
   "metadata": {},
   "outputs": [],
   "source": [
    "from random import randint\n",
    "\n",
    "class BankAccount:\n",
    "    def __init__(self, account_holder, balance, phone, email, address):\n",
    "        self.account_holder_name = account_holder\n",
    "        self.phone_number = phone\n",
    "        self.email_address = email\n",
    "        self.resent_address = address\n",
    "        self.acct_type = 'Savings'\n",
    "        self.balance = balance\n",
    "        self.bvn = '00'\n",
    "        for i in range(9):\n",
    "            digit = randint(0, 9)\n",
    "            self.bvn += str(digit)\n",
    "        self.account_number = '12'\n",
    "        for i in range(8):\n",
    "            digit = randint(0, 9)\n",
    "            self.account_number += str(digit)\n",
    "\n",
    "    def change_email(self, email_):\n",
    "        self.email = email_\n",
    "\n",
    "    def upgrade_account_type(slef, type_):\n",
    "        if type_ not in ['Current', 'Credit']:\n",
    "            return 'Upgrade failed!'\n",
    "        self.acct_type = type_\n",
    "\n",
    "    def change_phone(self, phone_):\n",
    "        self.phone_number = phone_\n",
    "\n",
    "    def deposit(self, amount):\n",
    "        self.balance = self.balance + amount\n",
    "\n",
    "    def withdrawal(self, amount):\n",
    "        if amount <= self.balance:\n",
    "            self.balance -= amount\n",
    "            return f\"Your withdrawal of {amount} is succesful!\"\n",
    "        else:\n",
    "            return f\"Insuffiecient fund's, you account balance is: {self.balance}\"\n",
    "\n",
    "    def get_balance(self):\n",
    "        return f\"Your account balance is: {self.balance}\"\n",
    "\n",
    "    def display_account_info(self):\n",
    "        return f\"Name: {self.account_holder_name}\\nAccount number: {self.account_number}\\nAccount balance: ${self.balance}\""
   ]
  },
  {
   "cell_type": "code",
   "execution_count": 19,
   "id": "00dae678-7c78-40d4-a275-c084ff5d4f95",
   "metadata": {},
   "outputs": [
    {
     "name": "stdin",
     "output_type": "stream",
     "text": [
      "Enter the name you'll like to open an account with: Silver Paul\n",
      "Enter your phone number: 08094834839854\n",
      "How much will you like to open the account with 23000\n",
      "Enter your address: 12 Qubec road\n",
      "Input your email address: test@gmail.com\n"
     ]
    },
    {
     "data": {
      "text/plain": [
       "'Name: Silver Paul\\nAccount number: 1288017147\\nAccount balance: $23000.0'"
      ]
     },
     "execution_count": 19,
     "metadata": {},
     "output_type": "execute_result"
    }
   ],
   "source": [
    "account_name = input(\"Enter the name you'll like to open an account with:\")\n",
    "phone_number = int(input(\"Enter your phone number:\"))\n",
    "initial_deposit = float(input('How much will you like to open the account with'))\n",
    "resident_address = input('Enter your address:')\n",
    "email_address = input('Input your email address:')\n",
    "\n",
    "stored_data = BankAccount(account_name, initial_deposit, phone_number, email_address, resident_address)\n",
    "\n",
    "account_data = stored_data.display_account_info()\n",
    "\n",
    "account_data\n"
   ]
  },
  {
   "cell_type": "code",
   "execution_count": null,
   "id": "f1d7e32c-cc17-45ad-a0bc-e31f4817d6d5",
   "metadata": {},
   "outputs": [],
   "source": []
  }
 ],
 "metadata": {
  "kernelspec": {
   "display_name": "Python 3 (ipykernel)",
   "language": "python",
   "name": "python3"
  },
  "language_info": {
   "codemirror_mode": {
    "name": "ipython",
    "version": 3
   },
   "file_extension": ".py",
   "mimetype": "text/x-python",
   "name": "python",
   "nbconvert_exporter": "python",
   "pygments_lexer": "ipython3",
   "version": "3.11.5"
  }
 },
 "nbformat": 4,
 "nbformat_minor": 5
}
