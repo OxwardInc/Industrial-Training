{
 "cells": [
  {
   "cell_type": "code",
   "execution_count": 3,
   "id": "2904af20-120f-41f5-bfae-2a5057a3a1e1",
   "metadata": {},
   "outputs": [],
   "source": [
    "from random import randint\n",
    "class Account:\n",
    "    def __init__(self, name, dob, phone, address, email, deposit):\n",
    "        self.name = name\n",
    "        self.data_of_birth = dob\n",
    "        self.phone_number = phone\n",
    "        self.address = address\n",
    "        self.email = email\n",
    "        self.bvn = '23'\n",
    "        for i in range(9):\n",
    "            digit = randint(0, 9)\n",
    "            self.bvn += str(digit)\n",
    "        self.init_deposit = deposit\n",
    "        self.balance = deposit\n",
    "        self.acct_type = 'Savings'\n",
    "        self.acct_number = '05'\n",
    "        for i in range(8):\n",
    "            digit = randint(0, 9)\n",
    "            self.acct_number += str(digit)\n",
    "\n",
    "\n",
    "    def make_withdrawal(self, amount):\n",
    "        self.balance = self.balance - amount\n",
    "        if self.balance < amount:\n",
    "            return \"Insufficient fund!\"\n",
    "        #if self.balance < 2000\n",
    "\n",
    "    def make_deposit(self, amount):\n",
    "        self.balance = self.balance + amount\n",
    "\n",
    "\n",
    "    def change_email(self, email_):\n",
    "        self.email = email_\n",
    "\n",
    "    def upgrade_account_type(slef, type_):\n",
    "        if type_ not in ['Current', 'Credit']:\n",
    "            return 'Upgrade failed!'\n",
    "        self.acct_type = type_"
   ]
  },
  {
   "cell_type": "code",
   "execution_count": 4,
   "id": "fb186c74-1f12-4218-94b9-94a3d1fd1540",
   "metadata": {},
   "outputs": [],
   "source": [
    "Oxward = Account(\"Divine Oxward\",\n",
    "                 \"15/10/1999\", \"07034456927\", \"Airforce\",\n",
    "                 \"divine@oxward.org\", 3E6)\n",
    "\n",
    "\n",
    "charles = Account(\"Investor Charles\", \n",
    "                  \"17/01/2002\", \"0801234567\", \"Choba\",\n",
    "                 \"charles@gmail.com\", 10E6)"
   ]
  },
  {
   "cell_type": "code",
   "execution_count": 5,
   "id": "c0dab42a-dc7d-44e9-a80f-44ace0cd9a38",
   "metadata": {},
   "outputs": [
    {
     "data": {
      "text/plain": [
       "'0522633846'"
      ]
     },
     "execution_count": 5,
     "metadata": {},
     "output_type": "execute_result"
    }
   ],
   "source": [
    "charles.acct_number"
   ]
  },
  {
   "cell_type": "code",
   "execution_count": 6,
   "id": "21369d64-02b2-43d3-8910-d0091a1d8bfe",
   "metadata": {},
   "outputs": [
    {
     "data": {
      "text/plain": [
       "'0527284667'"
      ]
     },
     "execution_count": 6,
     "metadata": {},
     "output_type": "execute_result"
    }
   ],
   "source": [
    "Oxward.acct_number"
   ]
  },
  {
   "cell_type": "code",
   "execution_count": 7,
   "id": "bdf3b406-e8b7-4ab6-a7c7-f22be6073d31",
   "metadata": {},
   "outputs": [
    {
     "data": {
      "text/plain": [
       "'Savings'"
      ]
     },
     "execution_count": 7,
     "metadata": {},
     "output_type": "execute_result"
    }
   ],
   "source": [
    "Oxward.acct_type"
   ]
  },
  {
   "cell_type": "code",
   "execution_count": 9,
   "id": "cdedfdd6-caf2-4b09-9072-99915242cae6",
   "metadata": {},
   "outputs": [
    {
     "ename": "NameError",
     "evalue": "name 'self' is not defined",
     "output_type": "error",
     "traceback": [
      "\u001b[1;31m---------------------------------------------------------------------------\u001b[0m",
      "\u001b[1;31mNameError\u001b[0m                                 Traceback (most recent call last)",
      "Cell \u001b[1;32mIn[9], line 1\u001b[0m\n\u001b[1;32m----> 1\u001b[0m \u001b[43mOxward\u001b[49m\u001b[38;5;241;43m.\u001b[39;49m\u001b[43mupgrade_account_type\u001b[49m\u001b[43m(\u001b[49m\u001b[38;5;124;43m'\u001b[39;49m\u001b[38;5;124;43mCurrent\u001b[39;49m\u001b[38;5;124;43m'\u001b[39;49m\u001b[43m)\u001b[49m\n",
      "Cell \u001b[1;32mIn[3], line 38\u001b[0m, in \u001b[0;36mAccount.upgrade_account_type\u001b[1;34m(slef, type_)\u001b[0m\n\u001b[0;32m     36\u001b[0m \u001b[38;5;28;01mif\u001b[39;00m type_ \u001b[38;5;129;01mnot\u001b[39;00m \u001b[38;5;129;01min\u001b[39;00m [\u001b[38;5;124m'\u001b[39m\u001b[38;5;124mCurrent\u001b[39m\u001b[38;5;124m'\u001b[39m, \u001b[38;5;124m'\u001b[39m\u001b[38;5;124mCredit\u001b[39m\u001b[38;5;124m'\u001b[39m]:\n\u001b[0;32m     37\u001b[0m     \u001b[38;5;28;01mreturn\u001b[39;00m \u001b[38;5;124m'\u001b[39m\u001b[38;5;124mUpgrade failed!\u001b[39m\u001b[38;5;124m'\u001b[39m\n\u001b[1;32m---> 38\u001b[0m \u001b[38;5;28;43mself\u001b[39;49m\u001b[38;5;241m.\u001b[39macct_type \u001b[38;5;241m=\u001b[39m type_\n",
      "\u001b[1;31mNameError\u001b[0m: name 'self' is not defined"
     ]
    }
   ],
   "source": [
    "Oxward.upgrade_account_type(self)"
   ]
  },
  {
   "cell_type": "code",
   "execution_count": null,
   "id": "17aa65ee-15e9-4f08-ad33-9fd89458ea61",
   "metadata": {},
   "outputs": [],
   "source": []
  }
 ],
 "metadata": {
  "kernelspec": {
   "display_name": "Python 3 (ipykernel)",
   "language": "python",
   "name": "python3"
  },
  "language_info": {
   "codemirror_mode": {
    "name": "ipython",
    "version": 3
   },
   "file_extension": ".py",
   "mimetype": "text/x-python",
   "name": "python",
   "nbconvert_exporter": "python",
   "pygments_lexer": "ipython3",
   "version": "3.11.5"
  }
 },
 "nbformat": 4,
 "nbformat_minor": 5
}
