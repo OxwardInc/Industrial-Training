{
 "cells": [
  {
   "cell_type": "code",
   "execution_count": 6,
   "id": "3473e4e7-258b-4b90-9204-0c6bd1de69a2",
   "metadata": {},
   "outputs": [
    {
     "name": "stdout",
     "output_type": "stream",
     "text": [
      "2\n",
      ".\n",
      "5\n",
      "+\n",
      "8\n",
      "10.5\n"
     ]
    }
   ],
   "source": [
    "import tkinter\n",
    "from tkinter import *\n",
    "from tkinter import ttk\n",
    "\n",
    "def display_value(value):\n",
    "    textEntry.insert(END,value)\n",
    "    print(value)\n",
    "\n",
    "def compute_result():\n",
    "    result = eval(textEntry.get())\n",
    "    print(result)\n",
    "    textEntry.delete(0, END)\n",
    "    textEntry.insert(END, result)\n",
    "root = Tk()\n",
    "\n",
    "frame = Frame(root, bd = 6, relief = RAISED)\n",
    "frame.grid(row=2)\n",
    "\n",
    "textEntry = Entry(root, bd = 6, relief = SUNKEN)\n",
    "textEntry.grid(row=1)\n",
    "\n",
    "frame = Frame(root)\n",
    "frame.grid(row = 2)\n",
    "\n",
    "ttk.Button(frame, command = lambda: display_value(7), text = '7').grid(row = 0, column = 0, ipadx = 15, ipady = 6)\n",
    "ttk.Button(frame, command = lambda: display_value(8), text = '8').grid(row = 0, column = 1, ipadx = 15, ipady = 6)\n",
    "ttk.Button(frame, command = lambda: display_value(9), text = '9').grid(row = 0, column = 2, ipadx = 15, ipady = 6)\n",
    "ttk.Button(frame, command = lambda: display_value(4), text = '4').grid(row = 1, column = 0, ipadx = 15, ipady = 6)\n",
    "ttk.Button(frame, command = lambda: display_value(5), text = '5').grid(row = 1, column = 1, ipadx = 15, ipady = 6)\n",
    "ttk.Button(frame, command = lambda: display_value(6), text = '6').grid(row = 1, column = 2, ipadx = 15, ipady = 6)\n",
    "ttk.Button(frame, command = lambda: display_value(1), text = '1').grid(row = 2, column = 0, ipadx = 15, ipady = 6)\n",
    "ttk.Button(frame, command = lambda: display_value(2), text = '2').grid(row = 2, column = 1, ipadx = 15, ipady = 6)\n",
    "ttk.Button(frame, command = lambda: display_value(3), text = '3').grid(row = 2, column = 2, ipadx = 15, ipady = 6)\n",
    "\n",
    "ttk.Button(frame, command = lambda: display_value(0), text = '0').grid(row = 3, column = 0, ipadx = 15, ipady = 6)\n",
    "ttk.Button(frame, command = lambda: display_value('.'), text = '.').grid(row = 3, column = 1, ipadx = 15, ipady = 6)\n",
    "\n",
    "\n",
    "ttk.Button(frame, command = lambda: display_value('+'), text = '+').grid(row = 0, column = 3, ipadx = 15, ipady = 6)\n",
    "ttk.Button(frame, command = lambda: display_value('-'), text = '-').grid(row = 1, column = 3, ipadx = 15, ipady = 6)\n",
    "ttk.Button(frame, command = lambda: display_value('/'), text = '/').grid(row = 2, column = 3, ipadx = 15, ipady = 6)\n",
    "ttk.Button(frame, command = lambda: display_value('*'), text = '*').grid(row = 3, column = 2, ipadx = 15, ipady = 6)\n",
    "ttk.Button(frame, command = compute_result, text = '=').grid(row = 3, column = 3, ipadx = 15, ipady = 6)\n",
    "\n",
    "\n",
    "root.mainloop()\n",
    "\n"
   ]
  },
  {
   "cell_type": "code",
   "execution_count": null,
   "id": "f238bd27-4669-40d8-904e-5e6e690e2f18",
   "metadata": {},
   "outputs": [],
   "source": []
  }
 ],
 "metadata": {
  "kernelspec": {
   "display_name": "Python 3 (ipykernel)",
   "language": "python",
   "name": "python3"
  },
  "language_info": {
   "codemirror_mode": {
    "name": "ipython",
    "version": 3
   },
   "file_extension": ".py",
   "mimetype": "text/x-python",
   "name": "python",
   "nbconvert_exporter": "python",
   "pygments_lexer": "ipython3",
   "version": "3.11.5"
  }
 },
 "nbformat": 4,
 "nbformat_minor": 5
}
