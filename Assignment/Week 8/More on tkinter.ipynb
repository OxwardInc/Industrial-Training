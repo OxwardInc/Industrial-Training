{
 "cells": [
  {
   "cell_type": "code",
   "execution_count": 1,
   "id": "0e0994d1-bf37-49a9-ae89-6efd0fa272b7",
   "metadata": {},
   "outputs": [],
   "source": [
    "from tkinter  import *\n",
    "\n",
    "root = Tk()\n",
    "\n",
    "# Creating a label widget\n",
    "myLabel = Label(root, text = 'Hello world!')\n",
    "\n",
    "# Showing it onto the screen\n",
    "myLabel.pack()\n",
    "\n",
    "root.mainloop()"
   ]
  },
  {
   "cell_type": "markdown",
   "id": "30b4a543-1134-49d5-9359-19cac4a3cdea",
   "metadata": {},
   "source": [
    "### Positioning with Tkinter's Grid system"
   ]
  },
  {
   "cell_type": "code",
   "execution_count": 3,
   "id": "395988fd-f14a-48de-9f6a-27459c61be42",
   "metadata": {},
   "outputs": [],
   "source": [
    "from tkinter  import *\n",
    "\n",
    "root = Tk()\n",
    "\n",
    "# Creating a label widget\n",
    "myLabel1 = Label(root, text = 'Hello world!')\n",
    "myLabel2 = Label(root, text = 'my name is Oxward')\n",
    "\n",
    "# Showing it onto the screen\n",
    "myLabel1.grid(row = 0, column = 0)\n",
    "myLabel2.grid(row = 1, column = 0)\n",
    "\n",
    "root.mainloop()"
   ]
  },
  {
   "cell_type": "code",
   "execution_count": 4,
   "id": "79ef260b",
   "metadata": {},
   "outputs": [],
   "source": [
    "from tkinter  import *\n",
    "\n",
    "root = Tk()\n",
    "\n",
    "# Creating a label widget\n",
    "myLabel1 = Label(root, text = 'Hello world!')\n",
    "myLabel2 = Label(root, text = 'my name is Oxward')\n",
    "\n",
    "# Showing it onto the screen\n",
    "myLabel1.grid(row = 0, column = 0)\n",
    "myLabel2.grid(row = 1, column = 1)\n",
    "\n",
    "root.mainloop()"
   ]
  },
  {
   "cell_type": "code",
   "execution_count": 6,
   "id": "9accc76c",
   "metadata": {},
   "outputs": [],
   "source": [
    "from tkinter  import *\n",
    "\n",
    "root = Tk()\n",
    "\n",
    "# Creating a label widget\n",
    "myLabel1 = Label(root, text = 'Hello world!')\n",
    "myLabel2 = Label(root, text = 'my name is Oxward')\n",
    "myLabel3 = Label(root, text = '')\n",
    "\n",
    "# Showing it onto the screen\n",
    "myLabel1.grid(row = 0, column = 0)\n",
    "myLabel2.grid(row = 1, column = 5)\n",
    "myLabel3.grid(row = 1, column = 1)\n",
    "\n",
    "root.mainloop()"
   ]
  },
  {
   "cell_type": "code",
   "execution_count": 7,
   "id": "00d0255b",
   "metadata": {},
   "outputs": [],
   "source": [
    "from tkinter  import *\n",
    "\n",
    "root = Tk()\n",
    "\n",
    "# Creating a label widget\n",
    "myLabel1 = Label(root, text = 'Hello world!').grid(row = 0, column = 0)\n",
    "myLabel2 = Label(root, text = 'my name is Oxward').grid(row = 1, column = 5)\n",
    "\n",
    "root.mainloop()"
   ]
  },
  {
   "cell_type": "markdown",
   "id": "797af74e-e7f6-4240-89ae-c7b886adbe0a",
   "metadata": {},
   "source": [
    "### Creating Button's"
   ]
  },
  {
   "cell_type": "code",
   "execution_count": 10,
   "id": "c60ea8e2-7e31-48ea-808e-fe3dc848d91c",
   "metadata": {},
   "outputs": [],
   "source": [
    "from tkinter import *\n",
    "\n",
    "root = Tk()\n",
    "\n",
    "myButton = Button(root, text = 'Button')\n",
    "\n",
    "myButton.pack()\n",
    "\n",
    "root.mainloop()"
   ]
  },
  {
   "cell_type": "code",
   "execution_count": 11,
   "id": "d6d1aeab",
   "metadata": {},
   "outputs": [],
   "source": [
    "from tkinter import *\n",
    "\n",
    "root = Tk()\n",
    "\n",
    "myButton = Button(root, text = 'Button', state = DISABLED)\n",
    "\n",
    "myButton.pack()\n",
    "\n",
    "root.mainloop()"
   ]
  },
  {
   "cell_type": "code",
   "execution_count": 14,
   "id": "61384280",
   "metadata": {},
   "outputs": [],
   "source": [
    "from tkinter import *\n",
    "\n",
    "root = Tk()\n",
    "\n",
    "myButton = Button(root, text = 'Button',  pady = 50)\n",
    "\n",
    "myButton.pack()\n",
    "\n",
    "root.mainloop()"
   ]
  },
  {
   "cell_type": "code",
   "execution_count": 15,
   "id": "bb6828bd",
   "metadata": {},
   "outputs": [],
   "source": [
    "from tkinter import *\n",
    "\n",
    "root = Tk()\n",
    "\n",
    "myButton = Button(root, text = 'Button',  padx = 50)\n",
    "\n",
    "myButton.pack()\n",
    "\n",
    "root.mainloop()"
   ]
  },
  {
   "cell_type": "code",
   "execution_count": 16,
   "id": "777abe9f",
   "metadata": {},
   "outputs": [],
   "source": [
    "from tkinter import *\n",
    "\n",
    "root = Tk()\n",
    "\n",
    "myButton = Button(root, text = 'Button', padx = 50, pady = 50)\n",
    "\n",
    "myButton.pack()\n",
    "\n",
    "root.mainloop()"
   ]
  },
  {
   "cell_type": "code",
   "execution_count": null,
   "id": "f80e9e1e",
   "metadata": {},
   "outputs": [],
   "source": []
  }
 ],
 "metadata": {
  "kernelspec": {
   "display_name": "Python 3 (ipykernel)",
   "language": "python",
   "name": "python3"
  },
  "language_info": {
   "codemirror_mode": {
    "name": "ipython",
    "version": 3
   },
   "file_extension": ".py",
   "mimetype": "text/x-python",
   "name": "python",
   "nbconvert_exporter": "python",
   "pygments_lexer": "ipython3",
   "version": "3.11.5"
  }
 },
 "nbformat": 4,
 "nbformat_minor": 5
}
