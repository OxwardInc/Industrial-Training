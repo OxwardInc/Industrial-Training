{
 "cells": [
  {
   "cell_type": "code",
   "execution_count": 1,
   "id": "ca11190f-dc9a-4b5d-972c-da7673e5b2d8",
   "metadata": {},
   "outputs": [],
   "source": [
    "import sqlite3 as sql\n",
    "\n",
    "connection = sql.connect('Staffs.db.')\n",
    "\n",
    "connection.execute(\"CREATE TABLE Staffs(SN INTEGER PRIMARY KEY AUTOINCREMENT, Name TEXT NOT NULL)\")\n",
    "\n",
    "connection.close()"
   ]
  },
  {
   "cell_type": "code",
   "execution_count": 2,
   "id": "6d022694-550c-4da5-aebc-99ebe4781257",
   "metadata": {},
   "outputs": [],
   "source": [
    "connection = sql.connect('Staffs.db')\n",
    "\n",
    "name = 'Silver'\n",
    "\n",
    "#connection.execute(\"INSERT INTO Staffs(Name)VALUES(Silver)\")\n",
    "connection.execute(\"INSERT INTO Staffs (Name) VALUES (?)\", (name,))\n",
    "\n",
    "connection.commit()\n",
    "\n",
    "connection.close()"
   ]
  },
  {
   "cell_type": "code",
   "execution_count": 3,
   "id": "11ddfa8b-b75c-4eb8-a97e-9be16d39a738",
   "metadata": {},
   "outputs": [],
   "source": [
    "connection = sql.connect('Staffs.db')\n",
    "\n",
    "name = 'Paul'\n",
    "\n",
    "#connection.execute(\"INSERT INTO Staffs(Name)VALUES(Silver)\")\n",
    "connection.execute(\"INSERT INTO Staffs (Name) VALUES (?)\", (name,))\n",
    "\n",
    "connection.commit()\n",
    "\n",
    "connection.close()"
   ]
  },
  {
   "cell_type": "code",
   "execution_count": 4,
   "id": "385cb5de-6528-404a-ab1e-cd6c47e0c13e",
   "metadata": {},
   "outputs": [],
   "source": [
    "connection = sql.connect('Staffs.db')\n",
    "\n",
    "name = 'Glory'\n",
    "\n",
    "#connection.execute(\"INSERT INTO Staffs(Name)VALUES(Silver)\")\n",
    "connection.execute(\"INSERT INTO Staffs (Name) VALUES (?)\", (name,))\n",
    "\n",
    "connection.commit()\n",
    "\n",
    "connection.close()"
   ]
  },
  {
   "cell_type": "code",
   "execution_count": 5,
   "id": "08791995-ace6-4e70-8915-0c01fb181059",
   "metadata": {},
   "outputs": [
    {
     "name": "stdout",
     "output_type": "stream",
     "text": [
      "<sqlite3.Cursor object at 0x0000027E889316C0>\n",
      "(1, 'Silver')\n",
      "(2, 'Paul')\n",
      "(3, 'Glory')\n"
     ]
    }
   ],
   "source": [
    "conn = sql.connect(\"Staffs.db\")\n",
    "curs = conn.cursor()\n",
    "content = curs.execute(\"SELECT * FROM Staffs\")\n",
    "\n",
    "print(content)\n",
    "\n",
    "for record in content:\n",
    "    print(record)\n",
    "\n",
    "conn.close()"
   ]
  },
  {
   "cell_type": "code",
   "execution_count": 6,
   "id": "e2ca7c4c-2487-4c5a-bdc3-00e43c3b6a73",
   "metadata": {},
   "outputs": [
    {
     "name": "stdout",
     "output_type": "stream",
     "text": [
      "<sqlite3.Cursor object at 0x0000027E88930FC0>\n",
      "Silver\n"
     ]
    }
   ],
   "source": [
    "conn = sql.connect(\"Staffs.db\")\n",
    "\n",
    "curs = conn.cursor()\n",
    "\n",
    "content = curs.execute('SELECT * FROM Staffs')\n",
    "\n",
    "print(content)\n",
    "\n",
    "for record in content:\n",
    "     if record[0] == 1:\n",
    "        print(f'{record[1]}')\n",
    "\n",
    "conn.close()"
   ]
  },
  {
   "cell_type": "code",
   "execution_count": 7,
   "id": "b4479243-dbbe-4b92-bcc2-07edf030353c",
   "metadata": {},
   "outputs": [
    {
     "name": "stdout",
     "output_type": "stream",
     "text": [
      "<sqlite3.Cursor object at 0x0000027E889320C0>\n",
      "Paul\n"
     ]
    }
   ],
   "source": [
    "conn = sql.connect(\"Staffs.db\")\n",
    "\n",
    "curs = conn.cursor()\n",
    "\n",
    "content = curs.execute('SELECT * FROM Staffs')\n",
    "\n",
    "print(content)\n",
    "\n",
    "for record in content:\n",
    "     if record[0] == 2:\n",
    "        print(f'{record[1]}')\n",
    "\n",
    "conn.close()"
   ]
  },
  {
   "cell_type": "code",
   "execution_count": 8,
   "id": "a48ddc3f-79b7-4b93-aa02-1361a2f69ec5",
   "metadata": {},
   "outputs": [
    {
     "name": "stdout",
     "output_type": "stream",
     "text": [
      "<sqlite3.Cursor object at 0x0000027E88932040>\n",
      "3 : Glory\n"
     ]
    }
   ],
   "source": [
    "conn = sql.connect(\"Staffs.db\")\n",
    "\n",
    "curs = conn.cursor()\n",
    "\n",
    "content = curs.execute('SELECT * FROM Staffs')\n",
    "\n",
    "print(content)\n",
    "\n",
    "for record in content:\n",
    "     if record[0] == 3:\n",
    "        print(f'{record[0]} : {record[1]}')\n",
    "\n",
    "conn.close()"
   ]
  },
  {
   "cell_type": "code",
   "execution_count": 9,
   "id": "5e159568-42da-441f-959e-59942f5f67d2",
   "metadata": {},
   "outputs": [
    {
     "name": "stdout",
     "output_type": "stream",
     "text": [
      "<sqlite3.Cursor object at 0x0000027E88932540>\n",
      "2 : Paul\n",
      "3 : Glory\n"
     ]
    }
   ],
   "source": [
    "conn = sql.connect(\"Staffs.db\")\n",
    "\n",
    "curs = conn.cursor()\n",
    "\n",
    "content = curs.execute('SELECT * FROM Staffs')\n",
    "\n",
    "print(content)\n",
    "\n",
    "for record in content:\n",
    "     if record[0] >= 2:\n",
    "        print(f'{record[0]} : {record[1]}')\n",
    "\n",
    "conn.close()"
   ]
  },
  {
   "cell_type": "markdown",
   "id": "67cc78a7-169d-439d-94bd-2b519cd43022",
   "metadata": {},
   "source": [
    "### How to update items in the DB"
   ]
  },
  {
   "cell_type": "code",
   "execution_count": 10,
   "id": "6eca3fa6-ff9c-49e5-aaa9-3e199b85fe7c",
   "metadata": {},
   "outputs": [
    {
     "name": "stdin",
     "output_type": "stream",
     "text": [
      "Do you want to search for the data by name or SN: SN\n",
      "Enter the SN: 2\n"
     ]
    },
    {
     "name": "stdout",
     "output_type": "stream",
     "text": [
      "2 : Paul\n"
     ]
    },
    {
     "name": "stdin",
     "output_type": "stream",
     "text": [
      "Enter the new name: Qwerty\n"
     ]
    }
   ],
   "source": [
    "conn = sql.connect('Staffs.db')\n",
    "\n",
    "curs = conn.cursor()\n",
    "\n",
    "content = curs.execute('SELECT * FROM Staffs')\n",
    "\n",
    "data_to_update = input('Do you want to search for the data by name or SN:')\n",
    "\n",
    "if data_to_update == 'SN':\n",
    "    sn_value = int(input('Enter the SN:'))\n",
    "    for record in content:\n",
    "        if record[0] == sn_value:\n",
    "            print(f'{record[0]} : {record[1]}')\n",
    "            new_name = input('Enter the new name:')\n",
    "            update_content = curs.execute(\"UPDATE Staffs SET Name = ? WHERE Name = ?\", (new_name, sn_value))\n",
    "            conn.commit()\n",
    "\n",
    "elif data_to_update == 'Name':\n",
    "    name_value = input('Enter the Name:')\n",
    "    for record in content:\n",
    "         if record[1] == name_value:\n",
    "             print(f'{record[0]} : {record[1]}')\n",
    "             new_name = input('Enter the new name:')\n",
    "             update_content = curs.execute(\"UPDATE Staffs SET Name = ? WHERE Name = ?\", (new_name, name_value))\n",
    "             conn.commit()\n",
    "else:\n",
    "    print('Invalid input')\n",
    "\n",
    "#update_content = curs.execute(\"UPDATE Staffs (Name) VALUES (?)\", (name,))\n",
    "\n",
    "conn.close()"
   ]
  },
  {
   "cell_type": "code",
   "execution_count": 11,
   "id": "37af52b5-f4b8-44ac-8dce-cb20b4df3311",
   "metadata": {},
   "outputs": [
    {
     "name": "stdin",
     "output_type": "stream",
     "text": [
      "Do you want to search for the data by name or SN: Name\n",
      "Enter the Name: Silver\n"
     ]
    },
    {
     "name": "stdout",
     "output_type": "stream",
     "text": [
      "1 : Silver\n"
     ]
    },
    {
     "name": "stdin",
     "output_type": "stream",
     "text": [
      "Enter the new name: Peterson\n"
     ]
    }
   ],
   "source": [
    "conn = sql.connect('Staffs.db')\n",
    "\n",
    "curs = conn.cursor()\n",
    "\n",
    "content = curs.execute('SELECT * FROM Staffs')\n",
    "\n",
    "data_to_update = input('Do you want to search for the data by name or SN:')\n",
    "\n",
    "if data_to_update == 'SN':\n",
    "    sn_value = int(input('Enter the SN:'))\n",
    "    for record in content:\n",
    "        if record[0] == sn_value:\n",
    "            print(f'{record[0]} : {record[1]}')\n",
    "            new_name = input('Enter the new name:')\n",
    "            update_content = curs.execute(\"UPDATE Staffs SET Name = ? WHERE Name = ?\", (new_name, sn_value))\n",
    "            conn.commit()\n",
    "\n",
    "elif data_to_update == 'Name':\n",
    "    name_value = input('Enter the Name:')\n",
    "    for record in content:\n",
    "         if record[1] == name_value:\n",
    "             print(f'{record[0]} : {record[1]}')\n",
    "             new_name = input('Enter the new name:')\n",
    "             update_content = curs.execute(\"UPDATE Staffs SET Name = ? WHERE Name = ?\", (new_name, name_value))\n",
    "             conn.commit()\n",
    "else:\n",
    "    print('Invalid input')\n",
    "\n",
    "#update_content = curs.execute(\"UPDATE Staffs (Name) VALUES (?)\", (name,))\n",
    "\n",
    "conn.close()"
   ]
  },
  {
   "cell_type": "code",
   "execution_count": 12,
   "id": "51a70862-bba2-45e1-b41f-3cc58059323f",
   "metadata": {},
   "outputs": [
    {
     "name": "stdout",
     "output_type": "stream",
     "text": [
      "<sqlite3.Cursor object at 0x0000027E88930DC0>\n",
      "(1, 'Peterson')\n",
      "(2, 'Paul')\n",
      "(3, 'Glory')\n"
     ]
    }
   ],
   "source": [
    "conn = sql.connect(\"Staffs.db\")\n",
    "curs = conn.cursor()\n",
    "content = curs.execute(\"SELECT * FROM Staffs\")\n",
    "\n",
    "print(content)\n",
    "\n",
    "for record in content:\n",
    "    print(record)\n",
    "\n",
    "conn.close()"
   ]
  },
  {
   "cell_type": "markdown",
   "id": "fa7822e5-94a1-4158-aaf1-06309f1328ea",
   "metadata": {},
   "source": [
    "### To delete records in the database"
   ]
  },
  {
   "cell_type": "code",
   "execution_count": 19,
   "id": "46e38321-b2de-4b5a-9867-7cf71dedfcf4",
   "metadata": {},
   "outputs": [
    {
     "name": "stdin",
     "output_type": "stream",
     "text": [
      "Do you want to search for the data by name or SN: SN\n",
      "Enter the SN: 1\n"
     ]
    },
    {
     "name": "stdout",
     "output_type": "stream",
     "text": [
      "1 : Peterson\n"
     ]
    }
   ],
   "source": [
    "conn = sql.connect('Staffs.db')\n",
    "\n",
    "curs = conn.cursor()\n",
    "\n",
    "content = curs.execute('SELECT * FROM Staffs')\n",
    "\n",
    "data_to_delete = input('Do you want to search for the data by name or SN:')\n",
    "\n",
    "if data_to_delete == 'SN':\n",
    "    sn_value = int(input('Enter the SN:'))\n",
    "    for record in content:\n",
    "        if record[0] == sn_value:\n",
    "            print(f'{record[0]} : {record[1]}')\n",
    "            delete_content = curs.execute('DELETE FROM Staffs WHERE SN = ?', (sn_value,))\n",
    "            conn.commit()\n",
    "\n",
    "elif data_to_delete == 'Name':\n",
    "    name_value = input('Enter the Name:')\n",
    "    for record in content:\n",
    "         if record[1] == name_value:\n",
    "             print(f'{record[0]} : {record[1]}')\n",
    "             update_content = curs.execute('DELETE FROM Staffs WHERE Name = ?', (name_value,))\n",
    "             conn.commit()\n",
    "else:\n",
    "    print('Invalid input')\n",
    "\n",
    "#update_content = curs.execute(\"UPDATE Staffs (Name) VALUES (?)\", (name,))\n",
    "\n",
    "conn.close()"
   ]
  },
  {
   "cell_type": "code",
   "execution_count": 20,
   "id": "fe383799-b09d-401d-a38a-f024aa3b2290",
   "metadata": {},
   "outputs": [
    {
     "name": "stdout",
     "output_type": "stream",
     "text": [
      "<sqlite3.Cursor object at 0x0000027E88931E40>\n",
      "(2, 'Paul')\n",
      "(3, 'Glory')\n"
     ]
    }
   ],
   "source": [
    "conn = sql.connect(\"Staffs.db\")\n",
    "curs = conn.cursor()\n",
    "content = curs.execute(\"SELECT * FROM Staffs\")\n",
    "\n",
    "print(content)\n",
    "\n",
    "for record in content:\n",
    "    print(record)\n",
    "\n",
    "conn.close()"
   ]
  },
  {
   "cell_type": "code",
   "execution_count": null,
   "id": "3620ac8b-d5ee-45bd-ac84-171cf4febf13",
   "metadata": {},
   "outputs": [],
   "source": []
  }
 ],
 "metadata": {
  "kernelspec": {
   "display_name": "Python 3 (ipykernel)",
   "language": "python",
   "name": "python3"
  },
  "language_info": {
   "codemirror_mode": {
    "name": "ipython",
    "version": 3
   },
   "file_extension": ".py",
   "mimetype": "text/x-python",
   "name": "python",
   "nbconvert_exporter": "python",
   "pygments_lexer": "ipython3",
   "version": "3.11.5"
  }
 },
 "nbformat": 4,
 "nbformat_minor": 5
}
