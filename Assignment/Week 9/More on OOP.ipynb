{
 "cells": [
  {
   "cell_type": "code",
   "execution_count": 2,
   "id": "fd1c61f8-e5ca-47cb-9a24-b29aecbe40be",
   "metadata": {},
   "outputs": [
    {
     "name": "stdout",
     "output_type": "stream",
     "text": [
      "I am created\n",
      "500\n",
      "I am created\n",
      "3000\n"
     ]
    }
   ],
   "source": [
    "class Item:\n",
    "    def __init__(self):\n",
    "        print('I am created')\n",
    "        \n",
    "    def calculate_total_price(self, x, y):\n",
    "        return x * y\n",
    "\n",
    "item_1 = Item()\n",
    "item_1.name = 'Phone'\n",
    "item_1.price = 100\n",
    "item_1.quantity = 5\n",
    "print(item_1.calculate_total_price(item_1.price, item_1.quantity))\n",
    "\n",
    "item_2 = Item()\n",
    "item_2.name = 'Laptop'\n",
    "item_2.price = 1000\n",
    "item_2.quantity = 3\n",
    "print(item_2.calculate_total_price(item_2.price, item_2.quantity))"
   ]
  },
  {
   "cell_type": "code",
   "execution_count": 3,
   "id": "7b3d9389-3eb5-446d-a969-08c39c59d8b7",
   "metadata": {},
   "outputs": [
    {
     "name": "stdout",
     "output_type": "stream",
     "text": [
      "An instance created: Phone\n",
      "500\n",
      "An instance created: Laptop\n",
      "3000\n",
      "Phone\n",
      "Laptop\n",
      "100\n",
      "1000\n",
      "5\n",
      "3\n"
     ]
    }
   ],
   "source": [
    "class Item:\n",
    "    def __init__(self, name, price, quantity):\n",
    "        print(f'An instance created: {name}')\n",
    "        self.name = name\n",
    "        self.price = price\n",
    "        self.quantity = quantity\n",
    "        \n",
    "    def calculate_total_price(self, x, y):\n",
    "        return x * y\n",
    "\n",
    "item_1 = Item('Phone', 100, 5)\n",
    "print(item_1.calculate_total_price(item_1.price, item_1.quantity))\n",
    "\n",
    "item_2 = Item('Laptop', 1000, 3)\n",
    "print(item_2.calculate_total_price(item_2.price, item_2.quantity))\n",
    "\n",
    "print(item_1.name)\n",
    "print(item_2.name)\n",
    "print(item_1.price)\n",
    "print(item_2.price)\n",
    "print(item_1.quantity)\n",
    "print(item_2.quantity)"
   ]
  },
  {
   "cell_type": "code",
   "execution_count": 4,
   "id": "1ca3f038-ab5b-4250-907d-e6a6fe21307c",
   "metadata": {},
   "outputs": [
    {
     "name": "stdout",
     "output_type": "stream",
     "text": [
      "An instance created: Phone\n",
      "0\n",
      "An instance created: Laptop\n",
      "0\n",
      "Phone\n",
      "Laptop\n",
      "100\n",
      "1000\n",
      "0\n",
      "0\n"
     ]
    }
   ],
   "source": [
    "class Item:\n",
    "    def __init__(self, name, price, quantity = 0):\n",
    "        print(f'An instance created: {name}')\n",
    "        self.name = name\n",
    "        self.price = price\n",
    "        self.quantity = quantity\n",
    "        \n",
    "    def calculate_total_price(self, x, y):\n",
    "        return x * y\n",
    "\n",
    "item_1 = Item('Phone', 100)\n",
    "print(item_1.calculate_total_price(item_1.price, item_1.quantity))\n",
    "\n",
    "item_2 = Item('Laptop', 1000)\n",
    "print(item_2.calculate_total_price(item_2.price, item_2.quantity))\n",
    "\n",
    "print(item_1.name)\n",
    "print(item_2.name)\n",
    "print(item_1.price)\n",
    "print(item_2.price)\n",
    "print(item_1.quantity)\n",
    "print(item_2.quantity)"
   ]
  },
  {
   "cell_type": "code",
   "execution_count": 5,
   "id": "f4fa8a0c-693a-42cc-9faa-5459dec23408",
   "metadata": {},
   "outputs": [
    {
     "name": "stdout",
     "output_type": "stream",
     "text": [
      "An instance created: Phone\n",
      "An instance created: Laptop\n",
      "100\n",
      "3000\n"
     ]
    }
   ],
   "source": [
    "class Item:\n",
    "    def __init__(self, name, price, quantity = 0):\n",
    "        print(f'An instance created: {name}')\n",
    "        self.name = name\n",
    "        self.price = price\n",
    "        self.quantity = quantity\n",
    "        \n",
    "    def calculate_total_price(self):\n",
    "        return self.price * self.quantity\n",
    "\n",
    "item_1 = Item('Phone', 100, 1)\n",
    "\n",
    "item_2 = Item('Laptop', 1000, 3)\n",
    "\n",
    "print(item_1.calculate_total_price())\n",
    "print(item_2.calculate_total_price())\n"
   ]
  },
  {
   "cell_type": "code",
   "execution_count": 6,
   "id": "2692e217-ee90-4a1e-b31e-8c2a0e3012d7",
   "metadata": {},
   "outputs": [
    {
     "name": "stdout",
     "output_type": "stream",
     "text": [
      "An instance created: Phone\n",
      "An instance created: Laptop\n",
      "100\n",
      "100010001000\n"
     ]
    }
   ],
   "source": [
    "class Item:\n",
    "    def __init__(self, name, price, quantity = 0):\n",
    "        print(f'An instance created: {name}')\n",
    "        self.name = name\n",
    "        self.price = price\n",
    "        self.quantity = quantity\n",
    "        \n",
    "    def calculate_total_price(self):\n",
    "        return self.price * self.quantity\n",
    "\n",
    "item_1 = Item('Phone', '100', 1)\n",
    "\n",
    "item_2 = Item('Laptop', '1000', 3)\n",
    "\n",
    "print(item_1.calculate_total_price())\n",
    "print(item_2.calculate_total_price())\n"
   ]
  },
  {
   "cell_type": "code",
   "execution_count": 7,
   "id": "c13907a0-21ca-4028-8ffd-aedfa6052729",
   "metadata": {},
   "outputs": [
    {
     "name": "stdout",
     "output_type": "stream",
     "text": [
      "An instance created: Phone\n"
     ]
    },
    {
     "ename": "AssertionError",
     "evalue": "Quantity -1 is not greater than or equal to zero",
     "output_type": "error",
     "traceback": [
      "\u001b[1;31m---------------------------------------------------------------------------\u001b[0m",
      "\u001b[1;31mAssertionError\u001b[0m                            Traceback (most recent call last)",
      "\u001b[1;32mc:\\Personal Folder\\Industrial-Training\\Assignment\\Week 9\\More on OOP.ipynb Cell 6\u001b[0m line \u001b[0;36m1\n\u001b[0;32m     <a href='vscode-notebook-cell:/c%3A/Personal%20Folder/Industrial-Training/Assignment/Week%209/More%20on%20OOP.ipynb#X36sZmlsZQ%3D%3D?line=13'>14</a>\u001b[0m     \u001b[39mdef\u001b[39;00m \u001b[39mcalculate_total_price\u001b[39m(\u001b[39mself\u001b[39m):\n\u001b[0;32m     <a href='vscode-notebook-cell:/c%3A/Personal%20Folder/Industrial-Training/Assignment/Week%209/More%20on%20OOP.ipynb#X36sZmlsZQ%3D%3D?line=14'>15</a>\u001b[0m         \u001b[39mreturn\u001b[39;00m \u001b[39mself\u001b[39m\u001b[39m.\u001b[39mprice \u001b[39m*\u001b[39m \u001b[39mself\u001b[39m\u001b[39m.\u001b[39mquantity\n\u001b[1;32m---> <a href='vscode-notebook-cell:/c%3A/Personal%20Folder/Industrial-Training/Assignment/Week%209/More%20on%20OOP.ipynb#X36sZmlsZQ%3D%3D?line=16'>17</a>\u001b[0m item_1 \u001b[39m=\u001b[39m Item(\u001b[39m'\u001b[39;49m\u001b[39mPhone\u001b[39;49m\u001b[39m'\u001b[39;49m, \u001b[39m100\u001b[39;49m, \u001b[39m-\u001b[39;49m\u001b[39m1\u001b[39;49m)\n\u001b[0;32m     <a href='vscode-notebook-cell:/c%3A/Personal%20Folder/Industrial-Training/Assignment/Week%209/More%20on%20OOP.ipynb#X36sZmlsZQ%3D%3D?line=18'>19</a>\u001b[0m item_2 \u001b[39m=\u001b[39m Item(\u001b[39m'\u001b[39m\u001b[39mLaptop\u001b[39m\u001b[39m'\u001b[39m, \u001b[39m1000\u001b[39m, \u001b[39m-\u001b[39m\u001b[39m3\u001b[39m)\n\u001b[0;32m     <a href='vscode-notebook-cell:/c%3A/Personal%20Folder/Industrial-Training/Assignment/Week%209/More%20on%20OOP.ipynb#X36sZmlsZQ%3D%3D?line=20'>21</a>\u001b[0m \u001b[39mprint\u001b[39m(item_1\u001b[39m.\u001b[39mcalculate_total_price())\n",
      "\u001b[1;32mc:\\Personal Folder\\Industrial-Training\\Assignment\\Week 9\\More on OOP.ipynb Cell 6\u001b[0m line \u001b[0;36m6\n\u001b[0;32m      <a href='vscode-notebook-cell:/c%3A/Personal%20Folder/Industrial-Training/Assignment/Week%209/More%20on%20OOP.ipynb#X36sZmlsZQ%3D%3D?line=3'>4</a>\u001b[0m \u001b[39m#Run validations to the recieved arguments\u001b[39;00m\n\u001b[0;32m      <a href='vscode-notebook-cell:/c%3A/Personal%20Folder/Industrial-Training/Assignment/Week%209/More%20on%20OOP.ipynb#X36sZmlsZQ%3D%3D?line=4'>5</a>\u001b[0m \u001b[39massert\u001b[39;00m price \u001b[39m>\u001b[39m\u001b[39m=\u001b[39m \u001b[39m0\u001b[39m, \u001b[39mf\u001b[39m\u001b[39m'\u001b[39m\u001b[39mPrice \u001b[39m\u001b[39m{\u001b[39;00mprice\u001b[39m}\u001b[39;00m\u001b[39m is not greater than or equal to zero\u001b[39m\u001b[39m'\u001b[39m\n\u001b[1;32m----> <a href='vscode-notebook-cell:/c%3A/Personal%20Folder/Industrial-Training/Assignment/Week%209/More%20on%20OOP.ipynb#X36sZmlsZQ%3D%3D?line=5'>6</a>\u001b[0m \u001b[39massert\u001b[39;00m quantity \u001b[39m>\u001b[39m\u001b[39m=\u001b[39m \u001b[39m0\u001b[39m, \u001b[39mf\u001b[39m\u001b[39m'\u001b[39m\u001b[39mQuantity \u001b[39m\u001b[39m{\u001b[39;00mquantity\u001b[39m}\u001b[39;00m\u001b[39m is not greater than or equal to zero\u001b[39m\u001b[39m'\u001b[39m\n\u001b[0;32m      <a href='vscode-notebook-cell:/c%3A/Personal%20Folder/Industrial-Training/Assignment/Week%209/More%20on%20OOP.ipynb#X36sZmlsZQ%3D%3D?line=7'>8</a>\u001b[0m \u001b[39m#Assign to self object\u001b[39;00m\n\u001b[0;32m      <a href='vscode-notebook-cell:/c%3A/Personal%20Folder/Industrial-Training/Assignment/Week%209/More%20on%20OOP.ipynb#X36sZmlsZQ%3D%3D?line=8'>9</a>\u001b[0m \u001b[39mself\u001b[39m\u001b[39m.\u001b[39mname \u001b[39m=\u001b[39m name\n",
      "\u001b[1;31mAssertionError\u001b[0m: Quantity -1 is not greater than or equal to zero"
     ]
    }
   ],
   "source": [
    "class Item:\n",
    "    def __init__(self, name: str, price: float, quantity = 0):\n",
    "        print(f'An instance created: {name}')\n",
    "        #Run validations to the recieved arguments\n",
    "        assert price >= 0, f'Price {price} is not greater than or equal to zero'\n",
    "        assert quantity >= 0, f'Quantity {quantity} is not greater than or equal to zero'\n",
    "\n",
    "        #Assign to self object\n",
    "        self.name = name\n",
    "        self.price = price\n",
    "        self.quantity = quantity\n",
    "        \n",
    "        \n",
    "    def calculate_total_price(self):\n",
    "        return self.price * self.quantity\n",
    "\n",
    "item_1 = Item('Phone', 100, -1)\n",
    "\n",
    "item_2 = Item('Laptop', 1000, -3)\n",
    "\n",
    "print(item_1.calculate_total_price())\n",
    "print(item_2.calculate_total_price())\n"
   ]
  },
  {
   "cell_type": "code",
   "execution_count": 8,
   "id": "d5193ae3-2dbc-40d2-bb11-a1575c4115c8",
   "metadata": {},
   "outputs": [
    {
     "name": "stdout",
     "output_type": "stream",
     "text": [
      "An instance created: Phone\n",
      "An instance created: Laptop\n",
      "100\n",
      "3000\n",
      "0.8\n",
      "0.8\n",
      "0.8\n"
     ]
    }
   ],
   "source": [
    "class Item:\n",
    "    pay_rate = 0.8 # The pay rate of 20% discount\n",
    "    def __init__(self, name: str, price: float, quantity = 0):\n",
    "        print(f'An instance created: {name}')\n",
    "        #Run validations to the recieved arguments\n",
    "        assert price >= 0, f'Price {price} is not greater than or equal to zero'\n",
    "        assert quantity >= 0, f'Quantity {quantity} is not greater than or equal to zero'\n",
    "\n",
    "        #Assign to self object\n",
    "        self.name = name\n",
    "        self.price = price\n",
    "        self.quantity = quantity\n",
    "        \n",
    "        \n",
    "    def calculate_total_price(self):\n",
    "        return self.price * self.quantity\n",
    "\n",
    "item_1 = Item('Phone', 100, 1)\n",
    "\n",
    "item_2 = Item('Laptop', 1000, 3)\n",
    "\n",
    "print(item_1.calculate_total_price())\n",
    "print(item_2.calculate_total_price())\n",
    "print(Item.pay_rate)\n",
    "print(item_2.pay_rate)\n",
    "print(item_1.pay_rate)\n"
   ]
  },
  {
   "cell_type": "code",
   "execution_count": 9,
   "id": "0b5650c7-c085-4d42-9afa-c2d0dba311ae",
   "metadata": {},
   "outputs": [
    {
     "name": "stdout",
     "output_type": "stream",
     "text": [
      "An instance created: Phone\n",
      "An instance created: Laptop\n",
      "{'__module__': '__main__', 'pay_rate': 0.8, '__init__': <function Item.__init__ at 0x000001AC1B1558A0>, 'calculate_total_price': <function Item.calculate_total_price at 0x000001AC1B155940>, '__dict__': <attribute '__dict__' of 'Item' objects>, '__weakref__': <attribute '__weakref__' of 'Item' objects>, '__doc__': None}\n",
      "{'name': 'Phone', 'price': 100, 'quantity': 1}\n"
     ]
    }
   ],
   "source": [
    "class Item:\n",
    "    pay_rate = 0.8 # The pay rate of 20% discount\n",
    "    def __init__(self, name: str, price: float, quantity = 0):\n",
    "        print(f'An instance created: {name}')\n",
    "        #Run validations to the recieved arguments\n",
    "        assert price >= 0, f'Price {price} is not greater than or equal to zero'\n",
    "        assert quantity >= 0, f'Quantity {quantity} is not greater than or equal to zero'\n",
    "\n",
    "        #Assign to self object\n",
    "        self.name = name\n",
    "        self.price = price\n",
    "        self.quantity = quantity\n",
    "        \n",
    "        \n",
    "    def calculate_total_price(self):\n",
    "        return self.price * self.quantity\n",
    "\n",
    "item_1 = Item('Phone', 100, 1)\n",
    "\n",
    "item_2 = Item('Laptop', 1000, 3)\n",
    "\n",
    "print(Item.__dict__) # All the attributes for class level\n",
    "print(item_1.__dict__) # All the attributes for instance level\n"
   ]
  },
  {
   "cell_type": "code",
   "execution_count": 10,
   "id": "cdd829f1-6c13-4f1c-a5b7-5af19e1fb0a4",
   "metadata": {},
   "outputs": [
    {
     "name": "stdout",
     "output_type": "stream",
     "text": [
      "An instance created: Phone\n",
      "An instance created: Laptop\n",
      "700.0\n",
      "{'name': 'Laptop', 'price': 700.0, 'quantity': 3, 'pay_rate': 0.7}\n"
     ]
    }
   ],
   "source": [
    "class Item:\n",
    "    pay_rate = 0.8 # The pay rate of 20% discount\n",
    "    def __init__(self, name: str, price: float, quantity = 0):\n",
    "        print(f'An instance created: {name}')\n",
    "        #Run validations to the recieved arguments\n",
    "        assert price >= 0, f'Price {price} is not greater than or equal to zero'\n",
    "        assert quantity >= 0, f'Quantity {quantity} is not greater than or equal to zero'\n",
    "\n",
    "        #Assign to self object\n",
    "        self.name = name\n",
    "        self.price = price\n",
    "        self.quantity = quantity\n",
    "        \n",
    "        \n",
    "    def calculate_total_price(self):\n",
    "        return self.price * self.quantity\n",
    "\n",
    "    def apply_discount(self):\n",
    "        self.price = self.price * self.pay_rate\n",
    "\n",
    "item_1 = Item('Phone', 100, 1)\n",
    "item_1.apply_discount()\n",
    "\n",
    "item_2 = Item('Laptop', 1000, 3)\n",
    "item_2.pay_rate = 0.7\n",
    "item_2.apply_discount()\n",
    "\n",
    "#print(item_1.price)\n",
    "print(item_2.price)\n",
    "#print(Item.__dict__) # All the attributes for class level\n",
    "print(item_2.__dict__) # All the attributes for instance level\n"
   ]
  },
  {
   "cell_type": "code",
   "execution_count": 11,
   "id": "9641d38d-8ec8-4956-8e95-bfeb92a4167d",
   "metadata": {},
   "outputs": [
    {
     "name": "stdout",
     "output_type": "stream",
     "text": [
      "An instance created: Phone\n",
      "An instance created: Laptop\n",
      "An instance created: Cable\n",
      "An instance created: Mouse\n",
      "An instance created: Keybord\n",
      "Phone\n",
      "Laptop\n",
      "Cable\n",
      "Mouse\n",
      "Keybord\n"
     ]
    }
   ],
   "source": [
    "class Item:\n",
    "    pay_rate = 0.8 # The pay rate of 20% discount\n",
    "    all = []\n",
    "    def __init__(self, name: str, price: float, quantity = 0):\n",
    "        print(f'An instance created: {name}')\n",
    "        #Run validations to the recieved arguments\n",
    "        assert price >= 0, f'Price {price} is not greater than or equal to zero'\n",
    "        assert quantity >= 0, f'Quantity {quantity} is not greater than or equal to zero'\n",
    "\n",
    "        #Assign to self object\n",
    "        self.name = name\n",
    "        self.price = price\n",
    "        self.quantity = quantity\n",
    "\n",
    "        # Actions to execute\n",
    "        Item.all.append(self)\n",
    "        \n",
    "        \n",
    "    def calculate_total_price(self):\n",
    "        return self.price * self.quantity\n",
    "\n",
    "    def apply_discount(self):\n",
    "        self.price = self.price * self.pay_rate\n",
    "\n",
    "item_1 = Item('Phone', 100, 1)\n",
    "item_2 = Item('Laptop', 1000, 3)\n",
    "item_3 = Item('Cable', 10, 5)\n",
    "item_4 = Item('Mouse', 50, 5)\n",
    "item_5 = Item('Keybord', 75, 5)\n",
    "\n",
    "for instance in Item.all:\n",
    "    print(instance.name)\n"
   ]
  },
  {
   "cell_type": "code",
   "execution_count": 12,
   "id": "10edb65b-8808-4e8d-8405-9054b682a3ab",
   "metadata": {},
   "outputs": [
    {
     "name": "stdout",
     "output_type": "stream",
     "text": [
      "An instance created: Phone\n",
      "An instance created: Laptop\n",
      "An instance created: Cable\n",
      "An instance created: Mouse\n",
      "An instance created: Keybord\n",
      "[<__main__.Item object at 0x000001AC1AF252D0>, <__main__.Item object at 0x000001AC1B521690>, <__main__.Item object at 0x000001AC1B521050>, <__main__.Item object at 0x000001AC1AF20C10>, <__main__.Item object at 0x000001AC1AF21B10>]\n"
     ]
    }
   ],
   "source": [
    "class Item:\n",
    "    pay_rate = 0.8 # The pay rate of 20% discount\n",
    "    all = []\n",
    "    def __init__(self, name: str, price: float, quantity = 0):\n",
    "        print(f'An instance created: {name}')\n",
    "        #Run validations to the recieved arguments\n",
    "        assert price >= 0, f'Price {price} is not greater than or equal to zero'\n",
    "        assert quantity >= 0, f'Quantity {quantity} is not greater than or equal to zero'\n",
    "\n",
    "        #Assign to self object\n",
    "        self.name = name\n",
    "        self.price = price\n",
    "        self.quantity = quantity\n",
    "\n",
    "        # Actions to execute\n",
    "        Item.all.append(self)\n",
    "        \n",
    "        \n",
    "    def calculate_total_price(self):\n",
    "        return self.price * self.quantity\n",
    "\n",
    "    def apply_discount(self):\n",
    "        self.price = self.price * self.pay_rate\n",
    "\n",
    "item_1 = Item('Phone', 100, 1)\n",
    "item_2 = Item('Laptop', 1000, 3)\n",
    "item_3 = Item('Cable', 10, 5)\n",
    "item_4 = Item('Mouse', 50, 5)\n",
    "item_5 = Item('Keybord', 75, 5)\n",
    "\n",
    "print(Item.all)\n"
   ]
  },
  {
   "cell_type": "code",
   "execution_count": 13,
   "id": "10aa08c4-a25e-40fc-905c-571ff37637f2",
   "metadata": {},
   "outputs": [
    {
     "name": "stdout",
     "output_type": "stream",
     "text": [
      "An instance created: Phone\n",
      "An instance created: Laptop\n",
      "An instance created: Cable\n",
      "An instance created: Mouse\n",
      "An instance created: Keybord\n",
      "[Item, Item, Item, Item, Item]\n"
     ]
    }
   ],
   "source": [
    "class Item:\n",
    "    pay_rate = 0.8 # The pay rate of 20% discount\n",
    "    all = []\n",
    "    def __init__(self, name: str, price: float, quantity = 0):\n",
    "        print(f'An instance created: {name}')\n",
    "        #Run validations to the recieved arguments\n",
    "        assert price >= 0, f'Price {price} is not greater than or equal to zero'\n",
    "        assert quantity >= 0, f'Quantity {quantity} is not greater than or equal to zero'\n",
    "\n",
    "        #Assign to self object\n",
    "        self.name = name\n",
    "        self.price = price\n",
    "        self.quantity = quantity\n",
    "\n",
    "        # Actions to execute\n",
    "        Item.all.append(self)\n",
    "        \n",
    "        \n",
    "    def calculate_total_price(self):\n",
    "        return self.price * self.quantity\n",
    "\n",
    "    def apply_discount(self):\n",
    "        self.price = self.price * self.pay_rate\n",
    "\n",
    "    def __repr__(self):\n",
    "        return \"Item\"\n",
    "\n",
    "item_1 = Item('Phone', 100, 1)\n",
    "item_2 = Item('Laptop', 1000, 3)\n",
    "item_3 = Item('Cable', 10, 5)\n",
    "item_4 = Item('Mouse', 50, 5)\n",
    "item_5 = Item('Keybord', 75, 5)\n",
    "\n",
    "print(Item.all)\n"
   ]
  },
  {
   "cell_type": "code",
   "execution_count": 14,
   "id": "04c79ecb-90f7-41b4-8c55-7c5d3beacaf3",
   "metadata": {},
   "outputs": [
    {
     "name": "stdout",
     "output_type": "stream",
     "text": [
      "An instance created: Phone\n",
      "An instance created: Laptop\n",
      "An instance created: Cable\n",
      "An instance created: Mouse\n",
      "An instance created: Keybord\n",
      "[Item('Phone', 100, 1), Item('Laptop', 1000, 3), Item('Cable', 10, 5), Item('Mouse', 50, 5), Item('Keybord', 75, 5)]\n"
     ]
    }
   ],
   "source": [
    "class Item:\n",
    "    pay_rate = 0.8 # The pay rate of 20% discount\n",
    "    all = []\n",
    "    def __init__(self, name: str, price: float, quantity = 0):\n",
    "        print(f'An instance created: {name}')\n",
    "        #Run validations to the recieved arguments\n",
    "        assert price >= 0, f'Price {price} is not greater than or equal to zero'\n",
    "        assert quantity >= 0, f'Quantity {quantity} is not greater than or equal to zero'\n",
    "\n",
    "        #Assign to self object\n",
    "        self.name = name\n",
    "        self.price = price\n",
    "        self.quantity = quantity\n",
    "\n",
    "        # Actions to execute\n",
    "        Item.all.append(self)\n",
    "        \n",
    "        \n",
    "    def calculate_total_price(self):\n",
    "        return self.price * self.quantity\n",
    "\n",
    "    def apply_discount(self):\n",
    "        self.price = self.price * self.pay_rate\n",
    "\n",
    "    def __repr__(self):\n",
    "        return f\"Item('{self.name}', {self.price}, {self.quantity})\"\n",
    "\n",
    "item_1 = Item('Phone', 100, 1)\n",
    "item_2 = Item('Laptop', 1000, 3)\n",
    "item_3 = Item('Cable', 10, 5)\n",
    "item_4 = Item('Mouse', 50, 5)\n",
    "item_5 = Item('Keybord', 75, 5)\n",
    "\n",
    "print(Item.all)\n"
   ]
  },
  {
   "cell_type": "code",
   "execution_count": 15,
   "id": "bbea0390-b1dc-42ab-bb4d-1f37b1a404a1",
   "metadata": {},
   "outputs": [
    {
     "name": "stdout",
     "output_type": "stream",
     "text": [
      "{'name': 'Phone', 'price': '100', 'quantity': '1'}\n",
      "{'name': 'Laptop', 'price': '1000', 'quantity': '3'}\n",
      "{'name': 'Cable', 'price': '10', 'quantity': '5'}\n",
      "{'name': 'Mouse', 'price': '50', 'quantity': '5'}\n",
      "{'name': 'Keyboard', 'price': '75.8', 'quantity': '5'}\n"
     ]
    }
   ],
   "source": [
    "import csv\n",
    "class Item:\n",
    "    pay_rate = 0.8 # The pay rate of 20% discount\n",
    "    all = []\n",
    "    def __init__(self, name: str, price: float, quantity = 0):\n",
    "        print(f'An instance created: {name}')\n",
    "        #Run validations to the recieved arguments\n",
    "        assert price >= 0, f'Price {price} is not greater than or equal to zero'\n",
    "        assert quantity >= 0, f'Quantity {quantity} is not greater than or equal to zero'\n",
    "\n",
    "        #Assign to self object\n",
    "        self.name = name\n",
    "        self.price = price\n",
    "        self.quantity = quantity\n",
    "\n",
    "        # Actions to execute\n",
    "        Item.all.append(self)\n",
    "        \n",
    "        \n",
    "    def calculate_total_price(self):\n",
    "        return self.price * self.quantity\n",
    "\n",
    "    def apply_discount(self):\n",
    "        self.price = self.price * self.pay_rate\n",
    "\n",
    "    @classmethod\n",
    "    def instantiate_from_csv(cls):\n",
    "        with open('items.csv', 'r') as f:\n",
    "            reader = csv.DictReader(f)\n",
    "            items = list(reader)\n",
    "        for item in items:\n",
    "            print(item)\n",
    "\n",
    "    def __repr__(self):\n",
    "        return f\"Item('{self.name}', {self.price}, {self.quantity})\"\n",
    "\n",
    "Item.instantiate_from_csv()\n"
   ]
  },
  {
   "cell_type": "code",
   "execution_count": 16,
   "id": "9fac9f25-be61-4b29-bc4e-6aaa9bb4b12a",
   "metadata": {},
   "outputs": [
    {
     "name": "stdout",
     "output_type": "stream",
     "text": [
      "An instance created: Phone\n",
      "An instance created: Laptop\n",
      "An instance created: Cable\n",
      "An instance created: Mouse\n",
      "An instance created: Keyboard\n",
      "[Item('Phone', 100.0, 1), Item('Laptop', 1000.0, 3), Item('Cable', 10.0, 5), Item('Mouse', 50.0, 5), Item('Keyboard', 75.8, 5)]\n"
     ]
    }
   ],
   "source": [
    "import csv\n",
    "class Item:\n",
    "    pay_rate = 0.8 # The pay rate of 20% discount\n",
    "    all = []\n",
    "    def __init__(self, name: str, price: float, quantity = 0):\n",
    "        print(f'An instance created: {name}')\n",
    "        #Run validations to the recieved arguments\n",
    "        assert price >= 0, f'Price {price} is not greater than or equal to zero'\n",
    "        assert quantity >= 0, f'Quantity {quantity} is not greater than or equal to zero'\n",
    "\n",
    "        #Assign to self object\n",
    "        self.name = name\n",
    "        self.price = price\n",
    "        self.quantity = quantity\n",
    "\n",
    "        # Actions to execute\n",
    "        Item.all.append(self)\n",
    "        \n",
    "        \n",
    "    def calculate_total_price(self):\n",
    "        return self.price * self.quantity\n",
    "\n",
    "    def apply_discount(self):\n",
    "        self.price = self.price * self.pay_rate\n",
    "\n",
    "    @classmethod\n",
    "    def instantiate_from_csv(cls):\n",
    "        with open('items.csv', 'r') as f:\n",
    "            reader = csv.DictReader(f)\n",
    "            items = list(reader)\n",
    "        for item in items:\n",
    "           Item(\n",
    "               name = item.get('name'),\n",
    "               price = float(item.get('price')),\n",
    "               quantity = int(item.get('quantity')),\n",
    "           )\n",
    "\n",
    "    def __repr__(self):\n",
    "        return f\"Item('{self.name}', {self.price}, {self.quantity})\"\n",
    "\n",
    "Item.instantiate_from_csv()\n",
    "print(Item.all)"
   ]
  },
  {
   "cell_type": "code",
   "execution_count": 17,
   "id": "680b0fd9-65a9-437f-859f-f62aa1004cc8",
   "metadata": {},
   "outputs": [
    {
     "name": "stdout",
     "output_type": "stream",
     "text": [
      "True\n",
      "False\n"
     ]
    }
   ],
   "source": [
    "import csv\n",
    "class Item:\n",
    "    pay_rate = 0.8 # The pay rate of 20% discount\n",
    "    all = []\n",
    "    def __init__(self, name: str, price: float, quantity = 0):\n",
    "        print(f'An instance created: {name}')\n",
    "        #Run validations to the recieved arguments\n",
    "        assert price >= 0, f'Price {price} is not greater than or equal to zero'\n",
    "        assert quantity >= 0, f'Quantity {quantity} is not greater than or equal to zero'\n",
    "\n",
    "        #Assign to self object\n",
    "        self.name = name\n",
    "        self.price = price\n",
    "        self.quantity = quantity\n",
    "\n",
    "        # Actions to execute\n",
    "        Item.all.append(self)\n",
    "        \n",
    "        \n",
    "    def calculate_total_price(self):\n",
    "        return self.price * self.quantity\n",
    "\n",
    "    def apply_discount(self):\n",
    "        self.price = self.price * self.pay_rate\n",
    "\n",
    "    @classmethod\n",
    "    def instantiate_from_csv(cls):\n",
    "        with open('items.csv', 'r') as f:\n",
    "            reader = csv.DictReader(f)\n",
    "            items = list(reader)\n",
    "        for item in items:\n",
    "           Item(\n",
    "               name = item.get('name'),\n",
    "               price = float(item.get('price')),\n",
    "               quantity = int(item.get('quantity')),\n",
    "           )\n",
    "\n",
    "    @staticmethod\n",
    "    def is_integer(num):\n",
    "        # We'll count out the floats that are point zero\n",
    "        # for i.e: 5.0, 10.0\n",
    "        if isinstance(num, float):\n",
    "            # Count out the floats that are point zero\n",
    "            return num.is_integer()\n",
    "\n",
    "        elif isinstance(num, int):\n",
    "            return True\n",
    "\n",
    "        else:\n",
    "            return False\n",
    "            \n",
    "\n",
    "    def __repr__(self):\n",
    "        return f\"Item('{self.name}', {self.price}, {self.quantity})\"\n",
    "\n",
    "print(Item.is_integer(7.0))\n",
    "print(Item.is_integer(7.5))"
   ]
  },
  {
   "cell_type": "code",
   "execution_count": 18,
   "id": "05112b31-5ab7-48d9-a834-14b7ac116923",
   "metadata": {},
   "outputs": [],
   "source": [
    "# When to use a class method or static method\n",
    "\n",
    "class Item:\n",
    "    @staticmethod\n",
    "    def is_integer(num):\n",
    "        '''\n",
    "        This should do something that as a relationship with the class,\n",
    "        but not something that must be unique per instance\n",
    "        '''\n",
    "\n",
    "    @classmethod\n",
    "    def instantiate_from_something(cls):\n",
    "        '''\n",
    "        This should also do something that has a relationship with the class,\n",
    "        but unfortunately, those are used to manipulate different structures of\n",
    "        data to instatntiate objects, like we have done with CSV.\n",
    "        '''\n",
    "\n",
    "# However, those could be also called from instances.\n",
    "item1 = Item()\n",
    "item1.is_integer(5)\n",
    "item1.instantiate_from_something()\n",
    " "
   ]
  },
  {
   "cell_type": "code",
   "execution_count": 19,
   "id": "2edd860f-cc5a-4bfe-abf6-126fe990d502",
   "metadata": {},
   "outputs": [
    {
     "name": "stdout",
     "output_type": "stream",
     "text": [
      "An instance created: jscPhonev10\n",
      "An instance created: jscPhonev20\n"
     ]
    }
   ],
   "source": [
    "import csv\n",
    "\n",
    "class Phone(Item):\n",
    "    all = []\n",
    "    def __init__(self, name: str, price: float, quantity = 0, broken_phones = 0):\n",
    "        print(f'An instance created: {name}')\n",
    "        #Run validations to the recieved arguments\n",
    "        assert price >= 0, f'Price {price} is not greater than or equal to zero'\n",
    "        assert quantity >= 0, f'Quantity {quantity} is not greater than or equal to zero'\n",
    "        assert broken_phones >= 0, f'Broken phones {broken_phones} is not greater than or equal to zero'\n",
    "\n",
    "        \n",
    "        #Assign to self object\n",
    "        self.name = name\n",
    "        self.price = price\n",
    "        self.quantity = quantity\n",
    "        self.broken_phones = broken_phones\n",
    "\n",
    "        # Actions to execute\n",
    "        Phone.all.append(self)\n",
    "\n",
    "phone1 = Phone(\"jscPhonev10\", 500, 5)\n",
    "phone1.broken_phones = 1\n",
    "phone2 = Phone(\"jscPhonev20\", 700, 5)\n",
    "phone2.broken_phones = 1"
   ]
  },
  {
   "cell_type": "code",
   "execution_count": 20,
   "id": "9919a8ac-9b02-4bcc-b8ac-3b9f461b6fd5",
   "metadata": {},
   "outputs": [
    {
     "name": "stdout",
     "output_type": "stream",
     "text": [
      "An instance created: jscPhonev10\n",
      "2500\n",
      "An instance created: jscPhonev20\n",
      "3500\n"
     ]
    }
   ],
   "source": [
    "import csv\n",
    "class Item:\n",
    "    pay_rate = 0.8 # The pay rate of 20% discount\n",
    "    all = []\n",
    "    def __init__(self, name: str, price: float, quantity = 0):\n",
    "        print(f'An instance created: {name}')\n",
    "        #Run validations to the recieved arguments\n",
    "        assert price >= 0, f'Price {price} is not greater than or equal to zero'\n",
    "        assert quantity >= 0, f'Quantity {quantity} is not greater than or equal to zero'\n",
    "\n",
    "        #Assign to self object\n",
    "        self.name = name\n",
    "        self.price = price\n",
    "        self.quantity = quantity\n",
    "\n",
    "        # Actions to execute\n",
    "        Item.all.append(self)\n",
    "        \n",
    "        \n",
    "    def calculate_total_price(self):\n",
    "        return self.price * self.quantity\n",
    "\n",
    "    def apply_discount(self):\n",
    "        self.price = self.price * self.pay_rate\n",
    "\n",
    "    @classmethod\n",
    "    def instantiate_from_csv(cls):\n",
    "        with open('items.csv', 'r') as f:\n",
    "            reader = csv.DictReader(f)\n",
    "            items = list(reader)\n",
    "        for item in items:\n",
    "           Item(\n",
    "               name = item.get('name'),\n",
    "               price = float(item.get('price')),\n",
    "               quantity = int(item.get('quantity')),\n",
    "           )\n",
    "\n",
    "    @staticmethod\n",
    "    def is_integer(num):\n",
    "        # We'll count out the floats that are point zero\n",
    "        # for i.e: 5.0, 10.0\n",
    "        if isinstance(num, float):\n",
    "            # Count out the floats that are point zero\n",
    "            return num.is_integer()\n",
    "\n",
    "        elif isinstance(num, int):\n",
    "            return True\n",
    "\n",
    "        else:\n",
    "            return False\n",
    "            \n",
    "\n",
    "    def __repr__(self):\n",
    "        return f\"Item('{self.name}', {self.price}, {self.quantity})\"\n",
    "\n",
    "class Phone(Item):\n",
    "    all = []\n",
    "    def __init__(self, name: str, price: float, quantity = 0, broken_phones = 0):\n",
    "        print(f'An instance created: {name}')\n",
    "        #Run validations to the recieved arguments\n",
    "        assert price >= 0, f'Price {price} is not greater than or equal to zero'\n",
    "        assert quantity >= 0, f'Quantity {quantity} is not greater than or equal to zero'\n",
    "        assert broken_phones >= 0, f'Broken phones {broken_phones} is not greater than or equal to zero'\n",
    "\n",
    "        \n",
    "        #Assign to self object\n",
    "        self.name = name\n",
    "        self.price = price\n",
    "        self.quantity = quantity\n",
    "        self.broken_phones = broken_phones\n",
    "\n",
    "        # Actions to execute\n",
    "        Phone.all.append(self)\n",
    "\n",
    "phone1 = Phone(\"jscPhonev10\", 500, 5, 1)\n",
    "print(phone1.calculate_total_price())\n",
    "phone2 = Phone(\"jscPhonev20\", 700, 5, 1)\n",
    "print(phone2.calculate_total_price())"
   ]
  },
  {
   "cell_type": "code",
   "execution_count": 21,
   "id": "fee1881a-d722-47a8-9e74-a302f112f13f",
   "metadata": {},
   "outputs": [
    {
     "name": "stdout",
     "output_type": "stream",
     "text": [
      "An instance created: jscPhonev10\n"
     ]
    },
    {
     "ename": "AttributeError",
     "evalue": "'Phone' object has no attribute 'price'",
     "output_type": "error",
     "traceback": [
      "\u001b[1;31m---------------------------------------------------------------------------\u001b[0m",
      "\u001b[1;31mAttributeError\u001b[0m                            Traceback (most recent call last)",
      "\u001b[1;32mc:\\Personal Folder\\Industrial-Training\\Assignment\\Week 9\\More on OOP.ipynb Cell 20\u001b[0m line \u001b[0;36m7\n\u001b[0;32m     <a href='vscode-notebook-cell:/c%3A/Personal%20Folder/Industrial-Training/Assignment/Week%209/More%20on%20OOP.ipynb#X56sZmlsZQ%3D%3D?line=68'>69</a>\u001b[0m         Phone\u001b[39m.\u001b[39mall\u001b[39m.\u001b[39mappend(\u001b[39mself\u001b[39m)\n\u001b[0;32m     <a href='vscode-notebook-cell:/c%3A/Personal%20Folder/Industrial-Training/Assignment/Week%209/More%20on%20OOP.ipynb#X56sZmlsZQ%3D%3D?line=70'>71</a>\u001b[0m phone1 \u001b[39m=\u001b[39m Phone(\u001b[39m\"\u001b[39m\u001b[39mjscPhonev10\u001b[39m\u001b[39m\"\u001b[39m, \u001b[39m500\u001b[39m, \u001b[39m5\u001b[39m, \u001b[39m1\u001b[39m)\n\u001b[1;32m---> <a href='vscode-notebook-cell:/c%3A/Personal%20Folder/Industrial-Training/Assignment/Week%209/More%20on%20OOP.ipynb#X56sZmlsZQ%3D%3D?line=71'>72</a>\u001b[0m \u001b[39mprint\u001b[39m(phone1\u001b[39m.\u001b[39;49mcalculate_total_price())\n\u001b[0;32m     <a href='vscode-notebook-cell:/c%3A/Personal%20Folder/Industrial-Training/Assignment/Week%209/More%20on%20OOP.ipynb#X56sZmlsZQ%3D%3D?line=72'>73</a>\u001b[0m phone2 \u001b[39m=\u001b[39m Phone(\u001b[39m\"\u001b[39m\u001b[39mjscPhonev20\u001b[39m\u001b[39m\"\u001b[39m, \u001b[39m700\u001b[39m, \u001b[39m5\u001b[39m, \u001b[39m1\u001b[39m)\n\u001b[0;32m     <a href='vscode-notebook-cell:/c%3A/Personal%20Folder/Industrial-Training/Assignment/Week%209/More%20on%20OOP.ipynb#X56sZmlsZQ%3D%3D?line=73'>74</a>\u001b[0m \u001b[39m#print(phone2.calculate_total_price())\u001b[39;00m\n",
      "\u001b[1;32mc:\\Personal Folder\\Industrial-Training\\Assignment\\Week 9\\More on OOP.ipynb Cell 20\u001b[0m line \u001b[0;36m2\n\u001b[0;32m     <a href='vscode-notebook-cell:/c%3A/Personal%20Folder/Industrial-Training/Assignment/Week%209/More%20on%20OOP.ipynb#X56sZmlsZQ%3D%3D?line=19'>20</a>\u001b[0m \u001b[39mdef\u001b[39;00m \u001b[39mcalculate_total_price\u001b[39m(\u001b[39mself\u001b[39m):\n\u001b[1;32m---> <a href='vscode-notebook-cell:/c%3A/Personal%20Folder/Industrial-Training/Assignment/Week%209/More%20on%20OOP.ipynb#X56sZmlsZQ%3D%3D?line=20'>21</a>\u001b[0m     \u001b[39mreturn\u001b[39;00m \u001b[39mself\u001b[39;49m\u001b[39m.\u001b[39;49mprice \u001b[39m*\u001b[39m \u001b[39mself\u001b[39m\u001b[39m.\u001b[39mquantity\n",
      "\u001b[1;31mAttributeError\u001b[0m: 'Phone' object has no attribute 'price'"
     ]
    }
   ],
   "source": [
    "import csv\n",
    "class Item:\n",
    "    pay_rate = 0.8 # The pay rate of 20% discount\n",
    "    all = []\n",
    "    def __init__(self, name: str, price: float, quantity = 0):\n",
    "        print(f'An instance created: {name}')\n",
    "        #Run validations to the recieved arguments\n",
    "        assert price >= 0, f'Price {price} is not greater than or equal to zero'\n",
    "        assert quantity >= 0, f'Quantity {quantity} is not greater than or equal to zero'\n",
    "\n",
    "        #Assign to self object\n",
    "        self.name = name\n",
    "        self.price = price\n",
    "        self.quantity = quantity\n",
    "\n",
    "        # Actions to execute\n",
    "        Item.all.append(self)\n",
    "        \n",
    "        \n",
    "    def calculate_total_price(self):\n",
    "        return self.price * self.quantity\n",
    "\n",
    "    def apply_discount(self):\n",
    "        self.price = self.price * self.pay_rate\n",
    "\n",
    "    @classmethod\n",
    "    def instantiate_from_csv(cls):\n",
    "        with open('items.csv', 'r') as f:\n",
    "            reader = csv.DictReader(f)\n",
    "            items = list(reader)\n",
    "        for item in items:\n",
    "           Item(\n",
    "               name = item.get('name'),\n",
    "               price = float(item.get('price')),\n",
    "               quantity = int(item.get('quantity')),\n",
    "           )\n",
    "\n",
    "    @staticmethod\n",
    "    def is_integer(num):\n",
    "        # We'll count out the floats that are point zero\n",
    "        # for i.e: 5.0, 10.0\n",
    "        if isinstance(num, float):\n",
    "            # Count out the floats that are point zero\n",
    "            return num.is_integer()\n",
    "\n",
    "        elif isinstance(num, int):\n",
    "            return True\n",
    "\n",
    "        else:\n",
    "            return False\n",
    "            \n",
    "\n",
    "    def __repr__(self):\n",
    "        return f\"Item('{self.name}', {self.price}, {self.quantity})\"\n",
    "\n",
    "class Phone(Item):\n",
    "    all = []\n",
    "    def __init__(self, name: str, price: float, quantity = 0, broken_phones = 0):\n",
    "        \n",
    "        print(f'An instance created: {name}')\n",
    "        #Run validations to the recieved arguments\n",
    "        assert broken_phones >= 0, f'Broken phones {broken_phones} is not greater than or equal to zero'\n",
    "\n",
    "        \n",
    "        #Assign to self object\n",
    "        self.broken_phones = broken_phones\n",
    "\n",
    "        # Actions to execute\n",
    "        Phone.all.append(self)\n",
    "\n",
    "phone1 = Phone(\"jscPhonev10\", 500, 5, 1)\n",
    "print(phone1.calculate_total_price())\n",
    "phone2 = Phone(\"jscPhonev20\", 700, 5, 1)\n",
    "#print(phone2.calculate_total_price())"
   ]
  },
  {
   "cell_type": "code",
   "execution_count": 22,
   "id": "c2b2f2b1-5fa8-47e2-ad6d-233de951c8c3",
   "metadata": {},
   "outputs": [
    {
     "name": "stdout",
     "output_type": "stream",
     "text": [
      "An instance created: jscPhonev10\n",
      "An instance created: jscPhonev10\n",
      "2500\n",
      "An instance created: jscPhonev20\n",
      "An instance created: jscPhonev20\n",
      "3500\n"
     ]
    }
   ],
   "source": [
    "import csv\n",
    "class Item:\n",
    "    pay_rate = 0.8 # The pay rate of 20% discount\n",
    "    all = []\n",
    "    def __init__(self, name: str, price: float, quantity = 0):\n",
    "        print(f'An instance created: {name}')\n",
    "        #Run validations to the recieved arguments\n",
    "        assert price >= 0, f'Price {price} is not greater than or equal to zero'\n",
    "        assert quantity >= 0, f'Quantity {quantity} is not greater than or equal to zero'\n",
    "\n",
    "        #Assign to self object\n",
    "        self.name = name\n",
    "        self.price = price\n",
    "        self.quantity = quantity\n",
    "\n",
    "        # Actions to execute\n",
    "        Item.all.append(self)\n",
    "        \n",
    "        \n",
    "    def calculate_total_price(self):\n",
    "        return self.price * self.quantity\n",
    "\n",
    "    def apply_discount(self):\n",
    "        self.price = self.price * self.pay_rate\n",
    "\n",
    "    @classmethod\n",
    "    def instantiate_from_csv(cls):\n",
    "        with open('items.csv', 'r') as f:\n",
    "            reader = csv.DictReader(f)\n",
    "            items = list(reader)\n",
    "        for item in items:\n",
    "           Item(\n",
    "               name = item.get('name'),\n",
    "               price = float(item.get('price')),\n",
    "               quantity = int(item.get('quantity')),\n",
    "           )\n",
    "\n",
    "    @staticmethod\n",
    "    def is_integer(num):\n",
    "        # We'll count out the floats that are point zero\n",
    "        # for i.e: 5.0, 10.0\n",
    "        if isinstance(num, float):\n",
    "            # Count out the floats that are point zero\n",
    "            return num.is_integer()\n",
    "\n",
    "        elif isinstance(num, int):\n",
    "            return True\n",
    "\n",
    "        else:\n",
    "            return False\n",
    "            \n",
    "\n",
    "    def __repr__(self):\n",
    "        return f\"Item('{self.name}', {self.price}, {self.quantity})\"\n",
    "\n",
    "class Phone(Item):\n",
    "    all = []\n",
    "    def __init__(self, name: str, price: float, quantity = 0, broken_phones = 0):\n",
    "        #Call t super function to have access to all attributes/methods\n",
    "        super().__init__(\n",
    "            name, price, quantity\n",
    "        )\n",
    "        \n",
    "        print(f'An instance created: {name}')\n",
    "        #Run validations to the recieved arguments\n",
    "        assert broken_phones >= 0, f'Broken phones {broken_phones} is not greater than or equal to zero'\n",
    "\n",
    "        \n",
    "        #Assign to self object\n",
    "        self.broken_phones = broken_phones\n",
    "\n",
    "        # Actions to execute\n",
    "        Phone.all.append(self)\n",
    "\n",
    "phone1 = Phone(\"jscPhonev10\", 500, 5, 1)\n",
    "print(phone1.calculate_total_price())\n",
    "phone2 = Phone(\"jscPhonev20\", 700, 5, 1)\n",
    "print(phone2.calculate_total_price())"
   ]
  },
  {
   "cell_type": "code",
   "execution_count": 23,
   "id": "b8000522-bb68-4372-98a0-565f36c55828",
   "metadata": {},
   "outputs": [
    {
     "name": "stdout",
     "output_type": "stream",
     "text": [
      "An instance created: jscPhonev10\n",
      "[Phone('jscPhonev10', 500, 5)]\n",
      "[Phone('jscPhonev10', 500, 5)]\n"
     ]
    }
   ],
   "source": [
    "import csv\n",
    "class Item:\n",
    "    pay_rate = 0.8 # The pay rate of 20% discount\n",
    "    all = []\n",
    "    def __init__(self, name: str, price: float, quantity = 0):\n",
    "        print(f'An instance created: {name}')\n",
    "        #Run validations to the recieved arguments\n",
    "        assert price >= 0, f'Price {price} is not greater than or equal to zero'\n",
    "        assert quantity >= 0, f'Quantity {quantity} is not greater than or equal to zero'\n",
    "\n",
    "        #Assign to self object\n",
    "        self.name = name\n",
    "        self.price = price\n",
    "        self.quantity = quantity\n",
    "\n",
    "        # Actions to execute\n",
    "        Item.all.append(self)\n",
    "        \n",
    "        \n",
    "    def calculate_total_price(self):\n",
    "        return self.price * self.quantity\n",
    "\n",
    "    def apply_discount(self):\n",
    "        self.price = self.price * self.pay_rate\n",
    "\n",
    "    @classmethod\n",
    "    def instantiate_from_csv(cls):\n",
    "        with open('items.csv', 'r') as f:\n",
    "            reader = csv.DictReader(f)\n",
    "            items = list(reader)\n",
    "        for item in items:\n",
    "           Item(\n",
    "               name = item.get('name'),\n",
    "               price = float(item.get('price')),\n",
    "               quantity = int(item.get('quantity')),\n",
    "           )\n",
    "\n",
    "    @staticmethod\n",
    "    def is_integer(num):\n",
    "        # We'll count out the floats that are point zero\n",
    "        # for i.e: 5.0, 10.0\n",
    "        if isinstance(num, float):\n",
    "            # Count out the floats that are point zero\n",
    "            return num.is_integer()\n",
    "\n",
    "        elif isinstance(num, int):\n",
    "            return True\n",
    "\n",
    "        else:\n",
    "            return False\n",
    "            \n",
    "\n",
    "    def __repr__(self):\n",
    "        return f\"{self.__class__.__name__}('{self.name}', {self.price}, {self.quantity})\"\n",
    "\n",
    "class Phone(Item):\n",
    "    all = []\n",
    "    def __init__(self, name: str, price: float, quantity = 0, broken_phones = 0):\n",
    "        #Call t super function to have access to all attributes/methods\n",
    "        super().__init__(\n",
    "            name, price, quantity\n",
    "        )\n",
    "        \n",
    "        #Run validations to the recieved arguments\n",
    "        assert broken_phones >= 0, f'Broken phones {broken_phones} is not greater than or equal to zero'\n",
    "\n",
    "        \n",
    "        #Assign to self object\n",
    "        self.broken_phones = broken_phones\n",
    "\n",
    "        # Actions to execute\n",
    "        Phone.all.append(self)\n",
    "\n",
    "phone1 = Phone(\"jscPhonev10\", 500, 5, 1)\n",
    "\n",
    "print(Item.all)\n",
    "print(Phone.all)"
   ]
  },
  {
   "cell_type": "code",
   "execution_count": 24,
   "id": "f248f4d0-d807-4af7-97ed-37302ae26eb3",
   "metadata": {},
   "outputs": [
    {
     "name": "stdout",
     "output_type": "stream",
     "text": [
      "An instance created: jscPhonev10\n",
      "[Phone('jscPhonev10', 500, 5)]\n",
      "[Phone('jscPhonev10', 500, 5)]\n"
     ]
    }
   ],
   "source": [
    "import csv\n",
    "class Item:\n",
    "    pay_rate = 0.8 # The pay rate of 20% discount\n",
    "    all = []\n",
    "    def __init__(self, name: str, price: float, quantity = 0):\n",
    "        print(f'An instance created: {name}')\n",
    "        #Run validations to the recieved arguments\n",
    "        assert price >= 0, f'Price {price} is not greater than or equal to zero'\n",
    "        assert quantity >= 0, f'Quantity {quantity} is not greater than or equal to zero'\n",
    "\n",
    "        #Assign to self object\n",
    "        self.name = name\n",
    "        self.price = price\n",
    "        self.quantity = quantity\n",
    "\n",
    "        # Actions to execute\n",
    "        Item.all.append(self)\n",
    "        \n",
    "        \n",
    "    def calculate_total_price(self):\n",
    "        return self.price * self.quantity\n",
    "\n",
    "    def apply_discount(self):\n",
    "        self.price = self.price * self.pay_rate\n",
    "\n",
    "    @classmethod\n",
    "    def instantiate_from_csv(cls):\n",
    "        with open('items.csv', 'r') as f:\n",
    "            reader = csv.DictReader(f)\n",
    "            items = list(reader)\n",
    "        for item in items:\n",
    "           Item(\n",
    "               name = item.get('name'),\n",
    "               price = float(item.get('price')),\n",
    "               quantity = int(item.get('quantity')),\n",
    "           )\n",
    "\n",
    "    @staticmethod\n",
    "    def is_integer(num):\n",
    "        # We'll count out the floats that are point zero\n",
    "        # for i.e: 5.0, 10.0\n",
    "        if isinstance(num, float):\n",
    "            # Count out the floats that are point zero\n",
    "            return num.is_integer()\n",
    "\n",
    "        elif isinstance(num, int):\n",
    "            return True\n",
    "\n",
    "        else:\n",
    "            return False\n",
    "            \n",
    "\n",
    "    def __repr__(self):\n",
    "        return f\"{self.__class__.__name__}('{self.name}', {self.price}, {self.quantity})\"\n",
    "\n",
    "class Phone(Item):\n",
    "    def __init__(self, name: str, price: float, quantity = 0, broken_phones = 0):\n",
    "        #Call t super function to have access to all attributes/methods\n",
    "        super().__init__(\n",
    "            name, price, quantity\n",
    "        )\n",
    "        \n",
    "        #Run validations to the recieved arguments\n",
    "        assert broken_phones >= 0, f'Broken phones {broken_phones} is not greater than or equal to zero'\n",
    "\n",
    "        \n",
    "        #Assign to self object\n",
    "        self.broken_phones = broken_phones\n",
    "\n",
    "    \n",
    "\n",
    "phone1 = Phone(\"jscPhonev10\", 500, 5, 1)\n",
    "\n",
    "print(Item.all)\n",
    "print(Phone.all)"
   ]
  },
  {
   "cell_type": "code",
   "execution_count": 8,
   "id": "18cd9cca",
   "metadata": {},
   "outputs": [
    {
     "name": "stdout",
     "output_type": "stream",
     "text": [
      "An instance created: My Item\n",
      "AAA\n"
     ]
    }
   ],
   "source": [
    "from item import Item\n",
    "\n",
    "item1 = Item('My Item', 750)\n",
    "item1.name = 'OtherItem'\n",
    "\n",
    "print(item1.read_only_name)"
   ]
  },
  {
   "cell_type": "code",
   "execution_count": 9,
   "id": "8f27dd25",
   "metadata": {},
   "outputs": [
    {
     "name": "stdout",
     "output_type": "stream",
     "text": [
      "An instance created: My Item\n",
      "AAA\n"
     ]
    },
    {
     "ename": "AttributeError",
     "evalue": "property 'read_only_name' of 'Item' object has no setter",
     "output_type": "error",
     "traceback": [
      "\u001b[1;31m---------------------------------------------------------------------------\u001b[0m",
      "\u001b[1;31mAttributeError\u001b[0m                            Traceback (most recent call last)",
      "\u001b[1;32mc:\\Personal Folder\\Industrial-Training\\Assignment\\Week 9\\More on OOP.ipynb Cell 25\u001b[0m line \u001b[0;36m8\n\u001b[0;32m      <a href='vscode-notebook-cell:/c%3A/Personal%20Folder/Industrial-Training/Assignment/Week%209/More%20on%20OOP.ipynb#X43sZmlsZQ%3D%3D?line=3'>4</a>\u001b[0m item1\u001b[39m.\u001b[39mname \u001b[39m=\u001b[39m \u001b[39m'\u001b[39m\u001b[39mOtherItem\u001b[39m\u001b[39m'\u001b[39m\n\u001b[0;32m      <a href='vscode-notebook-cell:/c%3A/Personal%20Folder/Industrial-Training/Assignment/Week%209/More%20on%20OOP.ipynb#X43sZmlsZQ%3D%3D?line=5'>6</a>\u001b[0m \u001b[39mprint\u001b[39m(item1\u001b[39m.\u001b[39mread_only_name)\n\u001b[1;32m----> <a href='vscode-notebook-cell:/c%3A/Personal%20Folder/Industrial-Training/Assignment/Week%209/More%20on%20OOP.ipynb#X43sZmlsZQ%3D%3D?line=7'>8</a>\u001b[0m item1\u001b[39m.\u001b[39;49mread_only_name \u001b[39m=\u001b[39m \u001b[39m'\u001b[39m\u001b[39mBBB\u001b[39m\u001b[39m'\u001b[39m\n",
      "\u001b[1;31mAttributeError\u001b[0m: property 'read_only_name' of 'Item' object has no setter"
     ]
    }
   ],
   "source": [
    "from item import Item\n",
    "\n",
    "item1 = Item('My Item', 750)\n",
    "item1.name = 'OtherItem'\n",
    "\n",
    "print(item1.read_only_name)\n",
    "\n",
    "item1.read_only_name = 'BBB'"
   ]
  },
  {
   "cell_type": "code",
   "execution_count": 10,
   "id": "c816f24c",
   "metadata": {},
   "outputs": [
    {
     "name": "stdout",
     "output_type": "stream",
     "text": [
      "An instance created: MyItem\n",
      "MyItem\n"
     ]
    }
   ],
   "source": [
    "from item import Item\n",
    "\n",
    "item1 = Item(\"MyItem\", 75)\n",
    "\n",
    "print(item1.name)"
   ]
  },
  {
   "cell_type": "code",
   "execution_count": 11,
   "id": "8b5ed47d",
   "metadata": {},
   "outputs": [
    {
     "name": "stdout",
     "output_type": "stream",
     "text": [
      "An instance created: MyItem\n",
      "OtherItem\n"
     ]
    }
   ],
   "source": [
    "from item import Item\n",
    "\n",
    "item1 = Item(\"MyItem\", 75)\n",
    "\n",
    "item1.name = 'OtherItem'\n",
    "\n",
    "print(item1.name)"
   ]
  },
  {
   "cell_type": "code",
   "execution_count": 12,
   "id": "99d9de67",
   "metadata": {},
   "outputs": [
    {
     "name": "stdout",
     "output_type": "stream",
     "text": [
      "An instance created: MyItem\n",
      "MyItem\n"
     ]
    }
   ],
   "source": [
    "from item import Item\n",
    "\n",
    "item1 = Item(\"MyItem\", 75)\n",
    "\n",
    "item1._name = 'OtherItem'\n",
    "\n",
    "print(item1.name)"
   ]
  },
  {
   "cell_type": "code",
   "execution_count": 14,
   "id": "9d3e64d0",
   "metadata": {},
   "outputs": [
    {
     "ename": "SyntaxError",
     "evalue": "expression cannot contain assignment, perhaps you meant \"==\"? (1786129121.py, line 5)",
     "output_type": "error",
     "traceback": [
      "\u001b[1;36m  Cell \u001b[1;32mIn[14], line 5\u001b[1;36m\u001b[0m\n\u001b[1;33m    print(item1.__name = 'OtherItem')\u001b[0m\n\u001b[1;37m          ^\u001b[0m\n\u001b[1;31mSyntaxError\u001b[0m\u001b[1;31m:\u001b[0m expression cannot contain assignment, perhaps you meant \"==\"?\n"
     ]
    }
   ],
   "source": [
    "from item import Item\n",
    "\n",
    "item1 = Item(\"MyItem\", 75)\n",
    "\n",
    "print(item1.__name = 'OtherItem')\n",
    "\n",
    "print(item1.name)"
   ]
  },
  {
   "cell_type": "code",
   "execution_count": 15,
   "id": "f0c44074",
   "metadata": {},
   "outputs": [
    {
     "ename": "SyntaxError",
     "evalue": "expression cannot contain assignment, perhaps you meant \"==\"? (1084496900.py, line 5)",
     "output_type": "error",
     "traceback": [
      "\u001b[1;36m  Cell \u001b[1;32mIn[15], line 5\u001b[1;36m\u001b[0m\n\u001b[1;33m    print(item1._name = 'OtherItem')\u001b[0m\n\u001b[1;37m          ^\u001b[0m\n\u001b[1;31mSyntaxError\u001b[0m\u001b[1;31m:\u001b[0m expression cannot contain assignment, perhaps you meant \"==\"?\n"
     ]
    }
   ],
   "source": [
    "from item import Item\n",
    "\n",
    "item1 = Item(\"MyItem\", 75)\n",
    "\n",
    "print(item1._name = 'OtherItem')\n",
    "\n",
    "print(item1.name)"
   ]
  },
  {
   "cell_type": "code",
   "execution_count": 16,
   "id": "bfb6798d",
   "metadata": {},
   "outputs": [
    {
     "ename": "SyntaxError",
     "evalue": "expression cannot contain assignment, perhaps you meant \"==\"? (2189800039.py, line 5)",
     "output_type": "error",
     "traceback": [
      "\u001b[1;36m  Cell \u001b[1;32mIn[16], line 5\u001b[1;36m\u001b[0m\n\u001b[1;33m    print(item1.name = 'OtherItem')\u001b[0m\n\u001b[1;37m          ^\u001b[0m\n\u001b[1;31mSyntaxError\u001b[0m\u001b[1;31m:\u001b[0m expression cannot contain assignment, perhaps you meant \"==\"?\n"
     ]
    }
   ],
   "source": [
    "from item import Item\n",
    "\n",
    "item1 = Item(\"MyItem\", 75)\n",
    "\n",
    "print(item1.name = 'OtherItem')\n",
    "\n",
    "print(item1.name)"
   ]
  },
  {
   "cell_type": "code",
   "execution_count": 17,
   "id": "8f789d8f",
   "metadata": {},
   "outputs": [
    {
     "name": "stdout",
     "output_type": "stream",
     "text": [
      "An instance created: MyItem\n",
      "OtherItem\n"
     ]
    }
   ],
   "source": [
    "from item import Item\n",
    "\n",
    "item1 = Item(\"MyItem\", 75)\n",
    "\n",
    "item1.name = 'OtherItem'\n",
    "\n",
    "print(item1.name)"
   ]
  },
  {
   "cell_type": "code",
   "execution_count": 20,
   "id": "e7c09d38",
   "metadata": {},
   "outputs": [
    {
     "name": "stdout",
     "output_type": "stream",
     "text": [
      "An instance created: MyItem\n"
     ]
    }
   ],
   "source": [
    "from item import Item\n",
    "\n",
    "item1 = Item(\"MyItem\", 75)\n",
    "\n",
    "item1.name = 'OtherItem'\n"
   ]
  },
  {
   "cell_type": "code",
   "execution_count": 22,
   "id": "bfc2adac",
   "metadata": {},
   "outputs": [
    {
     "name": "stdout",
     "output_type": "stream",
     "text": [
      "An instance created: MyItem\n",
      "OtherItem\n"
     ]
    }
   ],
   "source": [
    "from item import Item\n",
    "\n",
    "item1 = Item(\"MyItem\", 75)\n",
    "\n",
    "item1.name = 'OtherItem'\n",
    "\n",
    "print(item1.name)"
   ]
  },
  {
   "cell_type": "code",
   "execution_count": 23,
   "id": "d4102ad5",
   "metadata": {},
   "outputs": [
    {
     "name": "stdout",
     "output_type": "stream",
     "text": [
      "An instance created: MyItem\n",
      "OtherItem\n"
     ]
    }
   ],
   "source": [
    "from item import Item\n",
    "\n",
    "item1 = Item(\"MyItem\", 75)\n",
    "\n",
    "item1.name = 'OtherItem'\n",
    "\n",
    "print(item1.name)"
   ]
  },
  {
   "cell_type": "code",
   "execution_count": 27,
   "id": "7b352146",
   "metadata": {},
   "outputs": [
    {
     "name": "stdout",
     "output_type": "stream",
     "text": [
      "An instance created: MyItem\n",
      "Item('OtherItem', 900, 0)\n"
     ]
    }
   ],
   "source": [
    "from item import Item\n",
    "\n",
    "item1 = Item(\"MyItem\", 75)\n",
    "\n",
    "item1.name = 'OtherItem'\n",
    "\n",
    "item1.price = 900\n",
    "\n",
    "print(item1)"
   ]
  },
  {
   "cell_type": "code",
   "execution_count": 29,
   "id": "6f5e86d1",
   "metadata": {},
   "outputs": [
    {
     "name": "stdout",
     "output_type": "stream",
     "text": [
      "An instance created: MyItem\n",
      "900\n",
      "Item('OtherItem', 900, 0)\n"
     ]
    }
   ],
   "source": [
    "from item import Item\n",
    "\n",
    "item1 = Item(\"MyItem\", 75)\n",
    "\n",
    "item1.name = 'OtherItem'\n",
    "\n",
    "item1.price = 900\n",
    "\n",
    "print(item1.price)\n",
    "\n",
    "print(item1)"
   ]
  },
  {
   "cell_type": "code",
   "execution_count": 30,
   "id": "fdb44ebe",
   "metadata": {},
   "outputs": [
    {
     "name": "stdout",
     "output_type": "stream",
     "text": [
      "An instance created: MyItem\n",
      "75\n",
      "Item('OtherItem', 75, 0)\n"
     ]
    }
   ],
   "source": [
    "from item import Item\n",
    "\n",
    "item1 = Item(\"MyItem\", 75)\n",
    "\n",
    "item1.name = 'OtherItem'\n",
    "\n",
    "#item1.price = 900\n",
    "\n",
    "print(item1.price)\n",
    "\n",
    "print(item1)"
   ]
  },
  {
   "cell_type": "code",
   "execution_count": 1,
   "id": "77cf50b6",
   "metadata": {},
   "outputs": [
    {
     "name": "stdout",
     "output_type": "stream",
     "text": [
      "An instance created: MyItem\n",
      "900.0\n",
      "Item('MyItem', 900.0, 0)\n"
     ]
    }
   ],
   "source": [
    "from item import Item\n",
    "\n",
    "item1 = Item(\"MyItem\", 750)\n",
    "\n",
    "item1.apply_increment(0.2)\n",
    "\n",
    "print(item1.price)\n",
    "\n",
    "print(item1)"
   ]
  },
  {
   "cell_type": "code",
   "execution_count": 2,
   "id": "9213437b",
   "metadata": {},
   "outputs": [
    {
     "name": "stdout",
     "output_type": "stream",
     "text": [
      "An instance created: MyItem\n",
      "720.0\n",
      "Item('MyItem', 720.0, 0)\n"
     ]
    }
   ],
   "source": [
    "from item import Item\n",
    "\n",
    "item1 = Item(\"MyItem\", 750)\n",
    "\n",
    "item1.apply_increment(0.2)\n",
    "\n",
    "item1.apply_discount()\n",
    "\n",
    "print(item1.price)\n",
    "\n",
    "print(item1)"
   ]
  },
  {
   "cell_type": "code",
   "execution_count": 4,
   "id": "13b1bd9e",
   "metadata": {},
   "outputs": [
    {
     "name": "stdout",
     "output_type": "stream",
     "text": [
      "An instance created: MyItem\n"
     ]
    },
    {
     "ename": "AttributeError",
     "evalue": "'Item' object has no attribute 'send_email'",
     "output_type": "error",
     "traceback": [
      "\u001b[1;31m---------------------------------------------------------------------------\u001b[0m",
      "\u001b[1;31mAttributeError\u001b[0m                            Traceback (most recent call last)",
      "\u001b[1;32mc:\\Personal Folder\\Industrial-Training\\Assignment\\Week 9\\More on OOP.ipynb Cell 41\u001b[0m line \u001b[0;36m5\n\u001b[0;32m      <a href='vscode-notebook-cell:/c%3A/Personal%20Folder/Industrial-Training/Assignment/Week%209/More%20on%20OOP.ipynb#X55sZmlsZQ%3D%3D?line=0'>1</a>\u001b[0m \u001b[39mfrom\u001b[39;00m \u001b[39mitem\u001b[39;00m \u001b[39mimport\u001b[39;00m Item\n\u001b[0;32m      <a href='vscode-notebook-cell:/c%3A/Personal%20Folder/Industrial-Training/Assignment/Week%209/More%20on%20OOP.ipynb#X55sZmlsZQ%3D%3D?line=2'>3</a>\u001b[0m item1 \u001b[39m=\u001b[39m Item(\u001b[39m'\u001b[39m\u001b[39mMyItem\u001b[39m\u001b[39m'\u001b[39m, \u001b[39m750\u001b[39m, \u001b[39m6\u001b[39m)\n\u001b[1;32m----> <a href='vscode-notebook-cell:/c%3A/Personal%20Folder/Industrial-Training/Assignment/Week%209/More%20on%20OOP.ipynb#X55sZmlsZQ%3D%3D?line=4'>5</a>\u001b[0m item1\u001b[39m.\u001b[39;49msend_email()\n\u001b[0;32m      <a href='vscode-notebook-cell:/c%3A/Personal%20Folder/Industrial-Training/Assignment/Week%209/More%20on%20OOP.ipynb#X55sZmlsZQ%3D%3D?line=6'>7</a>\u001b[0m item1\u001b[39m.\u001b[39mconnect()\n",
      "\u001b[1;31mAttributeError\u001b[0m: 'Item' object has no attribute 'send_email'"
     ]
    }
   ],
   "source": [
    "from item import Item\n",
    "\n",
    "item1 = Item('MyItem', 750, 6)\n",
    "\n",
    "item1.send_email()\n",
    "\n",
    "item1.connect()"
   ]
  },
  {
   "cell_type": "code",
   "execution_count": 1,
   "id": "a8dc9085",
   "metadata": {},
   "outputs": [
    {
     "name": "stdout",
     "output_type": "stream",
     "text": [
      "An instance created: jscPhone\n"
     ]
    }
   ],
   "source": [
    "from phone import Phone\n",
    "\n",
    "item1 = Phone('jscPhone', 1000, 3)\n",
    "\n",
    "item1.send_email()"
   ]
  },
  {
   "cell_type": "code",
   "execution_count": 3,
   "id": "e43f6caa",
   "metadata": {},
   "outputs": [
    {
     "name": "stdout",
     "output_type": "stream",
     "text": [
      "An instance created: jscPhone\n",
      "1200.0\n"
     ]
    }
   ],
   "source": [
    "from phone import Phone\n",
    "\n",
    "item1 = Phone('jscPhone', 1000, 3)\n",
    "\n",
    "item1.apply_increment(0.2)\n",
    "\n",
    "item1.send_email()\n",
    "\n",
    "print(item1.price)"
   ]
  },
  {
   "cell_type": "code",
   "execution_count": 4,
   "id": "44dafb2f",
   "metadata": {},
   "outputs": [
    {
     "name": "stdout",
     "output_type": "stream",
     "text": [
      "An instance created: jscPhone\n",
      "800.0\n"
     ]
    }
   ],
   "source": [
    "from phone import Phone\n",
    "\n",
    "item1 = Phone('jscPhone', 1000, 3)\n",
    "\n",
    "item1.apply_discount()\n",
    "\n",
    "print(item1.price)"
   ]
  },
  {
   "cell_type": "code",
   "execution_count": 5,
   "id": "489d1d21",
   "metadata": {},
   "outputs": [
    {
     "name": "stdout",
     "output_type": "stream",
     "text": [
      "An instance created: jscKeyboard\n",
      "800.0\n"
     ]
    }
   ],
   "source": [
    "from keyboard import Keyboard\n",
    "\n",
    "item1 = Keyboard('jscKeyboard', 1000, 3)\n",
    "\n",
    "item1.apply_discount()\n",
    "\n",
    "print(item1.price)"
   ]
  },
  {
   "cell_type": "code",
   "execution_count": 1,
   "id": "1c0e674c",
   "metadata": {},
   "outputs": [
    {
     "name": "stdout",
     "output_type": "stream",
     "text": [
      "An instance created: jscKeyboard\n",
      "700.0\n"
     ]
    }
   ],
   "source": [
    "from keyboard import Keyboard\n",
    "\n",
    "item1 = Keyboard('jscKeyboard', 1000, 3)\n",
    "\n",
    "item1.apply_discount()\n",
    "\n",
    "print(item1.price)"
   ]
  },
  {
   "cell_type": "code",
   "execution_count": null,
   "id": "4bfce4cf",
   "metadata": {},
   "outputs": [],
   "source": []
  }
 ],
 "metadata": {
  "kernelspec": {
   "display_name": "Python 3 (ipykernel)",
   "language": "python",
   "name": "python3"
  },
  "language_info": {
   "codemirror_mode": {
    "name": "ipython",
    "version": 3
   },
   "file_extension": ".py",
   "mimetype": "text/x-python",
   "name": "python",
   "nbconvert_exporter": "python",
   "pygments_lexer": "ipython3",
   "version": "3.11.5"
  }
 },
 "nbformat": 4,
 "nbformat_minor": 5
}
