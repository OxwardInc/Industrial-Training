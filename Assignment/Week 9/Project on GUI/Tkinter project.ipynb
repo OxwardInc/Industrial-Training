{
 "cells": [
  {
   "cell_type": "markdown",
   "id": "c4bd4360-43c9-44d4-aeb8-bccaa778ddd3",
   "metadata": {},
   "source": [
    "### 1. To-Do List GUI"
   ]
  },
  {
   "cell_type": "code",
   "execution_count": 2,
   "id": "0058a336-0cb0-4fc8-8f91-cb2f8fa0ad6a",
   "metadata": {},
   "outputs": [],
   "source": [
    "#Creating the textfield and add to task button\n",
    "import tkinter as tk\n",
    "from tkinter import *\n",
    "\n",
    "\n",
    "root = Tk(className = 'To-Do List GUI')\n",
    "\n",
    "#frame1 = Frame(root)\n",
    "#frame1.grid()\n",
    "\n",
    "Label(root, text = 'Enter the task').grid(row = 0, column = 0)\n",
    "\n",
    "Entry1 = Entry(root, width = 50, borderwidth = 5)\n",
    "Entry1.grid(row = 0, column = 1, columnspan = 2, padx = 10, pady = 10)\n",
    "\n",
    "\n",
    "myButton = Button(root, text = 'Add Task')\n",
    "myButton.grid()\n",
    "\n",
    "\n",
    "\n",
    "root.mainloop()"
   ]
  },
  {
   "cell_type": "code",
   "execution_count": 3,
   "id": "dc932473-b583-4bbc-b40a-3a0d1f412bba",
   "metadata": {},
   "outputs": [],
   "source": [
    "#Creating the listbox to display all the tasks\n",
    "import tkinter as tk\n",
    "from tkinter import *\n",
    "\n",
    "\n",
    "root = Tk(className = 'To-Do List GUI')\n",
    "\n",
    "#frame1 = Frame(root)\n",
    "#frame1.grid()\n",
    "\n",
    "Label(root, text = 'Enter the task').grid(row = 0, column = 0)\n",
    "\n",
    "Entry1 = Entry(root, width = 50, borderwidth = 5)\n",
    "Entry1.grid(row = 0, column = 1, columnspan = 2, padx = 10, pady = 10)\n",
    "\n",
    "myButton = Button(root, text = 'Add Task')\n",
    "myButton.grid()\n",
    "\n",
    "display_tasks = Listbox(root)\n",
    "display_tasks.grid(row = 0, column = 3, columnspan = 3, padx = 10, pady = 10)\n",
    "\n",
    "\n",
    "root.mainloop()"
   ]
  },
  {
   "cell_type": "code",
   "execution_count": 4,
   "id": "a7c2834c-abf1-4b14-9826-f5f7e864acd8",
   "metadata": {},
   "outputs": [],
   "source": [
    "#Creating the mark as completed and delete buttons and adding some colors to them\n",
    "import tkinter as tk\n",
    "from tkinter import *\n",
    "\n",
    "\n",
    "root = Tk(className = 'To-Do List GUI')\n",
    "\n",
    "#frame1 = Frame(root)\n",
    "#frame1.grid()\n",
    "\n",
    "Label(root, text = 'Enter the task').grid(row = 0, column = 0)\n",
    "\n",
    "Entry1 = Entry(root, width = 50, borderwidth = 5)\n",
    "Entry1.grid(row = 0, column = 1, columnspan = 2, padx = 10, pady = 10)\n",
    "\n",
    "\n",
    "\n",
    "addButton = Button(root, text = 'Add Task', fg = 'blue')\n",
    "addButton.grid(row = 1, column = 0)\n",
    "\n",
    "mark_as_completed = Button(root, text = 'Mark as completed', fg = 'yellow', bg = 'green')\n",
    "mark_as_completed.grid(row = 1, column = 1)\n",
    "\n",
    "delete_button = Button(root, text = 'Delete', fg = 'red', bg = 'purple')\n",
    "delete_button.grid(row = 1, column = 2)\n",
    "\n",
    "display_tasks = Listbox(root)\n",
    "display_tasks.grid(row = 0, column = 3, columnspan = 5, padx = 10, pady = 10)\n",
    "\n",
    "\n",
    "root.mainloop()"
   ]
  },
  {
   "cell_type": "code",
   "execution_count": 25,
   "id": "eb045693-a68f-4761-8dd5-3d99b43c1e41",
   "metadata": {},
   "outputs": [
    {
     "name": "stderr",
     "output_type": "stream",
     "text": [
      "Exception in Tkinter callback\n",
      "Traceback (most recent call last):\n",
      "  File \"C:\\Users\\Oxward\\AppData\\Local\\Programs\\Python\\Python311\\Lib\\tkinter\\__init__.py\", line 1948, in __call__\n",
      "    return self.func(*args)\n",
      "           ^^^^^^^^^^^^^^^^\n",
      "  File \"C:\\Users\\Oxward\\AppData\\Local\\Temp\\ipykernel_15832\\2126816428.py\", line 24, in markComplete\n",
      "    task_to_mark_as_completed = display_tasks.update(fg = 'green')\n",
      "                                ^^^^^^^^^^^^^^^^^^^^^^^^^^^^^^^^^^\n",
      "TypeError: Misc.update() got an unexpected keyword argument 'fg'\n"
     ]
    }
   ],
   "source": [
    "#Creating the functions\n",
    "import tkinter as tk\n",
    "from tkinter import *\n",
    "\n",
    "\n",
    "root = Tk(className = 'To-Do List GUI')\n",
    "\n",
    "#frame1 = Frame(root)\n",
    "#frame1.grid()\n",
    "\n",
    "Label(root, text = 'Enter the task').grid(row = 0, column = 0)\n",
    "\n",
    "Entry1 = Entry(root, width = 50, borderwidth = 5)\n",
    "Entry1.grid(row = 0, column = 1, columnspan = 2, padx = 10, pady = 10)\n",
    "\n",
    "def myClick():\n",
    "    task_to_add = Entry1.get()\n",
    "    task_to_add_message = Entry1.get() + ' added to your tasks'\n",
    "    myLabel = Label(root, text = task_to_add_message)\n",
    "    myLabel.grid()\n",
    "    display_tasks.insert(END, task_to_add)\n",
    "    \n",
    "def markComplete():\n",
    "    task_to_mark_as_completed = display_tasks.update(fg = 'green')\n",
    "\n",
    "def deletTask():\n",
    "    delete_task = display_tasks.delete(ACTIVE)\n",
    "\n",
    "addButton = Button(root, text = 'Add Task', fg = 'blue', command = myClick)\n",
    "addButton.grid(row = 1, column = 0)\n",
    "\n",
    "mark_as_completed = Button(root, text = 'Mark as completed', fg = 'yellow', bg = 'green', command = markComplete)\n",
    "mark_as_completed.grid(row = 1, column = 1)\n",
    "\n",
    "delete_button = Button(root, text = 'Delete', fg = 'red', bg = 'purple', command = deletTask)\n",
    "delete_button.grid(row = 1, column = 2)\n",
    "\n",
    "display_tasks = Listbox(root)\n",
    "display_tasks.grid(row = 0, column = 3, columnspan = 5, padx = 10, pady = 10)\n",
    "\n",
    "\n",
    "\n",
    "root.mainloop()"
   ]
  },
  {
   "cell_type": "code",
   "execution_count": 9,
   "id": "9cf3d175-4995-4f5b-97d8-c86e3eae7901",
   "metadata": {},
   "outputs": [
    {
     "ename": "AttributeError",
     "evalue": "type object 'datetime.datetime' has no attribute 'grid'",
     "output_type": "error",
     "traceback": [
      "\u001b[1;31m---------------------------------------------------------------------------\u001b[0m",
      "\u001b[1;31mAttributeError\u001b[0m                            Traceback (most recent call last)",
      "Cell \u001b[1;32mIn[9], line 20\u001b[0m\n\u001b[0;32m     17\u001b[0m Entry1\u001b[38;5;241m.\u001b[39mgrid(row \u001b[38;5;241m=\u001b[39m \u001b[38;5;241m0\u001b[39m, column \u001b[38;5;241m=\u001b[39m \u001b[38;5;241m1\u001b[39m, columnspan \u001b[38;5;241m=\u001b[39m \u001b[38;5;241m2\u001b[39m, padx \u001b[38;5;241m=\u001b[39m \u001b[38;5;241m10\u001b[39m, pady \u001b[38;5;241m=\u001b[39m \u001b[38;5;241m10\u001b[39m)\n\u001b[0;32m     19\u001b[0m date_picker \u001b[38;5;241m=\u001b[39m datetime\n\u001b[1;32m---> 20\u001b[0m \u001b[43mdate_picker\u001b[49m\u001b[38;5;241;43m.\u001b[39;49m\u001b[43mgrid\u001b[49m()\n\u001b[0;32m     22\u001b[0m \u001b[38;5;28;01mdef\u001b[39;00m \u001b[38;5;21mmyClick\u001b[39m():\n\u001b[0;32m     23\u001b[0m     task_to_add \u001b[38;5;241m=\u001b[39m Entry1\u001b[38;5;241m.\u001b[39mget()\n",
      "\u001b[1;31mAttributeError\u001b[0m: type object 'datetime.datetime' has no attribute 'grid'"
     ]
    }
   ],
   "source": [
    "# Adding the date deadline\n",
    "\n",
    "import tkinter as tk\n",
    "from tkinter import *\n",
    "#import calendar\n",
    "#from datetime import *\n",
    "\n",
    "\n",
    "root = Tk(className = 'To-Do List GUI')\n",
    "\n",
    "#frame1 = Frame(root)\n",
    "#frame1.grid()\n",
    "\n",
    "Label(root, text = 'Enter the task').grid(row = 0, column = 0)\n",
    "\n",
    "Entry1 = Entry(root, width = 50, borderwidth = 5)\n",
    "Entry1.grid(row = 0, column = 1, columnspan = 2, padx = 10, pady = 10)\n",
    "\n",
    "#date_picker = datetime\n",
    "#date_picker.grid()\n",
    "\n",
    "def myClick():\n",
    "    task_to_add = Entry1.get()\n",
    "    task_to_add_message = Entry1.get() + ' added to your tasks'\n",
    "    myLabel = Label(root, text = task_to_add_message)\n",
    "    myLabel.grid()\n",
    "    display_tasks.insert(END, task_to_add)\n",
    "    \n",
    "def markComplete():\n",
    "    task_to_mark_as_completed = display_tasks.update(fg = 'green')\n",
    "\n",
    "def deletTask():\n",
    "    delete_task = display_tasks.delete(ACTIVE)\n",
    "\n",
    "addButton = Button(root, text = 'Add Task', fg = 'blue', command = myClick)\n",
    "addButton.grid(row = 1, column = 0)\n",
    "\n",
    "mark_as_completed = Button(root, text = 'Mark as completed', fg = 'yellow', bg = 'green', command = markComplete)\n",
    "mark_as_completed.grid(row = 1, column = 1)\n",
    "\n",
    "delete_button = Button(root, text = 'Delete', fg = 'red', bg = 'purple', command = deletTask)\n",
    "delete_button.grid(row = 1, column = 2)\n",
    "\n",
    "display_tasks = Listbox(root)\n",
    "display_tasks.grid(row = 0, column = 3, columnspan = 5, padx = 10, pady = 10)\n",
    "\n",
    "\n",
    "\n",
    "root.mainloop()"
   ]
  },
  {
   "cell_type": "markdown",
   "id": "64b4b55d-7650-4c8b-b3d9-06d6444cdbd0",
   "metadata": {},
   "source": [
    "### 2. Rich Text Note-taking Application"
   ]
  },
  {
   "cell_type": "code",
   "execution_count": 5,
   "id": "acf1b3e9-e527-4be1-b88a-31664ac5cae5",
   "metadata": {},
   "outputs": [],
   "source": [
    "#Creating the GUI\n",
    "import tkinter\n",
    "from tkinter import *\n",
    "\n",
    "root = Tk(className = 'Note taking application')\n",
    "\n",
    "new_note = Menu(root, name = 'create new note')\n",
    "open_note = Menu(root, name = 'open an existing note')\n",
    "save_note = Menu(root, name = 'save current note')\n",
    "exit_application = Menu(root, name = 'exit application')\n",
    "\n",
    "\n",
    "input_area = Text(root, name = 'note')\n",
    "input_area.pack()\n",
    "\n",
    "\n",
    "\n",
    "root.mainloop()"
   ]
  },
  {
   "cell_type": "code",
   "execution_count": 6,
   "id": "c4b321f6-6c19-4487-b247-8d1601d8b31e",
   "metadata": {},
   "outputs": [
    {
     "data": {
      "text/plain": [
       "['MAXYEAR',\n",
       " 'MINYEAR',\n",
       " 'UTC',\n",
       " '__all__',\n",
       " '__builtins__',\n",
       " '__cached__',\n",
       " '__doc__',\n",
       " '__file__',\n",
       " '__loader__',\n",
       " '__name__',\n",
       " '__package__',\n",
       " '__spec__',\n",
       " 'date',\n",
       " 'datetime',\n",
       " 'datetime_CAPI',\n",
       " 'sys',\n",
       " 'time',\n",
       " 'timedelta',\n",
       " 'timezone',\n",
       " 'tzinfo']"
      ]
     },
     "execution_count": 6,
     "metadata": {},
     "output_type": "execute_result"
    }
   ],
   "source": [
    "dir(date_picker)"
   ]
  },
  {
   "cell_type": "code",
   "execution_count": null,
   "id": "0d57244b-1bff-49c0-985f-25ad2ee05650",
   "metadata": {},
   "outputs": [],
   "source": []
  }
 ],
 "metadata": {
  "kernelspec": {
   "display_name": "Python 3 (ipykernel)",
   "language": "python",
   "name": "python3"
  },
  "language_info": {
   "codemirror_mode": {
    "name": "ipython",
    "version": 3
   },
   "file_extension": ".py",
   "mimetype": "text/x-python",
   "name": "python",
   "nbconvert_exporter": "python",
   "pygments_lexer": "ipython3",
   "version": "3.11.5"
  }
 },
 "nbformat": 4,
 "nbformat_minor": 5
}
