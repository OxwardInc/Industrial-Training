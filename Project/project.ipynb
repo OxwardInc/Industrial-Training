{
 "cells": [
  {
   "cell_type": "code",
   "execution_count": 17,
   "metadata": {},
   "outputs": [],
   "source": [
    "import numpy as np\n",
    "import pandas as pd"
   ]
  },
  {
   "cell_type": "code",
   "execution_count": 18,
   "metadata": {},
   "outputs": [
    {
     "name": "stdout",
     "output_type": "stream",
     "text": [
      "Welcome to our automated analysis\n",
      "data/state-abbrevs.csv\n"
     ]
    }
   ],
   "source": [
    "print('Welcome to our automated analysis')\n",
    "\n",
    "inp = input('Input the location of the file that you want to analize')\n",
    "\n",
    "print(inp)"
   ]
  },
  {
   "cell_type": "code",
   "execution_count": 19,
   "metadata": {},
   "outputs": [
    {
     "data": {
      "text/html": [
       "<div>\n",
       "<style scoped>\n",
       "    .dataframe tbody tr th:only-of-type {\n",
       "        vertical-align: middle;\n",
       "    }\n",
       "\n",
       "    .dataframe tbody tr th {\n",
       "        vertical-align: top;\n",
       "    }\n",
       "\n",
       "    .dataframe thead th {\n",
       "        text-align: right;\n",
       "    }\n",
       "</style>\n",
       "<table border=\"1\" class=\"dataframe\">\n",
       "  <thead>\n",
       "    <tr style=\"text-align: right;\">\n",
       "      <th></th>\n",
       "      <th>state</th>\n",
       "      <th>abbreviation</th>\n",
       "    </tr>\n",
       "  </thead>\n",
       "  <tbody>\n",
       "    <tr>\n",
       "      <th>0</th>\n",
       "      <td>Alabama</td>\n",
       "      <td>AL</td>\n",
       "    </tr>\n",
       "    <tr>\n",
       "      <th>1</th>\n",
       "      <td>Alaska</td>\n",
       "      <td>AK</td>\n",
       "    </tr>\n",
       "    <tr>\n",
       "      <th>2</th>\n",
       "      <td>Arizona</td>\n",
       "      <td>AZ</td>\n",
       "    </tr>\n",
       "    <tr>\n",
       "      <th>3</th>\n",
       "      <td>Arkansas</td>\n",
       "      <td>AR</td>\n",
       "    </tr>\n",
       "    <tr>\n",
       "      <th>4</th>\n",
       "      <td>California</td>\n",
       "      <td>CA</td>\n",
       "    </tr>\n",
       "  </tbody>\n",
       "</table>\n",
       "</div>"
      ],
      "text/plain": [
       "        state abbreviation\n",
       "0     Alabama           AL\n",
       "1      Alaska           AK\n",
       "2     Arizona           AZ\n",
       "3    Arkansas           AR\n",
       "4  California           CA"
      ]
     },
     "execution_count": 19,
     "metadata": {},
     "output_type": "execute_result"
    }
   ],
   "source": [
    "data = pd.read_csv(inp)\n",
    "\n",
    "data.head()"
   ]
  },
  {
   "cell_type": "code",
   "execution_count": 20,
   "metadata": {},
   "outputs": [
    {
     "name": "stdout",
     "output_type": "stream",
     "text": [
      "Index(['state', 'abbreviation'], dtype='object')\n",
      "        state abbreviation\n",
      "0     Alabama           AL\n",
      "1      Alaska           AK\n",
      "2     Arizona           AZ\n",
      "3    Arkansas           AR\n",
      "4  California           CA\n"
     ]
    }
   ],
   "source": [
    "print(data.columns)\n",
    "\n",
    "Number_of_columns = int(input('How many columns do you want to work on:'))\n",
    "\n",
    "columns_names = []\n",
    "\n",
    "for i in range(Number_of_columns):\n",
    "    data_column = input('Which column do you want to work on:')\n",
    "    columns_names.append(data_column)\n",
    "\n",
    "selected_data = data[columns_names]\n",
    "print(selected_data.head())"
   ]
  },
  {
   "cell_type": "code",
   "execution_count": 15,
   "metadata": {},
   "outputs": [
    {
     "name": "stdout",
     "output_type": "stream",
     "text": [
      "What operation do you want to perform in the column's?\n",
      "Series([], Name: area (sq. mi), dtype: object)\n"
     ]
    }
   ],
   "source": [
    "print(\"What operation do you want to perform in the column's?\");\n",
    "\n",
    "inp = input('What would you like to do:')\n",
    "\n",
    "data = inp.lower()\n",
    "\n",
    "if data == 'perform mathematical analysis':\n",
    "    inp = input('What kind of analysis:')\n",
    "    reply = inp.lower()\n",
    "\n",
    "    # Finding the sum of numerical data\n",
    "    if reply == 'find the sum of data' or reply == 'find the sum':\n",
    "        lenght_of_columns = len(columns_names)\n",
    "        if lenght_of_columns == 1:\n",
    "            if not isinstance(selected_data, (int, float)):\n",
    "                selected_data = pd.to_numeric(selected_data, errors='coerce')\n",
    "            np.sum(selected_data)\n",
    "    \n",
    "    # Finding the minimum value of a numerical data\n",
    "    if reply in ['find the min of data', 'find the min']:\n",
    "        lenght_of_columns = len(columns_names)\n",
    "        if lenght_of_columns == 1:\n",
    "            if not isinstance(selected_data, (int, float)):\n",
    "                selected_data = pd.to_numeric(selected_data, errors='coerce')\n",
    "            np.min(selected_data)\n",
    "\n",
    "    # Finding the maximum value of a numerical data\n",
    "    if reply in ['find the max of data', 'find the max']:\n",
    "        lenght_of_columns = len(columns_names)\n",
    "        if lenght_of_columns == 1:\n",
    "            if not isinstance(selected_data, (int, float)):\n",
    "                selected_data = pd.to_numeric(selected_data, errors='coerce')\n",
    "            np.max(selected_data)\n",
    "\n",
    "print(selected_data.head())\n",
    "\n"
   ]
  },
  {
   "cell_type": "code",
   "execution_count": null,
   "metadata": {},
   "outputs": [],
   "source": []
  }
 ],
 "metadata": {
  "kernelspec": {
   "display_name": "Python 3",
   "language": "python",
   "name": "python3"
  },
  "language_info": {
   "codemirror_mode": {
    "name": "ipython",
    "version": 3
   },
   "file_extension": ".py",
   "mimetype": "text/x-python",
   "name": "python",
   "nbconvert_exporter": "python",
   "pygments_lexer": "ipython3",
   "version": "3.11.5"
  }
 },
 "nbformat": 4,
 "nbformat_minor": 2
}
