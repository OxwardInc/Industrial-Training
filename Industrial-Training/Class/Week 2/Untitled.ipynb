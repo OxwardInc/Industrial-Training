{
 "cells": [
  {
   "cell_type": "code",
   "execution_count": 1,
   "id": "5850f56b-6ee8-4401-b412-c1c204022be1",
   "metadata": {},
   "outputs": [
    {
     "data": {
      "text/plain": [
       "3.3333333333333335"
      ]
     },
     "execution_count": 1,
     "metadata": {},
     "output_type": "execute_result"
    }
   ],
   "source": [
    "200 / 60"
   ]
  },
  {
   "cell_type": "code",
   "execution_count": 2,
   "id": "5821b7f0-1848-4aa1-872e-318869f4a20a",
   "metadata": {},
   "outputs": [
    {
     "data": {
      "text/plain": [
       "180"
      ]
     },
     "execution_count": 2,
     "metadata": {},
     "output_type": "execute_result"
    }
   ],
   "source": [
    "3 * 60"
   ]
  },
  {
   "cell_type": "code",
   "execution_count": 3,
   "id": "1499c1c1-bdd8-4153-a559-1ddc461abb53",
   "metadata": {},
   "outputs": [
    {
     "data": {
      "text/plain": [
       "20"
      ]
     },
     "execution_count": 3,
     "metadata": {},
     "output_type": "execute_result"
    }
   ],
   "source": [
    "200 - 180"
   ]
  },
  {
   "cell_type": "code",
   "execution_count": 4,
   "id": "81f173c8-49a5-4724-b2c7-5b71039ca642",
   "metadata": {},
   "outputs": [
    {
     "name": "stdout",
     "output_type": "stream",
     "text": [
      "Minutes:  3\n",
      "Seconds:  20\n"
     ]
    }
   ],
   "source": [
    "total_seconds = 200\n",
    "mins = total_seconds // 60\n",
    "seconds = total_seconds - mins * 60\n",
    "print(\"Minutes: \", mins)\n",
    "print(\"Seconds: \", seconds)"
   ]
  },
  {
   "cell_type": "code",
   "execution_count": 5,
   "id": "8c66c112-a745-4e6b-86c0-29397c8dcfa9",
   "metadata": {},
   "outputs": [
    {
     "name": "stdout",
     "output_type": "stream",
     "text": [
      "3  minutes  20  seconds.\n"
     ]
    }
   ],
   "source": [
    "print(mins, \" minutes \", seconds, \" seconds.\")"
   ]
  },
  {
   "cell_type": "code",
   "execution_count": 6,
   "id": "c85a0731-5d91-4663-9f66-d84857d8ec80",
   "metadata": {},
   "outputs": [
    {
     "name": "stdin",
     "output_type": "stream",
     "text": [
      "what's the value of a:  20\n",
      "what's the value of b:  12\n"
     ]
    },
    {
     "name": "stdout",
     "output_type": "stream",
     "text": [
      "2012\n"
     ]
    }
   ],
   "source": [
    "a = input(\"what's the value of a: \")\n",
    "b = input(\"what's the value of b: \")\n",
    "c = a + b\n",
    "print(c)"
   ]
  },
  {
   "cell_type": "code",
   "execution_count": 7,
   "id": "90481a41-6f68-484a-87e3-0abc5cf082ea",
   "metadata": {},
   "outputs": [
    {
     "name": "stdin",
     "output_type": "stream",
     "text": [
      "Enter your age:  22\n"
     ]
    },
    {
     "name": "stdout",
     "output_type": "stream",
     "text": [
      "You were born in the year  2001\n",
      "We're in the year:  2023\n",
      "Today's date is:  2023-09-01\n"
     ]
    }
   ],
   "source": [
    "# A program to output a user yesr of birth\n",
    "import datetime\n",
    "inp = input(\"Enter your age: \")\n",
    "\n",
    "today_date = datetime.date.today()\n",
    "year = int(today_date.year)\n",
    "data = int(inp)\n",
    "result = year - data\n",
    "\n",
    "print(\"You were born in the year \", result)\n",
    "print(\"We're in the year: \", year)\n",
    "print(\"Today's date is: \", today_date)\n"
   ]
  },
  {
   "cell_type": "code",
   "execution_count": 8,
   "id": "0b129f72-4c0b-4325-b6bd-6cc2d9982e8c",
   "metadata": {},
   "outputs": [
    {
     "name": "stdin",
     "output_type": "stream",
     "text": [
      "Enter your salary:  50000\n"
     ]
    },
    {
     "name": "stdout",
     "output_type": "stream",
     "text": [
      "The new salary is  57500.0\n"
     ]
    }
   ],
   "source": [
    "# A brogram to compute a new salary if the salary is increased by 15%\n",
    "\n",
    "salary = float(input(\"Enter your salary: \"))\n",
    "\n",
    "increment = 0.15 * salary\n",
    "\n",
    "new_sal = salary + increment\n",
    "\n",
    "print(\"The new salary is \", new_sal)\n"
   ]
  },
  {
   "cell_type": "code",
   "execution_count": 9,
   "id": "00ae4998-dfa1-468a-9aa1-9cd89c44952c",
   "metadata": {},
   "outputs": [
    {
     "name": "stdout",
     "output_type": "stream",
     "text": [
      "<class 'str'>\n",
      "<class 'str'>\n",
      "<class 'str'>\n",
      "<class 'str'>\n"
     ]
    }
   ],
   "source": [
    "First_name = \"Boma\"\n",
    "Last_name = 'George'\n",
    "Other_name = \"\"\"Smith\"\"\"\n",
    "State_of_origin = '''Rivers'''\n",
    "\n",
    "print(type(First_name))\n",
    "print(type(Last_name))\n",
    "print(type(Other_name))\n",
    "print(type(State_of_origin))"
   ]
  },
  {
   "cell_type": "code",
   "execution_count": 10,
   "id": "0b059935-cf45-4d11-8b83-be033f599908",
   "metadata": {},
   "outputs": [
    {
     "name": "stdout",
     "output_type": "stream",
     "text": [
      "Boma George\n"
     ]
    }
   ],
   "source": [
    "# String concatination\n",
    "full_name = First_name + \" \" + Last_name\n",
    "print(full_name)"
   ]
  },
  {
   "cell_type": "code",
   "execution_count": 11,
   "id": "79af58dc-0d9e-45a8-a75a-f74dfa28c4a1",
   "metadata": {},
   "outputs": [],
   "source": [
    "# String interpulation\n",
    "\n",
    "full_name = f\"{Last_name} {First_name}\""
   ]
  },
  {
   "cell_type": "code",
   "execution_count": 12,
   "id": "0b107e1a-f51a-4e30-bca1-1142b60b6e4b",
   "metadata": {},
   "outputs": [
    {
     "data": {
      "text/plain": [
       "'George Boma'"
      ]
     },
     "execution_count": 12,
     "metadata": {},
     "output_type": "execute_result"
    }
   ],
   "source": [
    "full_name"
   ]
  },
  {
   "cell_type": "code",
   "execution_count": 18,
   "id": "ed3fd065-6aeb-498e-93c0-12d87dcc84b6",
   "metadata": {},
   "outputs": [
    {
     "name": "stdin",
     "output_type": "stream",
     "text": [
      " Enter the numbers sprated by spaces:  12 12 12\n"
     ]
    },
    {
     "name": "stdout",
     "output_type": "stream",
     "text": [
      "The average is 12.0\n"
     ]
    }
   ],
   "source": [
    "inp = input(\" Enter the numbers sprated by spaces: \")\n",
    "\n",
    "numbers = [float(x) for x in inp.split()]\n",
    "\n",
    "if len(numbers) == 3:\n",
    "    average = sum(numbers) / len(numbers)\n",
    "\n",
    "    print(f\"The average is {average}\")\n",
    "\n",
    "else:\n",
    "    print(\"Invalid input length\")\n"
   ]
  },
  {
   "cell_type": "code",
   "execution_count": 14,
   "id": "57fd455c-62b9-424d-902a-602a41a4c766",
   "metadata": {},
   "outputs": [
    {
     "name": "stdout",
     "output_type": "stream",
     "text": [
      "G\n"
     ]
    }
   ],
   "source": [
    "print(full_name[0])"
   ]
  },
  {
   "cell_type": "code",
   "execution_count": 15,
   "id": "e57dd8b4-a257-422e-ba6e-7a6064665cb4",
   "metadata": {},
   "outputs": [
    {
     "name": "stdout",
     "output_type": "stream",
     "text": [
      "Geor\n"
     ]
    }
   ],
   "source": [
    "print(full_name[0: 4])"
   ]
  },
  {
   "cell_type": "code",
   "execution_count": 16,
   "id": "3c891820-0d7b-4844-a97b-5363166021a4",
   "metadata": {},
   "outputs": [
    {
     "name": "stdout",
     "output_type": "stream",
     "text": [
      "11\n"
     ]
    }
   ],
   "source": [
    "print(len(full_name))"
   ]
  },
  {
   "cell_type": "code",
   "execution_count": 17,
   "id": "bf9a1131-f193-464a-a04e-2de1c61a6fe0",
   "metadata": {},
   "outputs": [
    {
     "name": "stdout",
     "output_type": "stream",
     "text": [
      "m\n"
     ]
    }
   ],
   "source": [
    "print(full_name[-2])"
   ]
  },
  {
   "cell_type": "code",
   "execution_count": 20,
   "id": "f56fc36a-6fb1-49e9-8875-22bebe493325",
   "metadata": {},
   "outputs": [
    {
     "name": "stdin",
     "output_type": "stream",
     "text": [
      "Enter anything:  hi, how are you\n"
     ]
    },
    {
     "name": "stdout",
     "output_type": "stream",
     "text": [
      "u\n"
     ]
    }
   ],
   "source": [
    "msg = input(\"Enter anything: \")\n",
    "pos = len(msg) - 1\n",
    "print(msg[pos])"
   ]
  },
  {
   "cell_type": "code",
   "execution_count": 24,
   "id": "9a0745fe-43da-4893-8846-8149ff432ddb",
   "metadata": {},
   "outputs": [
    {
     "name": "stdin",
     "output_type": "stream",
     "text": [
      "Enter anything:  hi boy\n"
     ]
    },
    {
     "name": "stdout",
     "output_type": "stream",
     "text": [
      "y\n"
     ]
    }
   ],
   "source": [
    "msg = input(\"Enter anything: \")\n",
    "print(msg[-1])"
   ]
  },
  {
   "cell_type": "code",
   "execution_count": 26,
   "id": "ff16a721-de79-4716-ade2-cd32d8c7f34e",
   "metadata": {},
   "outputs": [
    {
     "name": "stdin",
     "output_type": "stream",
     "text": [
      "Enter anything:  qwerty\n"
     ]
    },
    {
     "name": "stdout",
     "output_type": "stream",
     "text": [
      "e\n"
     ]
    }
   ],
   "source": [
    "msg = input(\"Enter anything: \")\n",
    "print(msg[2])"
   ]
  },
  {
   "cell_type": "code",
   "execution_count": 31,
   "id": "1cab71e2-82c5-4928-9d34-0b266d86468f",
   "metadata": {},
   "outputs": [
    {
     "name": "stdin",
     "output_type": "stream",
     "text": [
      "Enter anything:  Smith\n"
     ]
    },
    {
     "name": "stdout",
     "output_type": "stream",
     "text": [
      "i\n"
     ]
    }
   ],
   "source": [
    "msg = input(\"Enter anything: \")\n",
    "pos = len(msg)//2\n",
    "print(msg[pos])"
   ]
  },
  {
   "cell_type": "code",
   "execution_count": 37,
   "id": "c2fa16e2-c7e2-4b0f-8eb4-326b920656da",
   "metadata": {},
   "outputs": [
    {
     "name": "stdin",
     "output_type": "stream",
     "text": [
      "Enter anything:  qwerty\n"
     ]
    },
    {
     "name": "stdout",
     "output_type": "stream",
     "text": [
      "Two middle characters: er\n"
     ]
    }
   ],
   "source": [
    "msg = input(\"Enter anything: \")\n",
    "length = len(msg)\n",
    "\n",
    "if length % 2 == 1:\n",
    "    # If the length is odd, return the middle character\n",
    "    middle_char = msg[length // 2]\n",
    "    print(f\"Middle character: {middle_char}\")\n",
    "else:\n",
    "    # If the length is even, return the two middle characters\n",
    "    middle_chars = msg[length // 2 - 1:length // 2 + 1]\n",
    "    print(f\"Two middle characters: {middle_chars}\")\n"
   ]
  },
  {
   "cell_type": "code",
   "execution_count": 39,
   "id": "bfcf7be7-d477-4fb7-bf66-6e2727945a33",
   "metadata": {},
   "outputs": [
    {
     "name": "stdin",
     "output_type": "stream",
     "text": [
      "Enter anything:  qwer\n"
     ]
    },
    {
     "name": "stdout",
     "output_type": "stream",
     "text": [
      "Two middle characters: we\n"
     ]
    }
   ],
   "source": [
    "msg = input(\"Enter anything: \")\n",
    "length = len(msg)\n",
    "\n",
    "if length % 2 == 1:\n",
    "    middle_char = msg[length // 2]\n",
    "    print(f\"Middle character: {middle_char}\")\n",
    "else:\n",
    "    middle_chars = msg[length // 2 - 1:length // 2 + 1]\n",
    "    print(f\"Two middle characters: {middle_chars}\")"
   ]
  },
  {
   "cell_type": "code",
   "execution_count": null,
   "id": "4221dac7-ce44-4c1c-9d2a-db7403307ebc",
   "metadata": {},
   "outputs": [],
   "source": []
  }
 ],
 "metadata": {
  "kernelspec": {
   "display_name": "Python 3 (ipykernel)",
   "language": "python",
   "name": "python3"
  },
  "language_info": {
   "codemirror_mode": {
    "name": "ipython",
    "version": 3
   },
   "file_extension": ".py",
   "mimetype": "text/x-python",
   "name": "python",
   "nbconvert_exporter": "python",
   "pygments_lexer": "ipython3",
   "version": "3.11.4"
  }
 },
 "nbformat": 4,
 "nbformat_minor": 5
}
