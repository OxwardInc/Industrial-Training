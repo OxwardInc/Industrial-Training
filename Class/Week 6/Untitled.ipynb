{
 "cells": [
  {
   "cell_type": "markdown",
   "id": "29e1b98c-0bbd-4094-b9f8-57f42971fb4d",
   "metadata": {},
   "source": [
    "The Twelve Days of Christmas is a repetitive song that describes an increasingly \n",
    "long list of gifts sent to one’s tru  love on each of 12 days. A single gift is sent o \r\n",
    "the first day. A new gift is added to the collection on ea h additional day, and th n\r\n",
    "the complete collection is sent. The first three verses of the song are shown below.\r\n",
    "The complete lyrics are available on the inter\n",
    "\n",
    "On the first day of Christmas\r\n",
    "my true love sent to me:\r\n",
    "A partridge in a pear tre\n",
    "e.\r\n",
    "On the second day of Christmas\r\n",
    "my true love sent to me:\r\n",
    "Two turtle doves,\r\n",
    "And a partridge in a pear\n",
    " tree.\r\n",
    "On the third day of Christmas\r\n",
    "my true love sent to me:\r\n",
    "Three French hens,\r\n",
    "Two turtle doves,\r\n",
    "And a partridge in a\n",
    "\n",
    "Your task is to write a program that displays the complete lyrics for The Twelve \n",
    "Days of Christmas. Write a functio  that takes the verse number as its only paramete \r\n",
    "and displays the specified verse of the song. Then call that function 12 times wi h\r\n",
    "integers that increase from 1 to  2.\r\n",
    "Each item that is sent to the recipient in the song should only appear once in  our\r\n",
    "program, with the possible exception of the partridge. It may appear twice if that\r\n",
    "helps you handle the difference between “A partridge in a pear tree” in the first verse\r\n",
    "and “And a partridge in a pear tree” in the subsequent verses. Import your s lution\r\n",
    "to Exercise 85 to help you complete this exercise. pear tree.net."
   ]
  },
  {
   "cell_type": "code",
   "execution_count": 5,
   "id": "452af7d1-0ff5-49c0-a4c1-b60596b5062e",
   "metadata": {},
   "outputs": [],
   "source": [
    "def get_christmass_song_verse(verse_number):\n",
    "    if verse_number == 1:\n",
    "        return \"\"\"\n",
    "        On the first day of Christmas\n",
    "        my true love sent to me:\n",
    "        A partridge in a pear tree.\n",
    "        \"\"\"\n",
    "    elif verse_number == 2:\n",
    "        return \"\"\"\n",
    "        On the second day of Christmas\n",
    "        my true love sent to me:\n",
    "        Two turtle doves,\n",
    "        And a partridge in a pear tree.\n",
    "        \"\"\"\n",
    "    elif verse_number == 3:\n",
    "        return \"\"\"\n",
    "        On the third day of Christmas\n",
    "        my true love sent to me:\n",
    "        Three French hens,\n",
    "        Two turtle doves,\n",
    "        And a partridge in a pear tree.\n",
    "        \"\"\"\n",
    "    elif verse_number == 4:\n",
    "        return \"\"\"\n",
    "        On the fourth day of Christmas\n",
    "        my true love sent to me:\n",
    "        Four calling birds,\n",
    "        Three French hens,\n",
    "        Two turtle doves,\n",
    "        And a partridge in a pear tree.\n",
    "        \"\"\"\n",
    "    elif verse_number == 5:\n",
    "        return \"\"\"\n",
    "        On the fifth day of Christmas\n",
    "        my true love sent to me:\n",
    "        Five golden rings!\n",
    "        Four calling birds,\n",
    "        Three French hens,\n",
    "        Two turtle doves,\n",
    "        And a partridge in a pear tree.\n",
    "        \"\"\"\n",
    "    elif verse_number == 6:\n",
    "        return \"\"\"\n",
    "        On the sixth day of Christmas\n",
    "        my true love sent to me:\n",
    "        Six geese a-laying,\n",
    "        Five golden rings!\n",
    "        Four calling birds,\n",
    "        Three French hens,\n",
    "        Two turtle doves,\n",
    "        And a partridge in a pear tree.\n",
    "        \"\"\"\n",
    "    elif verse_number == 7:\n",
    "        return \"\"\"\n",
    "        On the seventh day of Christmas\n",
    "        my true love sent to me:\n",
    "        Seven swans a-swimming,\n",
    "        Six geese a-laying,\n",
    "        Five golden rings!\n",
    "        Four calling birds,\n",
    "        Three French hens,\n",
    "        Two turtle doves,\n",
    "        And a partridge in a pear tree.\n",
    "        \"\"\"\n",
    "    elif verse_number == 8:\n",
    "        return \"\"\"\n",
    "        On the eighth day of Christmas\n",
    "        my true love sent to me:\n",
    "        Eight maids a-milking,\n",
    "        Seven swans a-swimming,\n",
    "        Six geese a-laying,\n",
    "        Five golden rings!\n",
    "        Four calling birds,\n",
    "        Three French hens,\n",
    "        Two turtle doves,\n",
    "        And a partridge in a pear tree.\n",
    "        \"\"\""
   ]
  },
  {
   "cell_type": "code",
   "execution_count": 6,
   "id": "65f6d113-3d49-4198-a57a-d2c4c710ca08",
   "metadata": {},
   "outputs": [
    {
     "name": "stdout",
     "output_type": "stream",
     "text": [
      "\n",
      "        On the first day of Christmas\n",
      "        my true love sent to me:\n",
      "        A partridge in a pear tree.\n",
      "        \n"
     ]
    }
   ],
   "source": [
    "print(get_christmass_song_verse(1))"
   ]
  },
  {
   "cell_type": "code",
   "execution_count": 7,
   "id": "3e10e699-35c9-4377-a035-506a9ebcd59a",
   "metadata": {},
   "outputs": [
    {
     "name": "stdout",
     "output_type": "stream",
     "text": [
      "\n",
      "        On the second day of Christmas\n",
      "        my true love sent to me:\n",
      "        Two turtle doves,\n",
      "        And a partridge in a pear tree.\n",
      "        \n"
     ]
    }
   ],
   "source": [
    "print(get_christmass_song_verse(2))"
   ]
  },
  {
   "cell_type": "code",
   "execution_count": 9,
   "id": "dcec2bc6-7028-47f2-889c-e9d16f6f8f38",
   "metadata": {},
   "outputs": [
    {
     "name": "stdout",
     "output_type": "stream",
     "text": [
      "\n",
      "        On the first day of Christmas\n",
      "        my true love sent to me:\n",
      "        A partridge in a pear tree.\n",
      "        \n",
      "\n",
      "        On the second day of Christmas\n",
      "        my true love sent to me:\n",
      "        Two turtle doves,\n",
      "        And a partridge in a pear tree.\n",
      "        \n",
      "\n",
      "        On the third day of Christmas\n",
      "        my true love sent to me:\n",
      "        Three French hens,\n",
      "        Two turtle doves,\n",
      "        And a partridge in a pear tree.\n",
      "        \n",
      "\n",
      "        On the fourth day of Christmas\n",
      "        my true love sent to me:\n",
      "        Four calling birds,\n",
      "        Three French hens,\n",
      "        Two turtle doves,\n",
      "        And a partridge in a pear tree.\n",
      "        \n",
      "\n",
      "        On the fifth day of Christmas\n",
      "        my true love sent to me:\n",
      "        Five golden rings!\n",
      "        Four calling birds,\n",
      "        Three French hens,\n",
      "        Two turtle doves,\n",
      "        And a partridge in a pear tree.\n",
      "        \n",
      "\n",
      "        On the sixth day of Christmas\n",
      "        my true love sent to me:\n",
      "        Six geese a-laying,\n",
      "        Five golden rings!\n",
      "        Four calling birds,\n",
      "        Three French hens,\n",
      "        Two turtle doves,\n",
      "        And a partridge in a pear tree.\n",
      "        \n",
      "\n",
      "        On the seventh day of Christmas\n",
      "        my true love sent to me:\n",
      "        Seven swans a-swimming,\n",
      "        Six geese a-laying,\n",
      "        Five golden rings!\n",
      "        Four calling birds,\n",
      "        Three French hens,\n",
      "        Two turtle doves,\n",
      "        And a partridge in a pear tree.\n",
      "        \n",
      "\n",
      "        On the eighth day of Christmas\n",
      "        my true love sent to me:\n",
      "        Eight maids a-milking,\n",
      "        Seven swans a-swimming,\n",
      "        Six geese a-laying,\n",
      "        Five golden rings!\n",
      "        Four calling birds,\n",
      "        Three French hens,\n",
      "        Two turtle doves,\n",
      "        And a partridge in a pear tree.\n",
      "        \n"
     ]
    }
   ],
   "source": [
    "for i in range(1, 9):\n",
    "    print(get_christmass_song_verse(i))"
   ]
  },
  {
   "cell_type": "code",
   "execution_count": 10,
   "id": "60a56068-497a-4733-9f19-0227cbb5afac",
   "metadata": {},
   "outputs": [],
   "source": [
    "def get_christmass_song_verse(verse_number):\n",
    "    verse_dict = {\n",
    "        1: \"\"\"\n",
    "        On the first day of Christmas\n",
    "        my true love sent to me:\n",
    "        A partridge in a pear tree.\n",
    "        \"\"\",\n",
    "        2:  \"\"\"\n",
    "        On the second day of Christmas\n",
    "        my true love sent to me:\n",
    "        Two turtle doves,\n",
    "        And a partridge in a pear tree.\n",
    "        \"\"\",\n",
    "        3: \"\"\"\n",
    "        On the third day of Christmas\n",
    "        my true love sent to me:\n",
    "        Three French hens,\n",
    "        Two turtle doves,\n",
    "        And a partridge in a pear tree.\n",
    "        \"\"\",\n",
    "        4: \"\"\"\n",
    "        On the fourth day of Christmas\n",
    "        my true love sent to me:\n",
    "        Four calling birds,\n",
    "        Three French hens,\n",
    "        Two turtle doves,\n",
    "        And a partridge in a pear tree.\n",
    "        \"\"\",\n",
    "        5: \"\"\"\n",
    "        On the fifth day of Christmas\n",
    "        my true love sent to me:\n",
    "        Five golden rings!\n",
    "        Four calling birds,\n",
    "        Three French hens,\n",
    "        Two turtle doves,\n",
    "        And a partridge in a pear tree.\n",
    "        \"\"\",\n",
    "        6: \"\"\"\n",
    "        On the sixth day of Christmas\n",
    "        my true love sent to me:\n",
    "        Six geese a-laying,\n",
    "        Five golden rings!\n",
    "        Four calling birds,\n",
    "        Three French hens,\n",
    "        Two turtle doves,\n",
    "        And a partridge in a pear tree.\n",
    "        \"\"\",\n",
    "        7: \"\"\"\n",
    "         On the seventh day of Christmas\n",
    "        my true love sent to me:\n",
    "        Seven swans a-swimming,\n",
    "        Six geese a-laying,\n",
    "        Five golden rings!\n",
    "        Four calling birds,\n",
    "        Three French hens,\n",
    "        Two turtle doves,\n",
    "        And a partridge in a pear tree.\n",
    "        \"\"\",\n",
    "        8: \"\"\"\n",
    "         On the eighth day of Christmas\n",
    "        my true love sent to me:\n",
    "        Eight maids a-milking,\n",
    "        Seven swans a-swimming,\n",
    "        Six geese a-laying,\n",
    "        Five golden rings!\n",
    "        Four calling birds,\n",
    "        Three French hens,\n",
    "        Two turtle doves,\n",
    "        And a partridge in a pear tree.\n",
    "        \"\"\",\n",
    "    }\n",
    "    return verse_dict[verse_number]"
   ]
  },
  {
   "cell_type": "code",
   "execution_count": 11,
   "id": "1c70c216-9a33-4e01-9769-36603b7ddbea",
   "metadata": {},
   "outputs": [
    {
     "name": "stdout",
     "output_type": "stream",
     "text": [
      "\n",
      "        On the first day of Christmas\n",
      "        my true love sent to me:\n",
      "        A partridge in a pear tree.\n",
      "        \n"
     ]
    }
   ],
   "source": [
    "print(get_christmass_song_verse(1))"
   ]
  },
  {
   "cell_type": "code",
   "execution_count": 12,
   "id": "c6319aad-d77b-43c5-885e-a0516486583b",
   "metadata": {},
   "outputs": [
    {
     "name": "stdout",
     "output_type": "stream",
     "text": [
      "\n",
      "        On the fifth day of Christmas\n",
      "        my true love sent to me:\n",
      "        Five golden rings!\n",
      "        Four calling birds,\n",
      "        Three French hens,\n",
      "        Two turtle doves,\n",
      "        And a partridge in a pear tree.\n",
      "        \n"
     ]
    }
   ],
   "source": [
    "print(get_christmass_song_verse(5))"
   ]
  },
  {
   "cell_type": "code",
   "execution_count": 13,
   "id": "9515441c-112d-4d24-84e9-56c01e5a6569",
   "metadata": {},
   "outputs": [],
   "source": [
    "def get_xmas_song_verse1(verse_number):\n",
    "  verse_dict={\n",
    "      1:\"\"\"On the first day of Christmas\n",
    "my true love sent to me:\n",
    "A partridge in a pear tree.\"\"\",\n",
    "      2:\"\"\"On the second day of Christmas\n",
    "my true love sent to me:\n",
    "Two turtle doves,\n",
    "And a partridge in a pear tree.\"\"\",\n",
    "      3:\"\"\"On the third day of Christmas\n",
    "my true love sent to me:\n",
    "Three French hens,\n",
    "Two turtle doves,\n",
    "And a partridge in a pear tree.\"\"\"\n",
    "  }\n",
    "  return verse_dict.get(verse_number)"
   ]
  },
  {
   "cell_type": "code",
   "execution_count": 14,
   "id": "46eaff49-eb69-43aa-86e1-5ea0c45eab4d",
   "metadata": {},
   "outputs": [
    {
     "name": "stdout",
     "output_type": "stream",
     "text": [
      "None\n"
     ]
    }
   ],
   "source": [
    "print(get_xmas_song_verse1(4))"
   ]
  },
  {
   "cell_type": "code",
   "execution_count": 16,
   "id": "b1bdfb72-e9f2-4fc7-acc4-0f42c54d25c1",
   "metadata": {},
   "outputs": [
    {
     "name": "stdout",
     "output_type": "stream",
     "text": [
      "On the second day of Christmas\n",
      "my true love sent to me:\n",
      "Two turtle doves,\n",
      "And a partridge in a pear tree.\n"
     ]
    }
   ],
   "source": [
    "print(get_xmas_song_verse1(2))"
   ]
  },
  {
   "cell_type": "code",
   "execution_count": 17,
   "id": "c619bde7-150f-4713-9e96-0d8a4fabde3f",
   "metadata": {},
   "outputs": [],
   "source": [
    "def get_xmas_song_verse1(verse_number):\n",
    "  verse_dict={\n",
    "      1:\"\"\"On the first day of Christmas\n",
    "my true love sent to me:\n",
    "A partridge in a pear tree.\"\"\",\n",
    "      2:\"\"\"On the second day of Christmas\n",
    "my true love sent to me:\n",
    "Two turtle doves,\n",
    "And a partridge in a pear tree.\"\"\",\n",
    "      3:\"\"\"On the third day of Christmas\n",
    "my true love sent to me:\n",
    "Three French hens,\n",
    "Two turtle doves,\n",
    "And a partridge in a pear tree.\"\"\"\n",
    "  }\n",
    "  return verse_dict.get(verse_number,\"No Such verse\")"
   ]
  },
  {
   "cell_type": "code",
   "execution_count": 18,
   "id": "d0c893cf-acaa-4a25-ad34-16ca0b9f59fe",
   "metadata": {},
   "outputs": [
    {
     "name": "stdout",
     "output_type": "stream",
     "text": [
      "No Such verse\n"
     ]
    }
   ],
   "source": [
    "print(get_xmas_song_verse1(4))"
   ]
  },
  {
   "cell_type": "code",
   "execution_count": 24,
   "id": "9e93e374-f6c4-4c72-bfcf-45cd90a7eda2",
   "metadata": {},
   "outputs": [],
   "source": [
    "## mod\n",
    "def get_xmas_song_verse2(verse_number):\n",
    "  day_dict={\n",
    "      1:\"first\",\n",
    "      2:\"second\",\n",
    "      3:\"third\",\n",
    "      4:\"fourth\",\n",
    "      5:\"fifth\",\n",
    "      6:\"sixth\",\n",
    "      7:\"seventh\",\n",
    "      8:\"eight\",\n",
    "  }\n",
    "  song_prefix=f\"\"\"On the {day_dict.get(verse_number)} day of Christmas\n",
    "my true love sent to me:\"\"\"\n",
    "  gift_dict={\n",
    "      1:\"A partridge in a pear tree.\",\n",
    "      2:\"Two turtle doves\",\n",
    "      3:\"Three French hens\",\n",
    "      4:\"Four calling birds\",\n",
    "      5:\"Five golden rings!\",\n",
    "      6:\"Six geese a-laying\",\n",
    "      7:\"Seven swans a-swimming\",\n",
    "      8:\"Eight maids a-milking\",\n",
    "      \n",
    "  }\n",
    "  if verse_number==1:\n",
    "    return f\"{song_prefix}\\n{gift_dict.get(verse_number)}\"\n",
    "  elif verse_number >=2:\n",
    "    return f\"{song_prefix}\\n{gift_dict.get(verse_number)},\\nAnd {gift_dict.get(verse_number-1)} \""
   ]
  },
  {
   "cell_type": "code",
   "execution_count": 20,
   "id": "4ff4eeca-6a97-4d68-9284-646a6476c408",
   "metadata": {},
   "outputs": [
    {
     "name": "stdout",
     "output_type": "stream",
     "text": [
      "On the first day of Christmas\n",
      "my true love sent to me:\n",
      "A partridge in a pear tree.\n"
     ]
    }
   ],
   "source": [
    "print(get_xmas_song_verse2(1))"
   ]
  },
  {
   "cell_type": "code",
   "execution_count": 21,
   "id": "b7fc3097-ae0b-4f61-ad3f-41972d2245cf",
   "metadata": {},
   "outputs": [
    {
     "name": "stdout",
     "output_type": "stream",
     "text": [
      "On the second day of Christmas\n",
      "my true love sent to me:\n",
      "Two turtle doves,\n",
      "And A partridge in a pear tree. \n"
     ]
    }
   ],
   "source": [
    "print(get_xmas_song_verse2(2))"
   ]
  },
  {
   "cell_type": "code",
   "execution_count": 25,
   "id": "f16df05c-1426-4352-ac8d-63f59f6d86c3",
   "metadata": {},
   "outputs": [
    {
     "name": "stdout",
     "output_type": "stream",
     "text": [
      "On the seventh day of Christmas\n",
      "my true love sent to me:\n",
      "Seven swans a-swimming,\n",
      "And Six geese a-laying \n"
     ]
    }
   ],
   "source": [
    "print(get_xmas_song_verse2(7))"
   ]
  },
  {
   "cell_type": "code",
   "execution_count": 26,
   "id": "d29fe469-d40b-48ec-b6ab-3b514e2f1c5d",
   "metadata": {},
   "outputs": [],
   "source": [
    "## mod\n",
    "def get_xmas_song_verse3(verse_number):\n",
    "  day_dict={\n",
    "      1:\"first\",\n",
    "      2:\"second\",\n",
    "      3:\"third\",\n",
    "      4:\"fourth\",\n",
    "      5:\"fifth\",\n",
    "      6:\"sixth\",\n",
    "      7:\"seventh\",\n",
    "      8:\"eight\",\n",
    "  }\n",
    "  song_prefix=f\"\"\"On the {day_dict.get(verse_number)} day of Christmas\n",
    "my true love sent to me:\"\"\"\n",
    "  gift_dict={\n",
    "      1:\"A partridge in a pear tree.\",\n",
    "      2:\"Two turtle doves\",\n",
    "      3:\"Three French hens\",\n",
    "      4:\"Four calling birds\",\n",
    "      5:\"Five golden rings!\",\n",
    "      6:\"Six geese a-laying\",\n",
    "      7:\"Seven swans a-swimming\",\n",
    "      8:\"Eight maids a-milking\",\n",
    "      \n",
    "  }\n",
    "  verse =song_prefix\n",
    "  for i in range(verse_number,0,-1):\n",
    "    verse = verse +f\"\\n{gift_dict.get(i)}\"\n",
    "  return verse"
   ]
  },
  {
   "cell_type": "code",
   "execution_count": 27,
   "id": "d79d371c-9239-4e66-a0dc-a8d47f4be1a3",
   "metadata": {},
   "outputs": [
    {
     "name": "stdout",
     "output_type": "stream",
     "text": [
      "On the eight day of Christmas\n",
      "my true love sent to me:\n",
      "Eight maids a-milking\n",
      "Seven swans a-swimming\n",
      "Six geese a-laying\n",
      "Five golden rings!\n",
      "Four calling birds\n",
      "Three French hens\n",
      "Two turtle doves\n",
      "A partridge in a pear tree.\n"
     ]
    }
   ],
   "source": [
    "print(get_xmas_song_verse3(8))"
   ]
  },
  {
   "cell_type": "code",
   "execution_count": 29,
   "id": "0ef26fea-54b6-4be6-abba-4ae13fd146d6",
   "metadata": {},
   "outputs": [],
   "source": [
    "## mod\n",
    "def get_xmas_song_verse3(verse_number):\n",
    "  day_dict={\n",
    "      1:\"first\",\n",
    "      2:\"second\",\n",
    "      3:\"third\",\n",
    "      4:\"fourth\",\n",
    "      5:\"fifth\",\n",
    "      6:\"sixth\",\n",
    "      7:\"seventh\",\n",
    "      8:\"eight\",\n",
    "  }\n",
    "  song_prefix=f\"\"\"On the {day_dict.get(verse_number)} day of Christmas\n",
    "my true love sent to me:\"\"\"\n",
    "  gift_dict={\n",
    "      1:\"A partridge in a pear tree.\",\n",
    "      2:\"Two turtle doves\",\n",
    "      3:\"Three French hens\",\n",
    "      4:\"Four calling birds\",\n",
    "      5:\"Five golden rings!\",\n",
    "      6:\"Six geese a-laying\",\n",
    "      7:\"Seven swans a-swimming\",\n",
    "      8:\"Eight maids a-milking\",\n",
    "      \n",
    "  }\n",
    "  verse =song_prefix\n",
    "  for i in range(verse_number,0,-1):\n",
    "    if i==1:\n",
    "      extra = \"And \" if verse_number>1 else \"\"\n",
    "      verse = verse +f\"\\n{extra}{gift_dict.get(i)}\"\n",
    "    elif verse_number>1:\n",
    "      verse = verse +f\"\\n{gift_dict.get(i)},\"\n",
    "  return verse"
   ]
  },
  {
   "cell_type": "code",
   "execution_count": 30,
   "id": "6959db00-6fb0-4a34-86c0-a87369987602",
   "metadata": {},
   "outputs": [
    {
     "name": "stdout",
     "output_type": "stream",
     "text": [
      "On the eight day of Christmas\n",
      "my true love sent to me:\n",
      "Eight maids a-milking,\n",
      "Seven swans a-swimming,\n",
      "Six geese a-laying,\n",
      "Five golden rings!,\n",
      "Four calling birds,\n",
      "Three French hens,\n",
      "Two turtle doves,\n",
      "And A partridge in a pear tree.\n"
     ]
    }
   ],
   "source": [
    "print(get_xmas_song_verse3(8))"
   ]
  },
  {
   "cell_type": "code",
   "execution_count": null,
   "id": "498fd0e7-abec-45b0-b36b-316150579284",
   "metadata": {},
   "outputs": [],
   "source": []
  }
 ],
 "metadata": {
  "kernelspec": {
   "display_name": "Python 3 (ipykernel)",
   "language": "python",
   "name": "python3"
  },
  "language_info": {
   "codemirror_mode": {
    "name": "ipython",
    "version": 3
   },
   "file_extension": ".py",
   "mimetype": "text/x-python",
   "name": "python",
   "nbconvert_exporter": "python",
   "pygments_lexer": "ipython3",
   "version": "3.11.5"
  }
 },
 "nbformat": 4,
 "nbformat_minor": 5
}
