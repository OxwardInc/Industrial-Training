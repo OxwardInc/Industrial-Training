{
 "cells": [
  {
   "cell_type": "code",
   "execution_count": 14,
   "id": "20df363f-edc0-4a12-9cdc-91b5ea6099b9",
   "metadata": {},
   "outputs": [],
   "source": [
    "class Vector:\n",
    "    def __init__(self, x, y, z):\n",
    "        self.x = x\n",
    "        self.y = y\n",
    "        self.z = z\n",
    "\n",
    "    def get_magnitude(self):\n",
    "        return (self.x**2+self.y**2+self.z**2)**0.5\n",
    "\n",
    "    def get_dimension(self):\n",
    "        return 3"
   ]
  },
  {
   "cell_type": "code",
   "execution_count": 15,
   "id": "feb4e9ce-ed30-4584-b93b-ab062c3f6a2b",
   "metadata": {},
   "outputs": [],
   "source": [
    "v1 = Vector(2, 1, -4)"
   ]
  },
  {
   "cell_type": "code",
   "execution_count": 16,
   "id": "753f0ca5-c69c-487f-a7d1-e1afb26a5e6c",
   "metadata": {},
   "outputs": [
    {
     "data": {
      "text/plain": [
       "2"
      ]
     },
     "execution_count": 16,
     "metadata": {},
     "output_type": "execute_result"
    }
   ],
   "source": [
    "v1.x"
   ]
  },
  {
   "cell_type": "code",
   "execution_count": 17,
   "id": "6543c183-c7ec-4941-b48e-015cb9a4e86d",
   "metadata": {},
   "outputs": [
    {
     "data": {
      "text/plain": [
       "1"
      ]
     },
     "execution_count": 17,
     "metadata": {},
     "output_type": "execute_result"
    }
   ],
   "source": [
    "v1.y"
   ]
  },
  {
   "cell_type": "code",
   "execution_count": 18,
   "id": "75c1dbea-1179-4db7-9631-8843265d6ef1",
   "metadata": {},
   "outputs": [
    {
     "data": {
      "text/plain": [
       "4.58257569495584"
      ]
     },
     "execution_count": 18,
     "metadata": {},
     "output_type": "execute_result"
    }
   ],
   "source": [
    "v1.get_magnitude()"
   ]
  },
  {
   "cell_type": "code",
   "execution_count": 23,
   "id": "6ac8047d-c476-4417-91fa-9ce5915989e6",
   "metadata": {},
   "outputs": [],
   "source": [
    "class Animal:\n",
    "    def __init__(self, kind, color, habitat, size, name, gender, sound):\n",
    "        self.name = name\n",
    "        self.gender = gender\n",
    "        self.color = color\n",
    "        self.kind = kind\n",
    "        self.habitat = habitat\n",
    "        self.size = size\n",
    "        self.sound = sound\n",
    "\n",
    "    def make_sound(self):\n",
    "        return f\"{self.name} {self.sound}\"\n",
    "\n",
    "    def eats(self):\n",
    "        return 'Animal eats'\n",
    "\n",
    "    def sleep(self):\n",
    "        return 'Animal sleeps'"
   ]
  },
  {
   "cell_type": "code",
   "execution_count": 24,
   "id": "b913baf8-42bf-4f5a-a49a-2b172e5b8542",
   "metadata": {},
   "outputs": [],
   "source": [
    "animal = Animal('Dog', 'white', 'Terrestrial', 'big', 'Rico', 'Male', 'Barks')"
   ]
  },
  {
   "cell_type": "code",
   "execution_count": 25,
   "id": "4cc6b18d-2e2b-46dc-9204-2d149d666686",
   "metadata": {},
   "outputs": [
    {
     "data": {
      "text/plain": [
       "'Male'"
      ]
     },
     "execution_count": 25,
     "metadata": {},
     "output_type": "execute_result"
    }
   ],
   "source": [
    "animal.gender"
   ]
  },
  {
   "cell_type": "code",
   "execution_count": 26,
   "id": "0bbe7ffd-93c7-4cdc-b841-ac638f9968cf",
   "metadata": {},
   "outputs": [
    {
     "data": {
      "text/plain": [
       "'Rico Barks'"
      ]
     },
     "execution_count": 26,
     "metadata": {},
     "output_type": "execute_result"
    }
   ],
   "source": [
    "animal.make_sound()"
   ]
  },
  {
   "cell_type": "code",
   "execution_count": 28,
   "id": "fd0083ed-ef10-4150-80e0-0749469326f4",
   "metadata": {},
   "outputs": [],
   "source": [
    "class Quadratic:\n",
    "    def __init__(self, a, b, c):\n",
    "        self.a = a\n",
    "        self.b = b\n",
    "        self.c = c\n",
    "\n",
    "    def discriminant(self):\n",
    "        return self.b**2 - 4 * self.a * self.c\n",
    "\n",
    "    def get_roots(self):\n",
    "        d = self.discriminant()\n",
    "        if d < 0:\n",
    "            return 'The roots are imaginary'\n",
    "        elif d == 0:\n",
    "            x = -self.b/(2 * self.a)\n",
    "            return x\n",
    "        else:\n",
    "            x1 = (-self.b+(d)** 0.5) / (2 * self.a)\n",
    "            x2 = (-self.b-(d)** 0.5) / (2 * self.a)\n",
    "            return x1, x2"
   ]
  },
  {
   "cell_type": "code",
   "execution_count": 29,
   "id": "ec1c7fbe-4f17-425f-9c75-02d89e0b6ed1",
   "metadata": {},
   "outputs": [],
   "source": [
    "q1 = Quadratic(1, 5, 6)\n",
    "q2 = Quadratic(1, -4, 4)"
   ]
  },
  {
   "cell_type": "code",
   "execution_count": 30,
   "id": "729f4722-9244-482e-bf70-d4b626e9806b",
   "metadata": {},
   "outputs": [
    {
     "data": {
      "text/plain": [
       "1"
      ]
     },
     "execution_count": 30,
     "metadata": {},
     "output_type": "execute_result"
    }
   ],
   "source": [
    "q1.a"
   ]
  },
  {
   "cell_type": "code",
   "execution_count": 31,
   "id": "faba0520-d626-4d7b-91e9-7a7c72c88dcd",
   "metadata": {},
   "outputs": [
    {
     "data": {
      "text/plain": [
       "-2"
      ]
     },
     "execution_count": 31,
     "metadata": {},
     "output_type": "execute_result"
    }
   ],
   "source": [
    "~q1.discriminant()"
   ]
  },
  {
   "cell_type": "code",
   "execution_count": 32,
   "id": "13de52a3-054e-40df-977a-9bcd712486a3",
   "metadata": {},
   "outputs": [
    {
     "data": {
      "text/plain": [
       "0"
      ]
     },
     "execution_count": 32,
     "metadata": {},
     "output_type": "execute_result"
    }
   ],
   "source": [
    "q2.discriminant()"
   ]
  },
  {
   "cell_type": "code",
   "execution_count": 33,
   "id": "2e99a9c4-93fe-434a-b898-8681046406a6",
   "metadata": {},
   "outputs": [
    {
     "data": {
      "text/plain": [
       "(-2.0, -3.0)"
      ]
     },
     "execution_count": 33,
     "metadata": {},
     "output_type": "execute_result"
    }
   ],
   "source": [
    "q1.get_roots()"
   ]
  },
  {
   "cell_type": "code",
   "execution_count": 34,
   "id": "aa410f9b-ce24-4ae3-9d47-3512db46edf8",
   "metadata": {},
   "outputs": [
    {
     "data": {
      "text/plain": [
       "2.0"
      ]
     },
     "execution_count": 34,
     "metadata": {},
     "output_type": "execute_result"
    }
   ],
   "source": [
    "q2.get_roots()"
   ]
  },
  {
   "cell_type": "code",
   "execution_count": 35,
   "id": "0f7b60b4-b12a-4621-bc21-dbd7ad2498c8",
   "metadata": {},
   "outputs": [
    {
     "ename": "TypeError",
     "evalue": "unsupported operand type(s) for +: 'Quadratic' and 'Quadratic'",
     "output_type": "error",
     "traceback": [
      "\u001b[1;31m---------------------------------------------------------------------------\u001b[0m",
      "\u001b[1;31mTypeError\u001b[0m                                 Traceback (most recent call last)",
      "Cell \u001b[1;32mIn[35], line 1\u001b[0m\n\u001b[1;32m----> 1\u001b[0m \u001b[43mq1\u001b[49m\u001b[43m \u001b[49m\u001b[38;5;241;43m+\u001b[39;49m\u001b[43m \u001b[49m\u001b[43mq2\u001b[49m\n",
      "\u001b[1;31mTypeError\u001b[0m: unsupported operand type(s) for +: 'Quadratic' and 'Quadratic'"
     ]
    }
   ],
   "source": [
    "q1 + q2"
   ]
  },
  {
   "cell_type": "code",
   "execution_count": 36,
   "id": "19ece570-bb56-4a5c-8917-29be65c92a44",
   "metadata": {},
   "outputs": [],
   "source": [
    "class Quadratic:\n",
    "    def __init__(self, a, b, c):\n",
    "        self.a = a\n",
    "        self.b = b\n",
    "        self.c = c\n",
    "\n",
    "    def discriminant(self):\n",
    "        return self.b**2 - 4 * self.a * self.c\n",
    "\n",
    "    def get_roots(self):\n",
    "        d = self.discriminant()\n",
    "        if d < 0:\n",
    "            return 'The roots are imaginary'\n",
    "        elif d == 0:\n",
    "            x = -self.b/(2 * self.a)\n",
    "            return x\n",
    "        else:\n",
    "            x1 = (-self.b+(d)** 0.5) / (2 * self.a)\n",
    "            x2 = (-self.b-(d)** 0.5) / (2 * self.a)\n",
    "            return x1, x2\n",
    "\n",
    "    def __add__(self, other):\n",
    "        return f\"{self.a + other.a}x^2+{self.b + other.b}x+{self.c + other.c}\""
   ]
  },
  {
   "cell_type": "code",
   "execution_count": 37,
   "id": "7824738a-0f4a-4c55-bce8-0b7d483222a7",
   "metadata": {},
   "outputs": [],
   "source": [
    "q1 = Quadratic(1, 5, 6)\n",
    "q2 = Quadratic(1, -4, 4)"
   ]
  },
  {
   "cell_type": "code",
   "execution_count": 38,
   "id": "e3148226-6308-416c-98f3-dec6a2bac591",
   "metadata": {},
   "outputs": [
    {
     "data": {
      "text/plain": [
       "'2x^2+1x+10'"
      ]
     },
     "execution_count": 38,
     "metadata": {},
     "output_type": "execute_result"
    }
   ],
   "source": [
    "q1 + q2"
   ]
  },
  {
   "cell_type": "code",
   "execution_count": 39,
   "id": "16266773-9592-46ef-9663-81b73dc6caaa",
   "metadata": {},
   "outputs": [
    {
     "name": "stdout",
     "output_type": "stream",
     "text": [
      "<__main__.Quadratic object at 0x000002D9CC6E0510>\n"
     ]
    }
   ],
   "source": [
    "print(q1)"
   ]
  },
  {
   "cell_type": "code",
   "execution_count": 44,
   "id": "aeebeb76-bd2b-4934-a345-c137830d9247",
   "metadata": {},
   "outputs": [],
   "source": [
    "class Quadratic:\n",
    "    def __init__(self, a, b, c):\n",
    "        self.a = a\n",
    "        self.b = b\n",
    "        self.c = c\n",
    "\n",
    "    def discriminant(slef):\n",
    "        return self.b**2 - 4*self.a*self.c\n",
    "\n",
    "    def get_roots(self):\n",
    "        d = self.discriminant()\n",
    "        if d < 0:\n",
    "            return \"The roots are imaginary\"\n",
    "        elif d == 0:\n",
    "            x = (self.b + (d) ** 0.5) / (2 * self.a)\n",
    "            x2 = (self.b - (d) ** 0.5) / (2 * self.a)\n",
    "\n",
    "    def __add__(self, other):\n",
    "        return f\"{self.a + other.a}x^2={self.b+other.b}x+{self.c+other.c}\"\n",
    "\n",
    "    def __repr__(self):\n",
    "        return f\"Quadratic({self.a}, {self.b}, {self.c})\"\n",
    "\n",
    "    def __str__(self):\n",
    "        return f\"{self.a}x^2+{self.b}z+{self.c}\""
   ]
  },
  {
   "cell_type": "code",
   "execution_count": 45,
   "id": "8c55b658-c9c3-4a06-9852-0b8e87861621",
   "metadata": {},
   "outputs": [],
   "source": [
    "q1 = Quadratic(1, 5, 6)\n",
    "q2 = Quadratic(1, -4, 4)"
   ]
  },
  {
   "cell_type": "code",
   "execution_count": 46,
   "id": "816feb85-af4c-4939-a879-5d9d1540ca8b",
   "metadata": {},
   "outputs": [
    {
     "name": "stdout",
     "output_type": "stream",
     "text": [
      "1x^2+5z+6\n"
     ]
    }
   ],
   "source": [
    "print(q1)"
   ]
  },
  {
   "cell_type": "code",
   "execution_count": 47,
   "id": "6c68af9a-91b2-4694-8ddf-58f32d2bbe54",
   "metadata": {},
   "outputs": [
    {
     "name": "stdout",
     "output_type": "stream",
     "text": [
      "1x^2+-4z+4\n"
     ]
    }
   ],
   "source": [
    "print(q2)"
   ]
  },
  {
   "cell_type": "code",
   "execution_count": 48,
   "id": "c5b81449-6db7-409f-9154-baa591863e73",
   "metadata": {},
   "outputs": [
    {
     "data": {
      "text/plain": [
       "Quadratic(1, 5, 6)"
      ]
     },
     "execution_count": 48,
     "metadata": {},
     "output_type": "execute_result"
    }
   ],
   "source": [
    "q1"
   ]
  },
  {
   "cell_type": "code",
   "execution_count": 49,
   "id": "f0ac1d48-7d3e-4fb2-b0b4-500ed1fe3e76",
   "metadata": {},
   "outputs": [
    {
     "data": {
      "text/plain": [
       "Quadratic(1, -4, 4)"
      ]
     },
     "execution_count": 49,
     "metadata": {},
     "output_type": "execute_result"
    }
   ],
   "source": [
    "q2"
   ]
  },
  {
   "cell_type": "code",
   "execution_count": 40,
   "id": "4dc60eab-8202-4d17-a077-763c43af1fd7",
   "metadata": {},
   "outputs": [],
   "source": [
    "# stydy inheritance, polymorphim, abstraction, encapsulatio"
   ]
  }
 ],
 "metadata": {
  "kernelspec": {
   "display_name": "Python 3 (ipykernel)",
   "language": "python",
   "name": "python3"
  },
  "language_info": {
   "codemirror_mode": {
    "name": "ipython",
    "version": 3
   },
   "file_extension": ".py",
   "mimetype": "text/x-python",
   "name": "python",
   "nbconvert_exporter": "python",
   "pygments_lexer": "ipython3",
   "version": "3.11.5"
  }
 },
 "nbformat": 4,
 "nbformat_minor": 5
}
