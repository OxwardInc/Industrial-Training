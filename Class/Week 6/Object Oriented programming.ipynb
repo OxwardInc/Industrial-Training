{
 "cells": [
  {
   "cell_type": "markdown",
   "id": "39fbe9e0-e571-44bd-8c7f-5c7589a1e96e",
   "metadata": {},
   "source": [
    "## Object Oriented programming\n",
    "\n",
    "### Objects and classes\n",
    "\n",
    "Object-oriented programming (OOP) is a programming paradigm that is based on the concept of \"objects.\" It's a way of organizing and structuring code to model real-world entities and their interactions. In OOP, everything is treated as an object, which is an instance of a class. A class is like a blueprint or template for creating objects. Here are some key concepts in OOP\n",
    "\n",
    "#### Objects can be classified as:\n",
    "Atributes\n",
    "\n",
    "Methods(Behaviour)\n",
    "\n",
    "##### Atributes: \n",
    "Attributes in the context of object-oriented programming (OOP) are variables or data members that belong to an object. They represent the characteristics or properties of the object and hold data associated with that object. In some programming languages, attributes are also referred to as \"fields\" or \"instance variables.\" Here are some key points about attributes.\n",
    "\n",
    "Examples: Color, size, screen size ...\n",
    "\n",
    "##### Methods(Behaviour):\n",
    "Methods in object-oriented programming (OOP) are functions or procedures that are associated with objects. These methods define the behavior or actions that objects of a class can perform. Methods are an essential part of classes, and they operate on the attributes and data associated with the objects of that class. Here are some key points about methods.\n",
    "\n",
    "Examples: Processes information, store data, play media ...\n",
    "\n",
    "\n",
    "###### Classes are blueprint for objects and object is an instance of a class"
   ]
  },
  {
   "cell_type": "code",
   "execution_count": 1,
   "id": "b30afdc6-f32a-46f6-9608-e0981b495ee7",
   "metadata": {},
   "outputs": [],
   "source": [
    "class Account:\n",
    "    pass"
   ]
  },
  {
   "cell_type": "code",
   "execution_count": 2,
   "id": "c0ce01ab-cc54-439e-a722-bf02774aab75",
   "metadata": {},
   "outputs": [],
   "source": [
    "charles = Account()\n",
    "ezekiel = Account()"
   ]
  },
  {
   "cell_type": "code",
   "execution_count": 3,
   "id": "c9d9abe3-398e-4941-ae42-9c2ad4bae76c",
   "metadata": {},
   "outputs": [
    {
     "data": {
      "text/plain": [
       "<__main__.Account at 0x276d6650510>"
      ]
     },
     "execution_count": 3,
     "metadata": {},
     "output_type": "execute_result"
    }
   ],
   "source": [
    "charles"
   ]
  },
  {
   "cell_type": "code",
   "execution_count": 4,
   "id": "4eeefbf0-aa66-46ce-b9f3-f0c73f899097",
   "metadata": {},
   "outputs": [
    {
     "data": {
      "text/plain": [
       "<__main__.Account at 0x276d61e2690>"
      ]
     },
     "execution_count": 4,
     "metadata": {},
     "output_type": "execute_result"
    }
   ],
   "source": [
    "ezekiel"
   ]
  },
  {
   "cell_type": "code",
   "execution_count": 5,
   "id": "10408fc8-a57e-474f-9736-967f8011b6f2",
   "metadata": {},
   "outputs": [],
   "source": [
    "charles.accType = 'Current'\n",
    "ezekiel.accType = 'Savings'\n"
   ]
  },
  {
   "cell_type": "code",
   "execution_count": 6,
   "id": "9ce2de89-7d60-469b-8a09-46d3b7b913de",
   "metadata": {},
   "outputs": [
    {
     "name": "stdout",
     "output_type": "stream",
     "text": [
      "Current\n"
     ]
    }
   ],
   "source": [
    "print(charles.accType)"
   ]
  },
  {
   "cell_type": "code",
   "execution_count": 7,
   "id": "7dc51e5a-c0b4-4397-ad92-2097cf71d41a",
   "metadata": {},
   "outputs": [
    {
     "name": "stdout",
     "output_type": "stream",
     "text": [
      "Savings\n"
     ]
    }
   ],
   "source": [
    "print(ezekiel.accType)"
   ]
  },
  {
   "cell_type": "code",
   "execution_count": 10,
   "id": "0ad57683-ebb6-43c2-b18f-4f5d0bd1ef6d",
   "metadata": {},
   "outputs": [],
   "source": [
    "class Account:\n",
    "    def __init__(self, name, dob, phone, address, email, bvn, deposit):\n",
    "        self.name = name\n",
    "        self.date_of_birth = dob\n",
    "        self.phone = phone\n",
    "        self.adress = address\n",
    "        self.email = email\n",
    "        self.bvn = bvn\n",
    "        self.init_deposit = deposit\n",
    "        self.balance = deposit"
   ]
  },
  {
   "cell_type": "code",
   "execution_count": 11,
   "id": "93a1f393-c126-499d-8200-429a081f0484",
   "metadata": {},
   "outputs": [],
   "source": [
    "charles = Account(\"Investor Charles\", \n",
    "                  \"17/01/2002\", \"0801234567\", \"Choba\",\n",
    "                 \"charles@gmail.com\", \"1234567890\", 10E6)"
   ]
  },
  {
   "cell_type": "code",
   "execution_count": 12,
   "id": "2740de22-a83d-4450-a568-22295cc41c68",
   "metadata": {},
   "outputs": [],
   "source": [
    "prosper = Account(\"Prosper Ezkiel\", \n",
    "                  \"21/11/1989\", \"0809934567\", \"Choba\",\n",
    "                 \"prosper@gmail.com\", \"1234567890\", 3E6)"
   ]
  },
  {
   "cell_type": "code",
   "execution_count": 13,
   "id": "bd764e22-d042-47ba-be4f-3b656603e504",
   "metadata": {},
   "outputs": [
    {
     "name": "stdout",
     "output_type": "stream",
     "text": [
      "3000000.0\n"
     ]
    }
   ],
   "source": [
    "print(prosper.balance)"
   ]
  },
  {
   "cell_type": "code",
   "execution_count": 14,
   "id": "14bdfa3c-f33e-4a98-b17f-71a935561427",
   "metadata": {},
   "outputs": [
    {
     "name": "stdout",
     "output_type": "stream",
     "text": [
      "10000000.0\n"
     ]
    }
   ],
   "source": [
    "print(charles.balance)"
   ]
  },
  {
   "cell_type": "code",
   "execution_count": 15,
   "id": "ba4ab313-bccb-4b3c-a27c-77314af4846b",
   "metadata": {},
   "outputs": [],
   "source": [
    "class Account:\n",
    "    def __init__(self, name, dob, phone, address, email, bvn, deposit):\n",
    "        self.name = name\n",
    "        self.date_of_birth = dob\n",
    "        self.phone = phone\n",
    "        self.adress = address\n",
    "        self.email = email\n",
    "        self.bvn = bvn\n",
    "        self.init_deposit = deposit\n",
    "        self.balance = deposit\n",
    "\n",
    "    def make_withdrawal(self, amount):\n",
    "        self.balance = self.balance - amount"
   ]
  },
  {
   "cell_type": "code",
   "execution_count": 16,
   "id": "a1fad792-b132-4f97-a933-872bae895772",
   "metadata": {},
   "outputs": [],
   "source": [
    "prosper = Account(\"Prosper Ezkiel\", \n",
    "                  \"21/11/1989\", \"0809934567\", \"Choba\",\n",
    "                 \"prosper@gmail.com\", \"1234567890\", 3E6)\n",
    "\n",
    "charles = Account(\"Investor Charles\", \n",
    "                  \"17/01/2002\", \"0801234567\", \"Choba\",\n",
    "                 \"charles@gmail.com\", \"1234567890\", 10E6)"
   ]
  },
  {
   "cell_type": "code",
   "execution_count": 17,
   "id": "0651be8b-dfa8-425b-8044-102751565158",
   "metadata": {},
   "outputs": [
    {
     "name": "stdout",
     "output_type": "stream",
     "text": [
      "10000000.0\n"
     ]
    }
   ],
   "source": [
    "print(charles.balance)"
   ]
  },
  {
   "cell_type": "code",
   "execution_count": 18,
   "id": "bec3f469-b427-4c81-939c-419deb41ca29",
   "metadata": {},
   "outputs": [
    {
     "name": "stdout",
     "output_type": "stream",
     "text": [
      "3000000.0\n"
     ]
    }
   ],
   "source": [
    "print(prosper.balance)\n"
   ]
  },
  {
   "cell_type": "code",
   "execution_count": 19,
   "id": "0085f760-78d7-4a2c-af20-4d9c1065a868",
   "metadata": {},
   "outputs": [],
   "source": [
    "charles.make_withdrawal(4E5)"
   ]
  },
  {
   "cell_type": "code",
   "execution_count": 20,
   "id": "0cb2d146-a7ff-47ca-a347-047c1bacfbe3",
   "metadata": {},
   "outputs": [
    {
     "name": "stdout",
     "output_type": "stream",
     "text": [
      "9600000.0\n"
     ]
    }
   ],
   "source": [
    "print(charles.balance)"
   ]
  },
  {
   "cell_type": "code",
   "execution_count": 21,
   "id": "4bedb1e9-d0a8-48ec-8314-7ffbdeb2b2cd",
   "metadata": {},
   "outputs": [
    {
     "name": "stdout",
     "output_type": "stream",
     "text": [
      "10000000.0\n"
     ]
    }
   ],
   "source": [
    "print(charles.init_deposit)"
   ]
  },
  {
   "cell_type": "code",
   "execution_count": 22,
   "id": "95115068-a7fa-4a4f-87b7-bcd1b002812e",
   "metadata": {},
   "outputs": [],
   "source": [
    "from random import randint\n",
    "class Account:\n",
    "    def __init__(self, name, dob, phone, address, email, bvn, deposit):\n",
    "        self.name = name\n",
    "        self.date_of_birth = dob\n",
    "        self.phone = phone\n",
    "        self.adress = address\n",
    "        self.email = email\n",
    "        self.bvn = bvn\n",
    "        self.init_deposit = deposit\n",
    "        self.balance = deposit\n",
    "        self.acct_type = 'Savings'\n",
    "        self.acct_number = '05'\n",
    "        for i in range(8):\n",
    "            digit = randint(0, 9)\n",
    "            self.acct_number += str(digit)\n",
    "\n",
    "    def make_withdrawal(self, amount):\n",
    "        self.balance = self.balance - amount\n",
    "        # There should be at least 2k as account balance i the account(ASSIGNMENT)\n",
    "\n",
    "        # Create a method to make deposit\n",
    "        # Create a method to change account email\n",
    "\n",
    "    def upgrade_account_type(self, type_):\n",
    "        if type_ not in ['Current', 'Credit']:\n",
    "            return \"Upgrade failed!\"\n",
    "        self.acct_type = type_"
   ]
  },
  {
   "cell_type": "code",
   "execution_count": null,
   "id": "972da05c-9d06-4d4d-a813-14bb4ecfac93",
   "metadata": {},
   "outputs": [],
   "source": [
    "charles.acct_number"
   ]
  },
  {
   "cell_type": "code",
   "execution_count": null,
   "id": "60e3d72f-8d61-4d5e-9b2b-52b490ca0ca7",
   "metadata": {},
   "outputs": [],
   "source": [
    "prosper"
   ]
  },
  {
   "cell_type": "code",
   "execution_count": 23,
   "id": "acda6a00-acb8-4de4-a93f-9dfeb8603276",
   "metadata": {},
   "outputs": [],
   "source": [
    "prosper = Account(\"Prosper Ezkiel\", \n",
    "                  \"21/11/1989\", \"0809934567\", \"Choba\",\n",
    "                 \"prosper@gmail.com\", \"1234567890\", 3E6)\n",
    "\n",
    "charles = Account(\"Investor Charles\", \n",
    "                  \"17/01/2002\", \"0801234567\", \"Choba\",\n",
    "                 \"charles@gmail.com\", \"1234567890\", 10E6)"
   ]
  },
  {
   "cell_type": "code",
   "execution_count": 24,
   "id": "48218ca2-4ecc-497e-936a-809cb68e1d50",
   "metadata": {},
   "outputs": [
    {
     "data": {
      "text/plain": [
       "'Savings'"
      ]
     },
     "execution_count": 24,
     "metadata": {},
     "output_type": "execute_result"
    }
   ],
   "source": [
    "prosper.acct_type"
   ]
  },
  {
   "cell_type": "code",
   "execution_count": null,
   "id": "6db56b13-8eb2-4222-b8d7-565064b668a6",
   "metadata": {},
   "outputs": [],
   "source": [
    "prosper.upgrade_account_type"
   ]
  },
  {
   "cell_type": "code",
   "execution_count": null,
   "id": "a1617d5a-fd97-43f5-89f2-d6c8ccb5c977",
   "metadata": {},
   "outputs": [],
   "source": []
  },
  {
   "cell_type": "markdown",
   "id": "321ef4a0-f865-4051-9519-856187e3179e",
   "metadata": {},
   "source": [
    "### Asignment\n",
    "\n",
    "create a class of three vectors: x, y, z\n",
    "\n"
   ]
  },
  {
   "cell_type": "code",
   "execution_count": null,
   "id": "9d9a0e0b-2391-4e27-9117-1ab81e66ae7f",
   "metadata": {},
   "outputs": [],
   "source": [
    "from random import randint, choices\n",
    "class Account:\n",
    "    def __init__(self, name, dob, phone, address, email, bvn, deposit):\n",
    "        self.name = name\n",
    "        self.date_of_birth = dob\n",
    "        self.phone = phone\n",
    "        self.adress = address\n",
    "        self.email = email\n",
    "        self.bvn = bvn\n",
    "        self.init_deposit = deposit\n",
    "        self.balance = deposit\n",
    "        self.acct_type = 'Savings'\n",
    "        self.acct_number = '05'+\"\".join(choices('0123456789', k=8))\n",
    "\n",
    "    def make_withdrawal(self, amount):\n",
    "        self.balance = self.balance - amount\n",
    "        # There should be at least 2k as account balance i the account(ASSIGNMENT)\n",
    "\n",
    "        # Create a method to make deposit\n",
    "        # Create a method to change account email\n",
    "\n",
    "    def upgrade_account_type(self, type_):\n",
    "        if type_ not in ['Current', 'Credit']:\n",
    "            return \"Upgrade failed!\"\n",
    "        self.acct_type = type_"
   ]
  }
 ],
 "metadata": {
  "kernelspec": {
   "display_name": "Python 3 (ipykernel)",
   "language": "python",
   "name": "python3"
  },
  "language_info": {
   "codemirror_mode": {
    "name": "ipython",
    "version": 3
   },
   "file_extension": ".py",
   "mimetype": "text/x-python",
   "name": "python",
   "nbconvert_exporter": "python",
   "pygments_lexer": "ipython3",
   "version": "3.11.5"
  }
 },
 "nbformat": 4,
 "nbformat_minor": 5
}
