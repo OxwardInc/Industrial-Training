{
 "cells": [
  {
   "cell_type": "markdown",
   "id": "b3d6bb21-4887-4c35-812c-d9ffd7a55c99",
   "metadata": {},
   "source": [
    "## Lambda expressions or Anonymous function"
   ]
  },
  {
   "cell_type": "code",
   "execution_count": 1,
   "id": "1a43b71a-66cf-47b3-ab75-0e22320c6c63",
   "metadata": {},
   "outputs": [],
   "source": [
    "# lambda inputs : function body"
   ]
  },
  {
   "cell_type": "code",
   "execution_count": 4,
   "id": "83b299c3-89db-4d62-a52d-d23178926a52",
   "metadata": {},
   "outputs": [],
   "source": [
    "shipping_cost = lambda x: 10.95 + (x - 1) * 2.95"
   ]
  },
  {
   "cell_type": "code",
   "execution_count": 2,
   "id": "b5eef1d7-3cd0-43f1-b70a-76e6ae5d454f",
   "metadata": {},
   "outputs": [],
   "source": [
    "sum_2 = lambda x, y: x + y"
   ]
  },
  {
   "cell_type": "code",
   "execution_count": 3,
   "id": "9f996aba-810c-41fa-b6e7-66d1ecc5063a",
   "metadata": {},
   "outputs": [
    {
     "data": {
      "text/plain": [
       "8"
      ]
     },
     "execution_count": 3,
     "metadata": {},
     "output_type": "execute_result"
    }
   ],
   "source": [
    "sum_2(3, 5)"
   ]
  },
  {
   "cell_type": "code",
   "execution_count": 5,
   "id": "d5a8a1cd-b69a-4063-b2a5-1a296adc908a",
   "metadata": {},
   "outputs": [
    {
     "data": {
      "text/plain": [
       "16.85"
      ]
     },
     "execution_count": 5,
     "metadata": {},
     "output_type": "execute_result"
    }
   ],
   "source": [
    "shipping_cost(3)"
   ]
  },
  {
   "cell_type": "code",
   "execution_count": 6,
   "id": "654fb5b0-1ced-4e2d-b481-ed8dcfc214d6",
   "metadata": {},
   "outputs": [],
   "source": [
    "add_value = lambda *x: x"
   ]
  },
  {
   "cell_type": "code",
   "execution_count": 8,
   "id": "40a99e16-c348-420d-a8af-6de07435b225",
   "metadata": {},
   "outputs": [
    {
     "data": {
      "text/plain": [
       "(4,)"
      ]
     },
     "execution_count": 8,
     "metadata": {},
     "output_type": "execute_result"
    }
   ],
   "source": [
    "add_value(4)"
   ]
  },
  {
   "cell_type": "code",
   "execution_count": 9,
   "id": "fd93e2c0-fbca-4764-ae98-d49182cd126c",
   "metadata": {},
   "outputs": [
    {
     "data": {
      "text/plain": [
       "(3, 5)"
      ]
     },
     "execution_count": 9,
     "metadata": {},
     "output_type": "execute_result"
    }
   ],
   "source": [
    "add_value(3, 5)"
   ]
  },
  {
   "cell_type": "code",
   "execution_count": 10,
   "id": "21bf10b9-0655-40f5-9e26-00186cb0f96c",
   "metadata": {},
   "outputs": [],
   "source": [
    "area_of_trangle = lambda base_data, height_data: (0.5 * base_data) * height_data"
   ]
  },
  {
   "cell_type": "code",
   "execution_count": 11,
   "id": "11813d18-ad7d-4e22-8f30-f77f304c8146",
   "metadata": {},
   "outputs": [
    {
     "name": "stdin",
     "output_type": "stream",
     "text": [
      "Enter the base: 12\n",
      "Enter the height: 12\n"
     ]
    },
    {
     "data": {
      "text/plain": [
       "72.0"
      ]
     },
     "execution_count": 11,
     "metadata": {},
     "output_type": "execute_result"
    }
   ],
   "source": [
    "inp1 = float(input('Enter the base:'))\n",
    "inp2 = float(input('Enter the height:'))\n",
    "\n",
    "solution = area_of_trangle(inp1, inp2)\n",
    "\n",
    "solution"
   ]
  },
  {
   "cell_type": "markdown",
   "id": "36f05138-8389-44f2-b370-150748eca87d",
   "metadata": {},
   "source": [
    "## Map, reduce and filter function"
   ]
  },
  {
   "cell_type": "code",
   "execution_count": 27,
   "id": "c84c418c-7026-484b-9e16-a8845eef5326",
   "metadata": {},
   "outputs": [
    {
     "name": "stdout",
     "output_type": "stream",
     "text": [
      "103\n"
     ]
    }
   ],
   "source": [
    "#Write a program that'll get the sum of numbers\n",
    "\n",
    "numbers = [4, 5, 3, 45, 34, 12]\n",
    "sum_of_numbers = 0\n",
    "for number in numbers:\n",
    "    sum_of_numbers = sum_of_numbers + number\n",
    "print(sum_of_numbers)\n",
    "\n",
    "# Assignment: use the reduce function on this"
   ]
  },
  {
   "cell_type": "code",
   "execution_count": 28,
   "id": "e0d8ed52-b773-483e-9c29-6258c256222e",
   "metadata": {},
   "outputs": [
    {
     "name": "stdout",
     "output_type": "stream",
     "text": [
      "16\n",
      "25\n",
      "9\n",
      "2025\n",
      "1156\n",
      "144\n"
     ]
    }
   ],
   "source": [
    "numbers = [4, 5, 3, 45, 34, 12]\n",
    "for number in numbers:\n",
    "    square_of_numbers = number ** 2\n",
    "    print(square_of_numbers)"
   ]
  },
  {
   "cell_type": "code",
   "execution_count": 29,
   "id": "955a1dbb-2ae6-4231-828c-1f597c974390",
   "metadata": {},
   "outputs": [
    {
     "ename": "SyntaxError",
     "evalue": "invalid syntax (2917666966.py, line 2)",
     "output_type": "error",
     "traceback": [
      "\u001b[1;36m  Cell \u001b[1;32mIn[29], line 2\u001b[1;36m\u001b[0m\n\u001b[1;33m    square_of_numbers []\u001b[0m\n\u001b[1;37m                       ^\u001b[0m\n\u001b[1;31mSyntaxError\u001b[0m\u001b[1;31m:\u001b[0m invalid syntax\n"
     ]
    }
   ],
   "source": [
    "numbers = [4, 5, 3, 45, 34, 12]\n",
    "square_of_numbers []\n",
    "for number in numbers:\n",
    "    square = number ** 2\n",
    "    square_of_numbers.append(square)\n",
    "print(square_of_numbers)"
   ]
  },
  {
   "cell_type": "code",
   "execution_count": 16,
   "id": "a746b5ab-5f1e-4961-b3d5-64e3a8d8816a",
   "metadata": {},
   "outputs": [
    {
     "name": "stdout",
     "output_type": "stream",
     "text": [
      "[45, 34]\n"
     ]
    }
   ],
   "source": [
    "numbers = [4, 5, 3, 45, 34, 12]\n",
    "filtered_numbers = []\n",
    "for number in numbers:\n",
    "    if number > 15:\n",
    "        filtered_numbers.append(number)\n",
    "print(filtered_numbers)"
   ]
  },
  {
   "cell_type": "code",
   "execution_count": 20,
   "id": "a02dab9a-3335-47c5-9147-d96b0bf0c189",
   "metadata": {},
   "outputs": [
    {
     "data": {
      "text/plain": [
       "(16, 25, 9, 2025, 1156, 144)"
      ]
     },
     "execution_count": 20,
     "metadata": {},
     "output_type": "execute_result"
    }
   ],
   "source": [
    "# V1\n",
    "\"\"\"\n",
    "numbers = [4, 5, 3, 45, 34, 12]\n",
    "squares = []\n",
    "for number in numbers:\n",
    "    square_of_numbers = number ** 2\n",
    "    squares.append(square_of_numbers)\n",
    "print(squares)\n",
    "\"\"\"\n",
    "\n",
    "# V2\n",
    "def get_square(x):\n",
    "    return x ** 2\n",
    "tuple(map(get_square, [4, 5, 3, 45, 34, 12]))\n"
   ]
  },
  {
   "cell_type": "code",
   "execution_count": 17,
   "id": "56834862-e431-4f8d-a888-d92724c61bd7",
   "metadata": {},
   "outputs": [
    {
     "data": {
      "text/plain": [
       "\u001b[1;31mInit signature:\u001b[0m \u001b[0mmap\u001b[0m\u001b[1;33m(\u001b[0m\u001b[0mself\u001b[0m\u001b[1;33m,\u001b[0m \u001b[1;33m/\u001b[0m\u001b[1;33m,\u001b[0m \u001b[1;33m*\u001b[0m\u001b[0margs\u001b[0m\u001b[1;33m,\u001b[0m \u001b[1;33m**\u001b[0m\u001b[0mkwargs\u001b[0m\u001b[1;33m)\u001b[0m\u001b[1;33m\u001b[0m\u001b[1;33m\u001b[0m\u001b[0m\n",
       "\u001b[1;31mDocstring:\u001b[0m     \n",
       "map(func, *iterables) --> map object\n",
       "\n",
       "Make an iterator that computes the function using arguments from\n",
       "each of the iterables.  Stops when the shortest iterable is exhausted.\n",
       "\u001b[1;31mType:\u001b[0m           type\n",
       "\u001b[1;31mSubclasses:\u001b[0m     "
      ]
     },
     "metadata": {},
     "output_type": "display_data"
    }
   ],
   "source": [
    "map?"
   ]
  },
  {
   "cell_type": "code",
   "execution_count": 21,
   "id": "9df620c2-c493-44f8-bd46-ebe53e3a3f6a",
   "metadata": {},
   "outputs": [
    {
     "data": {
      "text/plain": [
       "<map at 0x27fad6620b0>"
      ]
     },
     "execution_count": 21,
     "metadata": {},
     "output_type": "execute_result"
    }
   ],
   "source": [
    "map(lambda x: x**3, [4, 5, 3, 45, 34, 12])"
   ]
  },
  {
   "cell_type": "code",
   "execution_count": 22,
   "id": "39a9eeeb-4e46-4dec-b0f1-b0a88a7048eb",
   "metadata": {},
   "outputs": [
    {
     "data": {
      "text/plain": [
       "[64, 125, 27, 91125, 39304, 1728]"
      ]
     },
     "execution_count": 22,
     "metadata": {},
     "output_type": "execute_result"
    }
   ],
   "source": [
    "list(map(lambda x: x**3, [4, 5, 3, 45, 34, 12]))"
   ]
  },
  {
   "cell_type": "code",
   "execution_count": 24,
   "id": "a9b080ad-f5b3-4329-92c5-d38307a74a70",
   "metadata": {},
   "outputs": [
    {
     "data": {
      "text/plain": [
       "[-9, -2, -35, -170, -1175, -1710]"
      ]
     },
     "execution_count": 24,
     "metadata": {},
     "output_type": "execute_result"
    }
   ],
   "source": [
    "# use this list of numbers [3, 2, 5, 10, 25, 30]\n",
    "\n",
    "list(map(lambda x: 3 * x - 2 * x**2, [3, 2, 5, 10, 25, 30]))"
   ]
  },
  {
   "cell_type": "code",
   "execution_count": 26,
   "id": "25800024-6f13-4dc5-b6b2-d08a8939088f",
   "metadata": {},
   "outputs": [
    {
     "data": {
      "text/plain": [
       "[45, 34]"
      ]
     },
     "execution_count": 26,
     "metadata": {},
     "output_type": "execute_result"
    }
   ],
   "source": [
    "\"\"\"\n",
    "numbers = [4, 5, 3, 45, 34, 12]\n",
    "filtered_numbers = []\n",
    "for number in numbers:\n",
    "    if number > 15:\n",
    "        filtered_numbers.append(number)\n",
    "print(filtered_numbers)\n",
    "\"\"\"\n",
    "\n",
    "list(filter(lambda x:  x > 15, [4, 5, 3, 45, 34, 12]))"
   ]
  },
  {
   "cell_type": "code",
   "execution_count": null,
   "id": "67230040-750b-449b-bf52-21334f5b4d07",
   "metadata": {},
   "outputs": [],
   "source": []
  }
 ],
 "metadata": {
  "kernelspec": {
   "display_name": "Python 3 (ipykernel)",
   "language": "python",
   "name": "python3"
  },
  "language_info": {
   "codemirror_mode": {
    "name": "ipython",
    "version": 3
   },
   "file_extension": ".py",
   "mimetype": "text/x-python",
   "name": "python",
   "nbconvert_exporter": "python",
   "pygments_lexer": "ipython3",
   "version": "3.11.4"
  }
 },
 "nbformat": 4,
 "nbformat_minor": 5
}
