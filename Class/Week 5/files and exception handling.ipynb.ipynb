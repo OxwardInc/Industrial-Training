{
 "cells": [
  {
   "cell_type": "code",
   "execution_count": 1,
   "id": "de531eb1-6346-4c84-be81-9057c0cd8fd5",
   "metadata": {},
   "outputs": [],
   "source": [
    "file = open('the-first.txt', 'w')\n",
    "file.write('This is the first')\n",
    "file.close()"
   ]
  },
  {
   "cell_type": "code",
   "execution_count": 2,
   "id": "0bc257aa-4062-4f7b-b93a-76e9141376bf",
   "metadata": {},
   "outputs": [],
   "source": [
    "file = open('the-first.txt', 'w')\n",
    "file.write('Today is a new day')\n",
    "file.close()"
   ]
  },
  {
   "cell_type": "code",
   "execution_count": 4,
   "id": "2c74638c-c160-422f-8f73-fe0c8f0dfb99",
   "metadata": {},
   "outputs": [],
   "source": [
    "file = open('the-first.txt', 'a')\n",
    "file.writelines(['\\nThis is one', '\\nThis is another'])\n",
    "file.close()"
   ]
  },
  {
   "cell_type": "code",
   "execution_count": 5,
   "id": "9085cbeb-3d67-4db8-9fae-1ae1e08d4167",
   "metadata": {},
   "outputs": [
    {
     "ename": "FileNotFoundError",
     "evalue": "[Errno 2] No such file or directory: 'init.py'",
     "output_type": "error",
     "traceback": [
      "\u001b[1;31m---------------------------------------------------------------------------\u001b[0m",
      "\u001b[1;31mFileNotFoundError\u001b[0m                         Traceback (most recent call last)",
      "Cell \u001b[1;32mIn[5], line 1\u001b[0m\n\u001b[1;32m----> 1\u001b[0m file \u001b[38;5;241m=\u001b[39m \u001b[38;5;28;43mopen\u001b[39;49m\u001b[43m(\u001b[49m\u001b[38;5;124;43m'\u001b[39;49m\u001b[38;5;124;43minit.py\u001b[39;49m\u001b[38;5;124;43m'\u001b[39;49m\u001b[43m,\u001b[49m\u001b[43m \u001b[49m\u001b[38;5;124;43m'\u001b[39;49m\u001b[38;5;124;43mr\u001b[39;49m\u001b[38;5;124;43m'\u001b[39;49m\u001b[43m)\u001b[49m\n\u001b[0;32m      2\u001b[0m content \u001b[38;5;241m=\u001b[39m file\u001b[38;5;241m.\u001b[39mread()\n\u001b[0;32m      3\u001b[0m file\u001b[38;5;241m.\u001b[39mclose()\n",
      "File \u001b[1;32m~\\AppData\\Local\\Programs\\Python\\Python311\\Lib\\site-packages\\IPython\\core\\interactiveshell.py:286\u001b[0m, in \u001b[0;36m_modified_open\u001b[1;34m(file, *args, **kwargs)\u001b[0m\n\u001b[0;32m    279\u001b[0m \u001b[38;5;28;01mif\u001b[39;00m file \u001b[38;5;129;01min\u001b[39;00m {\u001b[38;5;241m0\u001b[39m, \u001b[38;5;241m1\u001b[39m, \u001b[38;5;241m2\u001b[39m}:\n\u001b[0;32m    280\u001b[0m     \u001b[38;5;28;01mraise\u001b[39;00m \u001b[38;5;167;01mValueError\u001b[39;00m(\n\u001b[0;32m    281\u001b[0m         \u001b[38;5;124mf\u001b[39m\u001b[38;5;124m\"\u001b[39m\u001b[38;5;124mIPython won\u001b[39m\u001b[38;5;124m'\u001b[39m\u001b[38;5;124mt let you open fd=\u001b[39m\u001b[38;5;132;01m{\u001b[39;00mfile\u001b[38;5;132;01m}\u001b[39;00m\u001b[38;5;124m by default \u001b[39m\u001b[38;5;124m\"\u001b[39m\n\u001b[0;32m    282\u001b[0m         \u001b[38;5;124m\"\u001b[39m\u001b[38;5;124mas it is likely to crash IPython. If you know what you are doing, \u001b[39m\u001b[38;5;124m\"\u001b[39m\n\u001b[0;32m    283\u001b[0m         \u001b[38;5;124m\"\u001b[39m\u001b[38;5;124myou can use builtins\u001b[39m\u001b[38;5;124m'\u001b[39m\u001b[38;5;124m open.\u001b[39m\u001b[38;5;124m\"\u001b[39m\n\u001b[0;32m    284\u001b[0m     )\n\u001b[1;32m--> 286\u001b[0m \u001b[38;5;28;01mreturn\u001b[39;00m \u001b[43mio_open\u001b[49m\u001b[43m(\u001b[49m\u001b[43mfile\u001b[49m\u001b[43m,\u001b[49m\u001b[43m \u001b[49m\u001b[38;5;241;43m*\u001b[39;49m\u001b[43margs\u001b[49m\u001b[43m,\u001b[49m\u001b[43m \u001b[49m\u001b[38;5;241;43m*\u001b[39;49m\u001b[38;5;241;43m*\u001b[39;49m\u001b[43mkwargs\u001b[49m\u001b[43m)\u001b[49m\n",
      "\u001b[1;31mFileNotFoundError\u001b[0m: [Errno 2] No such file or directory: 'init.py'"
     ]
    }
   ],
   "source": [
    "file = open('init.py', 'r')\n",
    "content = file.read()\n",
    "file.close()\n",
    "print(content)"
   ]
  },
  {
   "cell_type": "code",
   "execution_count": 6,
   "id": "a6868f81-cc72-4fbe-a168-a4c115550725",
   "metadata": {},
   "outputs": [
    {
     "name": "stdout",
     "output_type": "stream",
     "text": [
      "Today is a new day\n",
      "This is one\n",
      "This is another\n"
     ]
    }
   ],
   "source": [
    "file=open(\"the-first.txt\",\"r\")\n",
    "content=file.read()\n",
    "file.close()\n",
    "print(content)"
   ]
  },
  {
   "cell_type": "code",
   "execution_count": 10,
   "id": "cbf257a0-530b-4580-af7a-9653abe62de4",
   "metadata": {},
   "outputs": [
    {
     "name": "stdout",
     "output_type": "stream",
     "text": [
      "['Today is a new day\\n', 'This is one\\n', 'This is another']\n"
     ]
    }
   ],
   "source": [
    "file = open('the-first.txt', 'r')\n",
    "content = file.readlines()\n",
    "file.close()\n",
    "print(content)"
   ]
  },
  {
   "cell_type": "code",
   "execution_count": 11,
   "id": "180a21e0-3bb4-44c3-9a44-cbff429f5bbf",
   "metadata": {},
   "outputs": [
    {
     "name": "stdout",
     "output_type": "stream",
     "text": [
      "Tod\n"
     ]
    }
   ],
   "source": [
    "file=open(\"the-first.txt\",\"r\")\n",
    "content=file.readline(3)\n",
    "file.close()\n",
    "print(content)"
   ]
  },
  {
   "cell_type": "code",
   "execution_count": 12,
   "id": "be4c0ca2-aa77-4d63-9613-afe7c6e80513",
   "metadata": {},
   "outputs": [
    {
     "name": "stdin",
     "output_type": "stream",
     "text": [
      "Enter the name of the input file: the-first.txt\n",
      "Enter the name of the output file: the-second.txt\n"
     ]
    },
    {
     "name": "stdout",
     "output_type": "stream",
     "text": [
      "This is a line: Today is a new day\n",
      "\n",
      "This is a line: This is one\n",
      "\n",
      "This is a line: This is another\n"
     ]
    }
   ],
   "source": [
    "input_file_name = input(\"Enter the name of the input file:\")\n",
    "output_file_name = input(\"Enter the name of the output file:\")\n",
    "input_file = open(input_file_name, 'r')\n",
    "content = input_file.readlines()\n",
    "input_file.close()\n",
    "for line in content:\n",
    "    print(f\"This is a line: {line}\")"
   ]
  },
  {
   "cell_type": "code",
   "execution_count": 13,
   "id": "8b16fecb-67ea-4c90-ad62-c73e6cdc12e3",
   "metadata": {},
   "outputs": [
    {
     "name": "stdin",
     "output_type": "stream",
     "text": [
      "Enter the name of the input file the-first.txt\n",
      "Enter the name of the output file the-third.txt\n"
     ]
    },
    {
     "name": "stdout",
     "output_type": "stream",
     "text": [
      "1: Today is a new day\n",
      "\n",
      "2: This is one\n",
      "\n",
      "3: This is another\n"
     ]
    }
   ],
   "source": [
    "input_file_name=input(\"Enter the name of the input file\")\n",
    "output_file_name=input(\"Enter the name of the output file\")\n",
    "input_file=open(input_file_name,\"r\")\n",
    "content=input_file.readlines()\n",
    "input_file.close()\n",
    "line_number=1\n",
    "for line in content:\n",
    "  print(f\"{line_number}: {line}\")\n",
    "  line_number= line_number+1"
   ]
  },
  {
   "cell_type": "code",
   "execution_count": 14,
   "id": "c3d83daf-cdaa-4938-bf18-ad78768c021d",
   "metadata": {},
   "outputs": [
    {
     "name": "stdin",
     "output_type": "stream",
     "text": [
      "Enter the name of the input file the-first.txt\n",
      "Enter the name of the output file output.txt\n"
     ]
    }
   ],
   "source": [
    "input_file_name=input(\"Enter the name of the input file\")\n",
    "output_file_name=input(\"Enter the name of the output file\")\n",
    "input_file=open(input_file_name,\"r\")\n",
    "content=input_file.readlines()\n",
    "input_file.close()\n",
    "output_file=open(output_file_name,\"w\")\n",
    "line_number=1\n",
    "for line in content:\n",
    "  output_file.write(f\"{line_number}: {line}\")\n",
    "  line_number +=1\n",
    "output_file.close()"
   ]
  },
  {
   "cell_type": "code",
   "execution_count": 15,
   "id": "51a5cd07-f7bc-4d76-b840-e9db31d223fa",
   "metadata": {},
   "outputs": [
    {
     "name": "stdin",
     "output_type": "stream",
     "text": [
      "Enter a number: 12\n",
      "Enter another number: 34\n"
     ]
    },
    {
     "name": "stdout",
     "output_type": "stream",
     "text": [
      "An error occured\n",
      "Stil  execute this\n"
     ]
    }
   ],
   "source": [
    "num = input(\"Enter a number:\")\n",
    "den = input(\"Enter another number:\")\n",
    "try:\n",
    "    result = num/den\n",
    "except:\n",
    "    print('An error occured')\n",
    "else:\n",
    "    print(\"We're good\")\n",
    "    print(result)\n",
    "finally:\n",
    "    print(\"Stil  execute this\")"
   ]
  },
  {
   "cell_type": "code",
   "execution_count": 16,
   "id": "b84b569c-3f61-4bc3-aad9-c2c3ffb356b0",
   "metadata": {},
   "outputs": [
    {
     "name": "stdin",
     "output_type": "stream",
     "text": [
      "Enter a number:  12\n",
      "Enter a another number:  4\n"
     ]
    },
    {
     "name": "stdout",
     "output_type": "stream",
     "text": [
      "We're good\n",
      "3.0\n",
      "Still execute this\n"
     ]
    }
   ],
   "source": [
    "num = float(input(\"Enter a number: \"))\n",
    "den = float(input(\"Enter a another number: \"))\n",
    "try:\n",
    "  result = num/den\n",
    "except:\n",
    "  print(\"Input must be numbers\")\n",
    "else:\n",
    "  print(\"We're good\")\n",
    "  print(result)\n",
    "finally:\n",
    "  print(\"Still execute this\")\n"
   ]
  },
  {
   "cell_type": "code",
   "execution_count": 17,
   "id": "42395b9d-5c62-449e-8286-6b6bdcec42d2",
   "metadata": {},
   "outputs": [
    {
     "name": "stdin",
     "output_type": "stream",
     "text": [
      "Enter a number:  23\n",
      "Enter a another number:  e\n"
     ]
    },
    {
     "ename": "ValueError",
     "evalue": "could not convert string to float: 'e'",
     "output_type": "error",
     "traceback": [
      "\u001b[1;31m---------------------------------------------------------------------------\u001b[0m",
      "\u001b[1;31mValueError\u001b[0m                                Traceback (most recent call last)",
      "Cell \u001b[1;32mIn[17], line 2\u001b[0m\n\u001b[0;32m      1\u001b[0m num \u001b[38;5;241m=\u001b[39m \u001b[38;5;28mfloat\u001b[39m(\u001b[38;5;28minput\u001b[39m(\u001b[38;5;124m\"\u001b[39m\u001b[38;5;124mEnter a number: \u001b[39m\u001b[38;5;124m\"\u001b[39m))\n\u001b[1;32m----> 2\u001b[0m den \u001b[38;5;241m=\u001b[39m \u001b[38;5;28;43mfloat\u001b[39;49m\u001b[43m(\u001b[49m\u001b[38;5;28;43minput\u001b[39;49m\u001b[43m(\u001b[49m\u001b[38;5;124;43m\"\u001b[39;49m\u001b[38;5;124;43mEnter a another number: \u001b[39;49m\u001b[38;5;124;43m\"\u001b[39;49m\u001b[43m)\u001b[49m\u001b[43m)\u001b[49m\n\u001b[0;32m      3\u001b[0m \u001b[38;5;28;01mtry\u001b[39;00m:\n\u001b[0;32m      4\u001b[0m   result \u001b[38;5;241m=\u001b[39m num\u001b[38;5;241m/\u001b[39mden\n",
      "\u001b[1;31mValueError\u001b[0m: could not convert string to float: 'e'"
     ]
    }
   ],
   "source": [
    "num = float(input(\"Enter a number: \"))\n",
    "den = float(input(\"Enter a another number: \"))\n",
    "try:\n",
    "  result = num/den\n",
    "except:\n",
    "  print(\"Input must be numbers\")\n",
    "else:\n",
    "  print(\"We're good\")\n",
    "  print(result)\n",
    "finally:\n",
    "  print(\"Still execute this\")\n"
   ]
  },
  {
   "cell_type": "code",
   "execution_count": 18,
   "id": "da6cfb1f-edf2-4118-9f3d-d363eaa7811a",
   "metadata": {},
   "outputs": [
    {
     "name": "stdin",
     "output_type": "stream",
     "text": [
      "Enter a number:  1\n",
      "Enter a another number:  0\n"
     ]
    },
    {
     "name": "stdout",
     "output_type": "stream",
     "text": [
      "Input must be numbers\n",
      "Still execute this\n"
     ]
    }
   ],
   "source": [
    "\n",
    "try:\n",
    "  num = float(input(\"Enter a number: \"))\n",
    "  den = float(input(\"Enter a another number: \"))\n",
    "  result = num/den\n",
    "except:\n",
    "  print(\"Input must be numbers\")\n",
    "else:\n",
    "  print(\"We're good\")\n",
    "  print(result)\n",
    "finally:\n",
    "  print(\"Still execute this\")\n"
   ]
  },
  {
   "cell_type": "code",
   "execution_count": 19,
   "id": "3697af2d-1f0f-40c4-be60-0524f394e943",
   "metadata": {},
   "outputs": [
    {
     "name": "stdin",
     "output_type": "stream",
     "text": [
      "Enter a number:  12\n",
      "Enter a another number:  0\n"
     ]
    },
    {
     "ename": "ZeroDivisionError",
     "evalue": "float division by zero",
     "output_type": "error",
     "traceback": [
      "\u001b[1;31m---------------------------------------------------------------------------\u001b[0m",
      "\u001b[1;31mZeroDivisionError\u001b[0m                         Traceback (most recent call last)",
      "Cell \u001b[1;32mIn[19], line 3\u001b[0m\n\u001b[0;32m      1\u001b[0m num \u001b[38;5;241m=\u001b[39m \u001b[38;5;28mfloat\u001b[39m(\u001b[38;5;28minput\u001b[39m(\u001b[38;5;124m\"\u001b[39m\u001b[38;5;124mEnter a number: \u001b[39m\u001b[38;5;124m\"\u001b[39m))\n\u001b[0;32m      2\u001b[0m den \u001b[38;5;241m=\u001b[39m \u001b[38;5;28mfloat\u001b[39m(\u001b[38;5;28minput\u001b[39m(\u001b[38;5;124m\"\u001b[39m\u001b[38;5;124mEnter a another number: \u001b[39m\u001b[38;5;124m\"\u001b[39m))\n\u001b[1;32m----> 3\u001b[0m result \u001b[38;5;241m=\u001b[39m \u001b[43mnum\u001b[49m\u001b[38;5;241;43m/\u001b[39;49m\u001b[43mden\u001b[49m\n",
      "\u001b[1;31mZeroDivisionError\u001b[0m: float division by zero"
     ]
    }
   ],
   "source": [
    "num = float(input(\"Enter a number: \"))\n",
    "den = float(input(\"Enter a another number: \"))\n",
    "result = num/den"
   ]
  },
  {
   "cell_type": "code",
   "execution_count": 20,
   "id": "ecb574ee-af03-45f5-b156-efeaa83a06d2",
   "metadata": {},
   "outputs": [
    {
     "name": "stdin",
     "output_type": "stream",
     "text": [
      "Enter a number:  23\n",
      "Enter a another number:  78\n"
     ]
    },
    {
     "name": "stdout",
     "output_type": "stream",
     "text": [
      "We're good\n",
      "0.2948717948717949\n",
      "Still execute this\n"
     ]
    }
   ],
   "source": [
    "\n",
    "try:\n",
    "  num = float(input(\"Enter a number: \"))\n",
    "  den = float(input(\"Enter a another number: \"))\n",
    "  result = num/den\n",
    "except ValueError:\n",
    "  print(\"Input must be numbers\")\n",
    "except ZeroDivisionError:\n",
    "  print(\"Denominator can not be zero\")\n",
    "except:\n",
    "  print(\"You have commited a sin!!!\")\n",
    "else:\n",
    "  print(\"We're good\")\n",
    "  print(result)\n",
    "finally:\n",
    "  print(\"Still execute this\")\n"
   ]
  },
  {
   "cell_type": "code",
   "execution_count": 21,
   "id": "cd868c01-8cf0-427e-bf29-10c34cfac78f",
   "metadata": {},
   "outputs": [
    {
     "name": "stdin",
     "output_type": "stream",
     "text": [
      "Enter a number:  12\n",
      "Enter a another number:  0\n"
     ]
    },
    {
     "name": "stdout",
     "output_type": "stream",
     "text": [
      "Denominator can not be zero\n",
      "Still execute this\n"
     ]
    }
   ],
   "source": [
    "\n",
    "try:\n",
    "  num = float(input(\"Enter a number: \"))\n",
    "  den = float(input(\"Enter a another number: \"))\n",
    "  result = num/den\n",
    "except ValueError:\n",
    "  print(\"Input must be numbers\")\n",
    "except ZeroDivisionError:\n",
    "  print(\"Denominator can not be zero\")\n",
    "except:\n",
    "  print(\"You have commited a sin!!!\")\n",
    "else:\n",
    "  print(\"We're good\")\n",
    "  print(result)\n",
    "finally:\n",
    "  print(\"Still execute this\")\n"
   ]
  },
  {
   "cell_type": "code",
   "execution_count": 22,
   "id": "57b81cd2-d71b-457a-a22f-c10eda56ea9a",
   "metadata": {},
   "outputs": [
    {
     "name": "stdin",
     "output_type": "stream",
     "text": [
      "Enter student's name:  Paul\n",
      "Enter student's score:  56\n",
      "Enter student's name:  Silver\n",
      "Enter student's score:  89\n"
     ]
    }
   ],
   "source": [
    "grade_file= open(\"st_grade2.txt\",\"a\")\n",
    "total_score=0\n",
    "for i in range(1,3):\n",
    "  name = input(\"Enter student's name: \")\n",
    "  score = int(input(\"Enter student's score: \"))\n",
    "  if score>=70:\n",
    "    grade=\"A\"\n",
    "  elif score>=60:\n",
    "    grade=\"B\"\n",
    "  else:\n",
    "    grade=\"Missing\"\n",
    "  total_score +=score\n",
    "  grade_file.write(f\"{i}:\\t{name}\\t{score}\\t{grade}\\n\")\n",
    "grade_file.write(\"=\"*30)\n",
    "grade_file.write(f\"No. of student: 2\\n\")\n",
    "grade_file.write(f\"Total Score:{total_score}\\n\")\n",
    "avg=total_score /2\n",
    "grade_file.write(f\"Average Score:{avg}\\n\")\n",
    "grade_file.close()\n",
    "\n"
   ]
  },
  {
   "cell_type": "code",
   "execution_count": null,
   "id": "a11d60f1-b349-4ec7-a827-c722416e150b",
   "metadata": {},
   "outputs": [],
   "source": []
  }
 ],
 "metadata": {
  "kernelspec": {
   "display_name": "Python 3 (ipykernel)",
   "language": "python",
   "name": "python3"
  },
  "language_info": {
   "codemirror_mode": {
    "name": "ipython",
    "version": 3
   },
   "file_extension": ".py",
   "mimetype": "text/x-python",
   "name": "python",
   "nbconvert_exporter": "python",
   "pygments_lexer": "ipython3",
   "version": "3.11.5"
  }
 },
 "nbformat": 4,
 "nbformat_minor": 5
}
