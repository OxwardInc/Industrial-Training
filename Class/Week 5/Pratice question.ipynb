{
 "cells": [
  {
   "cell_type": "code",
   "execution_count": 1,
   "id": "8a19ec99-3a3e-421b-8bc7-a92cb3c52d68",
   "metadata": {},
   "outputs": [
    {
     "name": "stdout",
     "output_type": "stream",
     "text": [
      "1: pi = 3.1666666666666665\n",
      "2: pi = 3.1333333333333333\n",
      "3: pi = 3.145238095238095\n",
      "4: pi = 3.1396825396825396\n",
      "5: pi = 3.1427128427128426\n",
      "6: pi = 3.1408813408813407\n",
      "7: pi = 3.142071817071817\n",
      "8: pi = 3.1412548236077646\n",
      "9: pi = 3.141839618929402\n",
      "10: pi = 3.1414067184965018\n",
      "11: pi = 3.1417360992606653\n",
      "12: pi = 3.141479689004255\n",
      "13: pi = 3.1416831892077552\n",
      "14: pi = 3.1415189855952756\n",
      "15: pi = 3.141653394197426\n"
     ]
    }
   ],
   "source": [
    "pi = 3\n",
    "for i in range(1, 16):\n",
    "    pi = pi + (4 * (-1) ** (i+1))/((2 * i) * (2 * i + 1) * (2 * i + 2))\n",
    "    print(f\"{i}: pi = {pi}\")"
   ]
  },
  {
   "cell_type": "code",
   "execution_count": 2,
   "id": "4926a51d-e2eb-4a13-9d43-293b619401a1",
   "metadata": {},
   "outputs": [
    {
     "name": "stdout",
     "output_type": "stream",
     "text": [
      "1: pi=3.1666666666666665\n",
      "2: pi=3.1333333333333333\n",
      "3: pi=3.145238095238095\n",
      "4: pi=3.1396825396825396\n",
      "5: pi=3.1427128427128426\n",
      "6: pi=3.1408813408813407\n",
      "7: pi=3.142071817071817\n",
      "8: pi=3.1412548236077646\n",
      "9: pi=3.141839618929402\n",
      "10: pi=3.1414067184965018\n",
      "11: pi=3.1417360992606653\n",
      "12: pi=3.141479689004255\n",
      "13: pi=3.1416831892077552\n",
      "14: pi=3.1415189855952756\n",
      "15: pi=3.141653394197426\n"
     ]
    }
   ],
   "source": [
    "pi = 3\n",
    "for i in range(1, 16):\n",
    "    k = 2 * i \n",
    "    pi += (4 * (-1) ** ( i + 1)) / (k * (k + 1) * (k + 2))\n",
    "    print(f\"{i}: pi={pi}\")"
   ]
  },
  {
   "cell_type": "code",
   "execution_count": 6,
   "id": "fe31eb35-dee6-4f9e-98d3-02001d110e66",
   "metadata": {},
   "outputs": [
    {
     "name": "stdin",
     "output_type": "stream",
     "text": [
      "Enter a message:  Hi boss\n"
     ]
    },
    {
     "ename": "KeyError",
     "evalue": "'H'",
     "output_type": "error",
     "traceback": [
      "\u001b[1;31m---------------------------------------------------------------------------\u001b[0m",
      "\u001b[1;31mKeyError\u001b[0m                                  Traceback (most recent call last)",
      "Cell \u001b[1;32mIn[6], line 34\u001b[0m\n\u001b[0;32m     32\u001b[0m cipher_text\u001b[38;5;241m=\u001b[39m\u001b[38;5;124m\"\u001b[39m\u001b[38;5;124m\"\u001b[39m\n\u001b[0;32m     33\u001b[0m \u001b[38;5;28;01mfor\u001b[39;00m letter \u001b[38;5;129;01min\u001b[39;00m plain_text:\n\u001b[1;32m---> 34\u001b[0m   \u001b[38;5;28mprint\u001b[39m(\u001b[43mencoding\u001b[49m\u001b[43m[\u001b[49m\u001b[43mletter\u001b[49m\u001b[43m]\u001b[49m)\n\u001b[0;32m     35\u001b[0m   \u001b[38;5;28mprint\u001b[39m(encoding[letter]\u001b[38;5;241m+\u001b[39m\u001b[38;5;241m3\u001b[39m)\n\u001b[0;32m     36\u001b[0m   \u001b[38;5;28mprint\u001b[39m(encoded_list[encoding[letter]\u001b[38;5;241m+\u001b[39m\u001b[38;5;241m2\u001b[39m])\n",
      "\u001b[1;31mKeyError\u001b[0m: 'H'"
     ]
    }
   ],
   "source": [
    "encoding = {\n",
    "    \"a\": 1,\n",
    "    \"b\": 2,\n",
    "    \"c\": 3,\n",
    "    \"d\": 4,\n",
    "    \"e\": 5,\n",
    "    \"f\": 6,\n",
    "    \"g\": 7,\n",
    "    \"h\": 8,\n",
    "    \"i\": 9,\n",
    "    \"j\": 10,\n",
    "    \"k\": 11,\n",
    "    \"l\": 12,\n",
    "    \"m\": 13,\n",
    "    \"n\": 14,\n",
    "    \"o\": 15,\n",
    "    \"p\": 16,\n",
    "    \"q\": 17,\n",
    "    \"r\": 18,\n",
    "    \"s\": 19,\n",
    "    \"t\": 20,\n",
    "    \"u\": 21,\n",
    "    \"v\": 22,\n",
    "    \"w\": 23,\n",
    "    \"x\": 24,\n",
    "    \"y\": 25,\n",
    "    \"z\": 26\n",
    "}\n",
    "\n",
    "plain_text= input(\"Enter a message: \")\n",
    "encoded_list=list(encoding.keys())\n",
    "cipher_text=\"\"\n",
    "for letter in plain_text:\n",
    "  print(encoding[letter])\n",
    "  print(encoding[letter]+3)\n",
    "  print(encoded_list[encoding[letter]+2])\n",
    "  cipher_text =cipher_text+encoded_list[encoding[letter]+2]\n",
    "print(cipher_text)\n"
   ]
  },
  {
   "cell_type": "code",
   "execution_count": null,
   "id": "678cb8a4-dfc7-4d57-9147-40b1d528cf22",
   "metadata": {},
   "outputs": [],
   "source": []
  }
 ],
 "metadata": {
  "kernelspec": {
   "display_name": "Python 3 (ipykernel)",
   "language": "python",
   "name": "python3"
  },
  "language_info": {
   "codemirror_mode": {
    "name": "ipython",
    "version": 3
   },
   "file_extension": ".py",
   "mimetype": "text/x-python",
   "name": "python",
   "nbconvert_exporter": "python",
   "pygments_lexer": "ipython3",
   "version": "3.11.5"
  }
 },
 "nbformat": 4,
 "nbformat_minor": 5
}
