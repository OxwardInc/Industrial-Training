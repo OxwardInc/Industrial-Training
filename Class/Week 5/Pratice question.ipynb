{
 "cells": [
  {
   "cell_type": "code",
   "execution_count": 1,
   "id": "8a19ec99-3a3e-421b-8bc7-a92cb3c52d68",
   "metadata": {},
   "outputs": [
    {
     "name": "stdout",
     "output_type": "stream",
     "text": [
      "1: pi = 3.1666666666666665\n",
      "2: pi = 3.1333333333333333\n",
      "3: pi = 3.145238095238095\n",
      "4: pi = 3.1396825396825396\n",
      "5: pi = 3.1427128427128426\n",
      "6: pi = 3.1408813408813407\n",
      "7: pi = 3.142071817071817\n",
      "8: pi = 3.1412548236077646\n",
      "9: pi = 3.141839618929402\n",
      "10: pi = 3.1414067184965018\n",
      "11: pi = 3.1417360992606653\n",
      "12: pi = 3.141479689004255\n",
      "13: pi = 3.1416831892077552\n",
      "14: pi = 3.1415189855952756\n",
      "15: pi = 3.141653394197426\n"
     ]
    }
   ],
   "source": [
    "pi = 3\n",
    "for i in range(1, 16):\n",
    "    pi = pi + (4 * (-1) ** (i+1))/((2 * i) * (2 * i + 1) * (2 * i + 2))\n",
    "    print(f\"{i}: pi = {pi}\")"
   ]
  },
  {
   "cell_type": "code",
   "execution_count": 2,
   "id": "4926a51d-e2eb-4a13-9d43-293b619401a1",
   "metadata": {},
   "outputs": [
    {
     "name": "stdout",
     "output_type": "stream",
     "text": [
      "1: pi=3.1666666666666665\n",
      "2: pi=3.1333333333333333\n",
      "3: pi=3.145238095238095\n",
      "4: pi=3.1396825396825396\n",
      "5: pi=3.1427128427128426\n",
      "6: pi=3.1408813408813407\n",
      "7: pi=3.142071817071817\n",
      "8: pi=3.1412548236077646\n",
      "9: pi=3.141839618929402\n",
      "10: pi=3.1414067184965018\n",
      "11: pi=3.1417360992606653\n",
      "12: pi=3.141479689004255\n",
      "13: pi=3.1416831892077552\n",
      "14: pi=3.1415189855952756\n",
      "15: pi=3.141653394197426\n"
     ]
    }
   ],
   "source": [
    "pi = 3\n",
    "for i in range(1, 16):\n",
    "    k = 2 * i \n",
    "    pi += (4 * (-1) ** ( i + 1)) / (k * (k + 1) * (k + 2))\n",
    "    print(f\"{i}: pi={pi}\")"
   ]
  },
  {
   "cell_type": "code",
   "execution_count": 5,
   "id": "fe31eb35-dee6-4f9e-98d3-02001d110e66",
   "metadata": {},
   "outputs": [
    {
     "name": "stdin",
     "output_type": "stream",
     "text": [
      "Enter a message:  testing\n"
     ]
    },
    {
     "name": "stdout",
     "output_type": "stream",
     "text": [
      "20\n",
      "23\n",
      "w\n",
      "5\n",
      "8\n",
      "h\n",
      "19\n",
      "22\n",
      "v\n",
      "20\n",
      "23\n",
      "w\n",
      "9\n",
      "12\n",
      "l\n",
      "14\n",
      "17\n",
      "q\n",
      "7\n",
      "10\n",
      "j\n",
      "whvwlqj\n"
     ]
    }
   ],
   "source": [
    "encoding = {\n",
    "    \"a\": 1,\n",
    "    \"b\": 2,\n",
    "    \"c\": 3,\n",
    "    \"d\": 4,\n",
    "    \"e\": 5,\n",
    "    \"f\": 6,\n",
    "    \"g\": 7,\n",
    "    \"h\": 8,\n",
    "    \"i\": 9,\n",
    "    \"j\": 10,\n",
    "    \"k\": 11,\n",
    "    \"l\": 12,\n",
    "    \"m\": 13,\n",
    "    \"n\": 14,\n",
    "    \"o\": 15,\n",
    "    \"p\": 16,\n",
    "    \"q\": 17,\n",
    "    \"r\": 18,\n",
    "    \"s\": 19,\n",
    "    \"t\": 20,\n",
    "    \"u\": 21,\n",
    "    \"v\": 22,\n",
    "    \"w\": 23,\n",
    "    \"x\": 24,\n",
    "    \"y\": 25,\n",
    "    \"z\": 26\n",
    "}\n",
    "\n",
    "plain_text= input(\"Enter a message: \")\n",
    "encoded_list=list(encoding.keys())\n",
    "cipher_text=\"\"\n",
    "for letter in plain_text:\n",
    "  print(encoding[letter])\n",
    "  print(encoding[letter]+3)\n",
    "  print(encoded_list[encoding[letter]+2])\n",
    "  cipher_text =cipher_text+encoded_list[encoding[letter]+2]\n",
    "print(cipher_text)\n"
   ]
  },
  {
   "cell_type": "code",
   "execution_count": 7,
   "id": "678cb8a4-dfc7-4d57-9147-40b1d528cf22",
   "metadata": {},
   "outputs": [
    {
     "name": "stdout",
     "output_type": "stream",
     "text": [
      "['a', 'b', 'c', 'd', 'e', 'f', 'g', 'h', 'i', 'j', 'k', 'l', 'm', 'n', 'o', 'p', 'q', 'r', 's', 't', 'u', 'v', 'w', 'x', 'y', 'z']\n"
     ]
    }
   ],
   "source": [
    "print(list(encoding.keys()))"
   ]
  },
  {
   "cell_type": "code",
   "execution_count": 8,
   "id": "79bf41e6-719d-4f7d-86f2-ced6e5c38b12",
   "metadata": {},
   "outputs": [
    {
     "name": "stdin",
     "output_type": "stream",
     "text": [
      "Enter a message:  silver\n"
     ]
    },
    {
     "name": "stdout",
     "output_type": "stream",
     "text": [
      "silvbr\n"
     ]
    }
   ],
   "source": [
    "encoding ={\n",
    "    \"a\":1,\n",
    "    \"b\":2,\n",
    "    \"c\":3,\n",
    "    \"d\":4,\n",
    "    \"e\":5,\n",
    "    \"f\":6\n",
    "\n",
    "}\n",
    "plain_text= input(\"Enter a message: \").lower()\n",
    "encoded_list=list(encoding.keys())\n",
    "cipher_text=\"\"\n",
    "for letter in plain_text:\n",
    "  if letter not in encoded_list:\n",
    "    cipher_text = cipher_text+ letter\n",
    "\n",
    "  else:\n",
    "    pos= encoding[letter]\n",
    "    if pos>3:\n",
    "      pos= pos -3\n",
    "    else:\n",
    "      pos=pos+3\n",
    "    cipher_text =cipher_text+encoded_list[pos-1]\n",
    "print(cipher_text)"
   ]
  },
  {
   "cell_type": "code",
   "execution_count": null,
   "id": "705d0651-f390-47af-8a90-9e8caf02025e",
   "metadata": {},
   "outputs": [],
   "source": []
  }
 ],
 "metadata": {
  "kernelspec": {
   "display_name": "Python 3 (ipykernel)",
   "language": "python",
   "name": "python3"
  },
  "language_info": {
   "codemirror_mode": {
    "name": "ipython",
    "version": 3
   },
   "file_extension": ".py",
   "mimetype": "text/x-python",
   "name": "python",
   "nbconvert_exporter": "python",
   "pygments_lexer": "ipython3",
   "version": "3.11.5"
  }
 },
 "nbformat": 4,
 "nbformat_minor": 5
}
