{
 "cells": [
  {
   "cell_type": "code",
   "execution_count": 1,
   "id": "17161285-1b94-4600-8e75-e8ceb5f8e1e7",
   "metadata": {},
   "outputs": [],
   "source": [
    "def median(a, b, c):\n",
    "    if a>=b and a<=c:\n",
    "        return a\n",
    "    elif a<=b and a>=c:\n",
    "        return a\n",
    "    elif b>=a and b<=c:\n",
    "        return b\n",
    "    elif b<=a and b>=c:\n",
    "        return b\n",
    "    elif c>=b and c<=a:\n",
    "        return c\n",
    "    elif c<=b and c>=a:\n",
    "        return c"
   ]
  },
  {
   "cell_type": "code",
   "execution_count": 2,
   "id": "f2b76d61-5387-45b4-8a94-d7a5cd9458d7",
   "metadata": {},
   "outputs": [
    {
     "data": {
      "text/plain": [
       "4"
      ]
     },
     "execution_count": 2,
     "metadata": {},
     "output_type": "execute_result"
    }
   ],
   "source": [
    "median(2, 7, 4)"
   ]
  },
  {
   "cell_type": "code",
   "execution_count": 3,
   "id": "07e6a9a8-06b3-450b-a66b-b8bd1670f366",
   "metadata": {},
   "outputs": [
    {
     "data": {
      "text/plain": [
       "5"
      ]
     },
     "execution_count": 3,
     "metadata": {},
     "output_type": "execute_result"
    }
   ],
   "source": [
    "median(10, 5, 3)"
   ]
  },
  {
   "cell_type": "code",
   "execution_count": 4,
   "id": "98bd2167-0d49-4741-bb85-38037f37d1e2",
   "metadata": {},
   "outputs": [
    {
     "name": "stdin",
     "output_type": "stream",
     "text": [
      "Enter the first number: 12\n",
      "Enter the second number: 34\n",
      "Enter the third number: 20\n"
     ]
    },
    {
     "name": "stdout",
     "output_type": "stream",
     "text": [
      "The median of 12.0, 34.0 and 20.0 is 20.0\n"
     ]
    }
   ],
   "source": [
    "x = float(input(\"Enter the first number:\"))\n",
    "y = float(input(\"Enter the second number:\"))\n",
    "z = float(input(\"Enter the third number:\"))\n",
    "\n",
    "result = median(x, y, z)\n",
    "\n",
    "print(f\"The median of {x}, {y} and {z} is {result}\")"
   ]
  },
  {
   "cell_type": "code",
   "execution_count": 5,
   "id": "1ce68441-6f6e-4bd8-a8b0-dd6d2e7dfe63",
   "metadata": {},
   "outputs": [],
   "source": [
    "def median(a, b, c):\n",
    "    if a>=b and a<=c or a<=b and a>=c:\n",
    "        return a\n",
    "    elif b>=a and b<=c or b<=a and b>=c:\n",
    "        return b\n",
    "    else:\n",
    "        return c"
   ]
  },
  {
   "cell_type": "code",
   "execution_count": 6,
   "id": "7271586a-e6ab-42bb-aa14-8d8136ecdea6",
   "metadata": {},
   "outputs": [
    {
     "name": "stdout",
     "output_type": "stream",
     "text": [
      "[10, 23, 56]\n",
      "23\n"
     ]
    }
   ],
   "source": [
    "numbers = [23, 56, 10]\n",
    "numbers.sort()\n",
    "print(numbers)\n",
    "print(numbers[1])"
   ]
  },
  {
   "cell_type": "code",
   "execution_count": 7,
   "id": "32832531-98a5-4933-9896-e49ccca2f01f",
   "metadata": {},
   "outputs": [],
   "source": [
    "def median2(a, b, c):\n",
    "    numbers = [a, b, c]\n",
    "    numbers.sort()\n",
    "    return numbers[1]"
   ]
  },
  {
   "cell_type": "code",
   "execution_count": 8,
   "id": "c6f35398-1c2c-47b5-b055-10e88b88b609",
   "metadata": {},
   "outputs": [
    {
     "name": "stdout",
     "output_type": "stream",
     "text": [
      "[56, 23, 10]\n",
      "23\n"
     ]
    }
   ],
   "source": [
    "numbers = [23, 56, 10]\n",
    "numbers.sort(reverse=True)\n",
    "print(numbers)\n",
    "print(numbers[1])"
   ]
  },
  {
   "cell_type": "code",
   "execution_count": 16,
   "id": "4cd42cf1-08f5-4e49-ace8-fee4af8bfbef",
   "metadata": {},
   "outputs": [],
   "source": [
    "def get_ordinal(number):\n",
    "    if number not in [1, 2, 3, 4, 5, 6, 7, 8, 9, 10, 11, 12]:\n",
    "        return \" \"\n",
    "    ordinal_dict = {\n",
    "        1: 'First',\n",
    "        2: 'Second',\n",
    "        3: 'Third',\n",
    "        4: 'Fourth',\n",
    "        5: 'Fifth',\n",
    "        6: 'Sixth',\n",
    "        7: 'Seventh',\n",
    "        8: 'Eight',\n",
    "        9: 'Ninth',\n",
    "        10: 'Tenth',\n",
    "        11: 'Eleventh',\n",
    "        12: 'Twelvth',\n",
    "    }\n",
    "    return ordinal_dict[number]"
   ]
  },
  {
   "cell_type": "code",
   "execution_count": 17,
   "id": "4c08d3a4-675a-4524-9164-ed79e810ddb7",
   "metadata": {},
   "outputs": [
    {
     "data": {
      "text/plain": [
       "'Sixth'"
      ]
     },
     "execution_count": 17,
     "metadata": {},
     "output_type": "execute_result"
    }
   ],
   "source": [
    "get_ordinal(6)"
   ]
  },
  {
   "cell_type": "code",
   "execution_count": 18,
   "id": "3d66fc00-455c-454c-9025-df4d48c02109",
   "metadata": {},
   "outputs": [
    {
     "data": {
      "text/plain": [
       "'Eleventh'"
      ]
     },
     "execution_count": 18,
     "metadata": {},
     "output_type": "execute_result"
    }
   ],
   "source": [
    "get_ordinal(11)"
   ]
  },
  {
   "cell_type": "code",
   "execution_count": 19,
   "id": "4904d336-5dc7-4489-9ec3-ef498553d28a",
   "metadata": {},
   "outputs": [
    {
     "data": {
      "text/plain": [
       "' '"
      ]
     },
     "execution_count": 19,
     "metadata": {},
     "output_type": "execute_result"
    }
   ],
   "source": [
    "get_ordinal(51)"
   ]
  },
  {
   "cell_type": "code",
   "execution_count": 20,
   "id": "64486c77-3cd4-433a-abaf-555c3fb2693c",
   "metadata": {},
   "outputs": [
    {
     "data": {
      "text/plain": [
       "445"
      ]
     },
     "execution_count": 20,
     "metadata": {},
     "output_type": "execute_result"
    }
   ],
   "source": [
    "f = {'d': 445, 1: 78889}\n",
    "f.get('d')"
   ]
  },
  {
   "cell_type": "code",
   "execution_count": 21,
   "id": "0bd8e8c3-c78b-42d9-b85c-237276594399",
   "metadata": {},
   "outputs": [
    {
     "name": "stdout",
     "output_type": "stream",
     "text": [
      "None\n"
     ]
    }
   ],
   "source": [
    "print(f.get(2))"
   ]
  },
  {
   "cell_type": "code",
   "execution_count": 22,
   "id": "21fbb202-cb61-45d0-b07e-09266d5e968d",
   "metadata": {},
   "outputs": [
    {
     "name": "stdout",
     "output_type": "stream",
     "text": [
      "20\n"
     ]
    }
   ],
   "source": [
    "print(f.get(2, '20'))"
   ]
  },
  {
   "cell_type": "code",
   "execution_count": 23,
   "id": "cbd10765-d552-4b3c-9402-15eaf4bfdaf5",
   "metadata": {},
   "outputs": [
    {
     "name": "stdout",
     "output_type": "stream",
     "text": [
      "78889\n"
     ]
    }
   ],
   "source": [
    "print(f.get(1, '20'))"
   ]
  },
  {
   "cell_type": "code",
   "execution_count": 24,
   "id": "bf5849f8-b521-4fc1-a6e2-fbe6318592d1",
   "metadata": {},
   "outputs": [],
   "source": [
    "def get_ordinal(number):\n",
    "\n",
    "    ordinal_dict = {\n",
    "        1: 'First',\n",
    "        2: 'Second',\n",
    "        3: 'Third',\n",
    "        4: 'Fourth',\n",
    "        5: 'Fifth',\n",
    "        6: 'Sixth',\n",
    "        7: 'Seventh',\n",
    "        8: 'Eight',\n",
    "        9: 'Ninth',\n",
    "        10: 'Tenth',\n",
    "        11: 'Eleventh',\n",
    "        12: 'Twelvth',\n",
    "    }\n",
    "    return ordinal_dict.get(number, '')"
   ]
  },
  {
   "cell_type": "code",
   "execution_count": 25,
   "id": "359157af-bed1-4e34-bd9c-8e5bb6b82456",
   "metadata": {},
   "outputs": [
    {
     "data": {
      "text/plain": [
       "''"
      ]
     },
     "execution_count": 25,
     "metadata": {},
     "output_type": "execute_result"
    }
   ],
   "source": [
    "get_ordinal(45)"
   ]
  },
  {
   "cell_type": "code",
   "execution_count": 26,
   "id": "7cf42247-88f0-41ea-835b-35dffcab3c52",
   "metadata": {},
   "outputs": [
    {
     "data": {
      "text/plain": [
       "'Twelvth'"
      ]
     },
     "execution_count": 26,
     "metadata": {},
     "output_type": "execute_result"
    }
   ],
   "source": [
    "get_ordinal(12)"
   ]
  },
  {
   "cell_type": "code",
   "execution_count": 27,
   "id": "812b767e-bedd-4439-a0da-7e05ac6dffc1",
   "metadata": {},
   "outputs": [
    {
     "name": "stdin",
     "output_type": "stream",
     "text": [
      "Enter a number 12\n"
     ]
    },
    {
     "data": {
      "text/plain": [
       "'Twelvth'"
      ]
     },
     "execution_count": 27,
     "metadata": {},
     "output_type": "execute_result"
    }
   ],
   "source": [
    "testing = float(input('Enter a number'))\n",
    "\n",
    "get_ordinal(testing)"
   ]
  },
  {
   "cell_type": "code",
   "execution_count": 28,
   "id": "0a60765e-5679-4ded-a214-86f2b676ab4b",
   "metadata": {},
   "outputs": [],
   "source": [
    "def get_message(name, message):\n",
    "    return f'{name}: {message}'"
   ]
  },
  {
   "cell_type": "code",
   "execution_count": 29,
   "id": "7af75cea-e6a7-49ee-b605-558363f99c2c",
   "metadata": {},
   "outputs": [
    {
     "data": {
      "text/plain": [
       "'George: Today is Monday'"
      ]
     },
     "execution_count": 29,
     "metadata": {},
     "output_type": "execute_result"
    }
   ],
   "source": [
    "get_message('George', 'Today is Monday')"
   ]
  },
  {
   "cell_type": "code",
   "execution_count": 30,
   "id": "e1f2f085-034b-4948-8099-58b70dfebd16",
   "metadata": {},
   "outputs": [
    {
     "ename": "SyntaxError",
     "evalue": "non-default argument follows default argument (229134942.py, line 1)",
     "output_type": "error",
     "traceback": [
      "\u001b[1;36m  Cell \u001b[1;32mIn[30], line 1\u001b[1;36m\u001b[0m\n\u001b[1;33m    def get_message(name = 'Anou', message):\u001b[0m\n\u001b[1;37m                                   ^\u001b[0m\n\u001b[1;31mSyntaxError\u001b[0m\u001b[1;31m:\u001b[0m non-default argument follows default argument\n"
     ]
    }
   ],
   "source": [
    "def get_message(name = 'Anou', message):\n",
    "    return f'{name}: {message}'"
   ]
  },
  {
   "cell_type": "code",
   "execution_count": 31,
   "id": "ba889a1a-9dbc-4267-a116-2114d27bd9f5",
   "metadata": {},
   "outputs": [],
   "source": [
    "def get_message(message, name = 'Anou'):\n",
    "    return f'{name}: {message}'"
   ]
  },
  {
   "cell_type": "code",
   "execution_count": 32,
   "id": "6d59952b-533a-4e6b-9732-beebfcaa4b98",
   "metadata": {},
   "outputs": [
    {
     "data": {
      "text/plain": [
       "'George: Today is Monday'"
      ]
     },
     "execution_count": 32,
     "metadata": {},
     "output_type": "execute_result"
    }
   ],
   "source": [
    "get_message('Today is Monday', 'George')"
   ]
  },
  {
   "cell_type": "code",
   "execution_count": 33,
   "id": "1e55ab49-285a-4e3e-a46b-0c3e7b2dce10",
   "metadata": {},
   "outputs": [
    {
     "data": {
      "text/plain": [
       "'Anou: Today is Monday'"
      ]
     },
     "execution_count": 33,
     "metadata": {},
     "output_type": "execute_result"
    }
   ],
   "source": [
    "get_message('Today is Monday')"
   ]
  },
  {
   "cell_type": "code",
   "execution_count": 44,
   "id": "faa2923e-96fa-47a6-81db-283c72c608a4",
   "metadata": {},
   "outputs": [],
   "source": [
    "def add_3(a, b=0, c=0):\n",
    "    value = a + b + c\n",
    "    return f' The sum is {value}'"
   ]
  },
  {
   "cell_type": "code",
   "execution_count": 45,
   "id": "608bba63-0a76-41d1-940b-83fa50daa349",
   "metadata": {},
   "outputs": [
    {
     "data": {
      "text/plain": [
       "' The sum is 6'"
      ]
     },
     "execution_count": 45,
     "metadata": {},
     "output_type": "execute_result"
    }
   ],
   "source": [
    "add_3(1, 2, 3)"
   ]
  },
  {
   "cell_type": "code",
   "execution_count": 46,
   "id": "c61d0f94-0b7a-4eac-ad38-4be3b8d72890",
   "metadata": {},
   "outputs": [
    {
     "data": {
      "text/plain": [
       "' The sum is 3'"
      ]
     },
     "execution_count": 46,
     "metadata": {},
     "output_type": "execute_result"
    }
   ],
   "source": [
    "add_3(1, 2)"
   ]
  },
  {
   "cell_type": "code",
   "execution_count": 47,
   "id": "6b5bebce-d129-43f1-b84c-741e30482ee6",
   "metadata": {},
   "outputs": [
    {
     "data": {
      "text/plain": [
       "' The sum is 1'"
      ]
     },
     "execution_count": 47,
     "metadata": {},
     "output_type": "execute_result"
    }
   ],
   "source": [
    "add_3(1)"
   ]
  },
  {
   "cell_type": "code",
   "execution_count": 61,
   "id": "0e6e8666-eb3b-469a-bbbb-a67728b22075",
   "metadata": {},
   "outputs": [],
   "source": [
    "def add_multiple(*a):\n",
    "   print(a)"
   ]
  },
  {
   "cell_type": "code",
   "execution_count": 62,
   "id": "57b46042-b7ec-4200-b60a-9cf7507fc061",
   "metadata": {},
   "outputs": [
    {
     "name": "stdout",
     "output_type": "stream",
     "text": [
      "()\n"
     ]
    }
   ],
   "source": [
    "add_multiple()"
   ]
  },
  {
   "cell_type": "code",
   "execution_count": 63,
   "id": "0a28b6b7-ac3e-4752-8005-773886625579",
   "metadata": {},
   "outputs": [
    {
     "name": "stdout",
     "output_type": "stream",
     "text": [
      "(2, 3)\n"
     ]
    }
   ],
   "source": [
    "add_multiple(2, 3)"
   ]
  },
  {
   "cell_type": "code",
   "execution_count": 78,
   "id": "e2b8fc11-356b-489e-b172-81dadc1b09d8",
   "metadata": {},
   "outputs": [],
   "source": [
    "def add_multiple(*a):\n",
    "    result = 0\n",
    "    for i in a:\n",
    "        result = result + i\n",
    "    return result"
   ]
  },
  {
   "cell_type": "code",
   "execution_count": 79,
   "id": "c48e94b4-159a-44ef-b4f3-211cf7c0cb0d",
   "metadata": {},
   "outputs": [
    {
     "data": {
      "text/plain": [
       "37"
      ]
     },
     "execution_count": 79,
     "metadata": {},
     "output_type": "execute_result"
    }
   ],
   "source": [
    "add_multiple(3, 4, 5, 2, 6, 8, 9)"
   ]
  },
  {
   "cell_type": "code",
   "execution_count": null,
   "id": "8d9bc8e0-782e-43b4-968b-5a09fde901b3",
   "metadata": {},
   "outputs": [],
   "source": []
  },
  {
   "cell_type": "code",
   "execution_count": null,
   "id": "6987a90f-2ab8-499a-b810-dceb66117ef5",
   "metadata": {},
   "outputs": [],
   "source": []
  }
 ],
 "metadata": {
  "kernelspec": {
   "display_name": "Python 3 (ipykernel)",
   "language": "python",
   "name": "python3"
  },
  "language_info": {
   "codemirror_mode": {
    "name": "ipython",
    "version": 3
   },
   "file_extension": ".py",
   "mimetype": "text/x-python",
   "name": "python",
   "nbconvert_exporter": "python",
   "pygments_lexer": "ipython3",
   "version": "3.11.4"
  }
 },
 "nbformat": 4,
 "nbformat_minor": 5
}
