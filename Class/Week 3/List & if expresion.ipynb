{
 "cells": [
  {
   "cell_type": "code",
   "execution_count": 1,
   "id": "84e6fa87-da3a-4301-8e29-e1ae32fc106c",
   "metadata": {},
   "outputs": [],
   "source": [
    "## List\n",
    "\n",
    "numbers = [4, 5, 6]"
   ]
  },
  {
   "cell_type": "code",
   "execution_count": 2,
   "id": "b2a315a3-85a0-4a0f-920a-e54c59f5856f",
   "metadata": {},
   "outputs": [
    {
     "data": {
      "text/plain": [
       "[4, 5, 6]"
      ]
     },
     "execution_count": 2,
     "metadata": {},
     "output_type": "execute_result"
    }
   ],
   "source": [
    "numbers"
   ]
  },
  {
   "cell_type": "code",
   "execution_count": 3,
   "id": "3a37f934-3f3e-454d-9a74-aee8c8ebc202",
   "metadata": {},
   "outputs": [
    {
     "data": {
      "text/plain": [
       "list"
      ]
     },
     "execution_count": 3,
     "metadata": {},
     "output_type": "execute_result"
    }
   ],
   "source": [
    "type(numbers)"
   ]
  },
  {
   "cell_type": "code",
   "execution_count": 4,
   "id": "e4ff12a5-cc8a-4c99-bbfa-aa482769b957",
   "metadata": {},
   "outputs": [],
   "source": [
    "numbers.append(12)"
   ]
  },
  {
   "cell_type": "code",
   "execution_count": 5,
   "id": "bbc08197-a036-4a79-aeeb-851168071ee6",
   "metadata": {},
   "outputs": [
    {
     "data": {
      "text/plain": [
       "[4, 5, 6, 12]"
      ]
     },
     "execution_count": 5,
     "metadata": {},
     "output_type": "execute_result"
    }
   ],
   "source": [
    "numbers"
   ]
  },
  {
   "cell_type": "code",
   "execution_count": 7,
   "id": "dbe5476a-a266-4735-9b2a-9a1235c6c841",
   "metadata": {},
   "outputs": [],
   "source": [
    "numbers.insert(12, 0)"
   ]
  },
  {
   "cell_type": "code",
   "execution_count": 8,
   "id": "075a0511-aa7c-4fb8-8ecb-29028c265fdc",
   "metadata": {},
   "outputs": [
    {
     "data": {
      "text/plain": [
       "[4, 5, 6, 12, 0]"
      ]
     },
     "execution_count": 8,
     "metadata": {},
     "output_type": "execute_result"
    }
   ],
   "source": [
    "numbers"
   ]
  },
  {
   "cell_type": "code",
   "execution_count": 10,
   "id": "f0ae8949-23ce-4e24-8862-5ba95a181fff",
   "metadata": {},
   "outputs": [],
   "source": [
    "numbers.insert(15, 14)"
   ]
  },
  {
   "cell_type": "code",
   "execution_count": 12,
   "id": "2f3dda27-a36c-470e-b1c2-3d07d0fac07b",
   "metadata": {},
   "outputs": [
    {
     "data": {
      "text/plain": [
       "[4, 5, 6, 12, 0, 14]"
      ]
     },
     "execution_count": 12,
     "metadata": {},
     "output_type": "execute_result"
    }
   ],
   "source": [
    "numbers"
   ]
  },
  {
   "cell_type": "code",
   "execution_count": 13,
   "id": "0d4e0fa7-9575-44a3-9ed4-85be027d60fb",
   "metadata": {},
   "outputs": [],
   "source": [
    "numbers.insert(-1, 14)"
   ]
  },
  {
   "cell_type": "code",
   "execution_count": 14,
   "id": "811bdc93-a6b5-4cb8-abc2-5ebfe212f15f",
   "metadata": {},
   "outputs": [],
   "source": [
    "numbers.insert(-2, 30)"
   ]
  },
  {
   "cell_type": "code",
   "execution_count": 15,
   "id": "2ff1d514-0bec-46dd-b201-52040d813895",
   "metadata": {},
   "outputs": [
    {
     "data": {
      "text/plain": [
       "[4, 5, 6, 12, 0, 30, 14, 14]"
      ]
     },
     "execution_count": 15,
     "metadata": {},
     "output_type": "execute_result"
    }
   ],
   "source": [
    "numbers"
   ]
  },
  {
   "cell_type": "code",
   "execution_count": 1,
   "id": "d866b4c8-a41d-4a9b-983b-ee72da79d323",
   "metadata": {},
   "outputs": [
    {
     "name": "stdout",
     "output_type": "stream",
     "text": [
      "(1, 2, 3)\n",
      "[0, 2, 3]\n"
     ]
    }
   ],
   "source": [
    "a = (1, 2, 3)\n",
    "b = list(a)\n",
    "\n",
    "b[0] = 0\n",
    "print(a)\n",
    "print(b)"
   ]
  },
  {
   "cell_type": "code",
   "execution_count": 23,
   "id": "b484c020-96df-42dd-a0ff-f241b93280b0",
   "metadata": {},
   "outputs": [
    {
     "name": "stdout",
     "output_type": "stream",
     "text": [
      "200, 202, 204, 206, 208, 220, 222, 224, 226, 228, 240, 242, 244, 246, 248, 260, 262, 264, 266, 268, 280, 282, 284, 286, 288, 400\n"
     ]
    }
   ],
   "source": [
    "valid_numbers = []\n",
    "for number in range(100, 401):\n",
    "    even_count = 0\n",
    "    for i in f'{number}':\n",
    "        if int(i) % 2 == 0:\n",
    "            even_count = even_count + 1\n",
    "    if even_count == 3:\n",
    "        valid_numbers.append(number)\n",
    "print(*valid_numbers, sep =\", \")"
   ]
  },
  {
   "cell_type": "code",
   "execution_count": 24,
   "id": "8931a1f8-8283-49a7-95e1-3e660a0f2614",
   "metadata": {},
   "outputs": [],
   "source": [
    "# breaking and continue"
   ]
  },
  {
   "cell_type": "code",
   "execution_count": 27,
   "id": "efb5c650-e3e8-40a8-9182-896e55bc66aa",
   "metadata": {},
   "outputs": [
    {
     "name": "stdout",
     "output_type": "stream",
     "text": [
      "11\n",
      "13\n",
      "14\n",
      "15\n",
      "16\n",
      "17\n",
      "18\n",
      "19\n"
     ]
    }
   ],
   "source": [
    "for i in range(11, 20):\n",
    "    if i == 12:\n",
    "        continue\n",
    "    else:\n",
    "        print(i)"
   ]
  },
  {
   "cell_type": "code",
   "execution_count": 28,
   "id": "4cac2f00-1fcc-4846-bb78-505f32fc5a3b",
   "metadata": {},
   "outputs": [
    {
     "name": "stdout",
     "output_type": "stream",
     "text": [
      "11\n"
     ]
    }
   ],
   "source": [
    "for i in range(11, 20):\n",
    "    if i == 12:\n",
    "        break\n",
    "    else:\n",
    "        print(i)"
   ]
  },
  {
   "cell_type": "code",
   "execution_count": 29,
   "id": "98aacb72-2ebd-4e3b-b585-a674f0881b9c",
   "metadata": {},
   "outputs": [
    {
     "name": "stdout",
     "output_type": "stream",
     "text": [
      "11\n",
      "13\n",
      "14\n",
      "15\n",
      "16\n",
      "17\n",
      "18\n",
      "19\n"
     ]
    }
   ],
   "source": [
    "for i in range(11, 20):\n",
    "    if i == 12:\n",
    "        pass\n",
    "    else:\n",
    "        print(i)"
   ]
  },
  {
   "cell_type": "code",
   "execution_count": 31,
   "id": "6e6776c2-1455-4ce4-9596-5e8087633174",
   "metadata": {},
   "outputs": [
    {
     "name": "stdout",
     "output_type": "stream",
     "text": [
      "Doing nothing\n"
     ]
    }
   ],
   "source": [
    "for i in range(11, 20):\n",
    "    pass\n",
    "else:\n",
    "    print('Doing nothing')"
   ]
  },
  {
   "cell_type": "code",
   "execution_count": 32,
   "id": "a140d72f-b399-4e67-85f2-15962945e6f1",
   "metadata": {},
   "outputs": [
    {
     "name": "stdout",
     "output_type": "stream",
     "text": [
      "Very good\n"
     ]
    }
   ],
   "source": [
    "score = 60\n",
    "if score >= 30:\n",
    "    remark = 'Very good'\n",
    "else:\n",
    "    remark = 'Poor'\n",
    "print(remark)"
   ]
  },
  {
   "cell_type": "code",
   "execution_count": 33,
   "id": "2b2751fd-ba76-4314-bae8-b21be672ee98",
   "metadata": {},
   "outputs": [
    {
     "name": "stdin",
     "output_type": "stream",
     "text": [
      "Enter a number: 20\n"
     ]
    },
    {
     "name": "stdout",
     "output_type": "stream",
     "text": [
      "Poor\n"
     ]
    }
   ],
   "source": [
    "score = int(input(\"Enter a number:\"))\n",
    "remark = 'Very good' if score >= 60 else 'Poor'\n",
    "print(remark)"
   ]
  },
  {
   "cell_type": "code",
   "execution_count": null,
   "id": "776ff7fa-4aae-48a2-983e-151581a4f133",
   "metadata": {},
   "outputs": [],
   "source": []
  }
 ],
 "metadata": {
  "kernelspec": {
   "display_name": "Python 3 (ipykernel)",
   "language": "python",
   "name": "python3"
  },
  "language_info": {
   "codemirror_mode": {
    "name": "ipython",
    "version": 3
   },
   "file_extension": ".py",
   "mimetype": "text/x-python",
   "name": "python",
   "nbconvert_exporter": "python",
   "pygments_lexer": "ipython3",
   "version": "3.11.4"
  }
 },
 "nbformat": 4,
 "nbformat_minor": 5
}
