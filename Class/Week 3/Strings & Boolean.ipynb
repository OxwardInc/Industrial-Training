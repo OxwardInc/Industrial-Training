{
 "cells": [
  {
   "cell_type": "code",
   "execution_count": 1,
   "id": "6652631d-cae9-457f-8bff-ed24b86e87af",
   "metadata": {},
   "outputs": [
    {
     "name": "stdout",
     "output_type": "stream",
     "text": [
      "Pyton\n"
     ]
    }
   ],
   "source": [
    "lang = \"Pyton\"\n",
    "print(lang)"
   ]
  },
  {
   "cell_type": "code",
   "execution_count": 2,
   "id": "e383eeb1-50e4-487d-a85a-498766cb2e7c",
   "metadata": {},
   "outputs": [
    {
     "data": {
      "text/plain": [
       "'PYTON'"
      ]
     },
     "execution_count": 2,
     "metadata": {},
     "output_type": "execute_result"
    }
   ],
   "source": [
    "lang.upper()"
   ]
  },
  {
   "cell_type": "code",
   "execution_count": 3,
   "id": "79650442-f9c8-4149-a115-807c74056080",
   "metadata": {},
   "outputs": [
    {
     "data": {
      "text/plain": [
       "'pyton'"
      ]
     },
     "execution_count": 3,
     "metadata": {},
     "output_type": "execute_result"
    }
   ],
   "source": [
    "lang.lower()"
   ]
  },
  {
   "cell_type": "markdown",
   "id": "3fe196a8-792c-4e94-bc1e-53cd190e54fc",
   "metadata": {},
   "source": [
    "A program to take a sentence from a user and tell how many words was inputed"
   ]
  },
  {
   "cell_type": "code",
   "execution_count": 4,
   "id": "fa3b35b4-858b-4937-8958-27cb0198e2b2",
   "metadata": {},
   "outputs": [
    {
     "name": "stdin",
     "output_type": "stream",
     "text": [
      "Enter a message:  This is cool\n"
     ]
    },
    {
     "name": "stdout",
     "output_type": "stream",
     "text": [
      "This is cool\n"
     ]
    }
   ],
   "source": [
    "msg = input(\"Enter a message: \")\n",
    "print(msg)"
   ]
  },
  {
   "cell_type": "code",
   "execution_count": 5,
   "id": "af901da2-30d4-4504-8e8f-543f12b8cef0",
   "metadata": {},
   "outputs": [
    {
     "name": "stdin",
     "output_type": "stream",
     "text": [
      "Enter a message:  This is a sentence\n"
     ]
    },
    {
     "name": "stdout",
     "output_type": "stream",
     "text": [
      "This is a sentence\n",
      "['This', 'is', 'a', 'sentence']\n",
      "4\n"
     ]
    }
   ],
   "source": [
    "msg = input(\"Enter a message: \")\n",
    "print(msg)\n",
    "words = msg.split()\n",
    "print(words)\n",
    "print(len(words))"
   ]
  },
  {
   "cell_type": "code",
   "execution_count": 6,
   "id": "ec2ae51e-d27d-413d-94ca-b2c0cf7b2534",
   "metadata": {},
   "outputs": [
    {
     "data": {
      "text/plain": [
       "3"
      ]
     },
     "execution_count": 6,
     "metadata": {},
     "output_type": "execute_result"
    }
   ],
   "source": [
    "msg\n",
    "msg.count(\"s\")"
   ]
  },
  {
   "cell_type": "raw",
   "id": "bac2e9b9-8007-4cea-b2bf-04a43118b3c8",
   "metadata": {},
   "source": [
    "msg = input(\"Enter a message: \")\n",
    "print(msg)\n",
    "words = msg.split(\" \")\n",
    "print(words)\n",
    "print(len(words))"
   ]
  },
  {
   "cell_type": "code",
   "execution_count": 9,
   "id": "6a93baf6-d4b6-4c22-bd0d-3714119493d4",
   "metadata": {},
   "outputs": [
    {
     "data": {
      "text/plain": [
       "'this is it'"
      ]
     },
     "execution_count": 9,
     "metadata": {},
     "output_type": "execute_result"
    }
   ],
   "source": [
    "msg.strip()"
   ]
  },
  {
   "cell_type": "code",
   "execution_count": 10,
   "id": "58a3b6c7-ca98-4233-bb56-0e5f7b52f695",
   "metadata": {},
   "outputs": [
    {
     "data": {
      "text/plain": [
       "'this is it     '"
      ]
     },
     "execution_count": 10,
     "metadata": {},
     "output_type": "execute_result"
    }
   ],
   "source": [
    "msg.lstrip()"
   ]
  },
  {
   "cell_type": "code",
   "execution_count": 11,
   "id": "d43fb43d-76da-40da-8e34-7a244d3b0c66",
   "metadata": {},
   "outputs": [
    {
     "data": {
      "text/plain": [
       "'  this is it'"
      ]
     },
     "execution_count": 11,
     "metadata": {},
     "output_type": "execute_result"
    }
   ],
   "source": [
    "msg.rstrip()"
   ]
  },
  {
   "cell_type": "code",
   "execution_count": 12,
   "id": "40166ea0-fd54-41cb-ae45-0f720ed52f2f",
   "metadata": {},
   "outputs": [
    {
     "data": {
      "text/plain": [
       "2"
      ]
     },
     "execution_count": 12,
     "metadata": {},
     "output_type": "execute_result"
    }
   ],
   "source": [
    "msg.strip().count(' ')"
   ]
  },
  {
   "cell_type": "code",
   "execution_count": 13,
   "id": "f505e2fa-7bf2-4caa-bab7-96b68272b592",
   "metadata": {},
   "outputs": [
    {
     "data": {
      "text/plain": [
       "3"
      ]
     },
     "execution_count": 13,
     "metadata": {},
     "output_type": "execute_result"
    }
   ],
   "source": [
    "msg.strip().count(' ') + 1"
   ]
  },
  {
   "cell_type": "code",
   "execution_count": 14,
   "id": "8c6b6bd3-d02d-4957-83af-46b74726dd10",
   "metadata": {},
   "outputs": [
    {
     "name": "stdin",
     "output_type": "stream",
     "text": [
      "Enter a message:    Thanks for coming on time\n"
     ]
    },
    {
     "data": {
      "text/plain": [
       "5"
      ]
     },
     "execution_count": 14,
     "metadata": {},
     "output_type": "execute_result"
    }
   ],
   "source": [
    "msg = input(\"Enter a message: \")\n",
    "msg.strip().count(' ') + 1"
   ]
  },
  {
   "cell_type": "code",
   "execution_count": 15,
   "id": "d78a8bde-4ecc-46a5-8ea2-3d46608a8367",
   "metadata": {},
   "outputs": [
    {
     "name": "stdin",
     "output_type": "stream",
     "text": [
      "Enter a message:   thats  it  to be\n"
     ]
    },
    {
     "data": {
      "text/plain": [
       "6"
      ]
     },
     "execution_count": 15,
     "metadata": {},
     "output_type": "execute_result"
    }
   ],
   "source": [
    "msg = input(\"Enter a message: \")\n",
    "msg.strip().count(' ') + 1"
   ]
  },
  {
   "cell_type": "markdown",
   "id": "08b24e29-cc4e-4776-8765-e5935eb2baaa",
   "metadata": {},
   "source": [
    "# Boolean\n",
    "## example\n",
    "### types of boolean"
   ]
  },
  {
   "cell_type": "markdown",
   "id": "4f446230-e0c0-4562-bc49-9eca118f2956",
   "metadata": {},
   "source": [
    "Relational operators:\n",
    "\n",
    ">,<,>=,<=,==, /="
   ]
  },
  {
   "cell_type": "code",
   "execution_count": 16,
   "id": "15be28fb-90fe-4f93-89a5-df1cb4688902",
   "metadata": {},
   "outputs": [
    {
     "data": {
      "text/plain": [
       "False"
      ]
     },
     "execution_count": 16,
     "metadata": {},
     "output_type": "execute_result"
    }
   ],
   "source": [
    "2 == 4"
   ]
  },
  {
   "cell_type": "code",
   "execution_count": 17,
   "id": "f7610ac4-9f09-413a-a956-3b9c2bf14c30",
   "metadata": {},
   "outputs": [
    {
     "data": {
      "text/plain": [
       "False"
      ]
     },
     "execution_count": 17,
     "metadata": {},
     "output_type": "execute_result"
    }
   ],
   "source": [
    "\"Smith\" == \"smith\""
   ]
  },
  {
   "cell_type": "code",
   "execution_count": 18,
   "id": "04f9cfef-228d-4733-80f8-a1d18015d5b9",
   "metadata": {},
   "outputs": [
    {
     "data": {
      "text/plain": [
       "False"
      ]
     },
     "execution_count": 18,
     "metadata": {},
     "output_type": "execute_result"
    }
   ],
   "source": [
    "\"Smith\" > \"smith\""
   ]
  },
  {
   "cell_type": "code",
   "execution_count": 19,
   "id": "45797358-2e9a-4bd4-a5b2-b9eea563e779",
   "metadata": {},
   "outputs": [
    {
     "data": {
      "text/plain": [
       "True"
      ]
     },
     "execution_count": 19,
     "metadata": {},
     "output_type": "execute_result"
    }
   ],
   "source": [
    "\"Smith\" < \"smith\""
   ]
  },
  {
   "cell_type": "code",
   "execution_count": 20,
   "id": "54ff622e-1de3-46cd-9974-19f61731658f",
   "metadata": {},
   "outputs": [
    {
     "data": {
      "text/plain": [
       "True"
      ]
     },
     "execution_count": 20,
     "metadata": {},
     "output_type": "execute_result"
    }
   ],
   "source": [
    "12 >= 12"
   ]
  },
  {
   "cell_type": "code",
   "execution_count": 21,
   "id": "ace0a5c7-4956-471f-9f51-d2140604f206",
   "metadata": {},
   "outputs": [
    {
     "data": {
      "text/plain": [
       "2"
      ]
     },
     "execution_count": 21,
     "metadata": {},
     "output_type": "execute_result"
    }
   ],
   "source": [
    "True + 1\n"
   ]
  },
  {
   "cell_type": "code",
   "execution_count": 22,
   "id": "975de26e-6aad-40dc-b487-3d97dedd83d1",
   "metadata": {},
   "outputs": [
    {
     "data": {
      "text/plain": [
       "1"
      ]
     },
     "execution_count": 22,
     "metadata": {},
     "output_type": "execute_result"
    }
   ],
   "source": [
    "False + 1"
   ]
  },
  {
   "cell_type": "code",
   "execution_count": 23,
   "id": "157a1a89-c75a-41b8-b0e1-d43c98bcd2f5",
   "metadata": {},
   "outputs": [
    {
     "data": {
      "text/plain": [
       "12"
      ]
     },
     "execution_count": 23,
     "metadata": {},
     "output_type": "execute_result"
    }
   ],
   "source": [
    "True * 12"
   ]
  },
  {
   "cell_type": "code",
   "execution_count": 24,
   "id": "33be4202-0cf2-4b34-b80c-54d66279a2aa",
   "metadata": {},
   "outputs": [
    {
     "data": {
      "text/plain": [
       "0"
      ]
     },
     "execution_count": 24,
     "metadata": {},
     "output_type": "execute_result"
    }
   ],
   "source": [
    "False * 12"
   ]
  },
  {
   "cell_type": "markdown",
   "id": "b919a62d-8f75-4aeb-bad5-74a301fdbd54",
   "metadata": {},
   "source": [
    "## Conditional control structure\n",
    "\n",
    "### There are three types of control structure:\n",
    "\n",
    "Sequential, \n",
    "Conditional\n",
    "Loop/"
   ]
  },
  {
   "cell_type": "code",
   "execution_count": 27,
   "id": "33576558-6010-44ef-8958-4ddd47adfb0c",
   "metadata": {},
   "outputs": [
    {
     "name": "stdin",
     "output_type": "stream",
     "text": [
      "Enter a number:  12\n"
     ]
    },
    {
     "name": "stdout",
     "output_type": "stream",
     "text": [
      "You're wrong\n"
     ]
    }
   ],
   "source": [
    "number = float(input(\"Enter a number: \"))\n",
    "if number ==20:\n",
    "    print(\"You're right\")\n",
    "else:\n",
    "    print(\"You're wrong\")"
   ]
  },
  {
   "cell_type": "code",
   "execution_count": 28,
   "id": "8afc3404-1ebf-4e83-bd0e-137c8bb3d0c6",
   "metadata": {},
   "outputs": [
    {
     "name": "stdin",
     "output_type": "stream",
     "text": [
      "Enter a number:  20\n"
     ]
    },
    {
     "name": "stdout",
     "output_type": "stream",
     "text": [
      "You're right\n"
     ]
    }
   ],
   "source": [
    "number = float(input(\"Enter a number: \"))\n",
    "if number ==20:\n",
    "    print(\"You're right\")\n",
    "else:\n",
    "    print(\"You're wrong\")"
   ]
  },
  {
   "cell_type": "code",
   "execution_count": 37,
   "id": "6ed2d0fe-86b4-4edd-835a-39495e2fbf66",
   "metadata": {},
   "outputs": [
    {
     "name": "stdin",
     "output_type": "stream",
     "text": [
      "Enter a number:  19\n"
     ]
    },
    {
     "name": "stdout",
     "output_type": "stream",
     "text": [
      "You're close, just add some numbers\n"
     ]
    }
   ],
   "source": [
    "number = float(input(\"Enter a number: \"))\n",
    "if number ==20:\n",
    "    print(\"You're right\")\n",
    "elif 16 <= number < 20:\n",
    "    print(\"You're close, just add some numbers\")\n",
    "elif number > 20 and number <= 25:\n",
    "    print(\"you're a bit higher\")\n",
    "else:\n",
    "    print(\"You're wrong\")"
   ]
  },
  {
   "cell_type": "code",
   "execution_count": 46,
   "id": "baaff237-f796-437a-88dd-c08c0019b035",
   "metadata": {},
   "outputs": [
    {
     "name": "stdin",
     "output_type": "stream",
     "text": [
      "Enter your name: Pedro\n",
      "Enter your age: 78\n",
      "Enter the number of years you've worked for us: 50\n",
      "Enter your salary: $ 50000\n"
     ]
    },
    {
     "name": "stdout",
     "output_type": "stream",
     "text": [
      "Hi, Pedro. \n",
      " Your basic salary was $50000.0, and your new salary is $55000.0\n"
     ]
    }
   ],
   "source": [
    "# If the pweson name starts with C or E, there's no bonus\n",
    "\n",
    "name = input('Enter your name:')\n",
    "age = int(input('Enter your age:'))\n",
    "service = int(input(\"Enter the number of years you've worked for us:\"))\n",
    "salary = float(input('Enter your salary: $'))\n",
    "\n",
    "bonus = 0.1 * salary\n",
    "new_salary = salary + bonus\n",
    "\n",
    "name_data = name.lower()\n",
    "if name_data.startswith('c'):\n",
    "    print(f\"Hi, {name}. \\n There's no bonus for you because of your name\")\n",
    "elif service < 10:\n",
    "     print(f\"Hi, {name}. \\n There's no bonus for you because of how long you've worked for us\")\n",
    "else:\n",
    "    print(f\"Hi, {name}. \\n Your basic salary was ${salary}, and your new salary is ${new_salary}\")"
   ]
  },
  {
   "cell_type": "code",
   "execution_count": null,
   "id": "007c33a4-72fb-496a-ac4c-10048a4360dd",
   "metadata": {},
   "outputs": [],
   "source": []
  }
 ],
 "metadata": {
  "kernelspec": {
   "display_name": "Python 3 (ipykernel)",
   "language": "python",
   "name": "python3"
  },
  "language_info": {
   "codemirror_mode": {
    "name": "ipython",
    "version": 3
   },
   "file_extension": ".py",
   "mimetype": "text/x-python",
   "name": "python",
   "nbconvert_exporter": "python",
   "pygments_lexer": "ipython3",
   "version": "3.11.4"
  }
 },
 "nbformat": 4,
 "nbformat_minor": 5
}
