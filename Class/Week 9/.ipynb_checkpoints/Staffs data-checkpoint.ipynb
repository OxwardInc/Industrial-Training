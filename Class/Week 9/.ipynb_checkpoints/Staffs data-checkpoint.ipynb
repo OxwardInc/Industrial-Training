{
 "cells": [
  {
   "cell_type": "code",
   "execution_count": 1,
   "id": "aa36d6f2-341c-4282-a4e4-24c5e4b2f9c8",
   "metadata": {},
   "outputs": [],
   "source": [
    "import sqlite3 as sql\n",
    "\n",
    "connection = sql.connect('Students_data.db.')\n",
    "\n",
    "connection.execute(\"CREATE TABLE Staffs_data(SN INTEGER PRIMARY KEY AUTOINCREMENT, Name TEXT NOT NULL, Id TEXT NOT NULL, Age INT NOT NULL)\")\n",
    "\n",
    "connection.close()"
   ]
  },
  {
   "cell_type": "code",
   "execution_count": 2,
   "id": "ae843ce0-c1c7-4736-a00a-41fec8485843",
   "metadata": {},
   "outputs": [
    {
     "name": "stdin",
     "output_type": "stream",
     "text": [
      "Name: Annabel\n",
      "ID: 21783t4832t84\n",
      "Age: 54\n"
     ]
    }
   ],
   "source": [
    "connection = sql.connect('Students_data.db')\n",
    "\n",
    "name = input('Name:')\n",
    "id = input('ID:')\n",
    "age = int(input('Age:'))\n",
    "\n",
    "connection.execute(\"INSERT INTO Staffs_data(Name, Id, Age)VALUES(?, ?, ?)\", (name, id, age))\n",
    "\n",
    "connection.commit()\n",
    "\n",
    "connection.close()"
   ]
  },
  {
   "cell_type": "code",
   "execution_count": 3,
   "id": "ace7cfd3-257f-4020-8040-a3467af5f39e",
   "metadata": {},
   "outputs": [
    {
     "name": "stdin",
     "output_type": "stream",
     "text": [
      "Name: Silver\n",
      "ID: 90320739048734\n",
      "Age: 32\n",
      "Name: \n",
      "ID: \n",
      "Age: \n"
     ]
    },
    {
     "ename": "ValueError",
     "evalue": "invalid literal for int() with base 10: ''",
     "output_type": "error",
     "traceback": [
      "\u001b[1;31m---------------------------------------------------------------------------\u001b[0m",
      "\u001b[1;31mValueError\u001b[0m                                Traceback (most recent call last)",
      "Cell \u001b[1;32mIn[3], line 6\u001b[0m\n\u001b[0;32m      4\u001b[0m     name \u001b[38;5;241m=\u001b[39m \u001b[38;5;28minput\u001b[39m(\u001b[38;5;124m'\u001b[39m\u001b[38;5;124mName:\u001b[39m\u001b[38;5;124m'\u001b[39m)\n\u001b[0;32m      5\u001b[0m     \u001b[38;5;28mid\u001b[39m \u001b[38;5;241m=\u001b[39m \u001b[38;5;28minput\u001b[39m(\u001b[38;5;124m'\u001b[39m\u001b[38;5;124mID:\u001b[39m\u001b[38;5;124m'\u001b[39m)\n\u001b[1;32m----> 6\u001b[0m     age \u001b[38;5;241m=\u001b[39m \u001b[38;5;28;43mint\u001b[39;49m\u001b[43m(\u001b[49m\u001b[38;5;28;43minput\u001b[39;49m\u001b[43m(\u001b[49m\u001b[38;5;124;43m'\u001b[39;49m\u001b[38;5;124;43mAge:\u001b[39;49m\u001b[38;5;124;43m'\u001b[39;49m\u001b[43m)\u001b[49m\u001b[43m)\u001b[49m\n\u001b[0;32m      8\u001b[0m connection\u001b[38;5;241m.\u001b[39mexecute(\u001b[38;5;124m\"\u001b[39m\u001b[38;5;124mINSERT INTO Staffs_data(Name, Id, Age)VALUES(?, ?, ?)\u001b[39m\u001b[38;5;124m\"\u001b[39m, (name, \u001b[38;5;28mid\u001b[39m, age))\n\u001b[0;32m     10\u001b[0m connection\u001b[38;5;241m.\u001b[39mcommit()\n",
      "\u001b[1;31mValueError\u001b[0m: invalid literal for int() with base 10: ''"
     ]
    }
   ],
   "source": [
    "connection = sql.connect('Students_data.db')\n",
    "\n",
    "for i in range(5):\n",
    "    name = input('Name:')\n",
    "    id = input('ID:')\n",
    "    age = int(input('Age:'))\n",
    "\n",
    "connection.execute(\"INSERT INTO Staffs_data(Name, Id, Age)VALUES(?, ?, ?)\", (name, id, age))\n",
    "\n",
    "connection.commit()\n",
    "\n",
    "connection.close()"
   ]
  },
  {
   "cell_type": "code",
   "execution_count": 4,
   "id": "54d40c98-eb37-4a88-b955-04149b0c7896",
   "metadata": {},
   "outputs": [
    {
     "name": "stdout",
     "output_type": "stream",
     "text": [
      "<sqlite3.Cursor object at 0x0000017D8C5A1340>\n",
      "(1, 'Annabel', '21783t4832t84', 54)\n"
     ]
    }
   ],
   "source": [
    "conn = sql.connect('Students_data.db')\n",
    "curs = conn.cursor()\n",
    "content = curs.execute(\"SELECT * FROM Staffs_data\")\n",
    "\n",
    "print(content)\n",
    "\n",
    "for record in content:\n",
    "    print(record)\n",
    "\n",
    "conn.close()"
   ]
  },
  {
   "cell_type": "code",
   "execution_count": 5,
   "id": "cecb4c66-b353-4068-ad68-62067f5769e0",
   "metadata": {},
   "outputs": [
    {
     "name": "stdout",
     "output_type": "stream",
     "text": [
      "('Annabel', 54)\n"
     ]
    }
   ],
   "source": [
    "conn = sql.connect(\"Students_data.db\")\n",
    "curs = conn.cursor()\n",
    "content = curs.execute(\"SELECT Name, Age FROM Staffs_data\")\n",
    "\n",
    "for record in content:\n",
    "    print(record)"
   ]
  },
  {
   "cell_type": "code",
   "execution_count": null,
   "id": "4ebf9fd0-00d4-4482-a4a4-ce17e2c0fd9c",
   "metadata": {},
   "outputs": [],
   "source": []
  }
 ],
 "metadata": {
  "kernelspec": {
   "display_name": "Python 3 (ipykernel)",
   "language": "python",
   "name": "python3"
  },
  "language_info": {
   "codemirror_mode": {
    "name": "ipython",
    "version": 3
   },
   "file_extension": ".py",
   "mimetype": "text/x-python",
   "name": "python",
   "nbconvert_exporter": "python",
   "pygments_lexer": "ipython3",
   "version": "3.11.5"
  }
 },
 "nbformat": 4,
 "nbformat_minor": 5
}
