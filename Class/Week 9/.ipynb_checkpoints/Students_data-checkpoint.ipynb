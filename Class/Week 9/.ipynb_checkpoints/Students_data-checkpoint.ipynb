{
 "cells": [
  {
   "cell_type": "code",
   "execution_count": 1,
   "id": "f9cab054-966e-433c-a943-fc81070088da",
   "metadata": {},
   "outputs": [],
   "source": [
    "import sqlite3 as sql\n",
    "\n",
    "connection = sql.connect('Students_data.db.')\n",
    "\n",
    "connection.execute(\"CREATE TABLE Students_data(SN INTEGER PRIMARY KEY AUTOINCREMENT, Name TEXT NOT NULL, Mat_No TEXT NOT NULL, Age INT NOT NULL)\")\n",
    "\n",
    "connection.close()"
   ]
  },
  {
   "cell_type": "code",
   "execution_count": 4,
   "id": "ddf69486-3d18-4c19-bc35-e6b0bae4e979",
   "metadata": {},
   "outputs": [
    {
     "name": "stdin",
     "output_type": "stream",
     "text": [
      "Name: Pedro\n",
      "Mat NO: u26t372340-4\n",
      "Age: 32\n"
     ]
    }
   ],
   "source": [
    "connection = sql.connect(\"Students_data.db\")\n",
    "\n",
    "name = input('Name:')\n",
    "mat_no = input('Mat NO:')\n",
    "age = int(input('Age:'))\n",
    "\n",
    "connection.execute(\"INSERT INTO Students_data(Name, Mat_No, Age)VALUES(?, ?, ?)\", (name, mat_no, age))\n",
    "\n",
    "connection.commit()\n",
    "\n",
    "connection.close()"
   ]
  },
  {
   "cell_type": "code",
   "execution_count": 5,
   "id": "2a7e8841-a531-4f79-9f61-d6e095bb50c9",
   "metadata": {},
   "outputs": [
    {
     "name": "stdin",
     "output_type": "stream",
     "text": [
      "Name: Peter\n",
      "Mat NO: qyg83823824\n",
      "Age: 54\n"
     ]
    }
   ],
   "source": [
    "connection = sql.connect(\"Students_data.db\")\n",
    "\n",
    "name = input('Name:')\n",
    "mat_no = input('Mat NO:')\n",
    "age = int(input('Age:'))\n",
    "\n",
    "connection.execute(\"INSERT INTO Students_data(Name, Mat_No, Age)VALUES(?, ?, ?)\", (name, mat_no, age))\n",
    "\n",
    "connection.commit()\n",
    "\n",
    "connection.close()"
   ]
  },
  {
   "cell_type": "code",
   "execution_count": 6,
   "id": "0ed026eb-2ff0-476a-9f57-4cea5e2c57a3",
   "metadata": {},
   "outputs": [
    {
     "name": "stdin",
     "output_type": "stream",
     "text": [
      "Name: Tweet\n",
      "Mat NO: u2733039894\n",
      "Age: 23\n"
     ]
    }
   ],
   "source": [
    "connection = sql.connect(\"Students_data.db\")\n",
    "\n",
    "name = input('Name:')\n",
    "mat_no = input('Mat NO:')\n",
    "age = int(input('Age:'))\n",
    "\n",
    "connection.execute(\"INSERT INTO Students_data(Name, Mat_No, Age)VALUES(?, ?, ?)\", (name, mat_no, age))\n",
    "\n",
    "connection.commit()\n",
    "\n",
    "connection.close()"
   ]
  },
  {
   "cell_type": "code",
   "execution_count": 7,
   "id": "15beced1-6fd3-48b4-ada6-ddfe68781c3d",
   "metadata": {},
   "outputs": [
    {
     "name": "stdout",
     "output_type": "stream",
     "text": [
      "<sqlite3.Cursor object at 0x0000029069B3DCC0>\n",
      "(1, 'Silver', 'u2019/e3833894', 34)\n",
      "(2, 'Qween', 'lidou898384y4', 21)\n",
      "(3, 'Pedro', 'u26t372340-4', 32)\n",
      "(4, 'Peter', 'qyg83823824', 54)\n",
      "(5, 'Tweet', 'u2733039894', 23)\n"
     ]
    }
   ],
   "source": [
    "conn = sql.connect('Students_data.db')\n",
    "curs = conn.cursor()\n",
    "content = curs.execute(\"SELECT * FROM Students_data\")\n",
    "\n",
    "print(content)\n",
    "\n",
    "for record in content:\n",
    "    print(record)\n",
    "\n",
    "conn.close()"
   ]
  },
  {
   "cell_type": "code",
   "execution_count": 8,
   "id": "097fa4b0-195d-4076-b66d-d02d90f4c121",
   "metadata": {},
   "outputs": [
    {
     "name": "stdout",
     "output_type": "stream",
     "text": [
      "<sqlite3.Cursor object at 0x0000029069B3DE40>\n",
      "('Silver', 34)\n",
      "('Qween', 21)\n",
      "('Pedro', 32)\n",
      "('Peter', 54)\n",
      "('Tweet', 23)\n"
     ]
    }
   ],
   "source": [
    "conn = sql.connect('Students_data.db')\n",
    "curs = conn.cursor()\n",
    "content = curs.execute(\"SELECT Name, Age FROM Students_data\")\n",
    "\n",
    "print(content)\n",
    "\n",
    "for record in content:\n",
    "    print(record)\n",
    "\n",
    "conn.close()"
   ]
  },
  {
   "cell_type": "code",
   "execution_count": 9,
   "id": "f7e4cb0d-43c0-42d2-a539-200d804a36ac",
   "metadata": {},
   "outputs": [
    {
     "name": "stdout",
     "output_type": "stream",
     "text": [
      "<sqlite3.Cursor object at 0x0000029069B3DBC0>\n",
      "('Silver', 34)\n",
      "('Qween', 21)\n",
      "('Pedro', 32)\n",
      "('Peter', 54)\n",
      "('Tweet', 23)\n"
     ]
    }
   ],
   "source": [
    "conn = sql.connect('Students_data.db')\n",
    "curs = conn.cursor()\n",
    "content = curs.execute(\"SELECT Name, Age FROM Students_data WHERE age >= 20\")\n",
    "\n",
    "print(content)\n",
    "\n",
    "for record in content:\n",
    "    print(record)\n",
    "\n",
    "conn.close()"
   ]
  },
  {
   "cell_type": "code",
   "execution_count": null,
   "id": "1d3e20fa-8319-429d-9e0d-69a034a28c77",
   "metadata": {},
   "outputs": [],
   "source": []
  },
  {
   "cell_type": "code",
   "execution_count": null,
   "id": "bec1f437-19aa-4b03-a622-00b0b855a615",
   "metadata": {},
   "outputs": [],
   "source": []
  }
 ],
 "metadata": {
  "kernelspec": {
   "display_name": "Python 3 (ipykernel)",
   "language": "python",
   "name": "python3"
  },
  "language_info": {
   "codemirror_mode": {
    "name": "ipython",
    "version": 3
   },
   "file_extension": ".py",
   "mimetype": "text/x-python",
   "name": "python",
   "nbconvert_exporter": "python",
   "pygments_lexer": "ipython3",
   "version": "3.11.5"
  }
 },
 "nbformat": 4,
 "nbformat_minor": 5
}
