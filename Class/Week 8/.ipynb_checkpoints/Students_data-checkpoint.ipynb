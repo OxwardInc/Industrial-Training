{
 "cells": [
  {
   "cell_type": "code",
   "execution_count": 7,
   "id": "f9cab054-966e-433c-a943-fc81070088da",
   "metadata": {},
   "outputs": [],
   "source": [
    "import sqlite3 as sql\n",
    "\n",
    "connection = sql.connect('Students_data.db.')\n",
    "\n",
    "connection.execute(\"CREATE TABLE Students_data(SN INTEGER PRIMARY KEY AUTOINCREMENT, Name TEXT NOT NULL, Mat_No TEXT NOT NULL, Age INT NOT NULL)\")\n",
    "\n",
    "connection.close()"
   ]
  },
  {
   "cell_type": "code",
   "execution_count": 9,
   "id": "ddf69486-3d18-4c19-bc35-e6b0bae4e979",
   "metadata": {},
   "outputs": [
    {
     "name": "stdin",
     "output_type": "stream",
     "text": [
      "Name: Marvelous\n",
      "Mat NO: U2019/2375950\n",
      "Age: 21\n"
     ]
    }
   ],
   "source": [
    "connection = sql.connect(\"Students_data.db\")\n",
    "\n",
    "name = input('Name:')\n",
    "mat_no = input('Mat NO:')\n",
    "age = int(input('Age:'))\n",
    "\n",
    "connection.execute(\"INSERT INTO Students_data(Name, Mat_No, Age)VALUES(?, ?, ?)\", (name, mat_no, age))\n",
    "\n",
    "connection.commit()\n",
    "\n",
    "connection.close()"
   ]
  },
  {
   "cell_type": "code",
   "execution_count": 10,
   "id": "2a7e8841-a531-4f79-9f61-d6e095bb50c9",
   "metadata": {},
   "outputs": [
    {
     "name": "stdin",
     "output_type": "stream",
     "text": [
      "Name: Qween\n",
      "Mat NO: U2018/34857439\n",
      "Age: 34\n"
     ]
    }
   ],
   "source": [
    "connection = sql.connect(\"Students_data.db\")\n",
    "\n",
    "name = input('Name:')\n",
    "mat_no = input('Mat NO:')\n",
    "age = int(input('Age:'))\n",
    "\n",
    "connection.execute(\"INSERT INTO Students_data(Name, Mat_No, Age)VALUES(?, ?, ?)\", (name, mat_no, age))\n",
    "\n",
    "connection.commit()\n",
    "\n",
    "connection.close()"
   ]
  },
  {
   "cell_type": "code",
   "execution_count": 11,
   "id": "0ed026eb-2ff0-476a-9f57-4cea5e2c57a3",
   "metadata": {},
   "outputs": [
    {
     "name": "stdin",
     "output_type": "stream",
     "text": [
      "Name: Bella\n",
      "Mat NO: U3017/374245849\n",
      "Age: 12\n"
     ]
    }
   ],
   "source": [
    "connection = sql.connect(\"Students_data.db\")\n",
    "\n",
    "name = input('Name:')\n",
    "mat_no = input('Mat NO:')\n",
    "age = int(input('Age:'))\n",
    "\n",
    "connection.execute(\"INSERT INTO Students_data(Name, Mat_No, Age)VALUES(?, ?, ?)\", (name, mat_no, age))\n",
    "\n",
    "connection.commit()\n",
    "\n",
    "connection.close()"
   ]
  },
  {
   "cell_type": "code",
   "execution_count": 17,
   "id": "15beced1-6fd3-48b4-ada6-ddfe68781c3d",
   "metadata": {},
   "outputs": [
    {
     "name": "stdout",
     "output_type": "stream",
     "text": [
      "<sqlite3.Cursor object at 0x000001403FDF1EC0>\n",
      "(1, 'Marvelous', 'U2019/2375950', 21)\n",
      "(2, 'Qween', 'U2018/34857439', 34)\n",
      "(3, 'Bella', 'U3017/374245849', 12)\n"
     ]
    }
   ],
   "source": [
    "conn = sql.connect('Students_data.db')\n",
    "curs = conn.cursor()\n",
    "content = curs.execute(\"SELECT * FROM Students_data\")\n",
    "\n",
    "print(content)\n",
    "\n",
    "for record in content:\n",
    "    print(record)\n",
    "\n",
    "conn.close()"
   ]
  },
  {
   "cell_type": "code",
   "execution_count": 18,
   "id": "097fa4b0-195d-4076-b66d-d02d90f4c121",
   "metadata": {},
   "outputs": [
    {
     "name": "stdout",
     "output_type": "stream",
     "text": [
      "<sqlite3.Cursor object at 0x000001403FDF8CC0>\n",
      "('Marvelous', 21)\n",
      "('Qween', 34)\n",
      "('Bella', 12)\n"
     ]
    }
   ],
   "source": [
    "conn = sql.connect('Students_data.db')\n",
    "curs = conn.cursor()\n",
    "content = curs.execute(\"SELECT Name, Age FROM Students_data\")\n",
    "\n",
    "print(content)\n",
    "\n",
    "for record in content:\n",
    "    print(record)\n",
    "\n",
    "conn.close()"
   ]
  },
  {
   "cell_type": "code",
   "execution_count": 19,
   "id": "f7e4cb0d-43c0-42d2-a539-200d804a36ac",
   "metadata": {},
   "outputs": [
    {
     "name": "stdout",
     "output_type": "stream",
     "text": [
      "<sqlite3.Cursor object at 0x000001403F9F8DC0>\n",
      "('Marvelous', 21)\n",
      "('Qween', 34)\n"
     ]
    }
   ],
   "source": [
    "conn = sql.connect('Students_data.db')\n",
    "curs = conn.cursor()\n",
    "content = curs.execute(\"SELECT Name, Age FROM Students_data WHERE age >= 20\")\n",
    "\n",
    "print(content)\n",
    "\n",
    "for record in content:\n",
    "    print(record)\n",
    "\n",
    "conn.close()"
   ]
  },
  {
   "cell_type": "code",
   "execution_count": null,
   "id": "1d3e20fa-8319-429d-9e0d-69a034a28c77",
   "metadata": {},
   "outputs": [],
   "source": []
  }
 ],
 "metadata": {
  "kernelspec": {
   "display_name": "Python 3 (ipykernel)",
   "language": "python",
   "name": "python3"
  },
  "language_info": {
   "codemirror_mode": {
    "name": "ipython",
    "version": 3
   },
   "file_extension": ".py",
   "mimetype": "text/x-python",
   "name": "python",
   "nbconvert_exporter": "python",
   "pygments_lexer": "ipython3",
   "version": "3.11.5"
  }
 },
 "nbformat": 4,
 "nbformat_minor": 5
}
