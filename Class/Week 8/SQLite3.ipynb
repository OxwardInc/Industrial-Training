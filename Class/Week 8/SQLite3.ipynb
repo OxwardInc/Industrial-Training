{
 "cells": [
  {
   "cell_type": "markdown",
   "id": "13478612-0b5f-4709-9461-da7c5c2b6620",
   "metadata": {},
   "source": [
    "### Creation of a database"
   ]
  },
  {
   "cell_type": "code",
   "execution_count": 2,
   "id": "161da1d3-3ae2-40c6-b3e5-c44106e60f7b",
   "metadata": {},
   "outputs": [],
   "source": [
    "import sqlite3 as sql\n",
    "\n",
    "connection = sql.connect('Students.db')\n",
    "\n",
    "connection.execute('CREATE TABLE Students(Mat_NO TEXT, Age INT, Name TEXT)')\n",
    "\n",
    "connection.close()"
   ]
  },
  {
   "cell_type": "markdown",
   "id": "f8c6abe4-16ad-4253-86ca-41264f32c615",
   "metadata": {},
   "source": [
    "### Adding some values to the database"
   ]
  },
  {
   "cell_type": "code",
   "execution_count": 9,
   "id": "7825676d-2fa2-45dd-a706-bf6f54234470",
   "metadata": {},
   "outputs": [],
   "source": [
    "connection = sql.connect(\"Students.db\")\n",
    "\n",
    "connection.execute(\"INSERT INTO Students(Mat_NO, Age, Name)VALUES('U2018/4561090', 40, 'JackJhon')\")\n",
    "\n",
    "connection.commit()\n",
    "\n",
    "connection.close()"
   ]
  },
  {
   "cell_type": "markdown",
   "id": "93caf5cd-9a79-4a12-9515-a14bc5403876",
   "metadata": {},
   "source": [
    "### Getting the contents from the database"
   ]
  },
  {
   "cell_type": "code",
   "execution_count": 10,
   "id": "601a732e-791e-49f0-bc21-0b8090fee5d3",
   "metadata": {},
   "outputs": [
    {
     "name": "stdout",
     "output_type": "stream",
     "text": [
      "<sqlite3.Cursor object at 0x0000028BCCC4A7C0>\n"
     ]
    }
   ],
   "source": [
    "conn = sql.connect(\"Students.db\")\n",
    "curs = conn.cursor()\n",
    "content = curs.execute(\"SELECT * FROM Students\")\n",
    "\n",
    "conn.close()\n",
    "print(content)"
   ]
  },
  {
   "cell_type": "code",
   "execution_count": 11,
   "id": "f8c48638-c683-4aff-978f-dd1d4aa4127c",
   "metadata": {},
   "outputs": [
    {
     "name": "stdout",
     "output_type": "stream",
     "text": [
      "('U2018/4561090', 40, 'JackJhon')\n"
     ]
    }
   ],
   "source": [
    "conn = sql.connect(\"Students.db\")\n",
    "curs = conn.cursor()\n",
    "content = curs.execute(\"SELECT * FROM Students\")\n",
    "\n",
    "\n",
    "for record in content:\n",
    "    print(record)\n",
    "\n",
    "conn.close()"
   ]
  },
  {
   "cell_type": "code",
   "execution_count": 12,
   "id": "ad251fae-1868-4ed4-ad5e-ac61c5a51709",
   "metadata": {},
   "outputs": [
    {
     "name": "stdout",
     "output_type": "stream",
     "text": [
      "<sqlite3.Cursor object at 0x0000028BCCC4A8C0>\n",
      "('U2018/4561090', 40, 'JackJhon')\n"
     ]
    }
   ],
   "source": [
    "conn = sql.connect(\"Students.db\")\n",
    "curs = conn.cursor()\n",
    "content = curs.execute(\"SELECT * FROM Students\")\n",
    "\n",
    "print(content)\n",
    "\n",
    "for record in content:\n",
    "    print(record)\n",
    "\n",
    "conn.close()"
   ]
  },
  {
   "cell_type": "markdown",
   "id": "afa81814-bb81-4b6a-9570-bbec638731b3",
   "metadata": {},
   "source": [
    "## Trying to use PRIMARY KEY"
   ]
  },
  {
   "cell_type": "code",
   "execution_count": 13,
   "id": "937e0abc-7d2b-4c52-8a66-fdf174132eee",
   "metadata": {},
   "outputs": [],
   "source": [
    "conn = sql.connect('States.db')\n",
    "\n",
    "conn.execute(\"CREATE TABLE States(State TEXT PRIMARY KEY, Count INT NOT NULL)\")\n",
    "\n",
    "conn.close()"
   ]
  },
  {
   "cell_type": "markdown",
   "id": "0a7b0876-8a74-4cfa-839a-e5975ec2a6c5",
   "metadata": {},
   "source": [
    "## Trying to insert some values"
   ]
  },
  {
   "cell_type": "code",
   "execution_count": 16,
   "id": "6929086a-f12f-4bc6-ac3e-50ee986d7d66",
   "metadata": {},
   "outputs": [],
   "source": [
    "conn = sql.connect('States.db')\n",
    "\n",
    "conn.execute(\"INSERT INTO States(State, Count)VALUES('Rivers', 20)\")\n",
    "\n",
    "conn.commit()\n",
    "\n",
    "conn.close()"
   ]
  },
  {
   "cell_type": "markdown",
   "id": "e01b1f05-b8f8-45fa-8987-7892bca2d4e9",
   "metadata": {},
   "source": [
    "#### Trying to see if i can insert thesame value"
   ]
  },
  {
   "cell_type": "code",
   "execution_count": 17,
   "id": "4ba6b436-794e-4cee-ad99-6d1ccf9eb2ed",
   "metadata": {},
   "outputs": [
    {
     "ename": "IntegrityError",
     "evalue": "UNIQUE constraint failed: States.State",
     "output_type": "error",
     "traceback": [
      "\u001b[1;31m---------------------------------------------------------------------------\u001b[0m",
      "\u001b[1;31mIntegrityError\u001b[0m                            Traceback (most recent call last)",
      "Cell \u001b[1;32mIn[17], line 3\u001b[0m\n\u001b[0;32m      1\u001b[0m conn \u001b[38;5;241m=\u001b[39m sql\u001b[38;5;241m.\u001b[39mconnect(\u001b[38;5;124m'\u001b[39m\u001b[38;5;124mStates.db\u001b[39m\u001b[38;5;124m'\u001b[39m)\n\u001b[1;32m----> 3\u001b[0m \u001b[43mconn\u001b[49m\u001b[38;5;241;43m.\u001b[39;49m\u001b[43mexecute\u001b[49m\u001b[43m(\u001b[49m\u001b[38;5;124;43m\"\u001b[39;49m\u001b[38;5;124;43mINSERT INTO States(State, Count)VALUES(\u001b[39;49m\u001b[38;5;124;43m'\u001b[39;49m\u001b[38;5;124;43mRivers\u001b[39;49m\u001b[38;5;124;43m'\u001b[39;49m\u001b[38;5;124;43m, 20)\u001b[39;49m\u001b[38;5;124;43m\"\u001b[39;49m\u001b[43m)\u001b[49m\n\u001b[0;32m      5\u001b[0m conn\u001b[38;5;241m.\u001b[39mcommit()\n\u001b[0;32m      7\u001b[0m conn\u001b[38;5;241m.\u001b[39mclose()\n",
      "\u001b[1;31mIntegrityError\u001b[0m: UNIQUE constraint failed: States.State"
     ]
    }
   ],
   "source": [
    "conn = sql.connect('States.db')\n",
    "\n",
    "conn.execute(\"INSERT INTO States(State, Count)VALUES('Rivers', 20)\")\n",
    "\n",
    "conn.commit()\n",
    "\n",
    "conn.close()"
   ]
  },
  {
   "cell_type": "code",
   "execution_count": 19,
   "id": "a0764de4-7c9a-419b-8f47-09a5d24d4fa3",
   "metadata": {},
   "outputs": [],
   "source": [
    "conn = sql.connect('States.db')\n",
    "\n",
    "conn.execute(\"INSERT INTO States(State, Count)VALUES('Bayelsa', 21)\")\n",
    "\n",
    "conn.commit()\n",
    "\n",
    "conn.close()"
   ]
  },
  {
   "cell_type": "markdown",
   "id": "4015b1b1-15a7-4e51-8ebf-9feaf4d6d709",
   "metadata": {},
   "source": [
    "##### Getting the contents from the database"
   ]
  },
  {
   "cell_type": "code",
   "execution_count": 20,
   "id": "9ccfe0ae-d34c-4987-9eb7-69b444444b30",
   "metadata": {},
   "outputs": [
    {
     "name": "stdout",
     "output_type": "stream",
     "text": [
      "<sqlite3.Cursor object at 0x0000028BCCC26BC0>\n",
      "('Rivers', 20)\n",
      "('Bayelsa', 21)\n"
     ]
    }
   ],
   "source": [
    "conn = sql.connect(\"States.db\")\n",
    "curs = conn.cursor()\n",
    "content = curs.execute(\"SELECT * FROM States\")\n",
    "\n",
    "print(content)\n",
    "\n",
    "for record in content:\n",
    "    print(record)\n",
    "\n",
    "conn.close()"
   ]
  },
  {
   "cell_type": "code",
   "execution_count": 21,
   "id": "f3f04711-2cfc-45e7-b36b-107bb3dfc987",
   "metadata": {},
   "outputs": [],
   "source": [
    "### Assignment\n",
    "\n",
    "#Create any table of your choice, let the primary key be an integer with auto increment function\n",
    "\n",
    "#See how you can create a record in a database\n",
    "#See how to read a record\n",
    "#See how you can update items in a database\n",
    "#See how to delete a record"
   ]
  },
  {
   "cell_type": "code",
   "execution_count": null,
   "id": "36a4270d-fd4f-44a0-a424-d9e2b8ad76ff",
   "metadata": {},
   "outputs": [],
   "source": []
  }
 ],
 "metadata": {
  "kernelspec": {
   "display_name": "Python 3 (ipykernel)",
   "language": "python",
   "name": "python3"
  },
  "language_info": {
   "codemirror_mode": {
    "name": "ipython",
    "version": 3
   },
   "file_extension": ".py",
   "mimetype": "text/x-python",
   "name": "python",
   "nbconvert_exporter": "python",
   "pygments_lexer": "ipython3",
   "version": "3.11.5"
  }
 },
 "nbformat": 4,
 "nbformat_minor": 5
}
