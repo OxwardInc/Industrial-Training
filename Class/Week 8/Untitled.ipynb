{
 "cells": [
  {
   "cell_type": "code",
   "execution_count": 3,
   "id": "f9408c07-b8a9-438a-8de8-4e5f120a6f08",
   "metadata": {},
   "outputs": [],
   "source": [
    "import tkinter \n",
    "from tkinter import *\n",
    "\n",
    "root = Tk()\n",
    "\n",
    "frame1 = Frame(root)\n",
    "frame1.pack()\n",
    "\n",
    "frame2 = Frame(root)\n",
    "frame2.pack()\n",
    "\n",
    "#Label = Tk(className = 'Calculator')\n",
    "Label(frame1, text = 'Calculator').pack()\n",
    "#ent= Entry(master)\n",
    "#ent.grid(row=1, column= 1)\n",
    "\n",
    "Entry1 = Entry(frame1)\n",
    "Entry1.pack()\n",
    "\n",
    "\n",
    "Button(frame2, text = '7').grid(row = 0, column = 0)\n",
    "Button(frame2, text = '8').grid(row = 0, column = 1)\n",
    "Button(frame2, text = '9').grid(row = 0, column = 2)\n",
    "Button(frame2, text = '4').grid(row = 1, column = 0)\n",
    "Button(frame2, text = '5').grid(row = 1, column = 1)\n",
    "Button(frame2, text = '6').grid(row = 1, column = 2)\n",
    "Button(frame2, text = '1').grid(row = 2, column = 0)\n",
    "Button(frame2, text = '2').grid(row = 2, column = 1)\n",
    "Button(frame2, text = '3').grid(row = 2, column = 2)\n",
    "\n",
    "Button(frame2, text = '0').grid(row = 3, column = 0)\n",
    "Button(frame2, text = '.').grid(row = 3, column = 1)\n",
    "\n",
    "\n",
    "Button(frame2, text = '+').grid(row = 0, column = 3)\n",
    "Button(frame2, text = '-').grid(row = 1, column = 3)\n",
    "Button(frame2, text = '/').grid(row = 2, column = 3)\n",
    "Button(frame2, text = '*').grid(row = 3, column = 2)\n",
    "Button(frame2, text = '=').grid(row = 3, column = 3, columnspan = 3)\n",
    "\n",
    "root.mainloop()"
   ]
  },
  {
   "cell_type": "code",
   "execution_count": 4,
   "id": "e54d611e-41e6-4694-8c56-5fb8e405ca6b",
   "metadata": {},
   "outputs": [],
   "source": [
    "from tkinter import *\n",
    "\n",
    "root = Tk()\n",
    "\n",
    "frame1 = Frame(root)\n",
    "frame1.grid(row=2)\n",
    "\n",
    "textEntry = Entry(frame1)\n",
    "textEntry.grid(row=1)\n",
    "\n",
    "frame = Frame(root)\n",
    "frame.grid(row = 2)\n",
    "for i in range(4):\n",
    "    Button(frame, text = f'{i+1}',\n",
    "           bd = 2, relief = SUNKEN).grid(row = 0, column = i, ipadx = 15, ipady = 6)\n",
    "\n",
    "root.mainloop()"
   ]
  },
  {
   "cell_type": "code",
   "execution_count": 5,
   "id": "e27349ae-6792-4879-8374-eb3d91189ebb",
   "metadata": {},
   "outputs": [
    {
     "name": "stdout",
     "output_type": "stream",
     "text": [
      "1\n",
      "2\n",
      "3\n",
      "4\n"
     ]
    }
   ],
   "source": [
    "from tkinter import ttk\n",
    "\n",
    "def display_value(value):\n",
    "    print(value)\n",
    "\n",
    "root = Tk()\n",
    "\n",
    "frame = Frame(root, bd = 6, relief = RAISED)\n",
    "frame.grid(row=2)\n",
    "\n",
    "textEntry = Entry(root, bd = 6, relief = SUNKEN)\n",
    "textEntry.grid(row=1)\n",
    "\n",
    "frame = Frame(root)\n",
    "frame.grid(row = 2)\n",
    "for i in range(4):\n",
    "    ttk.Button(frame, command = display_value(i + 1), \n",
    "               text = f'{i+1}',\n",
    "           ).grid(row = 0, column = i, ipadx = 15, ipady = 6)\n",
    "\n",
    "root.mainloop()"
   ]
  },
  {
   "cell_type": "code",
   "execution_count": 6,
   "id": "76d91a03-6e06-4ede-b2cc-4675d3e633b3",
   "metadata": {},
   "outputs": [
    {
     "name": "stdout",
     "output_type": "stream",
     "text": [
      "4\n",
      "4\n"
     ]
    }
   ],
   "source": [
    "from tkinter import ttk\n",
    "\n",
    "def display_value(value):\n",
    "    print(value)\n",
    "\n",
    "root = Tk()\n",
    "\n",
    "frame = Frame(root, bd = 6, relief = RAISED)\n",
    "frame.grid(row=2)\n",
    "\n",
    "textEntry = Entry(root, bd = 6, relief = SUNKEN)\n",
    "textEntry.grid(row=1)\n",
    "\n",
    "frame = Frame(root)\n",
    "frame.grid(row = 2)\n",
    "for i in range(4):\n",
    "    ttk.Button(frame, command = lambda: display_value(i + 1), \n",
    "               text = f'{i+1}',\n",
    "           ).grid(row = 0, column = i, ipadx = 15, ipady = 6)\n",
    "\n",
    "root.mainloop()"
   ]
  },
  {
   "cell_type": "code",
   "execution_count": 7,
   "id": "c2fde17c-c4fb-4171-b12e-a28b24856756",
   "metadata": {},
   "outputs": [
    {
     "name": "stdout",
     "output_type": "stream",
     "text": [
      "5\n",
      "6\n",
      ".\n",
      "2\n",
      "-\n",
      "6\n",
      "50.2\n"
     ]
    }
   ],
   "source": [
    "from tkinter import ttk\n",
    "\n",
    "def display_value(value):\n",
    "    textEntry.insert(END,value)\n",
    "    print(value)\n",
    "\n",
    "def compute_result():\n",
    "    result = eval(textEntry.get())\n",
    "    print(result)\n",
    "root = Tk()\n",
    "\n",
    "frame = Frame(root, bd = 6, relief = RAISED)\n",
    "frame.grid(row=2)\n",
    "\n",
    "textEntry = Entry(root, bd = 6, relief = SUNKEN)\n",
    "textEntry.grid(row=1)\n",
    "\n",
    "frame = Frame(root)\n",
    "frame.grid(row = 2)\n",
    "\n",
    "ttk.Button(frame, command = lambda: display_value(7), text = '7').grid(row = 0, column = 0, ipadx = 15, ipady = 6)\n",
    "ttk.Button(frame, command = lambda: display_value(8), text = '8').grid(row = 0, column = 1, ipadx = 15, ipady = 6)\n",
    "ttk.Button(frame, command = lambda: display_value(9), text = '9').grid(row = 0, column = 2, ipadx = 15, ipady = 6)\n",
    "ttk.Button(frame, command = lambda: display_value(4), text = '4').grid(row = 1, column = 0, ipadx = 15, ipady = 6)\n",
    "ttk.Button(frame, command = lambda: display_value(5), text = '5').grid(row = 1, column = 1, ipadx = 15, ipady = 6)\n",
    "ttk.Button(frame, command = lambda: display_value(6), text = '6').grid(row = 1, column = 2, ipadx = 15, ipady = 6)\n",
    "ttk.Button(frame, command = lambda: display_value(1), text = '1').grid(row = 2, column = 0, ipadx = 15, ipady = 6)\n",
    "ttk.Button(frame, command = lambda: display_value(2), text = '2').grid(row = 2, column = 1, ipadx = 15, ipady = 6)\n",
    "ttk.Button(frame, command = lambda: display_value(3), text = '3').grid(row = 2, column = 2, ipadx = 15, ipady = 6)\n",
    "\n",
    "ttk.Button(frame, command = lambda: display_value(0), text = '0').grid(row = 3, column = 0, ipadx = 15, ipady = 6)\n",
    "ttk.Button(frame, command = lambda: display_value('.'), text = '.').grid(row = 3, column = 1, ipadx = 15, ipady = 6)\n",
    "\n",
    "\n",
    "ttk.Button(frame, command = lambda: display_value('+'), text = '+').grid(row = 0, column = 3, ipadx = 15, ipady = 6)\n",
    "ttk.Button(frame, command = lambda: display_value('-'), text = '-').grid(row = 1, column = 3, ipadx = 15, ipady = 6)\n",
    "ttk.Button(frame, command = lambda: display_value('/'), text = '/').grid(row = 2, column = 3, ipadx = 15, ipady = 6)\n",
    "ttk.Button(frame, command = lambda: display_value('*'), text = '*').grid(row = 3, column = 2, ipadx = 15, ipady = 6)\n",
    "ttk.Button(frame, command = compute_result, text = '=').grid(row = 3, column = 3, ipadx = 15, ipady = 6)\n",
    "\n",
    "\n",
    "root.mainloop()\n",
    "\n"
   ]
  },
  {
   "cell_type": "code",
   "execution_count": null,
   "id": "2abac220-fa18-4e46-935a-e35c966b9ea5",
   "metadata": {},
   "outputs": [],
   "source": []
  }
 ],
 "metadata": {
  "kernelspec": {
   "display_name": "Python 3 (ipykernel)",
   "language": "python",
   "name": "python3"
  },
  "language_info": {
   "codemirror_mode": {
    "name": "ipython",
    "version": 3
   },
   "file_extension": ".py",
   "mimetype": "text/x-python",
   "name": "python",
   "nbconvert_exporter": "python",
   "pygments_lexer": "ipython3",
   "version": "3.11.5"
  }
 },
 "nbformat": 4,
 "nbformat_minor": 5
}
