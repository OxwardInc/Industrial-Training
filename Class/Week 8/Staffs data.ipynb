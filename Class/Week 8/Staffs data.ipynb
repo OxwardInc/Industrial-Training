{
 "cells": [
  {
   "cell_type": "code",
   "execution_count": 1,
   "id": "aa36d6f2-341c-4282-a4e4-24c5e4b2f9c8",
   "metadata": {},
   "outputs": [],
   "source": [
    "import sqlite3 as sql\n",
    "\n",
    "connection = sql.connect('Students_data.db.')\n",
    "\n",
    "connection.execute(\"CREATE TABLE Staffs_data(SN INTEGER PRIMARY KEY AUTOINCREMENT, Name TEXT NOT NULL, Id TEXT NOT NULL, Age INT NOT NULL)\")\n",
    "\n",
    "connection.close()"
   ]
  },
  {
   "cell_type": "code",
   "execution_count": 2,
   "id": "ae843ce0-c1c7-4736-a00a-41fec8485843",
   "metadata": {},
   "outputs": [
    {
     "name": "stdin",
     "output_type": "stream",
     "text": [
      "Name: Oxward\n",
      "ID: qwt32233uh48\n",
      "Age: 54\n"
     ]
    }
   ],
   "source": [
    "connection = sql.connect('Students_data.db')\n",
    "\n",
    "name = input('Name:')\n",
    "id = input('ID:')\n",
    "age = int(input('Age:'))\n",
    "\n",
    "connection.execute(\"INSERT INTO Staffs_data(Name, Id, Age)VALUES(?, ?, ?)\", (name, id, age))\n",
    "\n",
    "connection.commit()\n",
    "\n",
    "connection.close()"
   ]
  },
  {
   "cell_type": "code",
   "execution_count": 3,
   "id": "ace7cfd3-257f-4020-8040-a3467af5f39e",
   "metadata": {},
   "outputs": [
    {
     "name": "stdin",
     "output_type": "stream",
     "text": [
      "Name: Qween\n",
      "ID: wfjore98ry934\n",
      "Age: 34\n",
      "Name: Peterson\n",
      "ID: jc98y98hi4h3h\n",
      "Age: 98\n",
      "Name: Glory Mandy\n",
      "ID: wilfo39u490r34\n",
      "Age: 56\n",
      "Name: Pedro\n",
      "ID: po29894347\n",
      "Age: 56\n",
      "Name: Sunny\n",
      "ID: sgwg843498349f\n",
      "Age: 76\n"
     ]
    }
   ],
   "source": [
    "connection = sql.connect('Students_data.db')\n",
    "\n",
    "for i in range(5):\n",
    "    name = input('Name:')\n",
    "    id = input('ID:')\n",
    "    age = int(input('Age:'))\n",
    "\n",
    "connection.execute(\"INSERT INTO Staffs_data(Name, Id, Age)VALUES(?, ?, ?)\", (name, id, age))\n",
    "\n",
    "connection.commit()\n",
    "\n",
    "connection.close()"
   ]
  },
  {
   "cell_type": "code",
   "execution_count": 5,
   "id": "54d40c98-eb37-4a88-b955-04149b0c7896",
   "metadata": {},
   "outputs": [
    {
     "name": "stdout",
     "output_type": "stream",
     "text": [
      "<sqlite3.Cursor object at 0x0000026BC50ADC40>\n",
      "(1, 'Oxward', 'qwt32233uh48', 54)\n",
      "(2, 'Sunny', 'sgwg843498349f', 76)\n"
     ]
    }
   ],
   "source": [
    "conn = sql.connect('Students_data.db')\n",
    "curs = conn.cursor()\n",
    "content = curs.execute(\"SELECT * FROM Staffs_data\")\n",
    "\n",
    "print(content)\n",
    "\n",
    "for record in content:\n",
    "    print(record)\n",
    "\n",
    "conn.close()"
   ]
  },
  {
   "cell_type": "code",
   "execution_count": 8,
   "id": "cecb4c66-b353-4068-ad68-62067f5769e0",
   "metadata": {},
   "outputs": [
    {
     "name": "stdout",
     "output_type": "stream",
     "text": [
      "('Oxward', 54)\n",
      "('Sunny', 76)\n"
     ]
    }
   ],
   "source": [
    "conn = sql.connect(\"Students_data.db\")\n",
    "curs = conn.cursor()\n",
    "content = curs.execute(\"SELECT Name, Age FROM Staffs_data\")\n",
    "\n",
    "for record in content:\n",
    "    print(record)"
   ]
  },
  {
   "cell_type": "code",
   "execution_count": null,
   "id": "4ebf9fd0-00d4-4482-a4a4-ce17e2c0fd9c",
   "metadata": {},
   "outputs": [],
   "source": []
  }
 ],
 "metadata": {
  "kernelspec": {
   "display_name": "Python 3 (ipykernel)",
   "language": "python",
   "name": "python3"
  },
  "language_info": {
   "codemirror_mode": {
    "name": "ipython",
    "version": 3
   },
   "file_extension": ".py",
   "mimetype": "text/x-python",
   "name": "python",
   "nbconvert_exporter": "python",
   "pygments_lexer": "ipython3",
   "version": "3.11.5"
  }
 },
 "nbformat": 4,
 "nbformat_minor": 5
}
