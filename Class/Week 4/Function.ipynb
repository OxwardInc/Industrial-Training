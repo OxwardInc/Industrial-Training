{
 "cells": [
  {
   "cell_type": "markdown",
   "id": "d361d446-e52b-4be2-9b5d-7830d798c4c1",
   "metadata": {},
   "source": [
    "## Correction"
   ]
  },
  {
   "cell_type": "code",
   "execution_count": 3,
   "id": "09bd8451-3047-4832-bcab-dd71dd7de9b0",
   "metadata": {},
   "outputs": [
    {
     "name": "stdin",
     "output_type": "stream",
     "text": [
      "Enter amount:  100\n"
     ]
    },
    {
     "name": "stdout",
     "output_type": "stream",
     "text": [
      "First year: 104.0\n",
      "Second year: 108.16\n",
      "Third year: 112.49\n"
     ]
    }
   ],
   "source": [
    "amount = float(input(\"Enter amount: \"))\n",
    "rate = 0.04\n",
    "\n",
    "first_year = round((1 + rate) * amount, 2)\n",
    "second_year = round((1 + rate) * first_year, 2)\n",
    "third_year = round((1 + rate) * second_year, 2)\n",
    "\n",
    "print(f'First year: {first_year}')\n",
    "print(f'Second year: {second_year}')\n",
    "print(f'Third year: {third_year}')"
   ]
  },
  {
   "cell_type": "code",
   "execution_count": 7,
   "id": "2aa0423c-a546-426c-b45c-eb3ff6d1fbed",
   "metadata": {},
   "outputs": [
    {
     "name": "stdin",
     "output_type": "stream",
     "text": [
      "Enter amount:  500\n",
      "Enter the number of year's you want to view the data for: 3\n"
     ]
    },
    {
     "name": "stdout",
     "output_type": "stream",
     "text": [
      "520.0\n",
      "540.8\n",
      "562.43\n"
     ]
    }
   ],
   "source": [
    "amount = float(input(\"Enter amount: \"))\n",
    "year = int(input(\"Enter the number of year's you want to view the data for:\"))\n",
    "rate = 0.04\n",
    "\n",
    "for i in range(year):\n",
    "    amount = round((1 + rate) * amount, 2)\n",
    "    print(amount)"
   ]
  },
  {
   "cell_type": "markdown",
   "id": "8ac36833-e9ca-4d35-8687-456cde6ad3fe",
   "metadata": {},
   "source": [
    "# function's"
   ]
  },
  {
   "cell_type": "code",
   "execution_count": 8,
   "id": "1f13ad85-87a3-4b08-b0ff-573e80d7c8b8",
   "metadata": {},
   "outputs": [],
   "source": [
    "def sum_up(a, b):\n",
    "    c = a + b\n",
    "    print(c)"
   ]
  },
  {
   "cell_type": "code",
   "execution_count": 9,
   "id": "7cdbff9d-c7fd-496c-9031-6e480696be81",
   "metadata": {},
   "outputs": [
    {
     "name": "stdout",
     "output_type": "stream",
     "text": [
      "12\n"
     ]
    }
   ],
   "source": [
    "sum_up(7, 5)"
   ]
  },
  {
   "cell_type": "code",
   "execution_count": 17,
   "id": "59ecc7e2-8160-4a2c-9b41-ea68c851433e",
   "metadata": {},
   "outputs": [
    {
     "name": "stdout",
     "output_type": "stream",
     "text": [
      "8\n",
      "None\n"
     ]
    }
   ],
   "source": [
    "z = sum_up(3, 5)\n",
    "print(z)"
   ]
  },
  {
   "cell_type": "code",
   "execution_count": null,
   "id": "cd44e8e8-b9f3-4187-b3fa-49ce6dd18785",
   "metadata": {},
   "outputs": [],
   "source": []
  },
  {
   "cell_type": "code",
   "execution_count": null,
   "id": "43ff521e-8023-488c-9808-4f996c51df21",
   "metadata": {},
   "outputs": [],
   "source": []
  },
  {
   "cell_type": "code",
   "execution_count": null,
   "id": "cc1c1540-aa95-451d-b598-ec5c411a4168",
   "metadata": {},
   "outputs": [],
   "source": []
  }
 ],
 "metadata": {
  "kernelspec": {
   "display_name": "Python 3 (ipykernel)",
   "language": "python",
   "name": "python3"
  },
  "language_info": {
   "codemirror_mode": {
    "name": "ipython",
    "version": 3
   },
   "file_extension": ".py",
   "mimetype": "text/x-python",
   "name": "python",
   "nbconvert_exporter": "python",
   "pygments_lexer": "ipython3",
   "version": "3.11.5"
  }
 },
 "nbformat": 4,
 "nbformat_minor": 5
}
